{
 "cells": [
  {
   "cell_type": "markdown",
   "metadata": {},
   "source": [
    "# Algorithm\n",
    "------------\n"
   ]
  },
  {
   "cell_type": "markdown",
   "metadata": {},
   "source": [
    "## >Characteristics\n",
    "\n",
    "   #### - Complexity :- \n",
    "    - Space Complexity :- How much memory does it require.\n",
    "    - Time Complexity :- How much time does it take to complete.\n",
    "   \n",
    "   #### - Input/Output :- \n",
    "    - What does the algorithm accept, and what are the results.\n",
    "   \n",
    "   #### - Classification :- \n",
    "    - Serial/Parallel, Exact/Approximate, Deterministic/Non-Deterministic.\n",
    "    "
   ]
  },
  {
   "cell_type": "markdown",
   "metadata": {},
   "source": [
    "## >Common Algorithm \n",
    "   #### - Search Algorithm:\n",
    "       - Find specific data in structure.(ex. a substring within a string.)\n",
    "   #### - Sorting Algorithm:\n",
    "       - Take a dataset and apply a sort order to it.(ex. sort a items of list.)\n",
    "   #### - Computational Algorithm:\n",
    "       - Given one set of data, calculate another.(ex. a given number prime.)\n",
    "   #### - Collection Algorithm:\n",
    "       - Work with collections if data.(ex. Count specific items, navigate among data elements, filter out unwanted data.)"
   ]
  },
  {
   "cell_type": "markdown",
   "metadata": {},
   "source": [
    "## >Understanding Algorithm Performance\n",
    "    - Measure how an algoritm responds to dataset size\n",
    "  ### - Big-O notation\n",
    "      - Classifies performance as the I/O size grows\n",
    "      - 'O' indicates the order of operation: time scale to perform an operation\n",
    "      - Many algorithms and data structures have more then one O\n",
    "      - Inserting data, searching data, delecting data, etc.\n",
    "  #### - Common Big-O terms\n",
    "       Notation     (Description)    Example\n",
    "       \n",
    "      -O(1)       -(Constant time) -Looking up a single elements in an array.\n",
    "      -O(log n)   -(Logarithmic)   -Finding an item in a sorted array with a binary search.\n",
    "      -O(n)       -(Linear time)   -Searching an unsorted array for a specific value\n",
    "      -O(n log n) -(Log-linear)    -Complex sorting algorithm like heap sort and merge sort\n",
    "      -O(n^2)     -(Quadratic)     -Simple sorting algorithm, such as bubble sort, selection sort & inserting sort"
   ]
  },
  {
   "cell_type": "markdown",
   "metadata": {},
   "source": [
    "# Overview of Sorting Algorithms\n",
    "   -The most moderm languages have sorting builit-in\n",
    "   \n",
    "       -The Bubble Sort\n",
    "       -The Merge Sort\n",
    "       -The Quick Sort"
   ]
  },
  {
   "cell_type": "markdown",
   "metadata": {},
   "source": [
    "### The Bubble Sort Algorithms\n",
    "    -Very simple to understand and implement.\n",
    "    -performance:O(n^2)\n",
    "        -for loops inside of for loops are usually n^2.\n",
    "    -Other sorting algorithms are generally nuch better.\n",
    "    -Not consider to be a practical solution.(real world solution)"
   ]
  },
  {
   "cell_type": "code",
   "execution_count": 16,
   "metadata": {},
   "outputs": [
    {
     "name": "stdout",
     "output_type": "stream",
     "text": [
      "Starting state:  [6, 20, 8, 19, 56, 23, 87, 41, 49, 53]\n",
      "Current state:  [6, 8, 19, 20, 23, 56, 41, 49, 53, 87]\n",
      "Current state:  [6, 8, 19, 20, 23, 41, 49, 53, 56, 87]\n",
      "Current state:  [6, 8, 19, 20, 23, 41, 49, 53, 56, 87]\n",
      "Current state:  [6, 8, 19, 20, 23, 41, 49, 53, 56, 87]\n",
      "Current state:  [6, 8, 19, 20, 23, 41, 49, 53, 56, 87]\n",
      "Current state:  [6, 8, 19, 20, 23, 41, 49, 53, 56, 87]\n",
      "Current state:  [6, 8, 19, 20, 23, 41, 49, 53, 56, 87]\n",
      "Current state:  [6, 8, 19, 20, 23, 41, 49, 53, 56, 87]\n",
      "Current state:  [6, 8, 19, 20, 23, 41, 49, 53, 56, 87]\n",
      "Final state:  [6, 8, 19, 20, 23, 41, 49, 53, 56, 87]\n"
     ]
    }
   ],
   "source": [
    "# Bubble sort algorithm\n",
    "\n",
    "\n",
    "def bubbleSort(dataset):\n",
    "    # start with the array length and decrement each time\n",
    "    for i in range(len(dataset)-1, 0, -1):\n",
    "        # examine each item pair\n",
    "        for j in range(i):\n",
    "            # swap items if needed\n",
    "            if dataset[j] > dataset[j+1]:\n",
    "                temp = dataset[j]\n",
    "                dataset[j] = dataset[j+1]\n",
    "                dataset[j+1] = temp\n",
    "\n",
    "        print(\"Current state: \", dataset)\n",
    "\n",
    "\n",
    "def main():\n",
    "    list1 = [6, 20, 8, 19, 56, 23, 87, 41, 49, 53]\n",
    "    print(\"Starting state: \", list1)\n",
    "    bubbleSort(list1)\n",
    "    print(\"Final state: \", list1)\n",
    "\n",
    "\n",
    "if __name__ == \"__main__\":\n",
    "    main()\n"
   ]
  },
  {
   "cell_type": "markdown",
   "metadata": {},
   "source": [
    "### The Marge Sort Algorithms\n",
    "    -Divide-and-conquar algoritms.\n",
    "    -Performance:O(n log n)- Time complexity.\n",
    "    -Break a dataset into individual pieces and merges them.\n",
    "    -Uses recursion to operate on datasets."
   ]
  },
  {
   "cell_type": "code",
   "execution_count": 17,
   "metadata": {},
   "outputs": [
    {
     "name": "stdout",
     "output_type": "stream",
     "text": [
      "[6, 20, 8, 19, 56, 23, 87, 41, 49, 53]\n",
      "[6, 8, 19, 20, 23, 41, 49, 53, 56, 87]\n"
     ]
    }
   ],
   "source": [
    "#the merge algorithm\n",
    "# Implement a merge sort with recursion\n",
    "\n",
    "\n",
    "items = [6, 20, 8, 19, 56, 23, 87, 41, 49, 53]\n",
    "\n",
    "def mergesort(dataset):\n",
    "    if len(dataset) > 1:\n",
    "        mid = len(dataset) // 2\n",
    "        leftarr = dataset[:mid]\n",
    "        rightarr = dataset[mid:]\n",
    "\n",
    "        # recursively break down the arrays\n",
    "        mergesort(leftarr)\n",
    "        mergesort(rightarr)\n",
    "\n",
    "        # now perform the merging\n",
    "        i=0 # index into the left array\n",
    "        j=0 # index into the right array\n",
    "        k=0 # index into merged array\n",
    "\n",
    "        # while both arrays have content\n",
    "        while i < len(leftarr) and j < len(rightarr):\n",
    "            if leftarr[i] < rightarr[j]:\n",
    "                dataset[k] = leftarr[i]\n",
    "                i += 1\n",
    "            else:\n",
    "                dataset[k] = rightarr[j]\n",
    "                j += 1\n",
    "            k += 1\n",
    "\n",
    "        # if the left array still has values, add them\n",
    "        while i < len(leftarr):\n",
    "            dataset[k] = leftarr[i]\n",
    "            i += 1\n",
    "            k += 1\n",
    "\n",
    "        # if the right array still has values, add them\n",
    "        while j < len(rightarr):\n",
    "            dataset[k] = rightarr[j]\n",
    "            j += 1\n",
    "            k += 1\n",
    "\n",
    "\n",
    "# test the merge sort with data\n",
    "print(items)\n",
    "mergesort(items)\n",
    "print(items)\n"
   ]
  },
  {
   "cell_type": "markdown",
   "metadata": {},
   "source": [
    "### The Quick Sort Algorithms\n",
    "    -Divide-and-conquar algoritms.\n",
    "    -Performance:O(n log n)- Time complexity.\n",
    "    -Also uses recursion to perform sorting and operates in place on the data.\n",
    "    -Worst case is O(n^2) when data is mostly sorted already."
   ]
  },
  {
   "cell_type": "code",
   "execution_count": 18,
   "metadata": {},
   "outputs": [
    {
     "name": "stdout",
     "output_type": "stream",
     "text": [
      "[20, 6, 8, 53, 56, 23, 87, 41, 49, 19]\n",
      "[6, 8, 19, 20, 23, 41, 49, 53, 56, 87]\n"
     ]
    }
   ],
   "source": [
    "# Implement a quicksort\n",
    "\n",
    "\n",
    "items = [20, 6, 8, 53, 56, 23, 87, 41, 49, 19]\n",
    "\n",
    "\n",
    "def quickSort(dataset, first, last):\n",
    "    if first < last:\n",
    "        # calculate the split point\n",
    "        pivotIdx = partition(dataset, first, last)\n",
    "\n",
    "        # now sort the two partitions\n",
    "        quickSort(dataset, first, pivotIdx-1)\n",
    "        quickSort(dataset, pivotIdx+1, last)\n",
    "\n",
    "\n",
    "def partition(datavalues, first, last):\n",
    "    # choose the first item as the pivot value\n",
    "    pivotvalue = datavalues[first]\n",
    "    # establish the upper and lower indexes\n",
    "    lower = first + 1\n",
    "    upper = last\n",
    "\n",
    "    # start searching for the crossing point\n",
    "    done = False\n",
    "    while not done:\n",
    "        # advance the lower index\n",
    "        while lower <= upper and datavalues[lower] <= pivotvalue:\n",
    "            lower += 1\n",
    "\n",
    "        # advance the upper index\n",
    "        while datavalues[upper] >= pivotvalue and upper >= lower:\n",
    "            upper -= 1\n",
    "\n",
    "        # if the two indexes cross, we have found the split point\n",
    "        if upper < lower:\n",
    "            done = True\n",
    "        else:\n",
    "            # exchange the two values\n",
    "            temp = datavalues[lower]\n",
    "            datavalues[lower] = datavalues[upper]\n",
    "            datavalues[upper] = temp\n",
    "\n",
    "    # when the split point is found, exchange the pivot value\n",
    "    temp = datavalues[first]\n",
    "    datavalues[first] = datavalues[upper]\n",
    "    datavalues[upper] = temp\n",
    "\n",
    "    # return the split point index\n",
    "    return upper\n",
    "\n",
    "\n",
    "# test the merge sort with data\n",
    "print(items)\n",
    "quickSort(items, 0, len(items)-1)\n",
    "print(items)\n"
   ]
  },
  {
   "cell_type": "markdown",
   "metadata": {},
   "source": [
    "# Overview of Searching Algorithms\n",
    "\n",
    "       -The Unordered list search\n",
    "       -The Ordered list search\n",
    "       -Determine if a list is Sorted"
   ]
  },
  {
   "cell_type": "markdown",
   "metadata": {},
   "source": [
    "#### The Unordered list Search"
   ]
  },
  {
   "cell_type": "code",
   "execution_count": 19,
   "metadata": {},
   "outputs": [
    {
     "name": "stdout",
     "output_type": "stream",
     "text": [
      "6\n",
      "None\n"
     ]
    }
   ],
   "source": [
    "# searching for an item in an unordered list\n",
    "# sometimes called a Linear search\n",
    "\n",
    "# declare a list of values to operate on\n",
    "items = [6, 20, 8, 19, 56, 23, 87, 41, 49, 53]\n",
    "\n",
    "def find_item(item, itemlist):\n",
    "    for i in range(0, len(itemlist)):\n",
    "        if item == itemlist[i]:\n",
    "            return i\n",
    "    \n",
    "    return None\n",
    "\n",
    "\n",
    "print(find_item(87, items))\n",
    "print(find_item(250, items))\n"
   ]
  },
  {
   "cell_type": "markdown",
   "metadata": {},
   "source": [
    "#### The Ordered list Search"
   ]
  },
  {
   "cell_type": "code",
   "execution_count": 20,
   "metadata": {},
   "outputs": [
    {
     "name": "stdout",
     "output_type": "stream",
     "text": [
      "4\n",
      "9\n",
      "None\n"
     ]
    }
   ],
   "source": [
    "# searching for an item in an ordered list\n",
    "# this technique uses a binary search\n",
    "\n",
    "\n",
    "items = [6, 8, 19, 20, 23, 41, 49, 53, 56, 87]\n",
    "\n",
    "def binarysearch(item, itemlist):\n",
    "    # get the list size\n",
    "    listsize = len(itemlist) - 1\n",
    "    # start at the two ends of the list\n",
    "    lowerIdx = 0\n",
    "    upperIdx = listsize\n",
    "\n",
    "    while lowerIdx <= upperIdx:\n",
    "        # calculate the middle point\n",
    "        midPt = (lowerIdx + upperIdx)// 2\n",
    "\n",
    "        # if item is found, return the index\n",
    "        if itemlist[midPt] == item:\n",
    "            return midPt\n",
    "        # otherwise get the next midpoint\n",
    "        if item > itemlist[midPt]:\n",
    "            lowerIdx = midPt + 1\n",
    "        else:\n",
    "            upperIdx = midPt - 1\n",
    "\n",
    "    if lowerIdx > upperIdx:\n",
    "        return None\n",
    "\n",
    "\n",
    "print(binarysearch(23, items))\n",
    "print(binarysearch(87, items))\n",
    "print(binarysearch(250, items))\n"
   ]
  },
  {
   "cell_type": "markdown",
   "metadata": {},
   "source": [
    "#### Determine if a list is Sorted"
   ]
  },
  {
   "cell_type": "code",
   "execution_count": 22,
   "metadata": {},
   "outputs": [
    {
     "name": "stdout",
     "output_type": "stream",
     "text": [
      "True\n",
      "False\n"
     ]
    }
   ],
   "source": [
    "# determine if a list is sorted\n",
    "\n",
    "\n",
    "items1 = [6, 8, 19, 20, 23, 41, 49, 53, 56, 87]\n",
    "items2 = [6, 20, 8, 19, 56, 23, 87, 41, 49, 53]\n",
    "\n",
    "def is_sorted(itemlist):\n",
    "    # using the all function\n",
    "    # return all(itemlist[i] <= itemlist[i+1] for i in range(len(itemlist)-1))\n",
    "\n",
    "    #using the brute force method\n",
    "     for i in range(0, len(itemlist)-1):\n",
    "         if (itemlist[i] > itemlist[i+1]):\n",
    "             return False\n",
    "     return True\n",
    "\n",
    "print(is_sorted(items1))\n",
    "print(is_sorted(items2))\n",
    "\n"
   ]
  },
  {
   "cell_type": "markdown",
   "metadata": {},
   "source": [
    "# Other Algorithms\n",
    "    \n",
    "    - Unique fitering with hash table\n",
    "    - Value Counting with hash table\n",
    "    - Find max value recursively"
   ]
  },
  {
   "cell_type": "markdown",
   "metadata": {},
   "source": [
    "#### Unique fitering with hash table"
   ]
  },
  {
   "cell_type": "code",
   "execution_count": 23,
   "metadata": {},
   "outputs": [
    {
     "name": "stdout",
     "output_type": "stream",
     "text": [
      "{'banana', 'pear', 'orange', 'kiwi', 'apple'}\n"
     ]
    }
   ],
   "source": [
    "# use a hashtable to filter out duplicate items\n",
    "\n",
    "\n",
    "# define a set of items that we want to reduce duplicates\n",
    "items = [\"apple\", \"pear\", \"orange\", \"banana\", \"apple\",\n",
    "         \"orange\", \"apple\", \"pear\", \"banana\", \"orange\",\n",
    "         \"apple\", \"kiwi\", \"pear\", \"apple\", \"orange\"]\n",
    "\n",
    "# create a hashtable to perform a filter\n",
    "filter = dict()\n",
    "\n",
    "# loop over each item and add to the hashtable\n",
    "for item in items:\n",
    "    filter[item] = 0\n",
    "\n",
    "# create a set from the resulting keys in the hashtable\n",
    "result = set(filter.keys())\n",
    "print(result)\n"
   ]
  },
  {
   "cell_type": "markdown",
   "metadata": {},
   "source": [
    "#### Value Counting with hash table"
   ]
  },
  {
   "cell_type": "code",
   "execution_count": 25,
   "metadata": {},
   "outputs": [
    {
     "name": "stdout",
     "output_type": "stream",
     "text": [
      "{'apple': 5, 'pear': 3, 'orange': 4, 'banana': 2, 'kiwi': 1}\n"
     ]
    }
   ],
   "source": [
    "# using a hashtable to count individual items\n",
    "\n",
    "\n",
    "# define a set of items that we want to count\n",
    "items = [\"apple\", \"pear\", \"orange\", \"banana\", \"apple\",\n",
    "         \"orange\", \"apple\", \"pear\", \"banana\", \"orange\",\n",
    "         \"apple\", \"kiwi\", \"pear\", \"apple\", \"orange\"]\n",
    "\n",
    "#items = \"stringstringstringginf\"\n",
    "# create a hashtable object to hold the items and counts\n",
    "counter = dict()\n",
    "\n",
    "# iterate over each item and increment the count for each one\n",
    "for item in items:\n",
    "    if item in counter.keys():\n",
    "        counter[item] += 1\n",
    "    else:\n",
    "        counter[item] = 1\n",
    "\n",
    "# print the results\n",
    "print(counter)\n"
   ]
  },
  {
   "cell_type": "markdown",
   "metadata": {},
   "source": [
    "#### Find max value recursively"
   ]
  },
  {
   "cell_type": "code",
   "execution_count": 26,
   "metadata": {},
   "outputs": [
    {
     "name": "stdout",
     "output_type": "stream",
     "text": [
      "6\n",
      "20\n",
      "8\n",
      "19\n",
      "56\n",
      "23\n",
      "87\n",
      "41\n",
      "49\n",
      "49 53\n",
      "41 53\n",
      "87 53\n",
      "23 87\n",
      "56 87\n",
      "19 87\n",
      "8 87\n",
      "20 87\n",
      "6 87\n",
      "87\n"
     ]
    }
   ],
   "source": [
    "# use a recursive algorithm to find a maximum value\n",
    "\n",
    "\n",
    "# declare a list of values to operate on\n",
    "items = [6, 20, 8, 19, 56, 23, 87, 41, 49, 53]\n",
    "\n",
    "def find_max(items):\n",
    "    # breaking condition: last item in list? return it\n",
    "    if len(items) == 1:\n",
    "        return items[0]\n",
    "\n",
    "    # otherwise get the first item and call function\n",
    "    # again to operate on the rest of the list\n",
    "    op1 = items[0]\n",
    "    print(op1)\n",
    "    op2 = find_max(items[1:])\n",
    "    print(op1, op2)\n",
    "\n",
    "    # perform the comparison when we're down to just two\n",
    "    if op1 > op2:\n",
    "        return op1\n",
    "    else:\n",
    "        return op2\n",
    "\n",
    "\n",
    "# test the function\n",
    "print(find_max(items))\n"
   ]
  },
  {
   "cell_type": "markdown",
   "metadata": {},
   "source": [
    "# Data Structures\n",
    "------------------------------\n",
    "    - Used to organize data so it can be processed.\n",
    "   ## >Common Data structures\n",
    "       -Array\n",
    "       -Linked Lists\n",
    "       -Stake and queues\n",
    "       -Hashtables\n",
    "       -Tree\n",
    "   "
   ]
  },
  {
   "cell_type": "markdown",
   "metadata": {},
   "source": [
    "#### - Array\n",
    "        -collection of elements identified by index or key.\n",
    "   ##### - operations:\n",
    "           - Calculate item index.              : O(1) - Constant Time\n",
    "           - Insert or delete item at begining. : O(n) - Linear Time \n",
    "           - Insert or delete item in middle.   : O(n) - Linear Time\n",
    "           - Insert or delete item at end.      : O(1) - Constant Time\n",
    "        "
   ]
  },
  {
   "cell_type": "markdown",
   "metadata": {},
   "source": [
    "#### - Linked List\n",
    "        - Collection of data element, called nodes.\n",
    "        - Contain reference to the next node in the list.\n",
    "        - Hold whatever data the application needs.\n",
    "        - Element can be easily inserted and removed.\n",
    "        - Underlying memory doesn't need to be reorganized and can't do constant-time random item access.\n",
    "        - Item lookup is linear in time complexity.(O(n))"
   ]
  },
  {
   "cell_type": "code",
   "execution_count": 5,
   "metadata": {},
   "outputs": [
    {
     "name": "stdout",
     "output_type": "stream",
     "text": [
      "Node:  15\n",
      "Node:  13\n",
      "Node:  49\n",
      "Node:  38\n",
      "Item count:  4\n",
      "Finding item:  <__main__.Node object at 0x10a2affa0>\n",
      "Finding item:  None\n",
      "Item count:  3\n",
      "Finding item:  None\n",
      "Node:  15\n",
      "Node:  13\n",
      "Node:  49\n"
     ]
    }
   ],
   "source": [
    "# Linked list example\n",
    "\n",
    "\n",
    "# the Node class\n",
    "class Node(object):\n",
    "    def __init__(self, val):\n",
    "        self.val = val\n",
    "        self.next = None\n",
    "\n",
    "    def get_data(self):\n",
    "        return self.val\n",
    "\n",
    "    def set_data(self, val):\n",
    "        self.val = val\n",
    "\n",
    "    def get_next(self):\n",
    "        return self.next\n",
    "\n",
    "    def set_next(self, next):\n",
    "        self.next = next\n",
    "\n",
    "\n",
    "# the LinkedList class\n",
    "class LinkedList(object):\n",
    "    def __init__(self, head=None):\n",
    "        self.head = head\n",
    "        self.count = 0\n",
    "\n",
    "    def get_count(self):\n",
    "        return self.count\n",
    "\n",
    "    def insert(self, data):\n",
    "        new_node = Node(data)\n",
    "        new_node.set_next(self.head)\n",
    "        self.head = new_node\n",
    "        self.count += 1\n",
    "\n",
    "    def find(self, val):\n",
    "        item = self.head\n",
    "        while (item != None):\n",
    "            if item.get_data() == val:\n",
    "                return item\n",
    "            else:\n",
    "                item = item.get_next()\n",
    "        return None\n",
    "\n",
    "    def deleteAt(self, idx):\n",
    "        if idx > self.count:\n",
    "            return\n",
    "        if self.head == None:\n",
    "            return\n",
    "        else:\n",
    "            tempIdx = 0\n",
    "            node = self.head\n",
    "            while tempIdx < idx-1:\n",
    "                node = node.get_next()\n",
    "                tempIdx += 1\n",
    "            node.set_next(node.get_next().get_next())\n",
    "            self.count -= 1\n",
    "\n",
    "    def dump_list(self):\n",
    "        tempnode = self.head\n",
    "        while (tempnode != None):\n",
    "            print(\"Node: \", tempnode.get_data())\n",
    "            tempnode = tempnode.get_next()\n",
    "\n",
    "\n",
    "# create a linked list and insert some items\n",
    "itemlist = LinkedList()\n",
    "itemlist.insert(38)\n",
    "itemlist.insert(49)\n",
    "itemlist.insert(13)\n",
    "itemlist.insert(15)\n",
    "\n",
    "itemlist.dump_list()\n",
    "\n",
    "# exercise the list\n",
    "print(\"Item count: \", itemlist.get_count())\n",
    "print(\"Finding item: \", itemlist.find(13))\n",
    "print(\"Finding item: \", itemlist.find(78))\n",
    "\n",
    "# delete an item\n",
    "itemlist.deleteAt(3)\n",
    "print(\"Item count: \", itemlist.get_count())\n",
    "print(\"Finding item: \", itemlist.find(38))\n",
    "itemlist.dump_list()\n"
   ]
  },
  {
   "cell_type": "markdown",
   "metadata": {},
   "source": [
    "#### -Stack\n",
    "        - Collection that supports pust and pop opertions\n",
    "        - The last item pused is the first one popped\n",
    "                - Expression processing\n",
    "                - Backtracking : browesr back stack, for ex.browesr"
   ]
  },
  {
   "cell_type": "code",
   "execution_count": 7,
   "metadata": {},
   "outputs": [
    {
     "name": "stdout",
     "output_type": "stream",
     "text": [
      "[1, 2, 3]\n",
      "3\n"
     ]
    }
   ],
   "source": [
    "#example of stack\n",
    "# create a new empty stack\n",
    "stack = []\n",
    "# push item onto the stack\n",
    "stack.append(1)\n",
    "stack.append(2)\n",
    "stack.append(3)\n",
    "#print stack contents\n",
    "print(stack)\n",
    "#pop on item off the stack\n",
    "x = stack.pop()\n",
    "#print \n",
    "print(x)"
   ]
  },
  {
   "cell_type": "markdown",
   "metadata": {},
   "source": [
    "#### -Queues\n",
    "        - Collection that supports adding and removing\n",
    "        - First item added is the first item out\n",
    "                - Order processing\n",
    "                - Messaging, for ex. WhatsApp"
   ]
  },
  {
   "cell_type": "code",
   "execution_count": 8,
   "metadata": {},
   "outputs": [
    {
     "name": "stdout",
     "output_type": "stream",
     "text": [
      "deque([1, 2, 3])\n",
      "1\n"
     ]
    }
   ],
   "source": [
    "#Example of Queues\n",
    "from collections import deque\n",
    "# create a new empty deque object\n",
    "queue = deque()\n",
    "# add item into the queue\n",
    "queue.append(1)\n",
    "queue.append(2)\n",
    "queue.append(3)\n",
    "#print queue contents\n",
    "print(queue)\n",
    "#pop on item off front the queue\n",
    "x = queue.popleft()\n",
    "#print \n",
    "print(x)"
   ]
  },
  {
   "cell_type": "markdown",
   "metadata": {},
   "source": [
    "#### -HashTables\n",
    "    - Key-to-value mapping are unique.\n",
    "    - Hashtables are typically vary fast\n",
    "    - For small datasets, arrays are usally more efficient\n",
    "    - Hashtables don't order entries in a predictable way."
   ]
  },
  {
   "cell_type": "code",
   "execution_count": 10,
   "metadata": {},
   "outputs": [
    {
     "name": "stdout",
     "output_type": "stream",
     "text": [
      "{'k1': 1, 'k2': 2, 'k3': 'Three'}\n",
      "{'k1': 1, 'k2': 2, 'k3': 3}\n"
     ]
    }
   ],
   "source": [
    "# example for hashtables\n",
    "#create a hashtable all at once\n",
    "item = dict({'k1': 1,\n",
    "             'k2': 2,\n",
    "             'k3': 'Three'})\n",
    "print(item)\n",
    "#replace item\n",
    "item[\"k3\"]=3\n",
    "#new item print\n",
    "print(item)"
   ]
  },
  {
   "cell_type": "markdown",
   "metadata": {},
   "source": [
    "# Recursion\n",
    "------------"
   ]
  },
  {
   "cell_type": "markdown",
   "metadata": {},
   "source": [
    "    -Recursion is when a function calls itself.\n",
    "    -Recursion function needs to have a breaking condition.\n",
    "    -This prevents infinite loops and eventual crashes.\n",
    "    -Eachtime the function is called, the old arguments are saved.\n",
    "    -This is callled the 'call stack'."
   ]
  },
  {
   "cell_type": "code",
   "execution_count": 15,
   "metadata": {},
   "outputs": [
    {
     "name": "stdout",
     "output_type": "stream",
     "text": [
      "Power : 125\n",
      "Factorial : 24\n"
     ]
    }
   ],
   "source": [
    "#Example of Recursion\n",
    "\n",
    "#This is power function.\n",
    "def power(num, pwr):\n",
    "    if pwr == 0:\n",
    "        return 1\n",
    "    else:\n",
    "        return num*power(num,pwr-1)\n",
    "    \n",
    "#This is factorial function\n",
    "def factorial(num):\n",
    "    if(num == 0):\n",
    "        return 1\n",
    "    else:\n",
    "        return num*factorial(num-1)\n",
    "    \n",
    "#for power function.\n",
    "print(\"Power :\",power(5,3))\n",
    "#for factorial function.\n",
    "print(\"Factorial :\",factorial(4))"
   ]
  },
  {
   "cell_type": "code",
   "execution_count": null,
   "metadata": {},
   "outputs": [],
   "source": []
  }
 ],
 "metadata": {
  "kernelspec": {
   "display_name": "Python 3",
   "language": "python",
   "name": "python3"
  },
  "language_info": {
   "codemirror_mode": {
    "name": "ipython",
    "version": 3
   },
   "file_extension": ".py",
   "mimetype": "text/x-python",
   "name": "python",
   "nbconvert_exporter": "python",
   "pygments_lexer": "ipython3",
   "version": "3.8.1"
  }
 },
 "nbformat": 4,
 "nbformat_minor": 4
}
