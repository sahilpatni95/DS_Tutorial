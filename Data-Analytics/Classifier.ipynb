{
 "cells": [
  {
   "cell_type": "code",
   "execution_count": 1,
   "metadata": {},
   "outputs": [],
   "source": [
    "import sys\n",
    "\n",
    "import pandas as pd\n",
    "import numpy as np\n",
    "\n",
    "from sklearn.model_selection import train_test_split\n",
    "\n",
    "from sklearn.linear_model import LogisticRegression\n",
    "from sklearn.tree import DecisionTreeClassifier\n",
    "\n",
    "from sklearn.metrics import classification_report"
   ]
  },
  {
   "cell_type": "code",
   "execution_count": 2,
   "metadata": {},
   "outputs": [],
   "source": [
    "def build_model(classifier_fn,\n",
    "               features,\n",
    "                label,\n",
    "                dataset,\n",
    "                test_frac=0.2):\n",
    "    \n",
    "    X = dataset[features]\n",
    "    Y = dataset[label]\n",
    "    \n",
    "    x_train, x_test, y_train, y_test = train_test_split(X, Y, test_size=test_frac)\n",
    "    \n",
    "    model = classifier_fn(x_train, y_train)\n",
    "    \n",
    "    y_pred = model.predict(x_test)\n",
    "    \n",
    "    print(\"Features used: \", features)\n",
    "    summarize_classification(y_test, y_pred)\n",
    "    \n",
    "    return {'model':model,\n",
    "           'x_train':x_train,\n",
    "           'y_train':y_train,\n",
    "           'x_test':x_test,\n",
    "           'y_test':y_test,\n",
    "           'y_pred':y_pred}"
   ]
  },
  {
   "cell_type": "code",
   "execution_count": 3,
   "metadata": {},
   "outputs": [],
   "source": [
    "def summarize_classification(y_test, y_pred):\n",
    "    \n",
    "    report = classification_report(y_test, y_pred)\n",
    "    \n",
    "    print('Classification Report')\n",
    "    print('------' * 10)\n",
    "    print(report)"
   ]
  },
  {
   "cell_type": "code",
   "execution_count": 4,
   "metadata": {},
   "outputs": [],
   "source": [
    "def logistic_fn(x_train, y_train, penalty='12', C=1.0, max_iter=1000):\n",
    "    \n",
    "    model = LogisticRegression(penalty=penalty, C=C,\n",
    "                              max_iter=max_iter, solver = 'lbfgs')\n",
    "    \n",
    "    model.fit(x_train, y_train)\n",
    "    \n",
    "    return model"
   ]
  },
  {
   "cell_type": "code",
   "execution_count": 5,
   "metadata": {},
   "outputs": [],
   "source": [
    "def decision_tree_fn(x_train, y_train, max_depth=3):\n",
    "    \n",
    "    model = DecisionTreeClassifier(max_depth=max_depth)\n",
    "    \n",
    "    model.fit(x_train, y_train)\n",
    "    \n",
    "    return model"
   ]
  },
  {
   "cell_type": "code",
   "execution_count": 6,
   "metadata": {},
   "outputs": [],
   "source": [
    "def main():\n",
    "    \n",
    "    data = pd.read_csv('./datasets/advertising_cleaned.csv')\n",
    "    features = ['TimeSpent','Age',\n",
    "                'AreaIncome','DailInternetUsage',\n",
    "                'Male']\n",
    "    \n",
    "    try:\n",
    "        \n",
    "        model_type = sys.argv[1]\n",
    "        \n",
    "        if len(sys.argv) > 2:\n",
    "            features = sys.argv[2:]\n",
    "            \n",
    "    except error:\n",
    "            print(\"classifier model not specified!\")\n",
    "            \n",
    "    print(\"Running classifier : \",model_type)\n",
    "    \n",
    "    if model_type == 'logistic_regression':\n",
    "        build_model(logistic_fn,\n",
    "                    features,\n",
    "                    'Clicked',\n",
    "                    data)\n",
    "    elif model_type == 'decision_tree':\n",
    "        build_model(decision_tree_fn,\n",
    "                    features,\n",
    "                    'Clicked',\n",
    "                    data)\n",
    "    else:\n",
    "        print('Invalid classifier model')"
   ]
  },
  {
   "cell_type": "code",
   "execution_count": 7,
   "metadata": {},
   "outputs": [
    {
     "name": "stdout",
     "output_type": "stream",
     "text": [
      "Running classifier :  -f\n",
      "Invalid classifier model\n"
     ]
    }
   ],
   "source": [
    "if __name__ == '__main__':\n",
    "    main()"
   ]
  },
  {
   "cell_type": "code",
   "execution_count": 12,
   "metadata": {},
   "outputs": [],
   "source": [
    "#data1= pd.read_csv('./datasets/advertising_cleaned.csv')"
   ]
  },
  {
   "cell_type": "code",
   "execution_count": 14,
   "metadata": {},
   "outputs": [
    {
     "data": {
      "text/plain": [
       "\"build_model(decision_tree_fn,['TimeSpent','Age',\\n                         'AreaIncome','DailInternetUsage',\\n                         'Male'],\\n            'Clicked',\\n            data1)\\n            \""
      ]
     },
     "execution_count": 14,
     "metadata": {},
     "output_type": "execute_result"
    }
   ],
   "source": [
    "'''build_model(decision_tree_fn,['TimeSpent','Age',\n",
    "                         'AreaIncome','DailInternetUsage',\n",
    "                         'Male'],\n",
    "            'Clicked',\n",
    "            data1)\n",
    "            '''"
   ]
  },
  {
   "cell_type": "code",
   "execution_count": null,
   "metadata": {},
   "outputs": [],
   "source": []
  }
 ],
 "metadata": {
  "kernelspec": {
   "display_name": "Python 3",
   "language": "python",
   "name": "python3"
  },
  "language_info": {
   "codemirror_mode": {
    "name": "ipython",
    "version": 3
   },
   "file_extension": ".py",
   "mimetype": "text/x-python",
   "name": "python",
   "nbconvert_exporter": "python",
   "pygments_lexer": "ipython3",
   "version": "3.8.1"
  }
 },
 "nbformat": 4,
 "nbformat_minor": 4
}
