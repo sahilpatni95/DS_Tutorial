{
 "cells": [
  {
   "cell_type": "code",
   "execution_count": 1,
   "metadata": {},
   "outputs": [],
   "source": [
    "import os"
   ]
  },
  {
   "cell_type": "code",
   "execution_count": 2,
   "metadata": {},
   "outputs": [
    {
     "data": {
      "text/plain": [
       "environ{'ALLUSERSPROFILE': 'C:\\\\ProgramData',\n",
       "        'APPDATA': 'C:\\\\Users\\\\sahil\\\\AppData\\\\Roaming',\n",
       "        'COMMONPROGRAMFILES': 'C:\\\\Program Files\\\\Common Files',\n",
       "        'COMMONPROGRAMFILES(X86)': 'C:\\\\Program Files (x86)\\\\Common Files',\n",
       "        'COMMONPROGRAMW6432': 'C:\\\\Program Files\\\\Common Files',\n",
       "        'COMPUTERNAME': 'DESKTOP-U9OVMBV',\n",
       "        'COMSPEC': 'C:\\\\Windows\\\\system32\\\\cmd.exe',\n",
       "        'CUDA_PATH': 'C:\\\\Program Files\\\\NVIDIA GPU Computing Toolkit\\\\CUDA\\\\v10.1',\n",
       "        'CUDA_PATH_V10_1': 'C:\\\\Program Files\\\\NVIDIA GPU Computing Toolkit\\\\CUDA\\\\v10.1',\n",
       "        'CUDA_PATH_V10_2': 'C:\\\\Program Files\\\\NVIDIA GPU Computing Toolkit\\\\CUDA\\\\v10.2',\n",
       "        'DRIVERDATA': 'C:\\\\Windows\\\\System32\\\\Drivers\\\\DriverData',\n",
       "        'HOMEDRIVE': 'C:',\n",
       "        'HOMEPATH': '\\\\Users\\\\sahil',\n",
       "        'LOCALAPPDATA': 'C:\\\\Users\\\\sahil\\\\AppData\\\\Local',\n",
       "        'LOGONSERVER': '\\\\\\\\DESKTOP-U9OVMBV',\n",
       "        'NUMBER_OF_PROCESSORS': '4',\n",
       "        'NVCUDASAMPLES10_1_ROOT': 'C:\\\\ProgramData\\\\NVIDIA Corporation\\\\CUDA Samples\\\\v10.1',\n",
       "        'NVCUDASAMPLES10_2_ROOT': 'C:\\\\ProgramData\\\\NVIDIA Corporation\\\\CUDA Samples\\\\v10.2',\n",
       "        'NVCUDASAMPLES_ROOT': 'C:\\\\ProgramData\\\\NVIDIA Corporation\\\\CUDA Samples\\\\v10.1',\n",
       "        'NVTOOLSEXT_PATH': 'C:\\\\Program Files\\\\NVIDIA Corporation\\\\NvToolsExt\\\\',\n",
       "        'ONEDRIVE': 'C:\\\\Users\\\\sahil\\\\OneDrive',\n",
       "        'OS': 'Windows_NT',\n",
       "        'PATH': 'C:\\\\Program Files (x86)\\\\ActiveState Komodo Edit 12\\\\;C:\\\\Program Files\\\\NVIDIA GPU Computing Toolkit\\\\CUDA\\\\v10.1\\\\bin;C:\\\\Program Files\\\\NVIDIA GPU Computing Toolkit\\\\CUDA\\\\v10.1\\\\libnvvp;C:\\\\Program Files\\\\NVIDIA GPU Computing Toolkit\\\\CUDA\\\\v10.2\\\\bin;C:\\\\Program Files\\\\NVIDIA GPU Computing Toolkit\\\\CUDA\\\\v10.2\\\\libnvvp;C:\\\\Windows\\\\system32;C:\\\\Windows;C:\\\\Windows\\\\System32\\\\Wbem;C:\\\\Windows\\\\System32\\\\WindowsPowerShell\\\\v1.0\\\\;C:\\\\Windows\\\\System32\\\\OpenSSH\\\\;C:\\\\Program Files (x86)\\\\NVIDIA Corporation\\\\PhysX\\\\Common;C:\\\\Program Files\\\\NVIDIA Corporation\\\\NVIDIA NvDLISR;C:\\\\cudnn\\\\cuda\\\\bin;C:\\\\cuda\\\\bin;C:\\\\Program Files\\\\NVIDIA Corporation\\\\Nsight Compute 2019.4.0\\\\;C:\\\\Program Files\\\\Amazon\\\\AWSCLIV2\\\\;C:\\\\Program Files\\\\Microsoft VS Code\\\\bin;C:\\\\Program Files\\\\Git\\\\cmd;C:\\\\Program Files\\\\PuTTY\\\\;C:\\\\Users\\\\sahil\\\\AppData\\\\Local\\\\Programs\\\\Python\\\\Python38\\\\Scripts\\\\;C:\\\\Users\\\\sahil\\\\AppData\\\\Local\\\\Programs\\\\Python\\\\Python38\\\\;C:\\\\Users\\\\sahil\\\\Anaconda3;C:\\\\Users\\\\sahil\\\\Anaconda3\\\\Library\\\\mingw-w64\\\\bin;C:\\\\Users\\\\sahil\\\\Anaconda3\\\\Library\\\\usr\\\\bin;C:\\\\Users\\\\sahil\\\\Anaconda3\\\\Library\\\\bin;C:\\\\Users\\\\sahil\\\\Anaconda3\\\\Scripts;C:\\\\Users\\\\sahil\\\\AppData\\\\Local\\\\Microsoft\\\\WindowsApps;C:\\\\Users\\\\sahil\\\\AppData\\\\Local\\\\Programs\\\\Microsoft VS Code\\\\bin;C:\\\\cudnn\\\\cuda\\\\bin;C:\\\\cuda\\\\bin;',\n",
       "        'PATHEXT': '.COM;.EXE;.BAT;.CMD;.VBS;.VBE;.JS;.JSE;.WSF;.WSH;.MSC',\n",
       "        'PROCESSOR_ARCHITECTURE': 'AMD64',\n",
       "        'PROCESSOR_IDENTIFIER': 'Intel64 Family 6 Model 42 Stepping 7, GenuineIntel',\n",
       "        'PROCESSOR_LEVEL': '6',\n",
       "        'PROCESSOR_REVISION': '2a07',\n",
       "        'PROGRAMDATA': 'C:\\\\ProgramData',\n",
       "        'PROGRAMFILES': 'C:\\\\Program Files',\n",
       "        'PROGRAMFILES(X86)': 'C:\\\\Program Files (x86)',\n",
       "        'PROGRAMW6432': 'C:\\\\Program Files',\n",
       "        'PROMPT': '$P$G',\n",
       "        'PSMODULEPATH': 'C:\\\\Program Files\\\\WindowsPowerShell\\\\Modules;C:\\\\Windows\\\\system32\\\\WindowsPowerShell\\\\v1.0\\\\Modules',\n",
       "        'PUBLIC': 'C:\\\\Users\\\\Public',\n",
       "        'SESSIONNAME': 'Console',\n",
       "        'SYSTEMDRIVE': 'C:',\n",
       "        'SYSTEMROOT': 'C:\\\\Windows',\n",
       "        'TEMP': 'C:\\\\Users\\\\sahil\\\\AppData\\\\Local\\\\Temp',\n",
       "        'TMP': 'C:\\\\Users\\\\sahil\\\\AppData\\\\Local\\\\Temp',\n",
       "        'USERDOMAIN': 'DESKTOP-U9OVMBV',\n",
       "        'USERDOMAIN_ROAMINGPROFILE': 'DESKTOP-U9OVMBV',\n",
       "        'USERNAME': 'sahil',\n",
       "        'USERPROFILE': 'C:\\\\Users\\\\sahil',\n",
       "        'VBOX_MSI_INSTALL_PATH': 'C:\\\\Program Files\\\\Oracle\\\\VirtualBox\\\\',\n",
       "        'WINDIR': 'C:\\\\Windows',\n",
       "        'KERNEL_LAUNCH_TIMEOUT': '40',\n",
       "        'JPY_INTERRUPT_EVENT': '3644',\n",
       "        'IPY_INTERRUPT_EVENT': '3644',\n",
       "        'JPY_PARENT_PID': '3656',\n",
       "        'TERM': 'xterm-color',\n",
       "        'CLICOLOR': '1',\n",
       "        'PAGER': 'cat',\n",
       "        'GIT_PAGER': 'cat',\n",
       "        'MPLBACKEND': 'module://ipykernel.pylab.backend_inline'}"
      ]
     },
     "execution_count": 2,
     "metadata": {},
     "output_type": "execute_result"
    }
   ],
   "source": [
    "os.environ"
   ]
  },
  {
   "cell_type": "code",
   "execution_count": 11,
   "metadata": {},
   "outputs": [
    {
     "data": {
      "text/plain": [
       "'DESKTOP-U9OVMBV'"
      ]
     },
     "execution_count": 11,
     "metadata": {},
     "output_type": "execute_result"
    }
   ],
   "source": [
    "os.environ['COMPUTERNAME']"
   ]
  },
  {
   "cell_type": "code",
   "execution_count": 8,
   "metadata": {},
   "outputs": [],
   "source": [
    "os.environ['DATASETS'] = os.getcwd() + \"/datasets\""
   ]
  },
  {
   "cell_type": "code",
   "execution_count": 9,
   "metadata": {},
   "outputs": [
    {
     "data": {
      "text/plain": [
       "'C:\\\\Users\\\\sahil\\\\Desktop\\\\Pluralsight/datasets'"
      ]
     },
     "execution_count": 9,
     "metadata": {},
     "output_type": "execute_result"
    }
   ],
   "source": [
    "os.environ['DATASETS']"
   ]
  },
  {
   "cell_type": "code",
   "execution_count": 13,
   "metadata": {},
   "outputs": [
    {
     "name": "stdout",
     "output_type": "stream",
     "text": [
      " Volume in drive C has no label.\n",
      " Volume Serial Number is 82FD-4F35\n",
      "\n",
      " Directory of C:\\Users\\sahil\\Desktop\\Pluralsight\n",
      "\n",
      "18-04-2020  03:35 PM    <DIR>          .\n",
      "18-04-2020  03:35 PM    <DIR>          ..\n",
      "18-04-2020  03:32 PM    <DIR>          .ipynb_checkpoints\n",
      "17-04-2020  11:49 PM            21,360 built-in fun.ipynb\n",
      "18-04-2020  03:35 PM             6,438 CommandLineProcessesAndEnvironmenr.ipynb\n",
      "16-04-2020  03:43 PM            14,789 Demo .ipynb\n",
      "18-04-2020  03:00 PM             8,452 Implementing code reuse using functions in python.ipynb\n",
      "16-04-2020  03:00 PM             4,617 IRIS.csv\n",
      "18-04-2020  03:13 PM             4,315 Loading_and_ saving_Data_Using_Python.ipynb\n",
      "16-04-2020  03:58 PM             9,607 map using folium .ipynb\n",
      "16-04-2020  01:43 PM                98 myscrit.py\n",
      "16-04-2020  03:40 PM             4,608 saved_iris_df.csv\n",
      "18-04-2020  03:02 PM           475,070 tensorflow mnist.html\n",
      "18-04-2020  01:32 AM         4,466,576 Using Python for complex interconnected calculation.ipynb\n",
      "18-04-2020  03:23 PM             5,995 Working_with_numpy.ipynb\n",
      "18-04-2020  03:31 PM             9,157 Working_with_pandas.ipynb\n",
      "              13 File(s)      5,031,082 bytes\n",
      "               3 Dir(s)  75,214,045,184 bytes free\n"
     ]
    }
   ],
   "source": [
    "!dir"
   ]
  },
  {
   "cell_type": "code",
   "execution_count": 14,
   "metadata": {},
   "outputs": [
    {
     "name": "stdout",
     "output_type": "stream",
     "text": [
      " Volume in drive C has no label.\n",
      " Volume Serial Number is 82FD-4F35\n",
      "\n",
      " Directory of C:\\Users\\sahil\\Desktop\\Pluralsight\n",
      "\n"
     ]
    },
    {
     "name": "stderr",
     "output_type": "stream",
     "text": [
      "File Not Found\n"
     ]
    }
   ],
   "source": [
    "!dir -l"
   ]
  },
  {
   "cell_type": "code",
   "execution_count": 15,
   "metadata": {},
   "outputs": [
    {
     "data": {
      "text/plain": [
       "['.ipynb_checkpoints',\n",
       " 'built-in fun.ipynb',\n",
       " 'CommandLineProcessesAndEnvironmenr.ipynb',\n",
       " 'Demo .ipynb',\n",
       " 'Implementing code reuse using functions in python.ipynb',\n",
       " 'IRIS.csv',\n",
       " 'Loading_and_ saving_Data_Using_Python.ipynb',\n",
       " 'map using folium .ipynb',\n",
       " 'myscrit.py',\n",
       " 'saved_iris_df.csv',\n",
       " 'tensorflow mnist.html',\n",
       " 'Using Python for complex interconnected calculation.ipynb',\n",
       " 'Working_with_numpy.ipynb',\n",
       " 'Working_with_pandas.ipynb']"
      ]
     },
     "execution_count": 15,
     "metadata": {},
     "output_type": "execute_result"
    }
   ],
   "source": [
    "os.listdir()"
   ]
  },
  {
   "cell_type": "code",
   "execution_count": 17,
   "metadata": {},
   "outputs": [],
   "source": [
    "import subprocess"
   ]
  },
  {
   "cell_type": "code",
   "execution_count": 21,
   "metadata": {},
   "outputs": [
    {
     "data": {
      "text/plain": [
       "['ABOVE_NORMAL_PRIORITY_CLASS',\n",
       " 'BELOW_NORMAL_PRIORITY_CLASS',\n",
       " 'CREATE_BREAKAWAY_FROM_JOB',\n",
       " 'CREATE_DEFAULT_ERROR_MODE',\n",
       " 'CREATE_NEW_CONSOLE',\n",
       " 'CREATE_NEW_PROCESS_GROUP',\n",
       " 'CREATE_NO_WINDOW',\n",
       " 'CalledProcessError',\n",
       " 'CompletedProcess',\n",
       " 'DETACHED_PROCESS',\n",
       " 'DEVNULL',\n",
       " 'HIGH_PRIORITY_CLASS',\n",
       " 'Handle',\n",
       " 'IDLE_PRIORITY_CLASS',\n",
       " 'NORMAL_PRIORITY_CLASS',\n",
       " 'PIPE',\n",
       " 'Popen',\n",
       " 'REALTIME_PRIORITY_CLASS',\n",
       " 'STARTF_USESHOWWINDOW',\n",
       " 'STARTF_USESTDHANDLES',\n",
       " 'STARTUPINFO',\n",
       " 'STDOUT',\n",
       " 'STD_ERROR_HANDLE',\n",
       " 'STD_INPUT_HANDLE',\n",
       " 'STD_OUTPUT_HANDLE',\n",
       " 'SW_HIDE',\n",
       " 'SubprocessError',\n",
       " 'TimeoutExpired',\n",
       " '_USE_POSIX_SPAWN',\n",
       " '__all__',\n",
       " '__builtins__',\n",
       " '__cached__',\n",
       " '__doc__',\n",
       " '__file__',\n",
       " '__loader__',\n",
       " '__name__',\n",
       " '__package__',\n",
       " '__spec__',\n",
       " '_active',\n",
       " '_args_from_interpreter_flags',\n",
       " '_cleanup',\n",
       " '_mswindows',\n",
       " '_optim_args_from_interpreter_flags',\n",
       " '_time',\n",
       " '_use_posix_spawn',\n",
       " '_winapi',\n",
       " 'builtins',\n",
       " 'call',\n",
       " 'check_call',\n",
       " 'check_output',\n",
       " 'contextlib',\n",
       " 'errno',\n",
       " 'getoutput',\n",
       " 'getstatusoutput',\n",
       " 'io',\n",
       " 'list2cmdline',\n",
       " 'msvcrt',\n",
       " 'os',\n",
       " 'run',\n",
       " 'signal',\n",
       " 'sys',\n",
       " 'threading',\n",
       " 'time',\n",
       " 'warnings']"
      ]
     },
     "execution_count": 21,
     "metadata": {},
     "output_type": "execute_result"
    }
   ],
   "source": [
    "dir(subprocess)"
   ]
  },
  {
   "cell_type": "code",
   "execution_count": null,
   "metadata": {},
   "outputs": [],
   "source": []
  }
 ],
 "metadata": {
  "kernelspec": {
   "display_name": "Python 3",
   "language": "python",
   "name": "python3"
  },
  "language_info": {
   "codemirror_mode": {
    "name": "ipython",
    "version": 3
   },
   "file_extension": ".py",
   "mimetype": "text/x-python",
   "name": "python",
   "nbconvert_exporter": "python",
   "pygments_lexer": "ipython3",
   "version": "3.8.1"
  }
 },
 "nbformat": 4,
 "nbformat_minor": 4
}
