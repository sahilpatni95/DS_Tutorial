{
 "cells": [
  {
   "cell_type": "code",
   "execution_count": 1,
   "metadata": {},
   "outputs": [
    {
     "name": "stdout",
     "output_type": "stream",
     "text": [
      "Python 3.8.1\n"
     ]
    }
   ],
   "source": [
    "!python --version"
   ]
  },
  {
   "cell_type": "code",
   "execution_count": 3,
   "metadata": {},
   "outputs": [
    {
     "name": "stdout",
     "output_type": "stream",
     "text": [
      " Volume in drive C has no label.\n",
      " Volume Serial Number is 82FD-4F35\n",
      "\n",
      " Directory of C:\\Users\\sahil\\Desktop\\Pluralsight\n",
      "\n",
      "16-04-2020  01:33 PM    <DIR>          .\n",
      "16-04-2020  01:33 PM    <DIR>          ..\n",
      "16-04-2020  01:31 PM    <DIR>          .ipynb_checkpoints\n",
      "16-04-2020  01:33 PM               783 Demo .ipynb\n",
      "16-04-2020  01:31 PM                72 Untitled.ipynb\n",
      "               2 File(s)            855 bytes\n",
      "               3 Dir(s)  75,644,981,248 bytes free\n"
     ]
    }
   ],
   "source": [
    "!dir"
   ]
  },
  {
   "cell_type": "code",
   "execution_count": 6,
   "metadata": {},
   "outputs": [
    {
     "name": "stdout",
     "output_type": "stream",
     "text": [
      "Requirement already satisfied: numpy in c:\\users\\sahil\\appdata\\local\\programs\\python\\python38\\lib\\site-packages (1.18.1)\n",
      "Requirement already satisfied: matplotlib in c:\\users\\sahil\\appdata\\local\\programs\\python\\python38\\lib\\site-packages (3.1.3)\n",
      "Requirement already satisfied: numpy>=1.11 in c:\\users\\sahil\\appdata\\local\\programs\\python\\python38\\lib\\site-packages (from matplotlib) (1.18.1)\n",
      "Requirement already satisfied: pyparsing!=2.0.4,!=2.1.2,!=2.1.6,>=2.0.1 in c:\\users\\sahil\\appdata\\local\\programs\\python\\python38\\lib\\site-packages (from matplotlib) (2.4.6)\n",
      "Requirement already satisfied: python-dateutil>=2.1 in c:\\users\\sahil\\appdata\\local\\programs\\python\\python38\\lib\\site-packages (from matplotlib) (2.8.1)\n",
      "Requirement already satisfied: kiwisolver>=1.0.1 in c:\\users\\sahil\\appdata\\local\\programs\\python\\python38\\lib\\site-packages (from matplotlib) (1.1.0)\n",
      "Requirement already satisfied: cycler>=0.10 in c:\\users\\sahil\\appdata\\local\\programs\\python\\python38\\lib\\site-packages (from matplotlib) (0.10.0)\n",
      "Requirement already satisfied: six>=1.5 in c:\\users\\sahil\\appdata\\roaming\\python\\python38\\site-packages (from python-dateutil>=2.1->matplotlib) (1.14.0)\n",
      "Requirement already satisfied: setuptools in c:\\users\\sahil\\appdata\\local\\programs\\python\\python38\\lib\\site-packages (from kiwisolver>=1.0.1->matplotlib) (41.2.0)\n"
     ]
    }
   ],
   "source": [
    "!pip install numpy\n",
    "!pip install matplotlib"
   ]
  },
  {
   "cell_type": "code",
   "execution_count": 8,
   "metadata": {},
   "outputs": [
    {
     "name": "stdout",
     "output_type": "stream",
     "text": [
      "C:\\Users\\sahil\n"
     ]
    }
   ],
   "source": [
    "%cd"
   ]
  },
  {
   "cell_type": "code",
   "execution_count": 13,
   "metadata": {},
   "outputs": [
    {
     "name": "stdout",
     "output_type": "stream",
     "text": [
      "square of 1 is 1\n",
      "square of 2 is 4\n",
      "square of 3 is 9\n"
     ]
    }
   ],
   "source": [
    "%run C:\\Users\\sahil\\Desktop\\Pluralsight\\myscrit.py"
   ]
  },
  {
   "cell_type": "code",
   "execution_count": null,
   "metadata": {},
   "outputs": [],
   "source": [
    "# %load C:\\Users\\sahil\\Desktop\\Pluralsight\\myscrit.py\n",
    "def square(x):\n",
    "    return x ** 2\n",
    "\n",
    "for i in range(1, 4):\n",
    "\tprint(\"square of %s is\"%i,square(i))\t"
   ]
  },
  {
   "cell_type": "code",
   "execution_count": 18,
   "metadata": {},
   "outputs": [
    {
     "data": {
      "text/markdown": [
       "This is a comment\n"
      ],
      "text/plain": [
       "<IPython.core.display.Markdown object>"
      ]
     },
     "metadata": {},
     "output_type": "display_data"
    }
   ],
   "source": [
    "%%markdown\n",
    "This is a comment"
   ]
  },
  {
   "cell_type": "code",
   "execution_count": 25,
   "metadata": {},
   "outputs": [
    {
     "name": "stdout",
     "output_type": "stream",
     "text": [
      "Wall time: 15.5 s\n"
     ]
    }
   ],
   "source": [
    "%%time\n",
    "\n",
    "import time\n",
    "for i in range(1000):\n",
    "    time.sleep(0.01)"
   ]
  },
  {
   "cell_type": "code",
   "execution_count": 26,
   "metadata": {},
   "outputs": [
    {
     "name": "stdout",
     "output_type": "stream",
     "text": [
      "326 µs ± 8.48 µs per loop (mean ± std. dev. of 7 runs, 1000 loops each)\n"
     ]
    }
   ],
   "source": [
    "%%timeit\n",
    "\n",
    "list_num = [n ** 2 for n in range(1000)]"
   ]
  },
  {
   "cell_type": "code",
   "execution_count": 27,
   "metadata": {},
   "outputs": [
    {
     "data": {
      "text/html": [
       "<font size = 6 color = 'red'>\n",
       "Loonycron\n",
       "</font>\n"
      ],
      "text/plain": [
       "<IPython.core.display.HTML object>"
      ]
     },
     "metadata": {},
     "output_type": "display_data"
    }
   ],
   "source": [
    "%%html\n",
    "<font size = 6 color = 'red'>\n",
    "Loonycron\n",
    "</font>"
   ]
  },
  {
   "cell_type": "code",
   "execution_count": 28,
   "metadata": {},
   "outputs": [
    {
     "name": "stdout",
     "output_type": "stream",
     "text": [
      "Collecting ipywidgets\n",
      "  Downloading ipywidgets-7.5.1-py2.py3-none-any.whl (121 kB)\n",
      "Requirement already satisfied: ipython>=4.0.0; python_version >= \"3.3\" in c:\\users\\sahil\\appdata\\local\\programs\\python\\python38\\lib\\site-packages (from ipywidgets) (7.12.0)\n",
      "Requirement already satisfied: nbformat>=4.2.0 in c:\\users\\sahil\\appdata\\local\\programs\\python\\python38\\lib\\site-packages (from ipywidgets) (5.0.4)\n",
      "Requirement already satisfied: ipykernel>=4.5.1 in c:\\users\\sahil\\appdata\\local\\programs\\python\\python38\\lib\\site-packages (from ipywidgets) (5.1.4)\n",
      "Collecting widgetsnbextension~=3.5.0\n",
      "  Downloading widgetsnbextension-3.5.1-py2.py3-none-any.whl (2.2 MB)\n",
      "Requirement already satisfied: traitlets>=4.3.1 in c:\\users\\sahil\\appdata\\local\\programs\\python\\python38\\lib\\site-packages (from ipywidgets) (4.3.3)\n",
      "Requirement already satisfied: setuptools>=18.5 in c:\\users\\sahil\\appdata\\local\\programs\\python\\python38\\lib\\site-packages (from ipython>=4.0.0; python_version >= \"3.3\"->ipywidgets) (41.2.0)\n",
      "Requirement already satisfied: jedi>=0.10 in c:\\users\\sahil\\appdata\\local\\programs\\python\\python38\\lib\\site-packages (from ipython>=4.0.0; python_version >= \"3.3\"->ipywidgets) (0.15.2)\n",
      "Requirement already satisfied: pygments in c:\\users\\sahil\\appdata\\local\\programs\\python\\python38\\lib\\site-packages (from ipython>=4.0.0; python_version >= \"3.3\"->ipywidgets) (2.5.2)\n",
      "Requirement already satisfied: backcall in c:\\users\\sahil\\appdata\\local\\programs\\python\\python38\\lib\\site-packages (from ipython>=4.0.0; python_version >= \"3.3\"->ipywidgets) (0.1.0)\n",
      "Requirement already satisfied: colorama; sys_platform == \"win32\" in c:\\users\\sahil\\appdata\\roaming\\python\\python38\\site-packages (from ipython>=4.0.0; python_version >= \"3.3\"->ipywidgets) (0.4.3)\n",
      "Requirement already satisfied: pickleshare in c:\\users\\sahil\\appdata\\local\\programs\\python\\python38\\lib\\site-packages (from ipython>=4.0.0; python_version >= \"3.3\"->ipywidgets) (0.7.5)\n",
      "Requirement already satisfied: decorator in c:\\users\\sahil\\appdata\\local\\programs\\python\\python38\\lib\\site-packages (from ipython>=4.0.0; python_version >= \"3.3\"->ipywidgets) (4.4.1)\n",
      "Requirement already satisfied: prompt-toolkit!=3.0.0,!=3.0.1,<3.1.0,>=2.0.0 in c:\\users\\sahil\\appdata\\local\\programs\\python\\python38\\lib\\site-packages (from ipython>=4.0.0; python_version >= \"3.3\"->ipywidgets) (3.0.3)\n",
      "Requirement already satisfied: ipython-genutils in c:\\users\\sahil\\appdata\\local\\programs\\python\\python38\\lib\\site-packages (from nbformat>=4.2.0->ipywidgets) (0.2.0)\n",
      "Requirement already satisfied: jupyter-core in c:\\users\\sahil\\appdata\\local\\programs\\python\\python38\\lib\\site-packages (from nbformat>=4.2.0->ipywidgets) (4.6.3)\n",
      "Requirement already satisfied: jsonschema!=2.5.0,>=2.4 in c:\\users\\sahil\\appdata\\local\\programs\\python\\python38\\lib\\site-packages (from nbformat>=4.2.0->ipywidgets) (3.2.0)\n",
      "Requirement already satisfied: jupyter-client in c:\\users\\sahil\\appdata\\local\\programs\\python\\python38\\lib\\site-packages (from ipykernel>=4.5.1->ipywidgets) (5.3.4)\n",
      "Requirement already satisfied: tornado>=4.2 in c:\\users\\sahil\\appdata\\local\\programs\\python\\python38\\lib\\site-packages (from ipykernel>=4.5.1->ipywidgets) (6.0.3)\n",
      "Requirement already satisfied: notebook>=4.4.1 in c:\\users\\sahil\\appdata\\local\\programs\\python\\python38\\lib\\site-packages (from widgetsnbextension~=3.5.0->ipywidgets) (6.0.3)\n",
      "Requirement already satisfied: six in c:\\users\\sahil\\appdata\\roaming\\python\\python38\\site-packages (from traitlets>=4.3.1->ipywidgets) (1.14.0)\n",
      "Requirement already satisfied: parso>=0.5.2 in c:\\users\\sahil\\appdata\\local\\programs\\python\\python38\\lib\\site-packages (from jedi>=0.10->ipython>=4.0.0; python_version >= \"3.3\"->ipywidgets) (0.6.1)\n",
      "Requirement already satisfied: wcwidth in c:\\users\\sahil\\appdata\\local\\programs\\python\\python38\\lib\\site-packages (from prompt-toolkit!=3.0.0,!=3.0.1,<3.1.0,>=2.0.0->ipython>=4.0.0; python_version >= \"3.3\"->ipywidgets) (0.1.8)\n",
      "Requirement already satisfied: pywin32>=1.0; sys_platform == \"win32\" in c:\\users\\sahil\\appdata\\local\\programs\\python\\python38\\lib\\site-packages (from jupyter-core->nbformat>=4.2.0->ipywidgets) (227)\n",
      "Requirement already satisfied: attrs>=17.4.0 in c:\\users\\sahil\\appdata\\local\\programs\\python\\python38\\lib\\site-packages (from jsonschema!=2.5.0,>=2.4->nbformat>=4.2.0->ipywidgets) (19.3.0)\n",
      "Requirement already satisfied: pyrsistent>=0.14.0 in c:\\users\\sahil\\appdata\\local\\programs\\python\\python38\\lib\\site-packages (from jsonschema!=2.5.0,>=2.4->nbformat>=4.2.0->ipywidgets) (0.15.7)\n",
      "Requirement already satisfied: python-dateutil>=2.1 in c:\\users\\sahil\\appdata\\local\\programs\\python\\python38\\lib\\site-packages (from jupyter-client->ipykernel>=4.5.1->ipywidgets) (2.8.1)\n",
      "Requirement already satisfied: pyzmq>=13 in c:\\users\\sahil\\appdata\\local\\programs\\python\\python38\\lib\\site-packages (from jupyter-client->ipykernel>=4.5.1->ipywidgets) (18.1.1)\n",
      "Requirement already satisfied: terminado>=0.8.1 in c:\\users\\sahil\\appdata\\local\\programs\\python\\python38\\lib\\site-packages (from notebook>=4.4.1->widgetsnbextension~=3.5.0->ipywidgets) (0.8.3)\n",
      "Requirement already satisfied: Send2Trash in c:\\users\\sahil\\appdata\\local\\programs\\python\\python38\\lib\\site-packages (from notebook>=4.4.1->widgetsnbextension~=3.5.0->ipywidgets) (1.5.0)\n",
      "Requirement already satisfied: prometheus-client in c:\\users\\sahil\\appdata\\local\\programs\\python\\python38\\lib\\site-packages (from notebook>=4.4.1->widgetsnbextension~=3.5.0->ipywidgets) (0.7.1)\n",
      "Requirement already satisfied: nbconvert in c:\\users\\sahil\\appdata\\local\\programs\\python\\python38\\lib\\site-packages (from notebook>=4.4.1->widgetsnbextension~=3.5.0->ipywidgets) (5.6.1)\n",
      "Requirement already satisfied: jinja2 in c:\\users\\sahil\\appdata\\local\\programs\\python\\python38\\lib\\site-packages (from notebook>=4.4.1->widgetsnbextension~=3.5.0->ipywidgets) (2.11.1)\n",
      "Requirement already satisfied: pywinpty>=0.5; os_name == \"nt\" in c:\\users\\sahil\\appdata\\local\\programs\\python\\python38\\lib\\site-packages (from terminado>=0.8.1->notebook>=4.4.1->widgetsnbextension~=3.5.0->ipywidgets) (0.5.7)\n",
      "Requirement already satisfied: bleach in c:\\users\\sahil\\appdata\\local\\programs\\python\\python38\\lib\\site-packages (from nbconvert->notebook>=4.4.1->widgetsnbextension~=3.5.0->ipywidgets) (3.1.1)\n",
      "Requirement already satisfied: defusedxml in c:\\users\\sahil\\appdata\\local\\programs\\python\\python38\\lib\\site-packages (from nbconvert->notebook>=4.4.1->widgetsnbextension~=3.5.0->ipywidgets) (0.6.0)\n",
      "Requirement already satisfied: entrypoints>=0.2.2 in c:\\users\\sahil\\appdata\\local\\programs\\python\\python38\\lib\\site-packages (from nbconvert->notebook>=4.4.1->widgetsnbextension~=3.5.0->ipywidgets) (0.3)\n",
      "Requirement already satisfied: pandocfilters>=1.4.1 in c:\\users\\sahil\\appdata\\local\\programs\\python\\python38\\lib\\site-packages (from nbconvert->notebook>=4.4.1->widgetsnbextension~=3.5.0->ipywidgets) (1.4.2)\n",
      "Requirement already satisfied: testpath in c:\\users\\sahil\\appdata\\local\\programs\\python\\python38\\lib\\site-packages (from nbconvert->notebook>=4.4.1->widgetsnbextension~=3.5.0->ipywidgets) (0.4.4)\n",
      "Requirement already satisfied: mistune<2,>=0.8.1 in c:\\users\\sahil\\appdata\\local\\programs\\python\\python38\\lib\\site-packages (from nbconvert->notebook>=4.4.1->widgetsnbextension~=3.5.0->ipywidgets) (0.8.4)\n",
      "Requirement already satisfied: MarkupSafe>=0.23 in c:\\users\\sahil\\appdata\\local\\programs\\python\\python38\\lib\\site-packages (from jinja2->notebook>=4.4.1->widgetsnbextension~=3.5.0->ipywidgets) (1.1.1)\n",
      "Requirement already satisfied: webencodings in c:\\users\\sahil\\appdata\\local\\programs\\python\\python38\\lib\\site-packages (from bleach->nbconvert->notebook>=4.4.1->widgetsnbextension~=3.5.0->ipywidgets) (0.5.1)\n",
      "Installing collected packages: widgetsnbextension, ipywidgets\n",
      "Successfully installed ipywidgets-7.5.1 widgetsnbextension-3.5.1\n"
     ]
    }
   ],
   "source": [
    "!pip install ipywidgets"
   ]
  },
  {
   "cell_type": "code",
   "execution_count": null,
   "metadata": {},
   "outputs": [],
   "source": []
  }
 ],
 "metadata": {
  "kernelspec": {
   "display_name": "Python 3",
   "language": "python",
   "name": "python3"
  },
  "language_info": {
   "codemirror_mode": {
    "name": "ipython",
    "version": 3
   },
   "file_extension": ".py",
   "mimetype": "text/x-python",
   "name": "python",
   "nbconvert_exporter": "python",
   "pygments_lexer": "ipython3",
   "version": "3.8.1"
  }
 },
 "nbformat": 4,
 "nbformat_minor": 4
}
