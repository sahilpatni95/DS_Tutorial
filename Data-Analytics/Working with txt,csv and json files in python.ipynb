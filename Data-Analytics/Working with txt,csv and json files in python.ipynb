{
 "cells": [
  {
   "cell_type": "code",
   "execution_count": 1,
   "metadata": {},
   "outputs": [],
   "source": [
    "import os"
   ]
  },
  {
   "cell_type": "code",
   "execution_count": 2,
   "metadata": {},
   "outputs": [
    {
     "data": {
      "text/plain": [
       "'C:\\\\Users\\\\sahil\\\\Desktop\\\\Pluralsight'"
      ]
     },
     "execution_count": 2,
     "metadata": {},
     "output_type": "execute_result"
    }
   ],
   "source": [
    "os.getcwd()"
   ]
  },
  {
   "cell_type": "code",
   "execution_count": 3,
   "metadata": {},
   "outputs": [
    {
     "data": {
      "text/plain": [
       "<_io.TextIOWrapper name='C:/Users/sahil/Desktop/Pluralsight/files/oppp.txt' mode='r' encoding='cp1252'>"
      ]
     },
     "execution_count": 3,
     "metadata": {},
     "output_type": "execute_result"
    }
   ],
   "source": [
    "open(\"C:/Users/sahil/Desktop/Pluralsight/files/oppp.txt\")"
   ]
  },
  {
   "cell_type": "code",
   "execution_count": 5,
   "metadata": {},
   "outputs": [],
   "source": [
    "!cd ./files"
   ]
  },
  {
   "cell_type": "code",
   "execution_count": 6,
   "metadata": {},
   "outputs": [
    {
     "data": {
      "text/plain": [
       "<_io.TextIOWrapper name='C:/Users/sahil/Desktop/Pluralsight/files/oppp.txt' mode='r' encoding='cp1252'>"
      ]
     },
     "execution_count": 6,
     "metadata": {},
     "output_type": "execute_result"
    }
   ],
   "source": [
    "file = open(\"C:/Users/sahil/Desktop/Pluralsight/files/oppp.txt\", mode = 'r')\n",
    "file"
   ]
  },
  {
   "cell_type": "code",
   "execution_count": 7,
   "metadata": {},
   "outputs": [
    {
     "data": {
      "text/plain": [
       "'from scapy.all import ARP, Ether, srp\\n\\ntarget_ip = \"192.168.1.1/24\"\\n# IP Address for the destination\\n# create ARP packet\\narp = ARP(pdst=target_ip)\\n# create the Ether broadcast packet\\n# ff:ff:ff:ff:ff:ff MAC address indicates broadcasting\\nether = Ether(dst=\"ff:ff:ff:ff:ff:ff\")\\n# stack them\\npacket = ether/arp\\n\\nresult = srp(packet, timeout=3, verbose=0)[0]\\n\\n# a list of clients, we will fill this in the upcoming loop\\nclients = []\\n\\nfor sent, received in result:\\n    # for each response, append ip and mac address to `clients` list\\n    clients.append({\\'ip\\': received.psrc, \\'mac\\': received.hwsrc})\\n\\n# print clients\\nprint(\"Available devices in the network:\")\\nprint(\"IP\" + \" \"*18+\"MAC\")\\nfor client in clients:\\n    print(\"{:16}    {}\".format(client[\\'ip\\'], client[\\'mac\\']))\\n\\n...................................\\n\\n61449504+sahilpatni95@users.noreply.github.com'"
      ]
     },
     "execution_count": 7,
     "metadata": {},
     "output_type": "execute_result"
    }
   ],
   "source": [
    "file.read()"
   ]
  },
  {
   "cell_type": "code",
   "execution_count": 8,
   "metadata": {},
   "outputs": [
    {
     "data": {
      "text/plain": [
       "0"
      ]
     },
     "execution_count": 8,
     "metadata": {},
     "output_type": "execute_result"
    }
   ],
   "source": [
    "file.seek(0)"
   ]
  },
  {
   "cell_type": "code",
   "execution_count": 9,
   "metadata": {},
   "outputs": [
    {
     "data": {
      "text/plain": [
       "'from '"
      ]
     },
     "execution_count": 9,
     "metadata": {},
     "output_type": "execute_result"
    }
   ],
   "source": [
    "file.read(5)"
   ]
  },
  {
   "cell_type": "code",
   "execution_count": 10,
   "metadata": {},
   "outputs": [
    {
     "data": {
      "text/plain": [
       "5"
      ]
     },
     "execution_count": 10,
     "metadata": {},
     "output_type": "execute_result"
    }
   ],
   "source": [
    "file.tell()"
   ]
  },
  {
   "cell_type": "code",
   "execution_count": 11,
   "metadata": {},
   "outputs": [
    {
     "data": {
      "text/plain": [
       "'scapy.all import ARP, Ether, srp\\n\\ntarget_ip = \"192.168.1.1/24\"\\n# IP Address for the destination\\n# create ARP packet\\narp = ARP(pdst=target_ip)\\n# create the Ether broadcast packet\\n# ff:ff:ff:ff:ff:ff MAC address indicates broadcasting\\nether = Ether(dst=\"ff:ff:ff:ff:ff:ff\")\\n# stack them\\npacket = ether/arp\\n\\nresult = srp(packet, timeout=3, verbose=0)[0]\\n\\n# a list of clients, we will fill this in the upcoming loop\\nclients = []\\n\\nfor sent, received in result:\\n    # for each response, append ip and mac address to `clients` list\\n    clients.append({\\'ip\\': received.psrc, \\'mac\\': received.hwsrc})\\n\\n# print clients\\nprint(\"Available devices in the network:\")\\nprint(\"IP\" + \" \"*18+\"MAC\")\\nfor client in clients:\\n    print(\"{:16}    {}\".format(client[\\'ip\\'], client[\\'mac\\']))\\n\\n...................................\\n\\n61449504+sahilpatni95@users.noreply.github.com'"
      ]
     },
     "execution_count": 11,
     "metadata": {},
     "output_type": "execute_result"
    }
   ],
   "source": [
    "file.read()"
   ]
  },
  {
   "cell_type": "code",
   "execution_count": 12,
   "metadata": {},
   "outputs": [],
   "source": [
    "file.close()"
   ]
  },
  {
   "cell_type": "code",
   "execution_count": 13,
   "metadata": {},
   "outputs": [],
   "source": [
    "file = open(\"C:/Users/sahil/Desktop/Pluralsight/files/oppp.txt\", mode = 'r')"
   ]
  },
  {
   "cell_type": "code",
   "execution_count": 14,
   "metadata": {},
   "outputs": [
    {
     "data": {
      "text/plain": [
       "'from scapy.all import ARP, Ether, srp\\n'"
      ]
     },
     "execution_count": 14,
     "metadata": {},
     "output_type": "execute_result"
    }
   ],
   "source": [
    "file.readline()"
   ]
  },
  {
   "cell_type": "code",
   "execution_count": 15,
   "metadata": {},
   "outputs": [
    {
     "data": {
      "text/plain": [
       "'\\n'"
      ]
     },
     "execution_count": 15,
     "metadata": {},
     "output_type": "execute_result"
    }
   ],
   "source": [
    "file.readline()"
   ]
  },
  {
   "cell_type": "markdown",
   "metadata": {},
   "source": [
    "## CSV"
   ]
  },
  {
   "cell_type": "code",
   "execution_count": 16,
   "metadata": {},
   "outputs": [
    {
     "name": "stdout",
     "output_type": "stream",
     "text": [
      "['sepal_length', 'sepal_width', 'petal_length', 'petal_width', 'species']\n",
      "['5.1', '3.5', '1.4', '0.2', 'Iris-setosa']\n",
      "['4.9', '3', '1.4', '0.2', 'Iris-setosa']\n",
      "['4.7', '3.2', '1.3', '0.2', 'Iris-setosa']\n",
      "['4.6', '3.1', '1.5', '0.2', 'Iris-setosa']\n",
      "['5', '3.6', '1.4', '0.2', 'Iris-setosa']\n",
      "['5.4', '3.9', '1.7', '0.4', 'Iris-setosa']\n",
      "['4.6', '3.4', '1.4', '0.3', 'Iris-setosa']\n",
      "['5', '3.4', '1.5', '0.2', 'Iris-setosa']\n",
      "['4.4', '2.9', '1.4', '0.2', 'Iris-setosa']\n",
      "['4.9', '3.1', '1.5', '0.1', 'Iris-setosa']\n",
      "['5.4', '3.7', '1.5', '0.2', 'Iris-setosa']\n",
      "['4.8', '3.4', '1.6', '0.2', 'Iris-setosa']\n",
      "['4.8', '3', '1.4', '0.1', 'Iris-setosa']\n",
      "['4.3', '3', '1.1', '0.1', 'Iris-setosa']\n",
      "['5.8', '4', '1.2', '0.2', 'Iris-setosa']\n",
      "['5.7', '4.4', '1.5', '0.4', 'Iris-setosa']\n",
      "['5.4', '3.9', '1.3', '0.4', 'Iris-setosa']\n",
      "['5.1', '3.5', '1.4', '0.3', 'Iris-setosa']\n",
      "['5.7', '3.8', '1.7', '0.3', 'Iris-setosa']\n",
      "['5.1', '3.8', '1.5', '0.3', 'Iris-setosa']\n",
      "['5.4', '3.4', '1.7', '0.2', 'Iris-setosa']\n",
      "['5.1', '3.7', '1.5', '0.4', 'Iris-setosa']\n",
      "['4.6', '3.6', '1', '0.2', 'Iris-setosa']\n",
      "['5.1', '3.3', '1.7', '0.5', 'Iris-setosa']\n",
      "['4.8', '3.4', '1.9', '0.2', 'Iris-setosa']\n",
      "['5', '3', '1.6', '0.2', 'Iris-setosa']\n",
      "['5', '3.4', '1.6', '0.4', 'Iris-setosa']\n",
      "['5.2', '3.5', '1.5', '0.2', 'Iris-setosa']\n",
      "['5.2', '3.4', '1.4', '0.2', 'Iris-setosa']\n",
      "['4.7', '3.2', '1.6', '0.2', 'Iris-setosa']\n",
      "['4.8', '3.1', '1.6', '0.2', 'Iris-setosa']\n",
      "['5.4', '3.4', '1.5', '0.4', 'Iris-setosa']\n",
      "['5.2', '4.1', '1.5', '0.1', 'Iris-setosa']\n",
      "['5.5', '4.2', '1.4', '0.2', 'Iris-setosa']\n",
      "['4.9', '3.1', '1.5', '0.1', 'Iris-setosa']\n",
      "['5', '3.2', '1.2', '0.2', 'Iris-setosa']\n",
      "['5.5', '3.5', '1.3', '0.2', 'Iris-setosa']\n",
      "['4.9', '3.1', '1.5', '0.1', 'Iris-setosa']\n",
      "['4.4', '3', '1.3', '0.2', 'Iris-setosa']\n",
      "['5.1', '3.4', '1.5', '0.2', 'Iris-setosa']\n",
      "['5', '3.5', '1.3', '0.3', 'Iris-setosa']\n",
      "['4.5', '2.3', '1.3', '0.3', 'Iris-setosa']\n",
      "['4.4', '3.2', '1.3', '0.2', 'Iris-setosa']\n",
      "['5', '3.5', '1.6', '0.6', 'Iris-setosa']\n",
      "['5.1', '3.8', '1.9', '0.4', 'Iris-setosa']\n",
      "['4.8', '3', '1.4', '0.3', 'Iris-setosa']\n",
      "['5.1', '3.8', '1.6', '0.2', 'Iris-setosa']\n",
      "['4.6', '3.2', '1.4', '0.2', 'Iris-setosa']\n",
      "['5.3', '3.7', '1.5', '0.2', 'Iris-setosa']\n",
      "['5', '3.3', '1.4', '0.2', 'Iris-setosa']\n",
      "['7', '3.2', '4.7', '1.4', 'Iris-versicolor']\n",
      "['6.4', '3.2', '4.5', '1.5', 'Iris-versicolor']\n",
      "['6.9', '3.1', '4.9', '1.5', 'Iris-versicolor']\n",
      "['5.5', '2.3', '4', '1.3', 'Iris-versicolor']\n",
      "['6.5', '2.8', '4.6', '1.5', 'Iris-versicolor']\n",
      "['5.7', '2.8', '4.5', '1.3', 'Iris-versicolor']\n",
      "['6.3', '3.3', '4.7', '1.6', 'Iris-versicolor']\n",
      "['4.9', '2.4', '3.3', '1', 'Iris-versicolor']\n",
      "['6.6', '2.9', '4.6', '1.3', 'Iris-versicolor']\n",
      "['5.2', '2.7', '3.9', '1.4', 'Iris-versicolor']\n",
      "['5', '2', '3.5', '1', 'Iris-versicolor']\n",
      "['5.9', '3', '4.2', '1.5', 'Iris-versicolor']\n",
      "['6', '2.2', '4', '1', 'Iris-versicolor']\n",
      "['6.1', '2.9', '4.7', '1.4', 'Iris-versicolor']\n",
      "['5.6', '2.9', '3.6', '1.3', 'Iris-versicolor']\n",
      "['6.7', '3.1', '4.4', '1.4', 'Iris-versicolor']\n",
      "['5.6', '3', '4.5', '1.5', 'Iris-versicolor']\n",
      "['5.8', '2.7', '4.1', '1', 'Iris-versicolor']\n",
      "['6.2', '2.2', '4.5', '1.5', 'Iris-versicolor']\n",
      "['5.6', '2.5', '3.9', '1.1', 'Iris-versicolor']\n",
      "['5.9', '3.2', '4.8', '1.8', 'Iris-versicolor']\n",
      "['6.1', '2.8', '4', '1.3', 'Iris-versicolor']\n",
      "['6.3', '2.5', '4.9', '1.5', 'Iris-versicolor']\n",
      "['6.1', '2.8', '4.7', '1.2', 'Iris-versicolor']\n",
      "['6.4', '2.9', '4.3', '1.3', 'Iris-versicolor']\n",
      "['6.6', '3', '4.4', '1.4', 'Iris-versicolor']\n",
      "['6.8', '2.8', '4.8', '1.4', 'Iris-versicolor']\n",
      "['6.7', '3', '5', '1.7', 'Iris-versicolor']\n",
      "['6', '2.9', '4.5', '1.5', 'Iris-versicolor']\n",
      "['5.7', '2.6', '3.5', '1', 'Iris-versicolor']\n",
      "['5.5', '2.4', '3.8', '1.1', 'Iris-versicolor']\n",
      "['5.5', '2.4', '3.7', '1', 'Iris-versicolor']\n",
      "['5.8', '2.7', '3.9', '1.2', 'Iris-versicolor']\n",
      "['6', '2.7', '5.1', '1.6', 'Iris-versicolor']\n",
      "['5.4', '3', '4.5', '1.5', 'Iris-versicolor']\n",
      "['6', '3.4', '4.5', '1.6', 'Iris-versicolor']\n",
      "['6.7', '3.1', '4.7', '1.5', 'Iris-versicolor']\n",
      "['6.3', '2.3', '4.4', '1.3', 'Iris-versicolor']\n",
      "['5.6', '3', '4.1', '1.3', 'Iris-versicolor']\n",
      "['5.5', '2.5', '4', '1.3', 'Iris-versicolor']\n",
      "['5.5', '2.6', '4.4', '1.2', 'Iris-versicolor']\n",
      "['6.1', '3', '4.6', '1.4', 'Iris-versicolor']\n",
      "['5.8', '2.6', '4', '1.2', 'Iris-versicolor']\n",
      "['5', '2.3', '3.3', '1', 'Iris-versicolor']\n",
      "['5.6', '2.7', '4.2', '1.3', 'Iris-versicolor']\n",
      "['5.7', '3', '4.2', '1.2', 'Iris-versicolor']\n",
      "['5.7', '2.9', '4.2', '1.3', 'Iris-versicolor']\n",
      "['6.2', '2.9', '4.3', '1.3', 'Iris-versicolor']\n",
      "['5.1', '2.5', '3', '1.1', 'Iris-versicolor']\n",
      "['5.7', '2.8', '4.1', '1.3', 'Iris-versicolor']\n",
      "['6.3', '3.3', '6', '2.5', 'Iris-virginica']\n",
      "['5.8', '2.7', '5.1', '1.9', 'Iris-virginica']\n",
      "['7.1', '3', '5.9', '2.1', 'Iris-virginica']\n",
      "['6.3', '2.9', '5.6', '1.8', 'Iris-virginica']\n",
      "['6.5', '3', '5.8', '2.2', 'Iris-virginica']\n",
      "['7.6', '3', '6.6', '2.1', 'Iris-virginica']\n",
      "['4.9', '2.5', '4.5', '1.7', 'Iris-virginica']\n",
      "['7.3', '2.9', '6.3', '1.8', 'Iris-virginica']\n",
      "['6.7', '2.5', '5.8', '1.8', 'Iris-virginica']\n",
      "['7.2', '3.6', '6.1', '2.5', 'Iris-virginica']\n",
      "['6.5', '3.2', '5.1', '2', 'Iris-virginica']\n",
      "['6.4', '2.7', '5.3', '1.9', 'Iris-virginica']\n",
      "['6.8', '3', '5.5', '2.1', 'Iris-virginica']\n",
      "['5.7', '2.5', '5', '2', 'Iris-virginica']\n",
      "['5.8', '2.8', '5.1', '2.4', 'Iris-virginica']\n",
      "['6.4', '3.2', '5.3', '2.3', 'Iris-virginica']\n",
      "['6.5', '3', '5.5', '1.8', 'Iris-virginica']\n",
      "['7.7', '3.8', '6.7', '2.2', 'Iris-virginica']\n",
      "['7.7', '2.6', '6.9', '2.3', 'Iris-virginica']\n",
      "['6', '2.2', '5', '1.5', 'Iris-virginica']\n",
      "['6.9', '3.2', '5.7', '2.3', 'Iris-virginica']\n",
      "['5.6', '2.8', '4.9', '2', 'Iris-virginica']\n",
      "['7.7', '2.8', '6.7', '2', 'Iris-virginica']\n",
      "['6.3', '2.7', '4.9', '1.8', 'Iris-virginica']\n",
      "['6.7', '3.3', '5.7', '2.1', 'Iris-virginica']\n",
      "['7.2', '3.2', '6', '1.8', 'Iris-virginica']\n",
      "['6.2', '2.8', '4.8', '1.8', 'Iris-virginica']\n",
      "['6.1', '3', '4.9', '1.8', 'Iris-virginica']\n",
      "['6.4', '2.8', '5.6', '2.1', 'Iris-virginica']\n",
      "['7.2', '3', '5.8', '1.6', 'Iris-virginica']\n",
      "['7.4', '2.8', '6.1', '1.9', 'Iris-virginica']\n",
      "['7.9', '3.8', '6.4', '2', 'Iris-virginica']\n",
      "['6.4', '2.8', '5.6', '2.2', 'Iris-virginica']\n",
      "['6.3', '2.8', '5.1', '1.5', 'Iris-virginica']\n",
      "['6.1', '2.6', '5.6', '1.4', 'Iris-virginica']\n",
      "['7.7', '3', '6.1', '2.3', 'Iris-virginica']\n",
      "['6.3', '3.4', '5.6', '2.4', 'Iris-virginica']\n",
      "['6.4', '3.1', '5.5', '1.8', 'Iris-virginica']\n",
      "['6', '3', '4.8', '1.8', 'Iris-virginica']\n",
      "['6.9', '3.1', '5.4', '2.1', 'Iris-virginica']\n",
      "['6.7', '3.1', '5.6', '2.4', 'Iris-virginica']\n",
      "['6.9', '3.1', '5.1', '2.3', 'Iris-virginica']\n",
      "['5.8', '2.7', '5.1', '1.9', 'Iris-virginica']\n",
      "['6.8', '3.2', '5.9', '2.3', 'Iris-virginica']\n",
      "['6.7', '3.3', '5.7', '2.5', 'Iris-virginica']\n",
      "['6.7', '3', '5.2', '2.3', 'Iris-virginica']\n",
      "['6.3', '2.5', '5', '1.9', 'Iris-virginica']\n",
      "['6.5', '3', '5.2', '2', 'Iris-virginica']\n",
      "['6.2', '3.4', '5.4', '2.3', 'Iris-virginica']\n",
      "['5.9', '3', '5.1', '1.8', 'Iris-virginica']\n"
     ]
    }
   ],
   "source": [
    "import csv\n",
    "\n",
    "with open(\"C:/Users/sahil/Desktop/Pluralsight/files/IRIS.csv\", \"r\")as f:\n",
    "    csv_reader = csv.reader(f)\n",
    "    \n",
    "    for equipment in csv_reader:\n",
    "        print(equipment)"
   ]
  },
  {
   "cell_type": "code",
   "execution_count": 17,
   "metadata": {},
   "outputs": [
    {
     "name": "stdout",
     "output_type": "stream",
     "text": [
      "{'sepal_length': '5.1', 'sepal_width': '3.5', 'petal_length': '1.4', 'petal_width': '0.2', 'species': 'Iris-setosa'}\n",
      "{'sepal_length': '4.9', 'sepal_width': '3', 'petal_length': '1.4', 'petal_width': '0.2', 'species': 'Iris-setosa'}\n",
      "{'sepal_length': '4.7', 'sepal_width': '3.2', 'petal_length': '1.3', 'petal_width': '0.2', 'species': 'Iris-setosa'}\n",
      "{'sepal_length': '4.6', 'sepal_width': '3.1', 'petal_length': '1.5', 'petal_width': '0.2', 'species': 'Iris-setosa'}\n",
      "{'sepal_length': '5', 'sepal_width': '3.6', 'petal_length': '1.4', 'petal_width': '0.2', 'species': 'Iris-setosa'}\n",
      "{'sepal_length': '5.4', 'sepal_width': '3.9', 'petal_length': '1.7', 'petal_width': '0.4', 'species': 'Iris-setosa'}\n",
      "{'sepal_length': '4.6', 'sepal_width': '3.4', 'petal_length': '1.4', 'petal_width': '0.3', 'species': 'Iris-setosa'}\n",
      "{'sepal_length': '5', 'sepal_width': '3.4', 'petal_length': '1.5', 'petal_width': '0.2', 'species': 'Iris-setosa'}\n",
      "{'sepal_length': '4.4', 'sepal_width': '2.9', 'petal_length': '1.4', 'petal_width': '0.2', 'species': 'Iris-setosa'}\n",
      "{'sepal_length': '4.9', 'sepal_width': '3.1', 'petal_length': '1.5', 'petal_width': '0.1', 'species': 'Iris-setosa'}\n",
      "{'sepal_length': '5.4', 'sepal_width': '3.7', 'petal_length': '1.5', 'petal_width': '0.2', 'species': 'Iris-setosa'}\n",
      "{'sepal_length': '4.8', 'sepal_width': '3.4', 'petal_length': '1.6', 'petal_width': '0.2', 'species': 'Iris-setosa'}\n",
      "{'sepal_length': '4.8', 'sepal_width': '3', 'petal_length': '1.4', 'petal_width': '0.1', 'species': 'Iris-setosa'}\n",
      "{'sepal_length': '4.3', 'sepal_width': '3', 'petal_length': '1.1', 'petal_width': '0.1', 'species': 'Iris-setosa'}\n",
      "{'sepal_length': '5.8', 'sepal_width': '4', 'petal_length': '1.2', 'petal_width': '0.2', 'species': 'Iris-setosa'}\n",
      "{'sepal_length': '5.7', 'sepal_width': '4.4', 'petal_length': '1.5', 'petal_width': '0.4', 'species': 'Iris-setosa'}\n",
      "{'sepal_length': '5.4', 'sepal_width': '3.9', 'petal_length': '1.3', 'petal_width': '0.4', 'species': 'Iris-setosa'}\n",
      "{'sepal_length': '5.1', 'sepal_width': '3.5', 'petal_length': '1.4', 'petal_width': '0.3', 'species': 'Iris-setosa'}\n",
      "{'sepal_length': '5.7', 'sepal_width': '3.8', 'petal_length': '1.7', 'petal_width': '0.3', 'species': 'Iris-setosa'}\n",
      "{'sepal_length': '5.1', 'sepal_width': '3.8', 'petal_length': '1.5', 'petal_width': '0.3', 'species': 'Iris-setosa'}\n",
      "{'sepal_length': '5.4', 'sepal_width': '3.4', 'petal_length': '1.7', 'petal_width': '0.2', 'species': 'Iris-setosa'}\n",
      "{'sepal_length': '5.1', 'sepal_width': '3.7', 'petal_length': '1.5', 'petal_width': '0.4', 'species': 'Iris-setosa'}\n",
      "{'sepal_length': '4.6', 'sepal_width': '3.6', 'petal_length': '1', 'petal_width': '0.2', 'species': 'Iris-setosa'}\n",
      "{'sepal_length': '5.1', 'sepal_width': '3.3', 'petal_length': '1.7', 'petal_width': '0.5', 'species': 'Iris-setosa'}\n",
      "{'sepal_length': '4.8', 'sepal_width': '3.4', 'petal_length': '1.9', 'petal_width': '0.2', 'species': 'Iris-setosa'}\n",
      "{'sepal_length': '5', 'sepal_width': '3', 'petal_length': '1.6', 'petal_width': '0.2', 'species': 'Iris-setosa'}\n",
      "{'sepal_length': '5', 'sepal_width': '3.4', 'petal_length': '1.6', 'petal_width': '0.4', 'species': 'Iris-setosa'}\n",
      "{'sepal_length': '5.2', 'sepal_width': '3.5', 'petal_length': '1.5', 'petal_width': '0.2', 'species': 'Iris-setosa'}\n",
      "{'sepal_length': '5.2', 'sepal_width': '3.4', 'petal_length': '1.4', 'petal_width': '0.2', 'species': 'Iris-setosa'}\n",
      "{'sepal_length': '4.7', 'sepal_width': '3.2', 'petal_length': '1.6', 'petal_width': '0.2', 'species': 'Iris-setosa'}\n",
      "{'sepal_length': '4.8', 'sepal_width': '3.1', 'petal_length': '1.6', 'petal_width': '0.2', 'species': 'Iris-setosa'}\n",
      "{'sepal_length': '5.4', 'sepal_width': '3.4', 'petal_length': '1.5', 'petal_width': '0.4', 'species': 'Iris-setosa'}\n",
      "{'sepal_length': '5.2', 'sepal_width': '4.1', 'petal_length': '1.5', 'petal_width': '0.1', 'species': 'Iris-setosa'}\n",
      "{'sepal_length': '5.5', 'sepal_width': '4.2', 'petal_length': '1.4', 'petal_width': '0.2', 'species': 'Iris-setosa'}\n",
      "{'sepal_length': '4.9', 'sepal_width': '3.1', 'petal_length': '1.5', 'petal_width': '0.1', 'species': 'Iris-setosa'}\n",
      "{'sepal_length': '5', 'sepal_width': '3.2', 'petal_length': '1.2', 'petal_width': '0.2', 'species': 'Iris-setosa'}\n",
      "{'sepal_length': '5.5', 'sepal_width': '3.5', 'petal_length': '1.3', 'petal_width': '0.2', 'species': 'Iris-setosa'}\n",
      "{'sepal_length': '4.9', 'sepal_width': '3.1', 'petal_length': '1.5', 'petal_width': '0.1', 'species': 'Iris-setosa'}\n",
      "{'sepal_length': '4.4', 'sepal_width': '3', 'petal_length': '1.3', 'petal_width': '0.2', 'species': 'Iris-setosa'}\n",
      "{'sepal_length': '5.1', 'sepal_width': '3.4', 'petal_length': '1.5', 'petal_width': '0.2', 'species': 'Iris-setosa'}\n",
      "{'sepal_length': '5', 'sepal_width': '3.5', 'petal_length': '1.3', 'petal_width': '0.3', 'species': 'Iris-setosa'}\n",
      "{'sepal_length': '4.5', 'sepal_width': '2.3', 'petal_length': '1.3', 'petal_width': '0.3', 'species': 'Iris-setosa'}\n",
      "{'sepal_length': '4.4', 'sepal_width': '3.2', 'petal_length': '1.3', 'petal_width': '0.2', 'species': 'Iris-setosa'}\n",
      "{'sepal_length': '5', 'sepal_width': '3.5', 'petal_length': '1.6', 'petal_width': '0.6', 'species': 'Iris-setosa'}\n",
      "{'sepal_length': '5.1', 'sepal_width': '3.8', 'petal_length': '1.9', 'petal_width': '0.4', 'species': 'Iris-setosa'}\n",
      "{'sepal_length': '4.8', 'sepal_width': '3', 'petal_length': '1.4', 'petal_width': '0.3', 'species': 'Iris-setosa'}\n",
      "{'sepal_length': '5.1', 'sepal_width': '3.8', 'petal_length': '1.6', 'petal_width': '0.2', 'species': 'Iris-setosa'}\n",
      "{'sepal_length': '4.6', 'sepal_width': '3.2', 'petal_length': '1.4', 'petal_width': '0.2', 'species': 'Iris-setosa'}\n",
      "{'sepal_length': '5.3', 'sepal_width': '3.7', 'petal_length': '1.5', 'petal_width': '0.2', 'species': 'Iris-setosa'}\n",
      "{'sepal_length': '5', 'sepal_width': '3.3', 'petal_length': '1.4', 'petal_width': '0.2', 'species': 'Iris-setosa'}\n",
      "{'sepal_length': '7', 'sepal_width': '3.2', 'petal_length': '4.7', 'petal_width': '1.4', 'species': 'Iris-versicolor'}\n",
      "{'sepal_length': '6.4', 'sepal_width': '3.2', 'petal_length': '4.5', 'petal_width': '1.5', 'species': 'Iris-versicolor'}\n",
      "{'sepal_length': '6.9', 'sepal_width': '3.1', 'petal_length': '4.9', 'petal_width': '1.5', 'species': 'Iris-versicolor'}\n",
      "{'sepal_length': '5.5', 'sepal_width': '2.3', 'petal_length': '4', 'petal_width': '1.3', 'species': 'Iris-versicolor'}\n",
      "{'sepal_length': '6.5', 'sepal_width': '2.8', 'petal_length': '4.6', 'petal_width': '1.5', 'species': 'Iris-versicolor'}\n",
      "{'sepal_length': '5.7', 'sepal_width': '2.8', 'petal_length': '4.5', 'petal_width': '1.3', 'species': 'Iris-versicolor'}\n",
      "{'sepal_length': '6.3', 'sepal_width': '3.3', 'petal_length': '4.7', 'petal_width': '1.6', 'species': 'Iris-versicolor'}\n",
      "{'sepal_length': '4.9', 'sepal_width': '2.4', 'petal_length': '3.3', 'petal_width': '1', 'species': 'Iris-versicolor'}\n",
      "{'sepal_length': '6.6', 'sepal_width': '2.9', 'petal_length': '4.6', 'petal_width': '1.3', 'species': 'Iris-versicolor'}\n",
      "{'sepal_length': '5.2', 'sepal_width': '2.7', 'petal_length': '3.9', 'petal_width': '1.4', 'species': 'Iris-versicolor'}\n",
      "{'sepal_length': '5', 'sepal_width': '2', 'petal_length': '3.5', 'petal_width': '1', 'species': 'Iris-versicolor'}\n",
      "{'sepal_length': '5.9', 'sepal_width': '3', 'petal_length': '4.2', 'petal_width': '1.5', 'species': 'Iris-versicolor'}\n",
      "{'sepal_length': '6', 'sepal_width': '2.2', 'petal_length': '4', 'petal_width': '1', 'species': 'Iris-versicolor'}\n",
      "{'sepal_length': '6.1', 'sepal_width': '2.9', 'petal_length': '4.7', 'petal_width': '1.4', 'species': 'Iris-versicolor'}\n",
      "{'sepal_length': '5.6', 'sepal_width': '2.9', 'petal_length': '3.6', 'petal_width': '1.3', 'species': 'Iris-versicolor'}\n",
      "{'sepal_length': '6.7', 'sepal_width': '3.1', 'petal_length': '4.4', 'petal_width': '1.4', 'species': 'Iris-versicolor'}\n",
      "{'sepal_length': '5.6', 'sepal_width': '3', 'petal_length': '4.5', 'petal_width': '1.5', 'species': 'Iris-versicolor'}\n",
      "{'sepal_length': '5.8', 'sepal_width': '2.7', 'petal_length': '4.1', 'petal_width': '1', 'species': 'Iris-versicolor'}\n",
      "{'sepal_length': '6.2', 'sepal_width': '2.2', 'petal_length': '4.5', 'petal_width': '1.5', 'species': 'Iris-versicolor'}\n",
      "{'sepal_length': '5.6', 'sepal_width': '2.5', 'petal_length': '3.9', 'petal_width': '1.1', 'species': 'Iris-versicolor'}\n",
      "{'sepal_length': '5.9', 'sepal_width': '3.2', 'petal_length': '4.8', 'petal_width': '1.8', 'species': 'Iris-versicolor'}\n",
      "{'sepal_length': '6.1', 'sepal_width': '2.8', 'petal_length': '4', 'petal_width': '1.3', 'species': 'Iris-versicolor'}\n",
      "{'sepal_length': '6.3', 'sepal_width': '2.5', 'petal_length': '4.9', 'petal_width': '1.5', 'species': 'Iris-versicolor'}\n",
      "{'sepal_length': '6.1', 'sepal_width': '2.8', 'petal_length': '4.7', 'petal_width': '1.2', 'species': 'Iris-versicolor'}\n",
      "{'sepal_length': '6.4', 'sepal_width': '2.9', 'petal_length': '4.3', 'petal_width': '1.3', 'species': 'Iris-versicolor'}\n",
      "{'sepal_length': '6.6', 'sepal_width': '3', 'petal_length': '4.4', 'petal_width': '1.4', 'species': 'Iris-versicolor'}\n",
      "{'sepal_length': '6.8', 'sepal_width': '2.8', 'petal_length': '4.8', 'petal_width': '1.4', 'species': 'Iris-versicolor'}\n",
      "{'sepal_length': '6.7', 'sepal_width': '3', 'petal_length': '5', 'petal_width': '1.7', 'species': 'Iris-versicolor'}\n",
      "{'sepal_length': '6', 'sepal_width': '2.9', 'petal_length': '4.5', 'petal_width': '1.5', 'species': 'Iris-versicolor'}\n",
      "{'sepal_length': '5.7', 'sepal_width': '2.6', 'petal_length': '3.5', 'petal_width': '1', 'species': 'Iris-versicolor'}\n",
      "{'sepal_length': '5.5', 'sepal_width': '2.4', 'petal_length': '3.8', 'petal_width': '1.1', 'species': 'Iris-versicolor'}\n",
      "{'sepal_length': '5.5', 'sepal_width': '2.4', 'petal_length': '3.7', 'petal_width': '1', 'species': 'Iris-versicolor'}\n",
      "{'sepal_length': '5.8', 'sepal_width': '2.7', 'petal_length': '3.9', 'petal_width': '1.2', 'species': 'Iris-versicolor'}\n",
      "{'sepal_length': '6', 'sepal_width': '2.7', 'petal_length': '5.1', 'petal_width': '1.6', 'species': 'Iris-versicolor'}\n",
      "{'sepal_length': '5.4', 'sepal_width': '3', 'petal_length': '4.5', 'petal_width': '1.5', 'species': 'Iris-versicolor'}\n",
      "{'sepal_length': '6', 'sepal_width': '3.4', 'petal_length': '4.5', 'petal_width': '1.6', 'species': 'Iris-versicolor'}\n",
      "{'sepal_length': '6.7', 'sepal_width': '3.1', 'petal_length': '4.7', 'petal_width': '1.5', 'species': 'Iris-versicolor'}\n",
      "{'sepal_length': '6.3', 'sepal_width': '2.3', 'petal_length': '4.4', 'petal_width': '1.3', 'species': 'Iris-versicolor'}\n",
      "{'sepal_length': '5.6', 'sepal_width': '3', 'petal_length': '4.1', 'petal_width': '1.3', 'species': 'Iris-versicolor'}\n",
      "{'sepal_length': '5.5', 'sepal_width': '2.5', 'petal_length': '4', 'petal_width': '1.3', 'species': 'Iris-versicolor'}\n",
      "{'sepal_length': '5.5', 'sepal_width': '2.6', 'petal_length': '4.4', 'petal_width': '1.2', 'species': 'Iris-versicolor'}\n",
      "{'sepal_length': '6.1', 'sepal_width': '3', 'petal_length': '4.6', 'petal_width': '1.4', 'species': 'Iris-versicolor'}\n",
      "{'sepal_length': '5.8', 'sepal_width': '2.6', 'petal_length': '4', 'petal_width': '1.2', 'species': 'Iris-versicolor'}\n",
      "{'sepal_length': '5', 'sepal_width': '2.3', 'petal_length': '3.3', 'petal_width': '1', 'species': 'Iris-versicolor'}\n",
      "{'sepal_length': '5.6', 'sepal_width': '2.7', 'petal_length': '4.2', 'petal_width': '1.3', 'species': 'Iris-versicolor'}\n",
      "{'sepal_length': '5.7', 'sepal_width': '3', 'petal_length': '4.2', 'petal_width': '1.2', 'species': 'Iris-versicolor'}\n",
      "{'sepal_length': '5.7', 'sepal_width': '2.9', 'petal_length': '4.2', 'petal_width': '1.3', 'species': 'Iris-versicolor'}\n",
      "{'sepal_length': '6.2', 'sepal_width': '2.9', 'petal_length': '4.3', 'petal_width': '1.3', 'species': 'Iris-versicolor'}\n",
      "{'sepal_length': '5.1', 'sepal_width': '2.5', 'petal_length': '3', 'petal_width': '1.1', 'species': 'Iris-versicolor'}\n",
      "{'sepal_length': '5.7', 'sepal_width': '2.8', 'petal_length': '4.1', 'petal_width': '1.3', 'species': 'Iris-versicolor'}\n",
      "{'sepal_length': '6.3', 'sepal_width': '3.3', 'petal_length': '6', 'petal_width': '2.5', 'species': 'Iris-virginica'}\n",
      "{'sepal_length': '5.8', 'sepal_width': '2.7', 'petal_length': '5.1', 'petal_width': '1.9', 'species': 'Iris-virginica'}\n",
      "{'sepal_length': '7.1', 'sepal_width': '3', 'petal_length': '5.9', 'petal_width': '2.1', 'species': 'Iris-virginica'}\n",
      "{'sepal_length': '6.3', 'sepal_width': '2.9', 'petal_length': '5.6', 'petal_width': '1.8', 'species': 'Iris-virginica'}\n",
      "{'sepal_length': '6.5', 'sepal_width': '3', 'petal_length': '5.8', 'petal_width': '2.2', 'species': 'Iris-virginica'}\n",
      "{'sepal_length': '7.6', 'sepal_width': '3', 'petal_length': '6.6', 'petal_width': '2.1', 'species': 'Iris-virginica'}\n",
      "{'sepal_length': '4.9', 'sepal_width': '2.5', 'petal_length': '4.5', 'petal_width': '1.7', 'species': 'Iris-virginica'}\n",
      "{'sepal_length': '7.3', 'sepal_width': '2.9', 'petal_length': '6.3', 'petal_width': '1.8', 'species': 'Iris-virginica'}\n",
      "{'sepal_length': '6.7', 'sepal_width': '2.5', 'petal_length': '5.8', 'petal_width': '1.8', 'species': 'Iris-virginica'}\n",
      "{'sepal_length': '7.2', 'sepal_width': '3.6', 'petal_length': '6.1', 'petal_width': '2.5', 'species': 'Iris-virginica'}\n",
      "{'sepal_length': '6.5', 'sepal_width': '3.2', 'petal_length': '5.1', 'petal_width': '2', 'species': 'Iris-virginica'}\n",
      "{'sepal_length': '6.4', 'sepal_width': '2.7', 'petal_length': '5.3', 'petal_width': '1.9', 'species': 'Iris-virginica'}\n",
      "{'sepal_length': '6.8', 'sepal_width': '3', 'petal_length': '5.5', 'petal_width': '2.1', 'species': 'Iris-virginica'}\n",
      "{'sepal_length': '5.7', 'sepal_width': '2.5', 'petal_length': '5', 'petal_width': '2', 'species': 'Iris-virginica'}\n",
      "{'sepal_length': '5.8', 'sepal_width': '2.8', 'petal_length': '5.1', 'petal_width': '2.4', 'species': 'Iris-virginica'}\n",
      "{'sepal_length': '6.4', 'sepal_width': '3.2', 'petal_length': '5.3', 'petal_width': '2.3', 'species': 'Iris-virginica'}\n",
      "{'sepal_length': '6.5', 'sepal_width': '3', 'petal_length': '5.5', 'petal_width': '1.8', 'species': 'Iris-virginica'}\n",
      "{'sepal_length': '7.7', 'sepal_width': '3.8', 'petal_length': '6.7', 'petal_width': '2.2', 'species': 'Iris-virginica'}\n",
      "{'sepal_length': '7.7', 'sepal_width': '2.6', 'petal_length': '6.9', 'petal_width': '2.3', 'species': 'Iris-virginica'}\n",
      "{'sepal_length': '6', 'sepal_width': '2.2', 'petal_length': '5', 'petal_width': '1.5', 'species': 'Iris-virginica'}\n",
      "{'sepal_length': '6.9', 'sepal_width': '3.2', 'petal_length': '5.7', 'petal_width': '2.3', 'species': 'Iris-virginica'}\n",
      "{'sepal_length': '5.6', 'sepal_width': '2.8', 'petal_length': '4.9', 'petal_width': '2', 'species': 'Iris-virginica'}\n",
      "{'sepal_length': '7.7', 'sepal_width': '2.8', 'petal_length': '6.7', 'petal_width': '2', 'species': 'Iris-virginica'}\n",
      "{'sepal_length': '6.3', 'sepal_width': '2.7', 'petal_length': '4.9', 'petal_width': '1.8', 'species': 'Iris-virginica'}\n",
      "{'sepal_length': '6.7', 'sepal_width': '3.3', 'petal_length': '5.7', 'petal_width': '2.1', 'species': 'Iris-virginica'}\n",
      "{'sepal_length': '7.2', 'sepal_width': '3.2', 'petal_length': '6', 'petal_width': '1.8', 'species': 'Iris-virginica'}\n",
      "{'sepal_length': '6.2', 'sepal_width': '2.8', 'petal_length': '4.8', 'petal_width': '1.8', 'species': 'Iris-virginica'}\n",
      "{'sepal_length': '6.1', 'sepal_width': '3', 'petal_length': '4.9', 'petal_width': '1.8', 'species': 'Iris-virginica'}\n",
      "{'sepal_length': '6.4', 'sepal_width': '2.8', 'petal_length': '5.6', 'petal_width': '2.1', 'species': 'Iris-virginica'}\n",
      "{'sepal_length': '7.2', 'sepal_width': '3', 'petal_length': '5.8', 'petal_width': '1.6', 'species': 'Iris-virginica'}\n",
      "{'sepal_length': '7.4', 'sepal_width': '2.8', 'petal_length': '6.1', 'petal_width': '1.9', 'species': 'Iris-virginica'}\n",
      "{'sepal_length': '7.9', 'sepal_width': '3.8', 'petal_length': '6.4', 'petal_width': '2', 'species': 'Iris-virginica'}\n",
      "{'sepal_length': '6.4', 'sepal_width': '2.8', 'petal_length': '5.6', 'petal_width': '2.2', 'species': 'Iris-virginica'}\n",
      "{'sepal_length': '6.3', 'sepal_width': '2.8', 'petal_length': '5.1', 'petal_width': '1.5', 'species': 'Iris-virginica'}\n",
      "{'sepal_length': '6.1', 'sepal_width': '2.6', 'petal_length': '5.6', 'petal_width': '1.4', 'species': 'Iris-virginica'}\n",
      "{'sepal_length': '7.7', 'sepal_width': '3', 'petal_length': '6.1', 'petal_width': '2.3', 'species': 'Iris-virginica'}\n",
      "{'sepal_length': '6.3', 'sepal_width': '3.4', 'petal_length': '5.6', 'petal_width': '2.4', 'species': 'Iris-virginica'}\n",
      "{'sepal_length': '6.4', 'sepal_width': '3.1', 'petal_length': '5.5', 'petal_width': '1.8', 'species': 'Iris-virginica'}\n",
      "{'sepal_length': '6', 'sepal_width': '3', 'petal_length': '4.8', 'petal_width': '1.8', 'species': 'Iris-virginica'}\n",
      "{'sepal_length': '6.9', 'sepal_width': '3.1', 'petal_length': '5.4', 'petal_width': '2.1', 'species': 'Iris-virginica'}\n",
      "{'sepal_length': '6.7', 'sepal_width': '3.1', 'petal_length': '5.6', 'petal_width': '2.4', 'species': 'Iris-virginica'}\n",
      "{'sepal_length': '6.9', 'sepal_width': '3.1', 'petal_length': '5.1', 'petal_width': '2.3', 'species': 'Iris-virginica'}\n",
      "{'sepal_length': '5.8', 'sepal_width': '2.7', 'petal_length': '5.1', 'petal_width': '1.9', 'species': 'Iris-virginica'}\n",
      "{'sepal_length': '6.8', 'sepal_width': '3.2', 'petal_length': '5.9', 'petal_width': '2.3', 'species': 'Iris-virginica'}\n",
      "{'sepal_length': '6.7', 'sepal_width': '3.3', 'petal_length': '5.7', 'petal_width': '2.5', 'species': 'Iris-virginica'}\n",
      "{'sepal_length': '6.7', 'sepal_width': '3', 'petal_length': '5.2', 'petal_width': '2.3', 'species': 'Iris-virginica'}\n",
      "{'sepal_length': '6.3', 'sepal_width': '2.5', 'petal_length': '5', 'petal_width': '1.9', 'species': 'Iris-virginica'}\n",
      "{'sepal_length': '6.5', 'sepal_width': '3', 'petal_length': '5.2', 'petal_width': '2', 'species': 'Iris-virginica'}\n",
      "{'sepal_length': '6.2', 'sepal_width': '3.4', 'petal_length': '5.4', 'petal_width': '2.3', 'species': 'Iris-virginica'}\n",
      "{'sepal_length': '5.9', 'sepal_width': '3', 'petal_length': '5.1', 'petal_width': '1.8', 'species': 'Iris-virginica'}\n"
     ]
    }
   ],
   "source": [
    "\n",
    "with open(\"C:/Users/sahil/Desktop/Pluralsight/files/IRIS.csv\", \"r\")as f:\n",
    "    csv_reader = csv.DictReader(f)\n",
    "    \n",
    "    for equipment in csv_reader:\n",
    "        print(equipment)"
   ]
  },
  {
   "cell_type": "code",
   "execution_count": 18,
   "metadata": {},
   "outputs": [],
   "source": [
    "import pandas as pd"
   ]
  },
  {
   "cell_type": "code",
   "execution_count": 19,
   "metadata": {},
   "outputs": [
    {
     "data": {
      "text/html": [
       "<div>\n",
       "<style scoped>\n",
       "    .dataframe tbody tr th:only-of-type {\n",
       "        vertical-align: middle;\n",
       "    }\n",
       "\n",
       "    .dataframe tbody tr th {\n",
       "        vertical-align: top;\n",
       "    }\n",
       "\n",
       "    .dataframe thead th {\n",
       "        text-align: right;\n",
       "    }\n",
       "</style>\n",
       "<table border=\"1\" class=\"dataframe\">\n",
       "  <thead>\n",
       "    <tr style=\"text-align: right;\">\n",
       "      <th></th>\n",
       "      <th>sepal_length</th>\n",
       "      <th>sepal_width</th>\n",
       "      <th>petal_length</th>\n",
       "      <th>petal_width</th>\n",
       "      <th>species</th>\n",
       "    </tr>\n",
       "  </thead>\n",
       "  <tbody>\n",
       "    <tr>\n",
       "      <th>0</th>\n",
       "      <td>5.1</td>\n",
       "      <td>3.5</td>\n",
       "      <td>1.4</td>\n",
       "      <td>0.2</td>\n",
       "      <td>Iris-setosa</td>\n",
       "    </tr>\n",
       "    <tr>\n",
       "      <th>1</th>\n",
       "      <td>4.9</td>\n",
       "      <td>3.0</td>\n",
       "      <td>1.4</td>\n",
       "      <td>0.2</td>\n",
       "      <td>Iris-setosa</td>\n",
       "    </tr>\n",
       "    <tr>\n",
       "      <th>2</th>\n",
       "      <td>4.7</td>\n",
       "      <td>3.2</td>\n",
       "      <td>1.3</td>\n",
       "      <td>0.2</td>\n",
       "      <td>Iris-setosa</td>\n",
       "    </tr>\n",
       "    <tr>\n",
       "      <th>3</th>\n",
       "      <td>4.6</td>\n",
       "      <td>3.1</td>\n",
       "      <td>1.5</td>\n",
       "      <td>0.2</td>\n",
       "      <td>Iris-setosa</td>\n",
       "    </tr>\n",
       "    <tr>\n",
       "      <th>4</th>\n",
       "      <td>5.0</td>\n",
       "      <td>3.6</td>\n",
       "      <td>1.4</td>\n",
       "      <td>0.2</td>\n",
       "      <td>Iris-setosa</td>\n",
       "    </tr>\n",
       "    <tr>\n",
       "      <th>...</th>\n",
       "      <td>...</td>\n",
       "      <td>...</td>\n",
       "      <td>...</td>\n",
       "      <td>...</td>\n",
       "      <td>...</td>\n",
       "    </tr>\n",
       "    <tr>\n",
       "      <th>145</th>\n",
       "      <td>6.7</td>\n",
       "      <td>3.0</td>\n",
       "      <td>5.2</td>\n",
       "      <td>2.3</td>\n",
       "      <td>Iris-virginica</td>\n",
       "    </tr>\n",
       "    <tr>\n",
       "      <th>146</th>\n",
       "      <td>6.3</td>\n",
       "      <td>2.5</td>\n",
       "      <td>5.0</td>\n",
       "      <td>1.9</td>\n",
       "      <td>Iris-virginica</td>\n",
       "    </tr>\n",
       "    <tr>\n",
       "      <th>147</th>\n",
       "      <td>6.5</td>\n",
       "      <td>3.0</td>\n",
       "      <td>5.2</td>\n",
       "      <td>2.0</td>\n",
       "      <td>Iris-virginica</td>\n",
       "    </tr>\n",
       "    <tr>\n",
       "      <th>148</th>\n",
       "      <td>6.2</td>\n",
       "      <td>3.4</td>\n",
       "      <td>5.4</td>\n",
       "      <td>2.3</td>\n",
       "      <td>Iris-virginica</td>\n",
       "    </tr>\n",
       "    <tr>\n",
       "      <th>149</th>\n",
       "      <td>5.9</td>\n",
       "      <td>3.0</td>\n",
       "      <td>5.1</td>\n",
       "      <td>1.8</td>\n",
       "      <td>Iris-virginica</td>\n",
       "    </tr>\n",
       "  </tbody>\n",
       "</table>\n",
       "<p>150 rows × 5 columns</p>\n",
       "</div>"
      ],
      "text/plain": [
       "     sepal_length  sepal_width  petal_length  petal_width         species\n",
       "0             5.1          3.5           1.4          0.2     Iris-setosa\n",
       "1             4.9          3.0           1.4          0.2     Iris-setosa\n",
       "2             4.7          3.2           1.3          0.2     Iris-setosa\n",
       "3             4.6          3.1           1.5          0.2     Iris-setosa\n",
       "4             5.0          3.6           1.4          0.2     Iris-setosa\n",
       "..            ...          ...           ...          ...             ...\n",
       "145           6.7          3.0           5.2          2.3  Iris-virginica\n",
       "146           6.3          2.5           5.0          1.9  Iris-virginica\n",
       "147           6.5          3.0           5.2          2.0  Iris-virginica\n",
       "148           6.2          3.4           5.4          2.3  Iris-virginica\n",
       "149           5.9          3.0           5.1          1.8  Iris-virginica\n",
       "\n",
       "[150 rows x 5 columns]"
      ]
     },
     "execution_count": 19,
     "metadata": {},
     "output_type": "execute_result"
    }
   ],
   "source": [
    "df = pd.read_csv(\"C:/Users/sahil/Desktop/Pluralsight/files/IRIS.csv\")\n",
    "\n",
    "df"
   ]
  },
  {
   "cell_type": "code",
   "execution_count": 20,
   "metadata": {},
   "outputs": [],
   "source": [
    "import json"
   ]
  },
  {
   "cell_type": "code",
   "execution_count": 21,
   "metadata": {},
   "outputs": [],
   "source": [
    "dogs_and_ages = {\"Oba\" : 8.9,\n",
    "                \"Moje\" : 4.5,\n",
    "                \"Nemo\" : 1.25}"
   ]
  },
  {
   "cell_type": "code",
   "execution_count": 22,
   "metadata": {},
   "outputs": [
    {
     "data": {
      "text/plain": [
       "'{\"Oba\": 8.9, \"Moje\": 4.5, \"Nemo\": 1.25}'"
      ]
     },
     "execution_count": 22,
     "metadata": {},
     "output_type": "execute_result"
    }
   ],
   "source": [
    "json_string = json.dumps(dogs_and_ages)\n",
    "json_string"
   ]
  },
  {
   "cell_type": "code",
   "execution_count": 23,
   "metadata": {},
   "outputs": [],
   "source": [
    "dogs_and_ages_string = \"\"\"\n",
    "\n",
    "{\"Oba\": 8.9, \"Moje\": 4.5, \"Nemo\": 1.25}\n",
    "\n",
    "\"\"\""
   ]
  },
  {
   "cell_type": "code",
   "execution_count": 24,
   "metadata": {},
   "outputs": [
    {
     "data": {
      "text/plain": [
       "{'Oba': 8.9, 'Moje': 4.5, 'Nemo': 1.25}"
      ]
     },
     "execution_count": 24,
     "metadata": {},
     "output_type": "execute_result"
    }
   ],
   "source": [
    "dogs_and_ages_dict = json.loads(dogs_and_ages_string)\n",
    "dogs_and_ages_dict"
   ]
  },
  {
   "cell_type": "code",
   "execution_count": null,
   "metadata": {},
   "outputs": [],
   "source": []
  },
  {
   "cell_type": "code",
   "execution_count": null,
   "metadata": {},
   "outputs": [],
   "source": []
  },
  {
   "cell_type": "code",
   "execution_count": null,
   "metadata": {},
   "outputs": [],
   "source": []
  }
 ],
 "metadata": {
  "kernelspec": {
   "display_name": "Python 3",
   "language": "python",
   "name": "python3"
  },
  "language_info": {
   "codemirror_mode": {
    "name": "ipython",
    "version": 3
   },
   "file_extension": ".py",
   "mimetype": "text/x-python",
   "name": "python",
   "nbconvert_exporter": "python",
   "pygments_lexer": "ipython3",
   "version": "3.8.1"
  }
 },
 "nbformat": 4,
 "nbformat_minor": 4
}
