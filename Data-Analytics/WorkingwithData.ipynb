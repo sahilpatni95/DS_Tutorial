{
  "nbformat": 4,
  "nbformat_minor": 0,
  "metadata": {
    "colab": {
      "name": "Untitled0.ipynb",
      "provenance": [],
      "collapsed_sections": [],
      "mount_file_id": "1xVpgFaaR7MGE9plETRHGnZMj5nZWraks",
      "authorship_tag": "ABX9TyO/BVXYJPrSRZDMJIq/IEb1",
      "include_colab_link": true
    },
    "kernelspec": {
      "name": "python3",
      "display_name": "Python 3"
    }
  },
  "cells": [
    {
      "cell_type": "markdown",
      "metadata": {
        "id": "view-in-github",
        "colab_type": "text"
      },
      "source": [
        "<a href=\"https://colab.research.google.com/github/sahilpatni95/data-Analytics/blob/master/WorkingwithData.ipynb\" target=\"_parent\"><img src=\"https://colab.research.google.com/assets/colab-badge.svg\" alt=\"Open In Colab\"/></a>"
      ]
    },
    {
      "cell_type": "code",
      "metadata": {
        "id": "kN-KcFci1zpr",
        "colab_type": "code",
        "colab": {}
      },
      "source": [
        "import pandas as pd\n",
        "import numpy as np\n",
        "import matplotlib.pyplot as plt\n",
        "import seaborn as sns"
      ],
      "execution_count": 0,
      "outputs": []
    },
    {
      "cell_type": "code",
      "metadata": {
        "id": "G6P5V4tf2Ok-",
        "colab_type": "code",
        "colab": {}
      },
      "source": [
        "data = pd.read_csv(\"drive/My Drive/automobile_data_final.csv\")"
      ],
      "execution_count": 0,
      "outputs": []
    },
    {
      "cell_type": "code",
      "metadata": {
        "id": "LUNGG0vM2uVB",
        "colab_type": "code",
        "colab": {
          "base_uri": "https://localhost:8080/",
          "height": 34
        },
        "outputId": "40fdec33-549a-43a0-a107-b9ea1e90a66a"
      },
      "source": [
        "data.shape"
      ],
      "execution_count": 12,
      "outputs": [
        {
          "output_type": "execute_result",
          "data": {
            "text/plain": [
              "(159, 26)"
            ]
          },
          "metadata": {
            "tags": []
          },
          "execution_count": 12
        }
      ]
    },
    {
      "cell_type": "code",
      "metadata": {
        "id": "gEjtP1A52yKo",
        "colab_type": "code",
        "colab": {
          "base_uri": "https://localhost:8080/",
          "height": 224
        },
        "outputId": "11185226-7fd6-4e6d-b5f2-3ca01e76ce80"
      },
      "source": [
        "data.head()"
      ],
      "execution_count": 13,
      "outputs": [
        {
          "output_type": "execute_result",
          "data": {
            "text/html": [
              "<div>\n",
              "<style scoped>\n",
              "    .dataframe tbody tr th:only-of-type {\n",
              "        vertical-align: middle;\n",
              "    }\n",
              "\n",
              "    .dataframe tbody tr th {\n",
              "        vertical-align: top;\n",
              "    }\n",
              "\n",
              "    .dataframe thead th {\n",
              "        text-align: right;\n",
              "    }\n",
              "</style>\n",
              "<table border=\"1\" class=\"dataframe\">\n",
              "  <thead>\n",
              "    <tr style=\"text-align: right;\">\n",
              "      <th></th>\n",
              "      <th>symboling</th>\n",
              "      <th>normalized_losses</th>\n",
              "      <th>make</th>\n",
              "      <th>fuel_type</th>\n",
              "      <th>aspiration</th>\n",
              "      <th>num_of_doors</th>\n",
              "      <th>body_style</th>\n",
              "      <th>drive_wheels</th>\n",
              "      <th>engine_location</th>\n",
              "      <th>wheel_base</th>\n",
              "      <th>length</th>\n",
              "      <th>width</th>\n",
              "      <th>height</th>\n",
              "      <th>curb_weight</th>\n",
              "      <th>engine_type</th>\n",
              "      <th>num_of_cylinders</th>\n",
              "      <th>engine_size</th>\n",
              "      <th>fuel_system</th>\n",
              "      <th>bore</th>\n",
              "      <th>stroke</th>\n",
              "      <th>compression_ratio</th>\n",
              "      <th>horsepower</th>\n",
              "      <th>peak_rpm</th>\n",
              "      <th>city_mpg</th>\n",
              "      <th>highway_mpg</th>\n",
              "      <th>price</th>\n",
              "    </tr>\n",
              "  </thead>\n",
              "  <tbody>\n",
              "    <tr>\n",
              "      <th>0</th>\n",
              "      <td>2</td>\n",
              "      <td>164</td>\n",
              "      <td>audi</td>\n",
              "      <td>gas</td>\n",
              "      <td>std</td>\n",
              "      <td>four</td>\n",
              "      <td>sedan</td>\n",
              "      <td>fwd</td>\n",
              "      <td>front</td>\n",
              "      <td>99.8</td>\n",
              "      <td>176.6</td>\n",
              "      <td>66.2</td>\n",
              "      <td>54.3</td>\n",
              "      <td>2337</td>\n",
              "      <td>ohc</td>\n",
              "      <td>four</td>\n",
              "      <td>109</td>\n",
              "      <td>mpfi</td>\n",
              "      <td>3.19</td>\n",
              "      <td>3.4</td>\n",
              "      <td>10.0</td>\n",
              "      <td>102</td>\n",
              "      <td>5500</td>\n",
              "      <td>24</td>\n",
              "      <td>30</td>\n",
              "      <td>13950</td>\n",
              "    </tr>\n",
              "    <tr>\n",
              "      <th>1</th>\n",
              "      <td>2</td>\n",
              "      <td>164</td>\n",
              "      <td>audi</td>\n",
              "      <td>gas</td>\n",
              "      <td>std</td>\n",
              "      <td>four</td>\n",
              "      <td>sedan</td>\n",
              "      <td>4wd</td>\n",
              "      <td>front</td>\n",
              "      <td>99.4</td>\n",
              "      <td>176.6</td>\n",
              "      <td>66.4</td>\n",
              "      <td>54.3</td>\n",
              "      <td>2824</td>\n",
              "      <td>ohc</td>\n",
              "      <td>five</td>\n",
              "      <td>136</td>\n",
              "      <td>mpfi</td>\n",
              "      <td>3.19</td>\n",
              "      <td>3.4</td>\n",
              "      <td>8.0</td>\n",
              "      <td>115</td>\n",
              "      <td>5500</td>\n",
              "      <td>18</td>\n",
              "      <td>22</td>\n",
              "      <td>17450</td>\n",
              "    </tr>\n",
              "    <tr>\n",
              "      <th>2</th>\n",
              "      <td>1</td>\n",
              "      <td>158</td>\n",
              "      <td>audi</td>\n",
              "      <td>gas</td>\n",
              "      <td>std</td>\n",
              "      <td>four</td>\n",
              "      <td>sedan</td>\n",
              "      <td>fwd</td>\n",
              "      <td>front</td>\n",
              "      <td>105.8</td>\n",
              "      <td>192.7</td>\n",
              "      <td>71.4</td>\n",
              "      <td>55.7</td>\n",
              "      <td>2844</td>\n",
              "      <td>ohc</td>\n",
              "      <td>five</td>\n",
              "      <td>136</td>\n",
              "      <td>mpfi</td>\n",
              "      <td>3.19</td>\n",
              "      <td>3.4</td>\n",
              "      <td>8.5</td>\n",
              "      <td>110</td>\n",
              "      <td>5500</td>\n",
              "      <td>19</td>\n",
              "      <td>25</td>\n",
              "      <td>17710</td>\n",
              "    </tr>\n",
              "    <tr>\n",
              "      <th>3</th>\n",
              "      <td>1</td>\n",
              "      <td>158</td>\n",
              "      <td>audi</td>\n",
              "      <td>gas</td>\n",
              "      <td>turbo</td>\n",
              "      <td>four</td>\n",
              "      <td>sedan</td>\n",
              "      <td>fwd</td>\n",
              "      <td>front</td>\n",
              "      <td>105.8</td>\n",
              "      <td>192.7</td>\n",
              "      <td>71.4</td>\n",
              "      <td>55.9</td>\n",
              "      <td>3086</td>\n",
              "      <td>ohc</td>\n",
              "      <td>five</td>\n",
              "      <td>131</td>\n",
              "      <td>mpfi</td>\n",
              "      <td>3.13</td>\n",
              "      <td>3.4</td>\n",
              "      <td>8.3</td>\n",
              "      <td>140</td>\n",
              "      <td>5500</td>\n",
              "      <td>17</td>\n",
              "      <td>20</td>\n",
              "      <td>23875</td>\n",
              "    </tr>\n",
              "    <tr>\n",
              "      <th>4</th>\n",
              "      <td>2</td>\n",
              "      <td>192</td>\n",
              "      <td>bmw</td>\n",
              "      <td>gas</td>\n",
              "      <td>std</td>\n",
              "      <td>two</td>\n",
              "      <td>sedan</td>\n",
              "      <td>rwd</td>\n",
              "      <td>front</td>\n",
              "      <td>101.2</td>\n",
              "      <td>176.8</td>\n",
              "      <td>64.8</td>\n",
              "      <td>54.3</td>\n",
              "      <td>2395</td>\n",
              "      <td>ohc</td>\n",
              "      <td>four</td>\n",
              "      <td>108</td>\n",
              "      <td>mpfi</td>\n",
              "      <td>3.50</td>\n",
              "      <td>2.8</td>\n",
              "      <td>8.8</td>\n",
              "      <td>101</td>\n",
              "      <td>5800</td>\n",
              "      <td>23</td>\n",
              "      <td>29</td>\n",
              "      <td>16430</td>\n",
              "    </tr>\n",
              "  </tbody>\n",
              "</table>\n",
              "</div>"
            ],
            "text/plain": [
              "   symboling  normalized_losses  make  ... city_mpg highway_mpg  price\n",
              "0          2                164  audi  ...       24          30  13950\n",
              "1          2                164  audi  ...       18          22  17450\n",
              "2          1                158  audi  ...       19          25  17710\n",
              "3          1                158  audi  ...       17          20  23875\n",
              "4          2                192   bmw  ...       23          29  16430\n",
              "\n",
              "[5 rows x 26 columns]"
            ]
          },
          "metadata": {
            "tags": []
          },
          "execution_count": 13
        }
      ]
    },
    {
      "cell_type": "code",
      "metadata": {
        "id": "IwFX6t722_kx",
        "colab_type": "code",
        "colab": {
          "base_uri": "https://localhost:8080/",
          "height": 578
        },
        "outputId": "db3ff7c6-8456-45f1-e16e-6c61c2e207ce"
      },
      "source": [
        "data.info()"
      ],
      "execution_count": 14,
      "outputs": [
        {
          "output_type": "stream",
          "text": [
            "<class 'pandas.core.frame.DataFrame'>\n",
            "RangeIndex: 159 entries, 0 to 158\n",
            "Data columns (total 26 columns):\n",
            " #   Column             Non-Null Count  Dtype  \n",
            "---  ------             --------------  -----  \n",
            " 0   symboling          159 non-null    int64  \n",
            " 1   normalized_losses  159 non-null    int64  \n",
            " 2   make               159 non-null    object \n",
            " 3   fuel_type          159 non-null    object \n",
            " 4   aspiration         159 non-null    object \n",
            " 5   num_of_doors       159 non-null    object \n",
            " 6   body_style         159 non-null    object \n",
            " 7   drive_wheels       159 non-null    object \n",
            " 8   engine_location    159 non-null    object \n",
            " 9   wheel_base         159 non-null    float64\n",
            " 10  length             159 non-null    float64\n",
            " 11  width              159 non-null    float64\n",
            " 12  height             159 non-null    float64\n",
            " 13  curb_weight        159 non-null    int64  \n",
            " 14  engine_type        159 non-null    object \n",
            " 15  num_of_cylinders   159 non-null    object \n",
            " 16  engine_size        159 non-null    int64  \n",
            " 17  fuel_system        159 non-null    object \n",
            " 18  bore               159 non-null    float64\n",
            " 19  stroke             159 non-null    float64\n",
            " 20  compression_ratio  159 non-null    float64\n",
            " 21  horsepower         159 non-null    int64  \n",
            " 22  peak_rpm           159 non-null    int64  \n",
            " 23  city_mpg           159 non-null    int64  \n",
            " 24  highway_mpg        159 non-null    int64  \n",
            " 25  price              159 non-null    int64  \n",
            "dtypes: float64(7), int64(9), object(10)\n",
            "memory usage: 32.4+ KB\n"
          ],
          "name": "stdout"
        }
      ]
    },
    {
      "cell_type": "code",
      "metadata": {
        "id": "OBRQFFdv3ErQ",
        "colab_type": "code",
        "colab": {
          "base_uri": "https://localhost:8080/",
          "height": 476
        },
        "outputId": "a4f9ebe8-aff0-445d-d2dd-ed74ecca27e3"
      },
      "source": [
        "data.isnull().sum()"
      ],
      "execution_count": 15,
      "outputs": [
        {
          "output_type": "execute_result",
          "data": {
            "text/plain": [
              "symboling            0\n",
              "normalized_losses    0\n",
              "make                 0\n",
              "fuel_type            0\n",
              "aspiration           0\n",
              "num_of_doors         0\n",
              "body_style           0\n",
              "drive_wheels         0\n",
              "engine_location      0\n",
              "wheel_base           0\n",
              "length               0\n",
              "width                0\n",
              "height               0\n",
              "curb_weight          0\n",
              "engine_type          0\n",
              "num_of_cylinders     0\n",
              "engine_size          0\n",
              "fuel_system          0\n",
              "bore                 0\n",
              "stroke               0\n",
              "compression_ratio    0\n",
              "horsepower           0\n",
              "peak_rpm             0\n",
              "city_mpg             0\n",
              "highway_mpg          0\n",
              "price                0\n",
              "dtype: int64"
            ]
          },
          "metadata": {
            "tags": []
          },
          "execution_count": 15
        }
      ]
    },
    {
      "cell_type": "code",
      "metadata": {
        "id": "kcxjgDaq3J4y",
        "colab_type": "code",
        "colab": {
          "base_uri": "https://localhost:8080/",
          "height": 433
        },
        "outputId": "42576677-39a3-46d2-d004-aae50091390d"
      },
      "source": [
        "data.make.value_counts().plot(kind='bar', figsize=(15,5))\n",
        "\n",
        "plt.title(\"Number of vehicles by make\")\n",
        "plt.ylabel(\"Number of vehicles\")\n",
        "plt.xlabel(\"Make\")"
      ],
      "execution_count": 16,
      "outputs": [
        {
          "output_type": "execute_result",
          "data": {
            "text/plain": [
              "Text(0.5, 0, 'Make')"
            ]
          },
          "metadata": {
            "tags": []
          },
          "execution_count": 16
        },
        {
          "output_type": "display_data",
          "data": {
            "image/png": "[encoded data removed]",
            "text/plain": [
              "<Figure size 1080x360 with 1 Axes>"
            ]
          },
          "metadata": {
            "tags": [],
            "needs_background": "light"
          }
        }
      ]
    },
    {
      "cell_type": "code",
      "metadata": {
        "id": "W4LB9yst33n4",
        "colab_type": "code",
        "colab": {
          "base_uri": "https://localhost:8080/",
          "height": 688
        },
        "outputId": "f37d8757-f71b-4963-8f06-65879c618a10"
      },
      "source": [
        "sns.lmplot('city_mpg','curb_weight',\n",
        "           data, hue = 'make',\n",
        "           fit_reg = False)"
      ],
      "execution_count": 19,
      "outputs": [
        {
          "output_type": "error",
          "ename": "IndexError",
          "evalue": "ignored",
          "traceback": [
            "\u001b[0;31m---------------------------------------------------------------------------\u001b[0m",
            "\u001b[0;31mIndexError\u001b[0m                                Traceback (most recent call last)",
            "\u001b[0;32m<ipython-input-19-12d575786e78>\u001b[0m in \u001b[0;36m<module>\u001b[0;34m()\u001b[0m\n\u001b[1;32m      1\u001b[0m sns.lmplot('city_mpg','curb_weight',\n\u001b[1;32m      2\u001b[0m            \u001b[0mdata\u001b[0m\u001b[0;34m,\u001b[0m \u001b[0mhue\u001b[0m \u001b[0;34m=\u001b[0m \u001b[0;34m'make'\u001b[0m\u001b[0;34m,\u001b[0m\u001b[0;34m\u001b[0m\u001b[0;34m\u001b[0m\u001b[0m\n\u001b[0;32m----> 3\u001b[0;31m            fit_reg = False)\n\u001b[0m",
            "\u001b[0;32m/usr/local/lib/python3.6/dist-packages/seaborn/regression.py\u001b[0m in \u001b[0;36mlmplot\u001b[0;34m(x, y, data, hue, col, row, palette, col_wrap, height, aspect, markers, sharex, sharey, hue_order, col_order, row_order, legend, legend_out, x_estimator, x_bins, x_ci, scatter, fit_reg, ci, n_boot, units, seed, order, logistic, lowess, robust, logx, x_partial, y_partial, truncate, x_jitter, y_jitter, scatter_kws, line_kws, size)\u001b[0m\n\u001b[1;32m    615\u001b[0m         \u001b[0mscatter_kws\u001b[0m\u001b[0;34m=\u001b[0m\u001b[0mscatter_kws\u001b[0m\u001b[0;34m,\u001b[0m \u001b[0mline_kws\u001b[0m\u001b[0;34m=\u001b[0m\u001b[0mline_kws\u001b[0m\u001b[0;34m,\u001b[0m\u001b[0;34m\u001b[0m\u001b[0;34m\u001b[0m\u001b[0m\n\u001b[1;32m    616\u001b[0m         )\n\u001b[0;32m--> 617\u001b[0;31m     \u001b[0mfacets\u001b[0m\u001b[0;34m.\u001b[0m\u001b[0mmap_dataframe\u001b[0m\u001b[0;34m(\u001b[0m\u001b[0mregplot\u001b[0m\u001b[0;34m,\u001b[0m \u001b[0mx\u001b[0m\u001b[0;34m,\u001b[0m \u001b[0my\u001b[0m\u001b[0;34m,\u001b[0m \u001b[0;34m**\u001b[0m\u001b[0mregplot_kws\u001b[0m\u001b[0;34m)\u001b[0m\u001b[0;34m\u001b[0m\u001b[0;34m\u001b[0m\u001b[0m\n\u001b[0m\u001b[1;32m    618\u001b[0m \u001b[0;34m\u001b[0m\u001b[0m\n\u001b[1;32m    619\u001b[0m     \u001b[0;31m# Add a legend\u001b[0m\u001b[0;34m\u001b[0m\u001b[0;34m\u001b[0m\u001b[0;34m\u001b[0m\u001b[0m\n",
            "\u001b[0;32m/usr/local/lib/python3.6/dist-packages/seaborn/axisgrid.py\u001b[0m in \u001b[0;36mmap_dataframe\u001b[0;34m(self, func, *args, **kwargs)\u001b[0m\n\u001b[1;32m    831\u001b[0m \u001b[0;34m\u001b[0m\u001b[0m\n\u001b[1;32m    832\u001b[0m             \u001b[0;31m# Draw the plot\u001b[0m\u001b[0;34m\u001b[0m\u001b[0;34m\u001b[0m\u001b[0;34m\u001b[0m\u001b[0m\n\u001b[0;32m--> 833\u001b[0;31m             \u001b[0mself\u001b[0m\u001b[0;34m.\u001b[0m\u001b[0m_facet_plot\u001b[0m\u001b[0;34m(\u001b[0m\u001b[0mfunc\u001b[0m\u001b[0;34m,\u001b[0m \u001b[0max\u001b[0m\u001b[0;34m,\u001b[0m \u001b[0margs\u001b[0m\u001b[0;34m,\u001b[0m \u001b[0mkwargs\u001b[0m\u001b[0;34m)\u001b[0m\u001b[0;34m\u001b[0m\u001b[0;34m\u001b[0m\u001b[0m\n\u001b[0m\u001b[1;32m    834\u001b[0m \u001b[0;34m\u001b[0m\u001b[0m\n\u001b[1;32m    835\u001b[0m         \u001b[0;31m# Finalize the annotations and layout\u001b[0m\u001b[0;34m\u001b[0m\u001b[0;34m\u001b[0m\u001b[0;34m\u001b[0m\u001b[0m\n",
            "\u001b[0;32m/usr/local/lib/python3.6/dist-packages/seaborn/axisgrid.py\u001b[0m in \u001b[0;36m_facet_plot\u001b[0;34m(self, func, ax, plot_args, plot_kwargs)\u001b[0m\n\u001b[1;32m    849\u001b[0m \u001b[0;34m\u001b[0m\u001b[0m\n\u001b[1;32m    850\u001b[0m         \u001b[0;31m# Draw the plot\u001b[0m\u001b[0;34m\u001b[0m\u001b[0;34m\u001b[0m\u001b[0;34m\u001b[0m\u001b[0m\n\u001b[0;32m--> 851\u001b[0;31m         \u001b[0mfunc\u001b[0m\u001b[0;34m(\u001b[0m\u001b[0;34m*\u001b[0m\u001b[0mplot_args\u001b[0m\u001b[0;34m,\u001b[0m \u001b[0;34m**\u001b[0m\u001b[0mplot_kwargs\u001b[0m\u001b[0;34m)\u001b[0m\u001b[0;34m\u001b[0m\u001b[0;34m\u001b[0m\u001b[0m\n\u001b[0m\u001b[1;32m    852\u001b[0m \u001b[0;34m\u001b[0m\u001b[0m\n\u001b[1;32m    853\u001b[0m         \u001b[0;31m# Sort out the supporting information\u001b[0m\u001b[0;34m\u001b[0m\u001b[0;34m\u001b[0m\u001b[0;34m\u001b[0m\u001b[0m\n",
            "\u001b[0;32m/usr/local/lib/python3.6/dist-packages/seaborn/regression.py\u001b[0m in \u001b[0;36mregplot\u001b[0;34m(x, y, data, x_estimator, x_bins, x_ci, scatter, fit_reg, ci, n_boot, units, seed, order, logistic, lowess, robust, logx, x_partial, y_partial, truncate, dropna, x_jitter, y_jitter, label, color, marker, scatter_kws, line_kws, ax)\u001b[0m\n\u001b[1;32m    808\u001b[0m                                  \u001b[0morder\u001b[0m\u001b[0;34m,\u001b[0m \u001b[0mlogistic\u001b[0m\u001b[0;34m,\u001b[0m \u001b[0mlowess\u001b[0m\u001b[0;34m,\u001b[0m \u001b[0mrobust\u001b[0m\u001b[0;34m,\u001b[0m \u001b[0mlogx\u001b[0m\u001b[0;34m,\u001b[0m\u001b[0;34m\u001b[0m\u001b[0;34m\u001b[0m\u001b[0m\n\u001b[1;32m    809\u001b[0m                                  \u001b[0mx_partial\u001b[0m\u001b[0;34m,\u001b[0m \u001b[0my_partial\u001b[0m\u001b[0;34m,\u001b[0m \u001b[0mtruncate\u001b[0m\u001b[0;34m,\u001b[0m \u001b[0mdropna\u001b[0m\u001b[0;34m,\u001b[0m\u001b[0;34m\u001b[0m\u001b[0;34m\u001b[0m\u001b[0m\n\u001b[0;32m--> 810\u001b[0;31m                                  x_jitter, y_jitter, color, label)\n\u001b[0m\u001b[1;32m    811\u001b[0m \u001b[0;34m\u001b[0m\u001b[0m\n\u001b[1;32m    812\u001b[0m     \u001b[0;32mif\u001b[0m \u001b[0max\u001b[0m \u001b[0;32mis\u001b[0m \u001b[0;32mNone\u001b[0m\u001b[0;34m:\u001b[0m\u001b[0;34m\u001b[0m\u001b[0;34m\u001b[0m\u001b[0m\n",
            "\u001b[0;32m/usr/local/lib/python3.6/dist-packages/seaborn/regression.py\u001b[0m in \u001b[0;36m__init__\u001b[0;34m(self, x, y, data, x_estimator, x_bins, x_ci, scatter, fit_reg, ci, n_boot, units, seed, order, logistic, lowess, robust, logx, x_partial, y_partial, truncate, dropna, x_jitter, y_jitter, color, label)\u001b[0m\n\u001b[1;32m    112\u001b[0m         \u001b[0;31m# Drop null observations\u001b[0m\u001b[0;34m\u001b[0m\u001b[0;34m\u001b[0m\u001b[0;34m\u001b[0m\u001b[0m\n\u001b[1;32m    113\u001b[0m         \u001b[0;32mif\u001b[0m \u001b[0mdropna\u001b[0m\u001b[0;34m:\u001b[0m\u001b[0;34m\u001b[0m\u001b[0;34m\u001b[0m\u001b[0m\n\u001b[0;32m--> 114\u001b[0;31m             \u001b[0mself\u001b[0m\u001b[0;34m.\u001b[0m\u001b[0mdropna\u001b[0m\u001b[0;34m(\u001b[0m\u001b[0;34m\"x\"\u001b[0m\u001b[0;34m,\u001b[0m \u001b[0;34m\"y\"\u001b[0m\u001b[0;34m,\u001b[0m \u001b[0;34m\"units\"\u001b[0m\u001b[0;34m,\u001b[0m \u001b[0;34m\"x_partial\"\u001b[0m\u001b[0;34m,\u001b[0m \u001b[0;34m\"y_partial\"\u001b[0m\u001b[0;34m)\u001b[0m\u001b[0;34m\u001b[0m\u001b[0;34m\u001b[0m\u001b[0m\n\u001b[0m\u001b[1;32m    115\u001b[0m \u001b[0;34m\u001b[0m\u001b[0m\n\u001b[1;32m    116\u001b[0m         \u001b[0;31m# Regress nuisance variables out of the data\u001b[0m\u001b[0;34m\u001b[0m\u001b[0;34m\u001b[0m\u001b[0;34m\u001b[0m\u001b[0m\n",
            "\u001b[0;32m/usr/local/lib/python3.6/dist-packages/seaborn/regression.py\u001b[0m in \u001b[0;36mdropna\u001b[0;34m(self, *vars)\u001b[0m\n\u001b[1;32m     64\u001b[0m             \u001b[0mval\u001b[0m \u001b[0;34m=\u001b[0m \u001b[0mgetattr\u001b[0m\u001b[0;34m(\u001b[0m\u001b[0mself\u001b[0m\u001b[0;34m,\u001b[0m \u001b[0mvar\u001b[0m\u001b[0;34m)\u001b[0m\u001b[0;34m\u001b[0m\u001b[0;34m\u001b[0m\u001b[0m\n\u001b[1;32m     65\u001b[0m             \u001b[0;32mif\u001b[0m \u001b[0mval\u001b[0m \u001b[0;32mis\u001b[0m \u001b[0;32mnot\u001b[0m \u001b[0;32mNone\u001b[0m\u001b[0;34m:\u001b[0m\u001b[0;34m\u001b[0m\u001b[0;34m\u001b[0m\u001b[0m\n\u001b[0;32m---> 66\u001b[0;31m                 \u001b[0msetattr\u001b[0m\u001b[0;34m(\u001b[0m\u001b[0mself\u001b[0m\u001b[0;34m,\u001b[0m \u001b[0mvar\u001b[0m\u001b[0;34m,\u001b[0m \u001b[0mval\u001b[0m\u001b[0;34m[\u001b[0m\u001b[0mnot_na\u001b[0m\u001b[0;34m]\u001b[0m\u001b[0;34m)\u001b[0m\u001b[0;34m\u001b[0m\u001b[0;34m\u001b[0m\u001b[0m\n\u001b[0m\u001b[1;32m     67\u001b[0m \u001b[0;34m\u001b[0m\u001b[0m\n\u001b[1;32m     68\u001b[0m     \u001b[0;32mdef\u001b[0m \u001b[0mplot\u001b[0m\u001b[0;34m(\u001b[0m\u001b[0mself\u001b[0m\u001b[0;34m,\u001b[0m \u001b[0max\u001b[0m\u001b[0;34m)\u001b[0m\u001b[0;34m:\u001b[0m\u001b[0;34m\u001b[0m\u001b[0;34m\u001b[0m\u001b[0m\n",
            "\u001b[0;31mIndexError\u001b[0m: invalid index to scalar variable."
          ]
        },
        {
          "output_type": "display_data",
          "data": {
            "image/png": "[encoded data removed]",
            "text/plain": [
              "<Figure size 360x360 with 1 Axes>"
            ]
          },
          "metadata": {
            "tags": [],
            "needs_background": "light"
          }
        }
      ]
    },
    {
      "cell_type": "code",
      "metadata": {
        "id": "bedS9jN54IhM",
        "colab_type": "code",
        "colab": {}
      },
      "source": [
        "import altair as alt"
      ],
      "execution_count": 0,
      "outputs": []
    },
    {
      "cell_type": "code",
      "metadata": {
        "id": "WRw2sh9x4daf",
        "colab_type": "code",
        "colab": {}
      },
      "source": [
        "plot = alt.Chart(data).mark_point().encode(\n",
        "    x = 'horsepower',\n",
        "    y = 'city_mpg',\n",
        "    color = \"body_style\").interactive()"
      ],
      "execution_count": 0,
      "outputs": []
    },
    {
      "cell_type": "code",
      "metadata": {
        "id": "0ASgkAXu44nN",
        "colab_type": "code",
        "colab": {
          "base_uri": "https://localhost:8080/",
          "height": 368
        },
        "outputId": "ec70000b-9cda-49f7-f8fa-eaa3765805c9"
      },
      "source": [
        "plot"
      ],
      "execution_count": 22,
      "outputs": [
        {
          "output_type": "execute_result",
          "data": {
            "text/plain": [
              "alt.Chart(...)"
            ],
            "text/html": [
              "\n",
              "<div id=\"altair-viz-79a5b15f2f5c4459a2dac6a8d2722404\"></div>\n",
              "<script type=\"text/javascript\">\n",
              "  (function(spec, embedOpt){\n",
              "    let outputDiv = document.currentScript.previousElementSibling;\n",
              "    if (outputDiv.id !== \"altair-viz-79a5b15f2f5c4459a2dac6a8d2722404\") {\n",
              "      outputDiv = document.getElementById(\"altair-viz-79a5b15f2f5c4459a2dac6a8d2722404\");\n",
              "    }\n",
              "    const paths = {\n",
              "      \"vega\": \"https://cdn.jsdelivr.net/npm//vega@5?noext\",\n",
              "      \"vega-lib\": \"https://cdn.jsdelivr.net/npm//vega-lib?noext\",\n",
              "      \"vega-lite\": \"https://cdn.jsdelivr.net/npm//vega-lite@4.8.1?noext\",\n",
              "      \"vega-embed\": \"https://cdn.jsdelivr.net/npm//vega-embed@6?noext\",\n",
              "    };\n",
              "\n",
              "    function loadScript(lib) {\n",
              "      return new Promise(function(resolve, reject) {\n",
              "        var s = document.createElement('script');\n",
              "        s.src = paths[lib];\n",
              "        s.async = true;\n",
              "        s.onload = () => resolve(paths[lib]);\n",
              "        s.onerror = () => reject(`Error loading script: ${paths[lib]}`);\n",
              "        document.getElementsByTagName(\"head\")[0].appendChild(s);\n",
              "      });\n",
              "    }\n",
              "\n",
              "    function showError(err) {\n",
              "      outputDiv.innerHTML = `<div class=\"error\" style=\"color:red;\">${err}</div>`;\n",
              "      throw err;\n",
              "    }\n",
              "\n",
              "    function displayChart(vegaEmbed) {\n",
              "      vegaEmbed(outputDiv, spec, embedOpt)\n",
              "        .catch(err => showError(`Javascript Error: ${err.message}<br>This usually means there's a typo in your chart specification. See the javascript console for the full traceback.`));\n",
              "    }\n",
              "\n",
              "    if(typeof define === \"function\" && define.amd) {\n",
              "      requirejs.config({paths});\n",
              "      require([\"vega-embed\"], displayChart, err => showError(`Error loading script: ${err.message}`));\n",
              "    } else if (typeof vegaEmbed === \"function\") {\n",
              "      displayChart(vegaEmbed);\n",
              "    } else {\n",
              "      loadScript(\"vega\")\n",
              "        .then(() => loadScript(\"vega-lite\"))\n",
              "        .then(() => loadScript(\"vega-embed\"))\n",
              "        .catch(showError)\n",
              "        .then(() => displayChart(vegaEmbed));\n",
              "    }\n",
              "  })({\"config\": {\"view\": {\"continuousWidth\": 400, \"continuousHeight\": 300}}, \"data\": {\"name\": \"data-056ead70445dac3c386cebe1cf7db4b2\"}, \"mark\": \"point\", \"encoding\": {\"color\": {\"type\": \"nominal\", \"field\": \"body_style\"}, \"x\": {\"type\": \"quantitative\", \"field\": \"horsepower\"}, \"y\": {\"type\": \"quantitative\", \"field\": \"city_mpg\"}}, \"selection\": {\"selector001\": {\"type\": \"interval\", \"bind\": \"scales\", \"encodings\": [\"x\", \"y\"]}}, \"$schema\": \"https://vega.github.io/schema/vega-lite/v4.8.1.json\", \"datasets\": {\"data-056ead70445dac3c386cebe1cf7db4b2\": [{\"symboling\": 2, \"normalized_losses\": 164, \"make\": \"audi\", \"fuel_type\": \"gas\", \"aspiration\": \"std\", \"num_of_doors\": \"four\", \"body_style\": \"sedan\", \"drive_wheels\": \"fwd\", \"engine_location\": \"front\", \"wheel_base\": 99.8, \"length\": 176.6, \"width\": 66.2, \"height\": 54.3, \"curb_weight\": 2337, \"engine_type\": \"ohc\", \"num_of_cylinders\": \"four\", \"engine_size\": 109, \"fuel_system\": \"mpfi\", \"bore\": 3.19, \"stroke\": 3.4, \"compression_ratio\": 10.0, \"horsepower\": 102, \"peak_rpm\": 5500, \"city_mpg\": 24, \"highway_mpg\": 30, \"price\": 13950}, {\"symboling\": 2, \"normalized_losses\": 164, \"make\": \"audi\", \"fuel_type\": \"gas\", \"aspiration\": \"std\", \"num_of_doors\": \"four\", \"body_style\": \"sedan\", \"drive_wheels\": \"4wd\", \"engine_location\": \"front\", \"wheel_base\": 99.4, \"length\": 176.6, \"width\": 66.4, \"height\": 54.3, \"curb_weight\": 2824, \"engine_type\": \"ohc\", \"num_of_cylinders\": \"five\", \"engine_size\": 136, \"fuel_system\": \"mpfi\", \"bore\": 3.19, \"stroke\": 3.4, \"compression_ratio\": 8.0, \"horsepower\": 115, \"peak_rpm\": 5500, \"city_mpg\": 18, \"highway_mpg\": 22, \"price\": 17450}, {\"symboling\": 1, \"normalized_losses\": 158, \"make\": \"audi\", \"fuel_type\": \"gas\", \"aspiration\": \"std\", \"num_of_doors\": \"four\", \"body_style\": \"sedan\", \"drive_wheels\": \"fwd\", \"engine_location\": \"front\", \"wheel_base\": 105.8, \"length\": 192.7, \"width\": 71.4, \"height\": 55.7, \"curb_weight\": 2844, \"engine_type\": \"ohc\", \"num_of_cylinders\": \"five\", \"engine_size\": 136, \"fuel_system\": \"mpfi\", \"bore\": 3.19, \"stroke\": 3.4, \"compression_ratio\": 8.5, \"horsepower\": 110, \"peak_rpm\": 5500, \"city_mpg\": 19, \"highway_mpg\": 25, \"price\": 17710}, {\"symboling\": 1, \"normalized_losses\": 158, \"make\": \"audi\", \"fuel_type\": \"gas\", \"aspiration\": \"turbo\", \"num_of_doors\": \"four\", \"body_style\": \"sedan\", \"drive_wheels\": \"fwd\", \"engine_location\": \"front\", \"wheel_base\": 105.8, \"length\": 192.7, \"width\": 71.4, \"height\": 55.9, \"curb_weight\": 3086, \"engine_type\": \"ohc\", \"num_of_cylinders\": \"five\", \"engine_size\": 131, \"fuel_system\": \"mpfi\", \"bore\": 3.13, \"stroke\": 3.4, \"compression_ratio\": 8.3, \"horsepower\": 140, \"peak_rpm\": 5500, \"city_mpg\": 17, \"highway_mpg\": 20, \"price\": 23875}, {\"symboling\": 2, \"normalized_losses\": 192, \"make\": \"bmw\", \"fuel_type\": \"gas\", \"aspiration\": \"std\", \"num_of_doors\": \"two\", \"body_style\": \"sedan\", \"drive_wheels\": \"rwd\", \"engine_location\": \"front\", \"wheel_base\": 101.2, \"length\": 176.8, \"width\": 64.8, \"height\": 54.3, \"curb_weight\": 2395, \"engine_type\": \"ohc\", \"num_of_cylinders\": \"four\", \"engine_size\": 108, \"fuel_system\": \"mpfi\", \"bore\": 3.5, \"stroke\": 2.8, \"compression_ratio\": 8.8, \"horsepower\": 101, \"peak_rpm\": 5800, \"city_mpg\": 23, \"highway_mpg\": 29, \"price\": 16430}, {\"symboling\": 0, \"normalized_losses\": 192, \"make\": \"bmw\", \"fuel_type\": \"gas\", \"aspiration\": \"std\", \"num_of_doors\": \"four\", \"body_style\": \"sedan\", \"drive_wheels\": \"rwd\", \"engine_location\": \"front\", \"wheel_base\": 101.2, \"length\": 176.8, \"width\": 64.8, \"height\": 54.3, \"curb_weight\": 2395, \"engine_type\": \"ohc\", \"num_of_cylinders\": \"four\", \"engine_size\": 108, \"fuel_system\": \"mpfi\", \"bore\": 3.5, \"stroke\": 2.8, \"compression_ratio\": 8.8, \"horsepower\": 101, \"peak_rpm\": 5800, \"city_mpg\": 23, \"highway_mpg\": 29, \"price\": 16925}, {\"symboling\": 0, \"normalized_losses\": 188, \"make\": \"bmw\", \"fuel_type\": \"gas\", \"aspiration\": \"std\", \"num_of_doors\": \"two\", \"body_style\": \"sedan\", \"drive_wheels\": \"rwd\", \"engine_location\": \"front\", \"wheel_base\": 101.2, \"length\": 176.8, \"width\": 64.8, \"height\": 54.3, \"curb_weight\": 2710, \"engine_type\": \"ohc\", \"num_of_cylinders\": \"six\", \"engine_size\": 164, \"fuel_system\": \"mpfi\", \"bore\": 3.31, \"stroke\": 3.19, \"compression_ratio\": 9.0, \"horsepower\": 121, \"peak_rpm\": 4250, \"city_mpg\": 21, \"highway_mpg\": 28, \"price\": 20970}, {\"symboling\": 0, \"normalized_losses\": 188, \"make\": \"bmw\", \"fuel_type\": \"gas\", \"aspiration\": \"std\", \"num_of_doors\": \"four\", \"body_style\": \"sedan\", \"drive_wheels\": \"rwd\", \"engine_location\": \"front\", \"wheel_base\": 101.2, \"length\": 176.8, \"width\": 64.8, \"height\": 54.3, \"curb_weight\": 2765, \"engine_type\": \"ohc\", \"num_of_cylinders\": \"six\", \"engine_size\": 164, \"fuel_system\": \"mpfi\", \"bore\": 3.31, \"stroke\": 3.19, \"compression_ratio\": 9.0, \"horsepower\": 121, \"peak_rpm\": 4250, \"city_mpg\": 21, \"highway_mpg\": 28, \"price\": 21105}, {\"symboling\": 2, \"normalized_losses\": 121, \"make\": \"chevrolet\", \"fuel_type\": \"gas\", \"aspiration\": \"std\", \"num_of_doors\": \"two\", \"body_style\": \"hatchback\", \"drive_wheels\": \"fwd\", \"engine_location\": \"front\", \"wheel_base\": 88.4, \"length\": 141.1, \"width\": 60.3, \"height\": 53.2, \"curb_weight\": 1488, \"engine_type\": \"l\", \"num_of_cylinders\": \"three\", \"engine_size\": 61, \"fuel_system\": \"2bbl\", \"bore\": 2.91, \"stroke\": 3.03, \"compression_ratio\": 9.5, \"horsepower\": 48, \"peak_rpm\": 5100, \"city_mpg\": 47, \"highway_mpg\": 53, \"price\": 5151}, {\"symboling\": 1, \"normalized_losses\": 98, \"make\": \"chevrolet\", \"fuel_type\": \"gas\", \"aspiration\": \"std\", \"num_of_doors\": \"two\", \"body_style\": \"hatchback\", \"drive_wheels\": \"fwd\", \"engine_location\": \"front\", \"wheel_base\": 94.5, \"length\": 155.9, \"width\": 63.6, \"height\": 52.0, \"curb_weight\": 1874, \"engine_type\": \"ohc\", \"num_of_cylinders\": \"four\", \"engine_size\": 90, \"fuel_system\": \"2bbl\", \"bore\": 3.03, \"stroke\": 3.11, \"compression_ratio\": 9.6, \"horsepower\": 70, \"peak_rpm\": 5400, \"city_mpg\": 38, \"highway_mpg\": 43, \"price\": 6295}, {\"symboling\": 0, \"normalized_losses\": 81, \"make\": \"chevrolet\", \"fuel_type\": \"gas\", \"aspiration\": \"std\", \"num_of_doors\": \"four\", \"body_style\": \"sedan\", \"drive_wheels\": \"fwd\", \"engine_location\": \"front\", \"wheel_base\": 94.5, \"length\": 158.8, \"width\": 63.6, \"height\": 52.0, \"curb_weight\": 1909, \"engine_type\": \"ohc\", \"num_of_cylinders\": \"four\", \"engine_size\": 90, \"fuel_system\": \"2bbl\", \"bore\": 3.03, \"stroke\": 3.11, \"compression_ratio\": 9.6, \"horsepower\": 70, \"peak_rpm\": 5400, \"city_mpg\": 38, \"highway_mpg\": 43, \"price\": 6575}, {\"symboling\": 1, \"normalized_losses\": 118, \"make\": \"dodge\", \"fuel_type\": \"gas\", \"aspiration\": \"std\", \"num_of_doors\": \"two\", \"body_style\": \"hatchback\", \"drive_wheels\": \"fwd\", \"engine_location\": \"front\", \"wheel_base\": 93.7, \"length\": 157.3, \"width\": 63.8, \"height\": 50.8, \"curb_weight\": 1876, \"engine_type\": \"ohc\", \"num_of_cylinders\": \"four\", \"engine_size\": 90, \"fuel_system\": \"2bbl\", \"bore\": 2.97, \"stroke\": 3.23, \"compression_ratio\": 9.41, \"horsepower\": 68, \"peak_rpm\": 5500, \"city_mpg\": 37, \"highway_mpg\": 41, \"price\": 5572}, {\"symboling\": 1, \"normalized_losses\": 118, \"make\": \"dodge\", \"fuel_type\": \"gas\", \"aspiration\": \"std\", \"num_of_doors\": \"two\", \"body_style\": \"hatchback\", \"drive_wheels\": \"fwd\", \"engine_location\": \"front\", \"wheel_base\": 93.7, \"length\": 157.3, \"width\": 63.8, \"height\": 50.8, \"curb_weight\": 1876, \"engine_type\": \"ohc\", \"num_of_cylinders\": \"four\", \"engine_size\": 90, \"fuel_system\": \"2bbl\", \"bore\": 2.97, \"stroke\": 3.23, \"compression_ratio\": 9.4, \"horsepower\": 68, \"peak_rpm\": 5500, \"city_mpg\": 31, \"highway_mpg\": 38, \"price\": 6377}, {\"symboling\": 1, \"normalized_losses\": 118, \"make\": \"dodge\", \"fuel_type\": \"gas\", \"aspiration\": \"turbo\", \"num_of_doors\": \"two\", \"body_style\": \"hatchback\", \"drive_wheels\": \"fwd\", \"engine_location\": \"front\", \"wheel_base\": 93.7, \"length\": 157.3, \"width\": 63.8, \"height\": 50.8, \"curb_weight\": 2128, \"engine_type\": \"ohc\", \"num_of_cylinders\": \"four\", \"engine_size\": 98, \"fuel_system\": \"mpfi\", \"bore\": 3.03, \"stroke\": 3.39, \"compression_ratio\": 7.6, \"horsepower\": 102, \"peak_rpm\": 5500, \"city_mpg\": 24, \"highway_mpg\": 30, \"price\": 7957}, {\"symboling\": 1, \"normalized_losses\": 148, \"make\": \"dodge\", \"fuel_type\": \"gas\", \"aspiration\": \"std\", \"num_of_doors\": \"four\", \"body_style\": \"hatchback\", \"drive_wheels\": \"fwd\", \"engine_location\": \"front\", \"wheel_base\": 93.7, \"length\": 157.3, \"width\": 63.8, \"height\": 50.6, \"curb_weight\": 1967, \"engine_type\": \"ohc\", \"num_of_cylinders\": \"four\", \"engine_size\": 90, \"fuel_system\": \"2bbl\", \"bore\": 2.97, \"stroke\": 3.23, \"compression_ratio\": 9.4, \"horsepower\": 68, \"peak_rpm\": 5500, \"city_mpg\": 31, \"highway_mpg\": 38, \"price\": 6229}, {\"symboling\": 1, \"normalized_losses\": 148, \"make\": \"dodge\", \"fuel_type\": \"gas\", \"aspiration\": \"std\", \"num_of_doors\": \"four\", \"body_style\": \"sedan\", \"drive_wheels\": \"fwd\", \"engine_location\": \"front\", \"wheel_base\": 93.7, \"length\": 157.3, \"width\": 63.8, \"height\": 50.6, \"curb_weight\": 1989, \"engine_type\": \"ohc\", \"num_of_cylinders\": \"four\", \"engine_size\": 90, \"fuel_system\": \"2bbl\", \"bore\": 2.97, \"stroke\": 3.23, \"compression_ratio\": 9.4, \"horsepower\": 68, \"peak_rpm\": 5500, \"city_mpg\": 31, \"highway_mpg\": 38, \"price\": 6692}, {\"symboling\": 1, \"normalized_losses\": 148, \"make\": \"dodge\", \"fuel_type\": \"gas\", \"aspiration\": \"std\", \"num_of_doors\": \"four\", \"body_style\": \"sedan\", \"drive_wheels\": \"fwd\", \"engine_location\": \"front\", \"wheel_base\": 93.7, \"length\": 157.3, \"width\": 63.8, \"height\": 50.6, \"curb_weight\": 1989, \"engine_type\": \"ohc\", \"num_of_cylinders\": \"four\", \"engine_size\": 90, \"fuel_system\": \"2bbl\", \"bore\": 2.97, \"stroke\": 3.23, \"compression_ratio\": 9.4, \"horsepower\": 68, \"peak_rpm\": 5500, \"city_mpg\": 31, \"highway_mpg\": 38, \"price\": 7609}, {\"symboling\": -1, \"normalized_losses\": 110, \"make\": \"dodge\", \"fuel_type\": \"gas\", \"aspiration\": \"std\", \"num_of_doors\": \"four\", \"body_style\": \"wagon\", \"drive_wheels\": \"fwd\", \"engine_location\": \"front\", \"wheel_base\": 103.3, \"length\": 174.6, \"width\": 64.6, \"height\": 59.8, \"curb_weight\": 2535, \"engine_type\": \"ohc\", \"num_of_cylinders\": \"four\", \"engine_size\": 122, \"fuel_system\": \"2bbl\", \"bore\": 3.34, \"stroke\": 3.46, \"compression_ratio\": 8.5, \"horsepower\": 88, \"peak_rpm\": 5000, \"city_mpg\": 24, \"highway_mpg\": 30, \"price\": 8921}, {\"symboling\": 3, \"normalized_losses\": 145, \"make\": \"dodge\", \"fuel_type\": \"gas\", \"aspiration\": \"turbo\", \"num_of_doors\": \"two\", \"body_style\": \"hatchback\", \"drive_wheels\": \"fwd\", \"engine_location\": \"front\", \"wheel_base\": 95.9, \"length\": 173.2, \"width\": 66.3, \"height\": 50.2, \"curb_weight\": 2811, \"engine_type\": \"ohc\", \"num_of_cylinders\": \"four\", \"engine_size\": 156, \"fuel_system\": \"mfi\", \"bore\": 3.6, \"stroke\": 3.9, \"compression_ratio\": 7.0, \"horsepower\": 145, \"peak_rpm\": 5000, \"city_mpg\": 19, \"highway_mpg\": 24, \"price\": 12964}, {\"symboling\": 2, \"normalized_losses\": 137, \"make\": \"honda\", \"fuel_type\": \"gas\", \"aspiration\": \"std\", \"num_of_doors\": \"two\", \"body_style\": \"hatchback\", \"drive_wheels\": \"fwd\", \"engine_location\": \"front\", \"wheel_base\": 86.6, \"length\": 144.6, \"width\": 63.9, \"height\": 50.8, \"curb_weight\": 1713, \"engine_type\": \"ohc\", \"num_of_cylinders\": \"four\", \"engine_size\": 92, \"fuel_system\": \"1bbl\", \"bore\": 2.91, \"stroke\": 3.41, \"compression_ratio\": 9.6, \"horsepower\": 58, \"peak_rpm\": 4800, \"city_mpg\": 49, \"highway_mpg\": 54, \"price\": 6479}, {\"symboling\": 2, \"normalized_losses\": 137, \"make\": \"honda\", \"fuel_type\": \"gas\", \"aspiration\": \"std\", \"num_of_doors\": \"two\", \"body_style\": \"hatchback\", \"drive_wheels\": \"fwd\", \"engine_location\": \"front\", \"wheel_base\": 86.6, \"length\": 144.6, \"width\": 63.9, \"height\": 50.8, \"curb_weight\": 1819, \"engine_type\": \"ohc\", \"num_of_cylinders\": \"four\", \"engine_size\": 92, \"fuel_system\": \"1bbl\", \"bore\": 2.91, \"stroke\": 3.41, \"compression_ratio\": 9.2, \"horsepower\": 76, \"peak_rpm\": 6000, \"city_mpg\": 31, \"highway_mpg\": 38, \"price\": 6855}, {\"symboling\": 1, \"normalized_losses\": 101, \"make\": \"honda\", \"fuel_type\": \"gas\", \"aspiration\": \"std\", \"num_of_doors\": \"two\", \"body_style\": \"hatchback\", \"drive_wheels\": \"fwd\", \"engine_location\": \"front\", \"wheel_base\": 93.7, \"length\": 150.0, \"width\": 64.0, \"height\": 52.6, \"curb_weight\": 1837, \"engine_type\": \"ohc\", \"num_of_cylinders\": \"four\", \"engine_size\": 79, \"fuel_system\": \"1bbl\", \"bore\": 2.91, \"stroke\": 3.07, \"compression_ratio\": 10.1, \"horsepower\": 60, \"peak_rpm\": 5500, \"city_mpg\": 38, \"highway_mpg\": 42, \"price\": 5399}, {\"symboling\": 1, \"normalized_losses\": 101, \"make\": \"honda\", \"fuel_type\": \"gas\", \"aspiration\": \"std\", \"num_of_doors\": \"two\", \"body_style\": \"hatchback\", \"drive_wheels\": \"fwd\", \"engine_location\": \"front\", \"wheel_base\": 93.7, \"length\": 150.0, \"width\": 64.0, \"height\": 52.6, \"curb_weight\": 1940, \"engine_type\": \"ohc\", \"num_of_cylinders\": \"four\", \"engine_size\": 92, \"fuel_system\": \"1bbl\", \"bore\": 2.91, \"stroke\": 3.41, \"compression_ratio\": 9.2, \"horsepower\": 76, \"peak_rpm\": 6000, \"city_mpg\": 30, \"highway_mpg\": 34, \"price\": 6529}, {\"symboling\": 1, \"normalized_losses\": 101, \"make\": \"honda\", \"fuel_type\": \"gas\", \"aspiration\": \"std\", \"num_of_doors\": \"two\", \"body_style\": \"hatchback\", \"drive_wheels\": \"fwd\", \"engine_location\": \"front\", \"wheel_base\": 93.7, \"length\": 150.0, \"width\": 64.0, \"height\": 52.6, \"curb_weight\": 1956, \"engine_type\": \"ohc\", \"num_of_cylinders\": \"four\", \"engine_size\": 92, \"fuel_system\": \"1bbl\", \"bore\": 2.91, \"stroke\": 3.41, \"compression_ratio\": 9.2, \"horsepower\": 76, \"peak_rpm\": 6000, \"city_mpg\": 30, \"highway_mpg\": 34, \"price\": 7129}, {\"symboling\": 0, \"normalized_losses\": 110, \"make\": \"honda\", \"fuel_type\": \"gas\", \"aspiration\": \"std\", \"num_of_doors\": \"four\", \"body_style\": \"sedan\", \"drive_wheels\": \"fwd\", \"engine_location\": \"front\", \"wheel_base\": 96.5, \"length\": 163.4, \"width\": 64.0, \"height\": 54.5, \"curb_weight\": 2010, \"engine_type\": \"ohc\", \"num_of_cylinders\": \"four\", \"engine_size\": 92, \"fuel_system\": \"1bbl\", \"bore\": 2.91, \"stroke\": 3.41, \"compression_ratio\": 9.2, \"horsepower\": 76, \"peak_rpm\": 6000, \"city_mpg\": 30, \"highway_mpg\": 34, \"price\": 7295}, {\"symboling\": 0, \"normalized_losses\": 78, \"make\": \"honda\", \"fuel_type\": \"gas\", \"aspiration\": \"std\", \"num_of_doors\": \"four\", \"body_style\": \"wagon\", \"drive_wheels\": \"fwd\", \"engine_location\": \"front\", \"wheel_base\": 96.5, \"length\": 157.1, \"width\": 63.9, \"height\": 58.3, \"curb_weight\": 2024, \"engine_type\": \"ohc\", \"num_of_cylinders\": \"four\", \"engine_size\": 92, \"fuel_system\": \"1bbl\", \"bore\": 2.92, \"stroke\": 3.41, \"compression_ratio\": 9.2, \"horsepower\": 76, \"peak_rpm\": 6000, \"city_mpg\": 30, \"highway_mpg\": 34, \"price\": 7295}, {\"symboling\": 0, \"normalized_losses\": 106, \"make\": \"honda\", \"fuel_type\": \"gas\", \"aspiration\": \"std\", \"num_of_doors\": \"two\", \"body_style\": \"hatchback\", \"drive_wheels\": \"fwd\", \"engine_location\": \"front\", \"wheel_base\": 96.5, \"length\": 167.5, \"width\": 65.2, \"height\": 53.3, \"curb_weight\": 2236, \"engine_type\": \"ohc\", \"num_of_cylinders\": \"four\", \"engine_size\": 110, \"fuel_system\": \"1bbl\", \"bore\": 3.15, \"stroke\": 3.58, \"compression_ratio\": 9.0, \"horsepower\": 86, \"peak_rpm\": 5800, \"city_mpg\": 27, \"highway_mpg\": 33, \"price\": 7895}, {\"symboling\": 0, \"normalized_losses\": 106, \"make\": \"honda\", \"fuel_type\": \"gas\", \"aspiration\": \"std\", \"num_of_doors\": \"two\", \"body_style\": \"hatchback\", \"drive_wheels\": \"fwd\", \"engine_location\": \"front\", \"wheel_base\": 96.5, \"length\": 167.5, \"width\": 65.2, \"height\": 53.3, \"curb_weight\": 2289, \"engine_type\": \"ohc\", \"num_of_cylinders\": \"four\", \"engine_size\": 110, \"fuel_system\": \"1bbl\", \"bore\": 3.15, \"stroke\": 3.58, \"compression_ratio\": 9.0, \"horsepower\": 86, \"peak_rpm\": 5800, \"city_mpg\": 27, \"highway_mpg\": 33, \"price\": 9095}, {\"symboling\": 0, \"normalized_losses\": 85, \"make\": \"honda\", \"fuel_type\": \"gas\", \"aspiration\": \"std\", \"num_of_doors\": \"four\", \"body_style\": \"sedan\", \"drive_wheels\": \"fwd\", \"engine_location\": \"front\", \"wheel_base\": 96.5, \"length\": 175.4, \"width\": 65.2, \"height\": 54.1, \"curb_weight\": 2304, \"engine_type\": \"ohc\", \"num_of_cylinders\": \"four\", \"engine_size\": 110, \"fuel_system\": \"1bbl\", \"bore\": 3.15, \"stroke\": 3.58, \"compression_ratio\": 9.0, \"horsepower\": 86, \"peak_rpm\": 5800, \"city_mpg\": 27, \"highway_mpg\": 33, \"price\": 8845}, {\"symboling\": 0, \"normalized_losses\": 85, \"make\": \"honda\", \"fuel_type\": \"gas\", \"aspiration\": \"std\", \"num_of_doors\": \"four\", \"body_style\": \"sedan\", \"drive_wheels\": \"fwd\", \"engine_location\": \"front\", \"wheel_base\": 96.5, \"length\": 175.4, \"width\": 62.5, \"height\": 54.1, \"curb_weight\": 2372, \"engine_type\": \"ohc\", \"num_of_cylinders\": \"four\", \"engine_size\": 110, \"fuel_system\": \"1bbl\", \"bore\": 3.15, \"stroke\": 3.58, \"compression_ratio\": 9.0, \"horsepower\": 86, \"peak_rpm\": 5800, \"city_mpg\": 27, \"highway_mpg\": 33, \"price\": 10295}, {\"symboling\": 0, \"normalized_losses\": 85, \"make\": \"honda\", \"fuel_type\": \"gas\", \"aspiration\": \"std\", \"num_of_doors\": \"four\", \"body_style\": \"sedan\", \"drive_wheels\": \"fwd\", \"engine_location\": \"front\", \"wheel_base\": 96.5, \"length\": 175.4, \"width\": 65.2, \"height\": 54.1, \"curb_weight\": 2465, \"engine_type\": \"ohc\", \"num_of_cylinders\": \"four\", \"engine_size\": 110, \"fuel_system\": \"mpfi\", \"bore\": 3.15, \"stroke\": 3.58, \"compression_ratio\": 9.0, \"horsepower\": 101, \"peak_rpm\": 5800, \"city_mpg\": 24, \"highway_mpg\": 28, \"price\": 12945}, {\"symboling\": 1, \"normalized_losses\": 107, \"make\": \"honda\", \"fuel_type\": \"gas\", \"aspiration\": \"std\", \"num_of_doors\": \"two\", \"body_style\": \"sedan\", \"drive_wheels\": \"fwd\", \"engine_location\": \"front\", \"wheel_base\": 96.5, \"length\": 169.1, \"width\": 66.0, \"height\": 51.0, \"curb_weight\": 2293, \"engine_type\": \"ohc\", \"num_of_cylinders\": \"four\", \"engine_size\": 110, \"fuel_system\": \"2bbl\", \"bore\": 3.15, \"stroke\": 3.58, \"compression_ratio\": 9.1, \"horsepower\": 100, \"peak_rpm\": 5500, \"city_mpg\": 25, \"highway_mpg\": 31, \"price\": 10345}, {\"symboling\": 0, \"normalized_losses\": 145, \"make\": \"jaguar\", \"fuel_type\": \"gas\", \"aspiration\": \"std\", \"num_of_doors\": \"four\", \"body_style\": \"sedan\", \"drive_wheels\": \"rwd\", \"engine_location\": \"front\", \"wheel_base\": 113.0, \"length\": 199.6, \"width\": 69.6, \"height\": 52.8, \"curb_weight\": 4066, \"engine_type\": \"dohc\", \"num_of_cylinders\": \"six\", \"engine_size\": 258, \"fuel_system\": \"mpfi\", \"bore\": 3.63, \"stroke\": 4.17, \"compression_ratio\": 8.1, \"horsepower\": 176, \"peak_rpm\": 4750, \"city_mpg\": 15, \"highway_mpg\": 19, \"price\": 32250}, {\"symboling\": 1, \"normalized_losses\": 104, \"make\": \"mazda\", \"fuel_type\": \"gas\", \"aspiration\": \"std\", \"num_of_doors\": \"two\", \"body_style\": \"hatchback\", \"drive_wheels\": \"fwd\", \"engine_location\": \"front\", \"wheel_base\": 93.1, \"length\": 159.1, \"width\": 64.2, \"height\": 54.1, \"curb_weight\": 1890, \"engine_type\": \"ohc\", \"num_of_cylinders\": \"four\", \"engine_size\": 91, \"fuel_system\": \"2bbl\", \"bore\": 3.03, \"stroke\": 3.15, \"compression_ratio\": 9.0, \"horsepower\": 68, \"peak_rpm\": 5000, \"city_mpg\": 30, \"highway_mpg\": 31, \"price\": 5195}, {\"symboling\": 1, \"normalized_losses\": 104, \"make\": \"mazda\", \"fuel_type\": \"gas\", \"aspiration\": \"std\", \"num_of_doors\": \"two\", \"body_style\": \"hatchback\", \"drive_wheels\": \"fwd\", \"engine_location\": \"front\", \"wheel_base\": 93.1, \"length\": 159.1, \"width\": 64.2, \"height\": 54.1, \"curb_weight\": 1900, \"engine_type\": \"ohc\", \"num_of_cylinders\": \"four\", \"engine_size\": 91, \"fuel_system\": \"2bbl\", \"bore\": 3.03, \"stroke\": 3.15, \"compression_ratio\": 9.0, \"horsepower\": 68, \"peak_rpm\": 5000, \"city_mpg\": 31, \"highway_mpg\": 38, \"price\": 6095}, {\"symboling\": 1, \"normalized_losses\": 104, \"make\": \"mazda\", \"fuel_type\": \"gas\", \"aspiration\": \"std\", \"num_of_doors\": \"two\", \"body_style\": \"hatchback\", \"drive_wheels\": \"fwd\", \"engine_location\": \"front\", \"wheel_base\": 93.1, \"length\": 159.1, \"width\": 64.2, \"height\": 54.1, \"curb_weight\": 1905, \"engine_type\": \"ohc\", \"num_of_cylinders\": \"four\", \"engine_size\": 91, \"fuel_system\": \"2bbl\", \"bore\": 3.03, \"stroke\": 3.15, \"compression_ratio\": 9.0, \"horsepower\": 68, \"peak_rpm\": 5000, \"city_mpg\": 31, \"highway_mpg\": 38, \"price\": 6795}, {\"symboling\": 1, \"normalized_losses\": 113, \"make\": \"mazda\", \"fuel_type\": \"gas\", \"aspiration\": \"std\", \"num_of_doors\": \"four\", \"body_style\": \"sedan\", \"drive_wheels\": \"fwd\", \"engine_location\": \"front\", \"wheel_base\": 93.1, \"length\": 166.8, \"width\": 64.2, \"height\": 54.1, \"curb_weight\": 1945, \"engine_type\": \"ohc\", \"num_of_cylinders\": \"four\", \"engine_size\": 91, \"fuel_system\": \"2bbl\", \"bore\": 3.03, \"stroke\": 3.15, \"compression_ratio\": 9.0, \"horsepower\": 68, \"peak_rpm\": 5000, \"city_mpg\": 31, \"highway_mpg\": 38, \"price\": 6695}, {\"symboling\": 1, \"normalized_losses\": 113, \"make\": \"mazda\", \"fuel_type\": \"gas\", \"aspiration\": \"std\", \"num_of_doors\": \"four\", \"body_style\": \"sedan\", \"drive_wheels\": \"fwd\", \"engine_location\": \"front\", \"wheel_base\": 93.1, \"length\": 166.8, \"width\": 64.2, \"height\": 54.1, \"curb_weight\": 1950, \"engine_type\": \"ohc\", \"num_of_cylinders\": \"four\", \"engine_size\": 91, \"fuel_system\": \"2bbl\", \"bore\": 3.08, \"stroke\": 3.15, \"compression_ratio\": 9.0, \"horsepower\": 68, \"peak_rpm\": 5000, \"city_mpg\": 31, \"highway_mpg\": 38, \"price\": 7395}, {\"symboling\": 1, \"normalized_losses\": 129, \"make\": \"mazda\", \"fuel_type\": \"gas\", \"aspiration\": \"std\", \"num_of_doors\": \"two\", \"body_style\": \"hatchback\", \"drive_wheels\": \"fwd\", \"engine_location\": \"front\", \"wheel_base\": 98.8, \"length\": 177.8, \"width\": 66.5, \"height\": 53.7, \"curb_weight\": 2385, \"engine_type\": \"ohc\", \"num_of_cylinders\": \"four\", \"engine_size\": 122, \"fuel_system\": \"2bbl\", \"bore\": 3.39, \"stroke\": 3.39, \"compression_ratio\": 8.6, \"horsepower\": 84, \"peak_rpm\": 4800, \"city_mpg\": 26, \"highway_mpg\": 32, \"price\": 8845}, {\"symboling\": 0, \"normalized_losses\": 115, \"make\": \"mazda\", \"fuel_type\": \"gas\", \"aspiration\": \"std\", \"num_of_doors\": \"four\", \"body_style\": \"sedan\", \"drive_wheels\": \"fwd\", \"engine_location\": \"front\", \"wheel_base\": 98.8, \"length\": 177.8, \"width\": 66.5, \"height\": 55.5, \"curb_weight\": 2410, \"engine_type\": \"ohc\", \"num_of_cylinders\": \"four\", \"engine_size\": 122, \"fuel_system\": \"2bbl\", \"bore\": 3.39, \"stroke\": 3.39, \"compression_ratio\": 8.6, \"horsepower\": 84, \"peak_rpm\": 4800, \"city_mpg\": 26, \"highway_mpg\": 32, \"price\": 8495}, {\"symboling\": 1, \"normalized_losses\": 129, \"make\": \"mazda\", \"fuel_type\": \"gas\", \"aspiration\": \"std\", \"num_of_doors\": \"two\", \"body_style\": \"hatchback\", \"drive_wheels\": \"fwd\", \"engine_location\": \"front\", \"wheel_base\": 98.8, \"length\": 177.8, \"width\": 66.5, \"height\": 53.7, \"curb_weight\": 2385, \"engine_type\": \"ohc\", \"num_of_cylinders\": \"four\", \"engine_size\": 122, \"fuel_system\": \"2bbl\", \"bore\": 3.39, \"stroke\": 3.39, \"compression_ratio\": 8.6, \"horsepower\": 84, \"peak_rpm\": 4800, \"city_mpg\": 26, \"highway_mpg\": 32, \"price\": 10595}, {\"symboling\": 0, \"normalized_losses\": 115, \"make\": \"mazda\", \"fuel_type\": \"gas\", \"aspiration\": \"std\", \"num_of_doors\": \"four\", \"body_style\": \"sedan\", \"drive_wheels\": \"fwd\", \"engine_location\": \"front\", \"wheel_base\": 98.8, \"length\": 177.8, \"width\": 66.5, \"height\": 55.5, \"curb_weight\": 2410, \"engine_type\": \"ohc\", \"num_of_cylinders\": \"four\", \"engine_size\": 122, \"fuel_system\": \"2bbl\", \"bore\": 3.39, \"stroke\": 3.39, \"compression_ratio\": 8.6, \"horsepower\": 84, \"peak_rpm\": 4800, \"city_mpg\": 26, \"highway_mpg\": 32, \"price\": 10245}, {\"symboling\": 0, \"normalized_losses\": 115, \"make\": \"mazda\", \"fuel_type\": \"gas\", \"aspiration\": \"std\", \"num_of_doors\": \"four\", \"body_style\": \"hatchback\", \"drive_wheels\": \"fwd\", \"engine_location\": \"front\", \"wheel_base\": 98.8, \"length\": 177.8, \"width\": 66.5, \"height\": 55.5, \"curb_weight\": 2425, \"engine_type\": \"ohc\", \"num_of_cylinders\": \"four\", \"engine_size\": 122, \"fuel_system\": \"2bbl\", \"bore\": 3.39, \"stroke\": 3.39, \"compression_ratio\": 8.6, \"horsepower\": 84, \"peak_rpm\": 4800, \"city_mpg\": 26, \"highway_mpg\": 32, \"price\": 11245}, {\"symboling\": 0, \"normalized_losses\": 118, \"make\": \"mazda\", \"fuel_type\": \"gas\", \"aspiration\": \"std\", \"num_of_doors\": \"four\", \"body_style\": \"sedan\", \"drive_wheels\": \"rwd\", \"engine_location\": \"front\", \"wheel_base\": 104.9, \"length\": 175.0, \"width\": 66.1, \"height\": 54.4, \"curb_weight\": 2670, \"engine_type\": \"ohc\", \"num_of_cylinders\": \"four\", \"engine_size\": 140, \"fuel_system\": \"mpfi\", \"bore\": 3.76, \"stroke\": 3.16, \"compression_ratio\": 8.0, \"horsepower\": 120, \"peak_rpm\": 5000, \"city_mpg\": 19, \"highway_mpg\": 27, \"price\": 18280}, {\"symboling\": -1, \"normalized_losses\": 93, \"make\": \"mercedes-benz\", \"fuel_type\": \"diesel\", \"aspiration\": \"turbo\", \"num_of_doors\": \"four\", \"body_style\": \"sedan\", \"drive_wheels\": \"rwd\", \"engine_location\": \"front\", \"wheel_base\": 110.0, \"length\": 190.9, \"width\": 70.3, \"height\": 56.5, \"curb_weight\": 3515, \"engine_type\": \"ohc\", \"num_of_cylinders\": \"five\", \"engine_size\": 183, \"fuel_system\": \"idi\", \"bore\": 3.58, \"stroke\": 3.64, \"compression_ratio\": 21.5, \"horsepower\": 123, \"peak_rpm\": 4350, \"city_mpg\": 22, \"highway_mpg\": 25, \"price\": 25552}, {\"symboling\": -1, \"normalized_losses\": 93, \"make\": \"mercedes-benz\", \"fuel_type\": \"diesel\", \"aspiration\": \"turbo\", \"num_of_doors\": \"four\", \"body_style\": \"wagon\", \"drive_wheels\": \"rwd\", \"engine_location\": \"front\", \"wheel_base\": 110.0, \"length\": 190.9, \"width\": 70.3, \"height\": 58.7, \"curb_weight\": 3750, \"engine_type\": \"ohc\", \"num_of_cylinders\": \"five\", \"engine_size\": 183, \"fuel_system\": \"idi\", \"bore\": 3.58, \"stroke\": 3.64, \"compression_ratio\": 21.5, \"horsepower\": 123, \"peak_rpm\": 4350, \"city_mpg\": 22, \"highway_mpg\": 25, \"price\": 28248}, {\"symboling\": 0, \"normalized_losses\": 93, \"make\": \"mercedes-benz\", \"fuel_type\": \"diesel\", \"aspiration\": \"turbo\", \"num_of_doors\": \"two\", \"body_style\": \"hardtop\", \"drive_wheels\": \"rwd\", \"engine_location\": \"front\", \"wheel_base\": 106.7, \"length\": 187.5, \"width\": 70.3, \"height\": 54.9, \"curb_weight\": 3495, \"engine_type\": \"ohc\", \"num_of_cylinders\": \"five\", \"engine_size\": 183, \"fuel_system\": \"idi\", \"bore\": 3.58, \"stroke\": 3.64, \"compression_ratio\": 21.5, \"horsepower\": 123, \"peak_rpm\": 4350, \"city_mpg\": 22, \"highway_mpg\": 25, \"price\": 28176}, {\"symboling\": -1, \"normalized_losses\": 93, \"make\": \"mercedes-benz\", \"fuel_type\": \"diesel\", \"aspiration\": \"turbo\", \"num_of_doors\": \"four\", \"body_style\": \"sedan\", \"drive_wheels\": \"rwd\", \"engine_location\": \"front\", \"wheel_base\": 115.6, \"length\": 202.6, \"width\": 71.7, \"height\": 56.3, \"curb_weight\": 3770, \"engine_type\": \"ohc\", \"num_of_cylinders\": \"five\", \"engine_size\": 183, \"fuel_system\": \"idi\", \"bore\": 3.58, \"stroke\": 3.64, \"compression_ratio\": 21.5, \"horsepower\": 123, \"peak_rpm\": 4350, \"city_mpg\": 22, \"highway_mpg\": 25, \"price\": 31600}, {\"symboling\": 3, \"normalized_losses\": 142, \"make\": \"mercedes-benz\", \"fuel_type\": \"gas\", \"aspiration\": \"std\", \"num_of_doors\": \"two\", \"body_style\": \"convertible\", \"drive_wheels\": \"rwd\", \"engine_location\": \"front\", \"wheel_base\": 96.6, \"length\": 180.3, \"width\": 70.5, \"height\": 50.8, \"curb_weight\": 3685, \"engine_type\": \"ohcv\", \"num_of_cylinders\": \"eight\", \"engine_size\": 234, \"fuel_system\": \"mpfi\", \"bore\": 3.46, \"stroke\": 3.1, \"compression_ratio\": 8.3, \"horsepower\": 155, \"peak_rpm\": 4750, \"city_mpg\": 16, \"highway_mpg\": 18, \"price\": 35056}, {\"symboling\": 2, \"normalized_losses\": 161, \"make\": \"mitsubishi\", \"fuel_type\": \"gas\", \"aspiration\": \"std\", \"num_of_doors\": \"two\", \"body_style\": \"hatchback\", \"drive_wheels\": \"fwd\", \"engine_location\": \"front\", \"wheel_base\": 93.7, \"length\": 157.3, \"width\": 64.4, \"height\": 50.8, \"curb_weight\": 1918, \"engine_type\": \"ohc\", \"num_of_cylinders\": \"four\", \"engine_size\": 92, \"fuel_system\": \"2bbl\", \"bore\": 2.97, \"stroke\": 3.23, \"compression_ratio\": 9.4, \"horsepower\": 68, \"peak_rpm\": 5500, \"city_mpg\": 37, \"highway_mpg\": 41, \"price\": 5389}, {\"symboling\": 2, \"normalized_losses\": 161, \"make\": \"mitsubishi\", \"fuel_type\": \"gas\", \"aspiration\": \"std\", \"num_of_doors\": \"two\", \"body_style\": \"hatchback\", \"drive_wheels\": \"fwd\", \"engine_location\": \"front\", \"wheel_base\": 93.7, \"length\": 157.3, \"width\": 64.4, \"height\": 50.8, \"curb_weight\": 1944, \"engine_type\": \"ohc\", \"num_of_cylinders\": \"four\", \"engine_size\": 92, \"fuel_system\": \"2bbl\", \"bore\": 2.97, \"stroke\": 3.23, \"compression_ratio\": 9.4, \"horsepower\": 68, \"peak_rpm\": 5500, \"city_mpg\": 31, \"highway_mpg\": 38, \"price\": 6189}, {\"symboling\": 2, \"normalized_losses\": 161, \"make\": \"mitsubishi\", \"fuel_type\": \"gas\", \"aspiration\": \"std\", \"num_of_doors\": \"two\", \"body_style\": \"hatchback\", \"drive_wheels\": \"fwd\", \"engine_location\": \"front\", \"wheel_base\": 93.7, \"length\": 157.3, \"width\": 64.4, \"height\": 50.8, \"curb_weight\": 2004, \"engine_type\": \"ohc\", \"num_of_cylinders\": \"four\", \"engine_size\": 92, \"fuel_system\": \"2bbl\", \"bore\": 2.97, \"stroke\": 3.23, \"compression_ratio\": 9.4, \"horsepower\": 68, \"peak_rpm\": 5500, \"city_mpg\": 31, \"highway_mpg\": 38, \"price\": 6669}, {\"symboling\": 1, \"normalized_losses\": 161, \"make\": \"mitsubishi\", \"fuel_type\": \"gas\", \"aspiration\": \"turbo\", \"num_of_doors\": \"two\", \"body_style\": \"hatchback\", \"drive_wheels\": \"fwd\", \"engine_location\": \"front\", \"wheel_base\": 93.0, \"length\": 157.3, \"width\": 63.8, \"height\": 50.8, \"curb_weight\": 2145, \"engine_type\": \"ohc\", \"num_of_cylinders\": \"four\", \"engine_size\": 98, \"fuel_system\": \"spdi\", \"bore\": 3.03, \"stroke\": 3.39, \"compression_ratio\": 7.6, \"horsepower\": 102, \"peak_rpm\": 5500, \"city_mpg\": 24, \"highway_mpg\": 30, \"price\": 7689}, {\"symboling\": 3, \"normalized_losses\": 153, \"make\": \"mitsubishi\", \"fuel_type\": \"gas\", \"aspiration\": \"turbo\", \"num_of_doors\": \"two\", \"body_style\": \"hatchback\", \"drive_wheels\": \"fwd\", \"engine_location\": \"front\", \"wheel_base\": 96.3, \"length\": 173.0, \"width\": 65.4, \"height\": 49.4, \"curb_weight\": 2370, \"engine_type\": \"ohc\", \"num_of_cylinders\": \"four\", \"engine_size\": 110, \"fuel_system\": \"spdi\", \"bore\": 3.17, \"stroke\": 3.46, \"compression_ratio\": 7.5, \"horsepower\": 116, \"peak_rpm\": 5500, \"city_mpg\": 23, \"highway_mpg\": 30, \"price\": 9959}, {\"symboling\": 3, \"normalized_losses\": 153, \"make\": \"mitsubishi\", \"fuel_type\": \"gas\", \"aspiration\": \"std\", \"num_of_doors\": \"two\", \"body_style\": \"hatchback\", \"drive_wheels\": \"fwd\", \"engine_location\": \"front\", \"wheel_base\": 96.3, \"length\": 173.0, \"width\": 65.4, \"height\": 49.4, \"curb_weight\": 2328, \"engine_type\": \"ohc\", \"num_of_cylinders\": \"four\", \"engine_size\": 122, \"fuel_system\": \"2bbl\", \"bore\": 3.35, \"stroke\": 3.46, \"compression_ratio\": 8.5, \"horsepower\": 88, \"peak_rpm\": 5000, \"city_mpg\": 25, \"highway_mpg\": 32, \"price\": 8499}, {\"symboling\": 1, \"normalized_losses\": 125, \"make\": \"mitsubishi\", \"fuel_type\": \"gas\", \"aspiration\": \"std\", \"num_of_doors\": \"four\", \"body_style\": \"sedan\", \"drive_wheels\": \"fwd\", \"engine_location\": \"front\", \"wheel_base\": 96.3, \"length\": 172.4, \"width\": 65.4, \"height\": 51.6, \"curb_weight\": 2365, \"engine_type\": \"ohc\", \"num_of_cylinders\": \"four\", \"engine_size\": 122, \"fuel_system\": \"2bbl\", \"bore\": 3.35, \"stroke\": 3.46, \"compression_ratio\": 8.5, \"horsepower\": 88, \"peak_rpm\": 5000, \"city_mpg\": 25, \"highway_mpg\": 32, \"price\": 6989}, {\"symboling\": 1, \"normalized_losses\": 125, \"make\": \"mitsubishi\", \"fuel_type\": \"gas\", \"aspiration\": \"std\", \"num_of_doors\": \"four\", \"body_style\": \"sedan\", \"drive_wheels\": \"fwd\", \"engine_location\": \"front\", \"wheel_base\": 96.3, \"length\": 172.4, \"width\": 65.4, \"height\": 51.6, \"curb_weight\": 2405, \"engine_type\": \"ohc\", \"num_of_cylinders\": \"four\", \"engine_size\": 122, \"fuel_system\": \"2bbl\", \"bore\": 3.35, \"stroke\": 3.46, \"compression_ratio\": 8.5, \"horsepower\": 88, \"peak_rpm\": 5000, \"city_mpg\": 25, \"highway_mpg\": 32, \"price\": 8189}, {\"symboling\": 1, \"normalized_losses\": 125, \"make\": \"mitsubishi\", \"fuel_type\": \"gas\", \"aspiration\": \"turbo\", \"num_of_doors\": \"four\", \"body_style\": \"sedan\", \"drive_wheels\": \"fwd\", \"engine_location\": \"front\", \"wheel_base\": 96.3, \"length\": 172.4, \"width\": 65.4, \"height\": 51.6, \"curb_weight\": 2403, \"engine_type\": \"ohc\", \"num_of_cylinders\": \"four\", \"engine_size\": 110, \"fuel_system\": \"spdi\", \"bore\": 3.17, \"stroke\": 3.46, \"compression_ratio\": 7.5, \"horsepower\": 116, \"peak_rpm\": 5500, \"city_mpg\": 23, \"highway_mpg\": 30, \"price\": 9279}, {\"symboling\": -1, \"normalized_losses\": 137, \"make\": \"mitsubishi\", \"fuel_type\": \"gas\", \"aspiration\": \"std\", \"num_of_doors\": \"four\", \"body_style\": \"sedan\", \"drive_wheels\": \"fwd\", \"engine_location\": \"front\", \"wheel_base\": 96.3, \"length\": 172.4, \"width\": 65.4, \"height\": 51.6, \"curb_weight\": 2403, \"engine_type\": \"ohc\", \"num_of_cylinders\": \"four\", \"engine_size\": 110, \"fuel_system\": \"spdi\", \"bore\": 3.17, \"stroke\": 3.46, \"compression_ratio\": 7.5, \"horsepower\": 116, \"peak_rpm\": 5500, \"city_mpg\": 23, \"highway_mpg\": 30, \"price\": 9279}, {\"symboling\": 1, \"normalized_losses\": 128, \"make\": \"nissan\", \"fuel_type\": \"gas\", \"aspiration\": \"std\", \"num_of_doors\": \"two\", \"body_style\": \"sedan\", \"drive_wheels\": \"fwd\", \"engine_location\": \"front\", \"wheel_base\": 94.5, \"length\": 165.3, \"width\": 63.8, \"height\": 54.5, \"curb_weight\": 1889, \"engine_type\": \"ohc\", \"num_of_cylinders\": \"four\", \"engine_size\": 97, \"fuel_system\": \"2bbl\", \"bore\": 3.15, \"stroke\": 3.29, \"compression_ratio\": 9.4, \"horsepower\": 69, \"peak_rpm\": 5200, \"city_mpg\": 31, \"highway_mpg\": 37, \"price\": 5499}, {\"symboling\": 1, \"normalized_losses\": 128, \"make\": \"nissan\", \"fuel_type\": \"diesel\", \"aspiration\": \"std\", \"num_of_doors\": \"two\", \"body_style\": \"sedan\", \"drive_wheels\": \"fwd\", \"engine_location\": \"front\", \"wheel_base\": 94.5, \"length\": 165.3, \"width\": 63.8, \"height\": 54.5, \"curb_weight\": 2017, \"engine_type\": \"ohc\", \"num_of_cylinders\": \"four\", \"engine_size\": 103, \"fuel_system\": \"idi\", \"bore\": 2.99, \"stroke\": 3.47, \"compression_ratio\": 21.9, \"horsepower\": 55, \"peak_rpm\": 4800, \"city_mpg\": 45, \"highway_mpg\": 50, \"price\": 7099}, {\"symboling\": 1, \"normalized_losses\": 128, \"make\": \"nissan\", \"fuel_type\": \"gas\", \"aspiration\": \"std\", \"num_of_doors\": \"two\", \"body_style\": \"sedan\", \"drive_wheels\": \"fwd\", \"engine_location\": \"front\", \"wheel_base\": 94.5, \"length\": 165.3, \"width\": 63.8, \"height\": 54.5, \"curb_weight\": 1918, \"engine_type\": \"ohc\", \"num_of_cylinders\": \"four\", \"engine_size\": 97, \"fuel_system\": \"2bbl\", \"bore\": 3.15, \"stroke\": 3.29, \"compression_ratio\": 9.4, \"horsepower\": 69, \"peak_rpm\": 5200, \"city_mpg\": 31, \"highway_mpg\": 37, \"price\": 6649}, {\"symboling\": 1, \"normalized_losses\": 122, \"make\": \"nissan\", \"fuel_type\": \"gas\", \"aspiration\": \"std\", \"num_of_doors\": \"four\", \"body_style\": \"sedan\", \"drive_wheels\": \"fwd\", \"engine_location\": \"front\", \"wheel_base\": 94.5, \"length\": 165.3, \"width\": 63.8, \"height\": 54.5, \"curb_weight\": 1938, \"engine_type\": \"ohc\", \"num_of_cylinders\": \"four\", \"engine_size\": 97, \"fuel_system\": \"2bbl\", \"bore\": 3.15, \"stroke\": 3.29, \"compression_ratio\": 9.4, \"horsepower\": 69, \"peak_rpm\": 5200, \"city_mpg\": 31, \"highway_mpg\": 37, \"price\": 6849}, {\"symboling\": 1, \"normalized_losses\": 103, \"make\": \"nissan\", \"fuel_type\": \"gas\", \"aspiration\": \"std\", \"num_of_doors\": \"four\", \"body_style\": \"wagon\", \"drive_wheels\": \"fwd\", \"engine_location\": \"front\", \"wheel_base\": 94.5, \"length\": 170.2, \"width\": 63.8, \"height\": 53.5, \"curb_weight\": 2024, \"engine_type\": \"ohc\", \"num_of_cylinders\": \"four\", \"engine_size\": 97, \"fuel_system\": \"2bbl\", \"bore\": 3.15, \"stroke\": 3.29, \"compression_ratio\": 9.4, \"horsepower\": 69, \"peak_rpm\": 5200, \"city_mpg\": 31, \"highway_mpg\": 37, \"price\": 7349}, {\"symboling\": 1, \"normalized_losses\": 128, \"make\": \"nissan\", \"fuel_type\": \"gas\", \"aspiration\": \"std\", \"num_of_doors\": \"two\", \"body_style\": \"sedan\", \"drive_wheels\": \"fwd\", \"engine_location\": \"front\", \"wheel_base\": 94.5, \"length\": 165.3, \"width\": 63.8, \"height\": 54.5, \"curb_weight\": 1951, \"engine_type\": \"ohc\", \"num_of_cylinders\": \"four\", \"engine_size\": 97, \"fuel_system\": \"2bbl\", \"bore\": 3.15, \"stroke\": 3.29, \"compression_ratio\": 9.4, \"horsepower\": 69, \"peak_rpm\": 5200, \"city_mpg\": 31, \"highway_mpg\": 37, \"price\": 7299}, {\"symboling\": 1, \"normalized_losses\": 128, \"make\": \"nissan\", \"fuel_type\": \"gas\", \"aspiration\": \"std\", \"num_of_doors\": \"two\", \"body_style\": \"hatchback\", \"drive_wheels\": \"fwd\", \"engine_location\": \"front\", \"wheel_base\": 94.5, \"length\": 165.6, \"width\": 63.8, \"height\": 53.3, \"curb_weight\": 2028, \"engine_type\": \"ohc\", \"num_of_cylinders\": \"four\", \"engine_size\": 97, \"fuel_system\": \"2bbl\", \"bore\": 3.15, \"stroke\": 3.29, \"compression_ratio\": 9.4, \"horsepower\": 69, \"peak_rpm\": 5200, \"city_mpg\": 31, \"highway_mpg\": 37, \"price\": 7799}, {\"symboling\": 1, \"normalized_losses\": 122, \"make\": \"nissan\", \"fuel_type\": \"gas\", \"aspiration\": \"std\", \"num_of_doors\": \"four\", \"body_style\": \"sedan\", \"drive_wheels\": \"fwd\", \"engine_location\": \"front\", \"wheel_base\": 94.5, \"length\": 165.3, \"width\": 63.8, \"height\": 54.5, \"curb_weight\": 1971, \"engine_type\": \"ohc\", \"num_of_cylinders\": \"four\", \"engine_size\": 97, \"fuel_system\": \"2bbl\", \"bore\": 3.15, \"stroke\": 3.29, \"compression_ratio\": 9.4, \"horsepower\": 69, \"peak_rpm\": 5200, \"city_mpg\": 31, \"highway_mpg\": 37, \"price\": 7499}, {\"symboling\": 1, \"normalized_losses\": 103, \"make\": \"nissan\", \"fuel_type\": \"gas\", \"aspiration\": \"std\", \"num_of_doors\": \"four\", \"body_style\": \"wagon\", \"drive_wheels\": \"fwd\", \"engine_location\": \"front\", \"wheel_base\": 94.5, \"length\": 170.2, \"width\": 63.8, \"height\": 53.5, \"curb_weight\": 2037, \"engine_type\": \"ohc\", \"num_of_cylinders\": \"four\", \"engine_size\": 97, \"fuel_system\": \"2bbl\", \"bore\": 3.15, \"stroke\": 3.29, \"compression_ratio\": 9.4, \"horsepower\": 69, \"peak_rpm\": 5200, \"city_mpg\": 31, \"highway_mpg\": 37, \"price\": 7999}, {\"symboling\": 2, \"normalized_losses\": 168, \"make\": \"nissan\", \"fuel_type\": \"gas\", \"aspiration\": \"std\", \"num_of_doors\": \"two\", \"body_style\": \"hardtop\", \"drive_wheels\": \"fwd\", \"engine_location\": \"front\", \"wheel_base\": 95.1, \"length\": 162.4, \"width\": 63.8, \"height\": 53.3, \"curb_weight\": 2008, \"engine_type\": \"ohc\", \"num_of_cylinders\": \"four\", \"engine_size\": 97, \"fuel_system\": \"2bbl\", \"bore\": 3.15, \"stroke\": 3.29, \"compression_ratio\": 9.4, \"horsepower\": 69, \"peak_rpm\": 5200, \"city_mpg\": 31, \"highway_mpg\": 37, \"price\": 8249}, {\"symboling\": 0, \"normalized_losses\": 106, \"make\": \"nissan\", \"fuel_type\": \"gas\", \"aspiration\": \"std\", \"num_of_doors\": \"four\", \"body_style\": \"hatchback\", \"drive_wheels\": \"fwd\", \"engine_location\": \"front\", \"wheel_base\": 97.2, \"length\": 173.4, \"width\": 65.2, \"height\": 54.7, \"curb_weight\": 2324, \"engine_type\": \"ohc\", \"num_of_cylinders\": \"four\", \"engine_size\": 120, \"fuel_system\": \"2bbl\", \"bore\": 3.33, \"stroke\": 3.47, \"compression_ratio\": 8.5, \"horsepower\": 97, \"peak_rpm\": 5200, \"city_mpg\": 27, \"highway_mpg\": 34, \"price\": 8949}, {\"symboling\": 0, \"normalized_losses\": 106, \"make\": \"nissan\", \"fuel_type\": \"gas\", \"aspiration\": \"std\", \"num_of_doors\": \"four\", \"body_style\": \"sedan\", \"drive_wheels\": \"fwd\", \"engine_location\": \"front\", \"wheel_base\": 97.2, \"length\": 173.4, \"width\": 65.2, \"height\": 54.7, \"curb_weight\": 2302, \"engine_type\": \"ohc\", \"num_of_cylinders\": \"four\", \"engine_size\": 120, \"fuel_system\": \"2bbl\", \"bore\": 3.33, \"stroke\": 3.47, \"compression_ratio\": 8.5, \"horsepower\": 97, \"peak_rpm\": 5200, \"city_mpg\": 27, \"highway_mpg\": 34, \"price\": 9549}, {\"symboling\": 0, \"normalized_losses\": 128, \"make\": \"nissan\", \"fuel_type\": \"gas\", \"aspiration\": \"std\", \"num_of_doors\": \"four\", \"body_style\": \"sedan\", \"drive_wheels\": \"fwd\", \"engine_location\": \"front\", \"wheel_base\": 100.4, \"length\": 181.7, \"width\": 66.5, \"height\": 55.1, \"curb_weight\": 3095, \"engine_type\": \"ohcv\", \"num_of_cylinders\": \"six\", \"engine_size\": 181, \"fuel_system\": \"mpfi\", \"bore\": 3.43, \"stroke\": 3.27, \"compression_ratio\": 9.0, \"horsepower\": 152, \"peak_rpm\": 5200, \"city_mpg\": 17, \"highway_mpg\": 22, \"price\": 13499}, {\"symboling\": 0, \"normalized_losses\": 108, \"make\": \"nissan\", \"fuel_type\": \"gas\", \"aspiration\": \"std\", \"num_of_doors\": \"four\", \"body_style\": \"wagon\", \"drive_wheels\": \"fwd\", \"engine_location\": \"front\", \"wheel_base\": 100.4, \"length\": 184.6, \"width\": 66.5, \"height\": 56.1, \"curb_weight\": 3296, \"engine_type\": \"ohcv\", \"num_of_cylinders\": \"six\", \"engine_size\": 181, \"fuel_system\": \"mpfi\", \"bore\": 3.43, \"stroke\": 3.27, \"compression_ratio\": 9.0, \"horsepower\": 152, \"peak_rpm\": 5200, \"city_mpg\": 17, \"highway_mpg\": 22, \"price\": 14399}, {\"symboling\": 0, \"normalized_losses\": 108, \"make\": \"nissan\", \"fuel_type\": \"gas\", \"aspiration\": \"std\", \"num_of_doors\": \"four\", \"body_style\": \"sedan\", \"drive_wheels\": \"fwd\", \"engine_location\": \"front\", \"wheel_base\": 100.4, \"length\": 184.6, \"width\": 66.5, \"height\": 55.1, \"curb_weight\": 3060, \"engine_type\": \"ohcv\", \"num_of_cylinders\": \"six\", \"engine_size\": 181, \"fuel_system\": \"mpfi\", \"bore\": 3.43, \"stroke\": 3.27, \"compression_ratio\": 9.0, \"horsepower\": 152, \"peak_rpm\": 5200, \"city_mpg\": 19, \"highway_mpg\": 25, \"price\": 13499}, {\"symboling\": 3, \"normalized_losses\": 194, \"make\": \"nissan\", \"fuel_type\": \"gas\", \"aspiration\": \"std\", \"num_of_doors\": \"two\", \"body_style\": \"hatchback\", \"drive_wheels\": \"rwd\", \"engine_location\": \"front\", \"wheel_base\": 91.3, \"length\": 170.7, \"width\": 67.9, \"height\": 49.7, \"curb_weight\": 3071, \"engine_type\": \"ohcv\", \"num_of_cylinders\": \"six\", \"engine_size\": 181, \"fuel_system\": \"mpfi\", \"bore\": 3.43, \"stroke\": 3.27, \"compression_ratio\": 9.0, \"horsepower\": 160, \"peak_rpm\": 5200, \"city_mpg\": 19, \"highway_mpg\": 25, \"price\": 17199}, {\"symboling\": 3, \"normalized_losses\": 194, \"make\": \"nissan\", \"fuel_type\": \"gas\", \"aspiration\": \"turbo\", \"num_of_doors\": \"two\", \"body_style\": \"hatchback\", \"drive_wheels\": \"rwd\", \"engine_location\": \"front\", \"wheel_base\": 91.3, \"length\": 170.7, \"width\": 67.9, \"height\": 49.7, \"curb_weight\": 3139, \"engine_type\": \"ohcv\", \"num_of_cylinders\": \"six\", \"engine_size\": 181, \"fuel_system\": \"mpfi\", \"bore\": 3.43, \"stroke\": 3.27, \"compression_ratio\": 7.8, \"horsepower\": 200, \"peak_rpm\": 5200, \"city_mpg\": 17, \"highway_mpg\": 23, \"price\": 19699}, {\"symboling\": 1, \"normalized_losses\": 231, \"make\": \"nissan\", \"fuel_type\": \"gas\", \"aspiration\": \"std\", \"num_of_doors\": \"two\", \"body_style\": \"hatchback\", \"drive_wheels\": \"rwd\", \"engine_location\": \"front\", \"wheel_base\": 99.2, \"length\": 178.5, \"width\": 67.9, \"height\": 49.7, \"curb_weight\": 3139, \"engine_type\": \"ohcv\", \"num_of_cylinders\": \"six\", \"engine_size\": 181, \"fuel_system\": \"mpfi\", \"bore\": 3.43, \"stroke\": 3.27, \"compression_ratio\": 9.0, \"horsepower\": 160, \"peak_rpm\": 5200, \"city_mpg\": 19, \"highway_mpg\": 25, \"price\": 18399}, {\"symboling\": 0, \"normalized_losses\": 161, \"make\": \"peugot\", \"fuel_type\": \"gas\", \"aspiration\": \"std\", \"num_of_doors\": \"four\", \"body_style\": \"sedan\", \"drive_wheels\": \"rwd\", \"engine_location\": \"front\", \"wheel_base\": 107.9, \"length\": 186.7, \"width\": 68.4, \"height\": 56.7, \"curb_weight\": 3020, \"engine_type\": \"l\", \"num_of_cylinders\": \"four\", \"engine_size\": 120, \"fuel_system\": \"mpfi\", \"bore\": 3.46, \"stroke\": 3.19, \"compression_ratio\": 8.4, \"horsepower\": 97, \"peak_rpm\": 5000, \"city_mpg\": 19, \"highway_mpg\": 24, \"price\": 11900}, {\"symboling\": 0, \"normalized_losses\": 161, \"make\": \"peugot\", \"fuel_type\": \"diesel\", \"aspiration\": \"turbo\", \"num_of_doors\": \"four\", \"body_style\": \"sedan\", \"drive_wheels\": \"rwd\", \"engine_location\": \"front\", \"wheel_base\": 107.9, \"length\": 186.7, \"width\": 68.4, \"height\": 56.7, \"curb_weight\": 3197, \"engine_type\": \"l\", \"num_of_cylinders\": \"four\", \"engine_size\": 152, \"fuel_system\": \"idi\", \"bore\": 3.7, \"stroke\": 3.52, \"compression_ratio\": 21.0, \"horsepower\": 95, \"peak_rpm\": 4150, \"city_mpg\": 28, \"highway_mpg\": 33, \"price\": 13200}, {\"symboling\": 0, \"normalized_losses\": 161, \"make\": \"peugot\", \"fuel_type\": \"gas\", \"aspiration\": \"std\", \"num_of_doors\": \"four\", \"body_style\": \"sedan\", \"drive_wheels\": \"rwd\", \"engine_location\": \"front\", \"wheel_base\": 107.9, \"length\": 186.7, \"width\": 68.4, \"height\": 56.7, \"curb_weight\": 3075, \"engine_type\": \"l\", \"num_of_cylinders\": \"four\", \"engine_size\": 120, \"fuel_system\": \"mpfi\", \"bore\": 3.46, \"stroke\": 2.19, \"compression_ratio\": 8.4, \"horsepower\": 95, \"peak_rpm\": 5000, \"city_mpg\": 19, \"highway_mpg\": 24, \"price\": 15580}, {\"symboling\": 0, \"normalized_losses\": 161, \"make\": \"peugot\", \"fuel_type\": \"diesel\", \"aspiration\": \"turbo\", \"num_of_doors\": \"four\", \"body_style\": \"sedan\", \"drive_wheels\": \"rwd\", \"engine_location\": \"front\", \"wheel_base\": 107.9, \"length\": 186.7, \"width\": 68.4, \"height\": 56.7, \"curb_weight\": 3252, \"engine_type\": \"l\", \"num_of_cylinders\": \"four\", \"engine_size\": 152, \"fuel_system\": \"idi\", \"bore\": 3.7, \"stroke\": 3.52, \"compression_ratio\": 21.0, \"horsepower\": 95, \"peak_rpm\": 4150, \"city_mpg\": 28, \"highway_mpg\": 33, \"price\": 16900}, {\"symboling\": 0, \"normalized_losses\": 161, \"make\": \"peugot\", \"fuel_type\": \"gas\", \"aspiration\": \"std\", \"num_of_doors\": \"four\", \"body_style\": \"sedan\", \"drive_wheels\": \"rwd\", \"engine_location\": \"front\", \"wheel_base\": 107.9, \"length\": 186.7, \"width\": 68.4, \"height\": 56.7, \"curb_weight\": 3075, \"engine_type\": \"l\", \"num_of_cylinders\": \"four\", \"engine_size\": 120, \"fuel_system\": \"mpfi\", \"bore\": 3.46, \"stroke\": 3.19, \"compression_ratio\": 8.4, \"horsepower\": 97, \"peak_rpm\": 5000, \"city_mpg\": 19, \"highway_mpg\": 24, \"price\": 16630}, {\"symboling\": 0, \"normalized_losses\": 161, \"make\": \"peugot\", \"fuel_type\": \"diesel\", \"aspiration\": \"turbo\", \"num_of_doors\": \"four\", \"body_style\": \"sedan\", \"drive_wheels\": \"rwd\", \"engine_location\": \"front\", \"wheel_base\": 107.9, \"length\": 186.7, \"width\": 68.4, \"height\": 56.7, \"curb_weight\": 3252, \"engine_type\": \"l\", \"num_of_cylinders\": \"four\", \"engine_size\": 152, \"fuel_system\": \"idi\", \"bore\": 3.7, \"stroke\": 3.52, \"compression_ratio\": 21.0, \"horsepower\": 95, \"peak_rpm\": 4150, \"city_mpg\": 28, \"highway_mpg\": 33, \"price\": 17950}, {\"symboling\": 0, \"normalized_losses\": 161, \"make\": \"peugot\", \"fuel_type\": \"gas\", \"aspiration\": \"turbo\", \"num_of_doors\": \"four\", \"body_style\": \"sedan\", \"drive_wheels\": \"rwd\", \"engine_location\": \"front\", \"wheel_base\": 108.0, \"length\": 186.7, \"width\": 68.3, \"height\": 56.0, \"curb_weight\": 3130, \"engine_type\": \"l\", \"num_of_cylinders\": \"four\", \"engine_size\": 134, \"fuel_system\": \"mpfi\", \"bore\": 3.61, \"stroke\": 3.21, \"compression_ratio\": 7.0, \"horsepower\": 142, \"peak_rpm\": 5600, \"city_mpg\": 18, \"highway_mpg\": 24, \"price\": 18150}, {\"symboling\": 1, \"normalized_losses\": 119, \"make\": \"plymouth\", \"fuel_type\": \"gas\", \"aspiration\": \"std\", \"num_of_doors\": \"two\", \"body_style\": \"hatchback\", \"drive_wheels\": \"fwd\", \"engine_location\": \"front\", \"wheel_base\": 93.7, \"length\": 157.3, \"width\": 63.8, \"height\": 50.8, \"curb_weight\": 1918, \"engine_type\": \"ohc\", \"num_of_cylinders\": \"four\", \"engine_size\": 90, \"fuel_system\": \"2bbl\", \"bore\": 2.97, \"stroke\": 3.23, \"compression_ratio\": 9.4, \"horsepower\": 68, \"peak_rpm\": 5500, \"city_mpg\": 37, \"highway_mpg\": 41, \"price\": 5572}, {\"symboling\": 1, \"normalized_losses\": 119, \"make\": \"plymouth\", \"fuel_type\": \"gas\", \"aspiration\": \"turbo\", \"num_of_doors\": \"two\", \"body_style\": \"hatchback\", \"drive_wheels\": \"fwd\", \"engine_location\": \"front\", \"wheel_base\": 93.7, \"length\": 157.3, \"width\": 63.8, \"height\": 50.8, \"curb_weight\": 2128, \"engine_type\": \"ohc\", \"num_of_cylinders\": \"four\", \"engine_size\": 98, \"fuel_system\": \"spdi\", \"bore\": 3.03, \"stroke\": 3.39, \"compression_ratio\": 7.6, \"horsepower\": 102, \"peak_rpm\": 5500, \"city_mpg\": 24, \"highway_mpg\": 30, \"price\": 7957}, {\"symboling\": 1, \"normalized_losses\": 154, \"make\": \"plymouth\", \"fuel_type\": \"gas\", \"aspiration\": \"std\", \"num_of_doors\": \"four\", \"body_style\": \"hatchback\", \"drive_wheels\": \"fwd\", \"engine_location\": \"front\", \"wheel_base\": 93.7, \"length\": 157.3, \"width\": 63.8, \"height\": 50.6, \"curb_weight\": 1967, \"engine_type\": \"ohc\", \"num_of_cylinders\": \"four\", \"engine_size\": 90, \"fuel_system\": \"2bbl\", \"bore\": 2.97, \"stroke\": 3.23, \"compression_ratio\": 9.4, \"horsepower\": 68, \"peak_rpm\": 5500, \"city_mpg\": 31, \"highway_mpg\": 38, \"price\": 6229}, {\"symboling\": 1, \"normalized_losses\": 154, \"make\": \"plymouth\", \"fuel_type\": \"gas\", \"aspiration\": \"std\", \"num_of_doors\": \"four\", \"body_style\": \"sedan\", \"drive_wheels\": \"fwd\", \"engine_location\": \"front\", \"wheel_base\": 93.7, \"length\": 167.3, \"width\": 63.8, \"height\": 50.8, \"curb_weight\": 1989, \"engine_type\": \"ohc\", \"num_of_cylinders\": \"four\", \"engine_size\": 90, \"fuel_system\": \"2bbl\", \"bore\": 2.97, \"stroke\": 3.23, \"compression_ratio\": 9.4, \"horsepower\": 68, \"peak_rpm\": 5500, \"city_mpg\": 31, \"highway_mpg\": 38, \"price\": 6692}, {\"symboling\": 1, \"normalized_losses\": 154, \"make\": \"plymouth\", \"fuel_type\": \"gas\", \"aspiration\": \"std\", \"num_of_doors\": \"four\", \"body_style\": \"sedan\", \"drive_wheels\": \"fwd\", \"engine_location\": \"front\", \"wheel_base\": 93.7, \"length\": 167.3, \"width\": 63.8, \"height\": 50.8, \"curb_weight\": 2191, \"engine_type\": \"ohc\", \"num_of_cylinders\": \"four\", \"engine_size\": 98, \"fuel_system\": \"2bbl\", \"bore\": 2.97, \"stroke\": 3.23, \"compression_ratio\": 9.4, \"horsepower\": 68, \"peak_rpm\": 5500, \"city_mpg\": 31, \"highway_mpg\": 38, \"price\": 7609}, {\"symboling\": -1, \"normalized_losses\": 74, \"make\": \"plymouth\", \"fuel_type\": \"gas\", \"aspiration\": \"std\", \"num_of_doors\": \"four\", \"body_style\": \"wagon\", \"drive_wheels\": \"fwd\", \"engine_location\": \"front\", \"wheel_base\": 103.3, \"length\": 174.6, \"width\": 64.6, \"height\": 59.8, \"curb_weight\": 2535, \"engine_type\": \"ohc\", \"num_of_cylinders\": \"four\", \"engine_size\": 122, \"fuel_system\": \"2bbl\", \"bore\": 3.35, \"stroke\": 3.46, \"compression_ratio\": 8.5, \"horsepower\": 88, \"peak_rpm\": 5000, \"city_mpg\": 24, \"highway_mpg\": 30, \"price\": 8921}, {\"symboling\": 3, \"normalized_losses\": 186, \"make\": \"porsche\", \"fuel_type\": \"gas\", \"aspiration\": \"std\", \"num_of_doors\": \"two\", \"body_style\": \"hatchback\", \"drive_wheels\": \"rwd\", \"engine_location\": \"front\", \"wheel_base\": 94.5, \"length\": 168.9, \"width\": 68.3, \"height\": 50.2, \"curb_weight\": 2778, \"engine_type\": \"ohc\", \"num_of_cylinders\": \"four\", \"engine_size\": 151, \"fuel_system\": \"mpfi\", \"bore\": 3.94, \"stroke\": 3.11, \"compression_ratio\": 9.5, \"horsepower\": 143, \"peak_rpm\": 5500, \"city_mpg\": 19, \"highway_mpg\": 27, \"price\": 22018}, {\"symboling\": 3, \"normalized_losses\": 150, \"make\": \"saab\", \"fuel_type\": \"gas\", \"aspiration\": \"std\", \"num_of_doors\": \"two\", \"body_style\": \"hatchback\", \"drive_wheels\": \"fwd\", \"engine_location\": \"front\", \"wheel_base\": 99.1, \"length\": 186.6, \"width\": 66.5, \"height\": 56.1, \"curb_weight\": 2658, \"engine_type\": \"ohc\", \"num_of_cylinders\": \"four\", \"engine_size\": 121, \"fuel_system\": \"mpfi\", \"bore\": 3.54, \"stroke\": 3.07, \"compression_ratio\": 9.31, \"horsepower\": 110, \"peak_rpm\": 5250, \"city_mpg\": 21, \"highway_mpg\": 28, \"price\": 11850}, {\"symboling\": 2, \"normalized_losses\": 104, \"make\": \"saab\", \"fuel_type\": \"gas\", \"aspiration\": \"std\", \"num_of_doors\": \"four\", \"body_style\": \"sedan\", \"drive_wheels\": \"fwd\", \"engine_location\": \"front\", \"wheel_base\": 99.1, \"length\": 186.6, \"width\": 66.5, \"height\": 56.1, \"curb_weight\": 2695, \"engine_type\": \"ohc\", \"num_of_cylinders\": \"four\", \"engine_size\": 121, \"fuel_system\": \"mpfi\", \"bore\": 3.54, \"stroke\": 3.07, \"compression_ratio\": 9.3, \"horsepower\": 110, \"peak_rpm\": 5250, \"city_mpg\": 21, \"highway_mpg\": 28, \"price\": 12170}, {\"symboling\": 3, \"normalized_losses\": 150, \"make\": \"saab\", \"fuel_type\": \"gas\", \"aspiration\": \"std\", \"num_of_doors\": \"two\", \"body_style\": \"hatchback\", \"drive_wheels\": \"fwd\", \"engine_location\": \"front\", \"wheel_base\": 99.1, \"length\": 186.6, \"width\": 66.5, \"height\": 56.1, \"curb_weight\": 2707, \"engine_type\": \"ohc\", \"num_of_cylinders\": \"four\", \"engine_size\": 121, \"fuel_system\": \"mpfi\", \"bore\": 2.54, \"stroke\": 2.07, \"compression_ratio\": 9.3, \"horsepower\": 110, \"peak_rpm\": 5250, \"city_mpg\": 21, \"highway_mpg\": 28, \"price\": 15040}, {\"symboling\": 2, \"normalized_losses\": 104, \"make\": \"saab\", \"fuel_type\": \"gas\", \"aspiration\": \"std\", \"num_of_doors\": \"four\", \"body_style\": \"sedan\", \"drive_wheels\": \"fwd\", \"engine_location\": \"front\", \"wheel_base\": 99.1, \"length\": 186.6, \"width\": 66.5, \"height\": 56.1, \"curb_weight\": 2758, \"engine_type\": \"ohc\", \"num_of_cylinders\": \"four\", \"engine_size\": 121, \"fuel_system\": \"mpfi\", \"bore\": 3.54, \"stroke\": 3.07, \"compression_ratio\": 9.3, \"horsepower\": 110, \"peak_rpm\": 5250, \"city_mpg\": 21, \"highway_mpg\": 28, \"price\": 15510}, {\"symboling\": 3, \"normalized_losses\": 150, \"make\": \"saab\", \"fuel_type\": \"gas\", \"aspiration\": \"turbo\", \"num_of_doors\": \"two\", \"body_style\": \"hatchback\", \"drive_wheels\": \"fwd\", \"engine_location\": \"front\", \"wheel_base\": 99.1, \"length\": 186.6, \"width\": 66.5, \"height\": 56.1, \"curb_weight\": 2808, \"engine_type\": \"dohc\", \"num_of_cylinders\": \"four\", \"engine_size\": 121, \"fuel_system\": \"mpfi\", \"bore\": 3.54, \"stroke\": 3.07, \"compression_ratio\": 9.0, \"horsepower\": 160, \"peak_rpm\": 5500, \"city_mpg\": 19, \"highway_mpg\": 26, \"price\": 18150}, {\"symboling\": 2, \"normalized_losses\": 104, \"make\": \"saab\", \"fuel_type\": \"gas\", \"aspiration\": \"turbo\", \"num_of_doors\": \"four\", \"body_style\": \"sedan\", \"drive_wheels\": \"fwd\", \"engine_location\": \"front\", \"wheel_base\": 99.1, \"length\": 186.6, \"width\": 66.5, \"height\": 56.1, \"curb_weight\": 2847, \"engine_type\": \"dohc\", \"num_of_cylinders\": \"four\", \"engine_size\": 121, \"fuel_system\": \"mpfi\", \"bore\": 3.54, \"stroke\": 3.07, \"compression_ratio\": 9.0, \"horsepower\": 160, \"peak_rpm\": 5500, \"city_mpg\": 19, \"highway_mpg\": 26, \"price\": 18620}, {\"symboling\": 2, \"normalized_losses\": 83, \"make\": \"subaru\", \"fuel_type\": \"gas\", \"aspiration\": \"std\", \"num_of_doors\": \"two\", \"body_style\": \"hatchback\", \"drive_wheels\": \"fwd\", \"engine_location\": \"front\", \"wheel_base\": 93.7, \"length\": 156.9, \"width\": 63.4, \"height\": 53.7, \"curb_weight\": 2050, \"engine_type\": \"ohcf\", \"num_of_cylinders\": \"four\", \"engine_size\": 97, \"fuel_system\": \"2bbl\", \"bore\": 3.62, \"stroke\": 2.36, \"compression_ratio\": 9.0, \"horsepower\": 69, \"peak_rpm\": 4900, \"city_mpg\": 31, \"highway_mpg\": 36, \"price\": 5118}, {\"symboling\": 2, \"normalized_losses\": 83, \"make\": \"subaru\", \"fuel_type\": \"gas\", \"aspiration\": \"std\", \"num_of_doors\": \"two\", \"body_style\": \"hatchback\", \"drive_wheels\": \"fwd\", \"engine_location\": \"front\", \"wheel_base\": 93.7, \"length\": 157.9, \"width\": 63.6, \"height\": 53.7, \"curb_weight\": 2120, \"engine_type\": \"ohcf\", \"num_of_cylinders\": \"four\", \"engine_size\": 108, \"fuel_system\": \"2bbl\", \"bore\": 3.62, \"stroke\": 2.64, \"compression_ratio\": 8.7, \"horsepower\": 73, \"peak_rpm\": 4400, \"city_mpg\": 26, \"highway_mpg\": 31, \"price\": 7053}, {\"symboling\": 2, \"normalized_losses\": 83, \"make\": \"subaru\", \"fuel_type\": \"gas\", \"aspiration\": \"std\", \"num_of_doors\": \"two\", \"body_style\": \"hatchback\", \"drive_wheels\": \"4wd\", \"engine_location\": \"front\", \"wheel_base\": 93.3, \"length\": 157.3, \"width\": 63.8, \"height\": 55.7, \"curb_weight\": 2240, \"engine_type\": \"ohcf\", \"num_of_cylinders\": \"four\", \"engine_size\": 108, \"fuel_system\": \"2bbl\", \"bore\": 3.62, \"stroke\": 2.64, \"compression_ratio\": 8.7, \"horsepower\": 73, \"peak_rpm\": 4400, \"city_mpg\": 26, \"highway_mpg\": 31, \"price\": 7603}, {\"symboling\": 0, \"normalized_losses\": 102, \"make\": \"subaru\", \"fuel_type\": \"gas\", \"aspiration\": \"std\", \"num_of_doors\": \"four\", \"body_style\": \"sedan\", \"drive_wheels\": \"fwd\", \"engine_location\": \"front\", \"wheel_base\": 97.2, \"length\": 172.0, \"width\": 65.4, \"height\": 52.5, \"curb_weight\": 2145, \"engine_type\": \"ohcf\", \"num_of_cylinders\": \"four\", \"engine_size\": 108, \"fuel_system\": \"2bbl\", \"bore\": 3.62, \"stroke\": 2.64, \"compression_ratio\": 9.5, \"horsepower\": 82, \"peak_rpm\": 4800, \"city_mpg\": 32, \"highway_mpg\": 37, \"price\": 7126}, {\"symboling\": 0, \"normalized_losses\": 102, \"make\": \"subaru\", \"fuel_type\": \"gas\", \"aspiration\": \"std\", \"num_of_doors\": \"four\", \"body_style\": \"sedan\", \"drive_wheels\": \"fwd\", \"engine_location\": \"front\", \"wheel_base\": 97.2, \"length\": 172.0, \"width\": 65.4, \"height\": 52.5, \"curb_weight\": 2190, \"engine_type\": \"ohcf\", \"num_of_cylinders\": \"four\", \"engine_size\": 108, \"fuel_system\": \"2bbl\", \"bore\": 3.62, \"stroke\": 2.64, \"compression_ratio\": 9.5, \"horsepower\": 82, \"peak_rpm\": 4400, \"city_mpg\": 28, \"highway_mpg\": 33, \"price\": 7775}, {\"symboling\": 0, \"normalized_losses\": 102, \"make\": \"subaru\", \"fuel_type\": \"gas\", \"aspiration\": \"std\", \"num_of_doors\": \"four\", \"body_style\": \"sedan\", \"drive_wheels\": \"fwd\", \"engine_location\": \"front\", \"wheel_base\": 97.2, \"length\": 172.0, \"width\": 65.4, \"height\": 52.5, \"curb_weight\": 2340, \"engine_type\": \"ohcf\", \"num_of_cylinders\": \"four\", \"engine_size\": 108, \"fuel_system\": \"mpfi\", \"bore\": 3.62, \"stroke\": 2.64, \"compression_ratio\": 9.0, \"horsepower\": 94, \"peak_rpm\": 5200, \"city_mpg\": 26, \"highway_mpg\": 32, \"price\": 9960}, {\"symboling\": 0, \"normalized_losses\": 102, \"make\": \"subaru\", \"fuel_type\": \"gas\", \"aspiration\": \"std\", \"num_of_doors\": \"four\", \"body_style\": \"sedan\", \"drive_wheels\": \"4wd\", \"engine_location\": \"front\", \"wheel_base\": 97.0, \"length\": 172.0, \"width\": 65.4, \"height\": 54.3, \"curb_weight\": 2385, \"engine_type\": \"ohcf\", \"num_of_cylinders\": \"four\", \"engine_size\": 108, \"fuel_system\": \"2bbl\", \"bore\": 3.62, \"stroke\": 2.64, \"compression_ratio\": 9.0, \"horsepower\": 82, \"peak_rpm\": 4800, \"city_mpg\": 24, \"highway_mpg\": 25, \"price\": 9233}, {\"symboling\": 0, \"normalized_losses\": 102, \"make\": \"subaru\", \"fuel_type\": \"gas\", \"aspiration\": \"turbo\", \"num_of_doors\": \"four\", \"body_style\": \"sedan\", \"drive_wheels\": \"4wd\", \"engine_location\": \"front\", \"wheel_base\": 97.0, \"length\": 172.0, \"width\": 65.4, \"height\": 54.3, \"curb_weight\": 2510, \"engine_type\": \"ohcf\", \"num_of_cylinders\": \"four\", \"engine_size\": 108, \"fuel_system\": \"mpfi\", \"bore\": 3.62, \"stroke\": 2.64, \"compression_ratio\": 7.7, \"horsepower\": 111, \"peak_rpm\": 4800, \"city_mpg\": 24, \"highway_mpg\": 29, \"price\": 11259}, {\"symboling\": 0, \"normalized_losses\": 89, \"make\": \"subaru\", \"fuel_type\": \"gas\", \"aspiration\": \"std\", \"num_of_doors\": \"four\", \"body_style\": \"wagon\", \"drive_wheels\": \"fwd\", \"engine_location\": \"front\", \"wheel_base\": 97.0, \"length\": 173.5, \"width\": 65.4, \"height\": 53.0, \"curb_weight\": 2290, \"engine_type\": \"ohcf\", \"num_of_cylinders\": \"four\", \"engine_size\": 108, \"fuel_system\": \"2bbl\", \"bore\": 3.62, \"stroke\": 2.64, \"compression_ratio\": 9.0, \"horsepower\": 82, \"peak_rpm\": 4800, \"city_mpg\": 28, \"highway_mpg\": 32, \"price\": 7463}, {\"symboling\": 0, \"normalized_losses\": 89, \"make\": \"subaru\", \"fuel_type\": \"gas\", \"aspiration\": \"std\", \"num_of_doors\": \"four\", \"body_style\": \"wagon\", \"drive_wheels\": \"fwd\", \"engine_location\": \"front\", \"wheel_base\": 97.0, \"length\": 173.5, \"width\": 65.4, \"height\": 53.0, \"curb_weight\": 2455, \"engine_type\": \"ohcf\", \"num_of_cylinders\": \"four\", \"engine_size\": 108, \"fuel_system\": \"mpfi\", \"bore\": 3.62, \"stroke\": 2.64, \"compression_ratio\": 9.0, \"horsepower\": 94, \"peak_rpm\": 5200, \"city_mpg\": 25, \"highway_mpg\": 31, \"price\": 10198}, {\"symboling\": 0, \"normalized_losses\": 85, \"make\": \"subaru\", \"fuel_type\": \"gas\", \"aspiration\": \"std\", \"num_of_doors\": \"four\", \"body_style\": \"wagon\", \"drive_wheels\": \"4wd\", \"engine_location\": \"front\", \"wheel_base\": 96.9, \"length\": 173.6, \"width\": 65.4, \"height\": 54.9, \"curb_weight\": 2420, \"engine_type\": \"ohcf\", \"num_of_cylinders\": \"four\", \"engine_size\": 108, \"fuel_system\": \"2bbl\", \"bore\": 3.62, \"stroke\": 2.64, \"compression_ratio\": 9.0, \"horsepower\": 82, \"peak_rpm\": 4800, \"city_mpg\": 23, \"highway_mpg\": 29, \"price\": 8013}, {\"symboling\": 0, \"normalized_losses\": 85, \"make\": \"subaru\", \"fuel_type\": \"gas\", \"aspiration\": \"turbo\", \"num_of_doors\": \"four\", \"body_style\": \"wagon\", \"drive_wheels\": \"4wd\", \"engine_location\": \"front\", \"wheel_base\": 96.9, \"length\": 173.6, \"width\": 65.4, \"height\": 54.9, \"curb_weight\": 2650, \"engine_type\": \"ohcf\", \"num_of_cylinders\": \"four\", \"engine_size\": 108, \"fuel_system\": \"mpfi\", \"bore\": 3.62, \"stroke\": 2.64, \"compression_ratio\": 7.7, \"horsepower\": 111, \"peak_rpm\": 4800, \"city_mpg\": 23, \"highway_mpg\": 23, \"price\": 11694}, {\"symboling\": 1, \"normalized_losses\": 87, \"make\": \"toyota\", \"fuel_type\": \"gas\", \"aspiration\": \"std\", \"num_of_doors\": \"two\", \"body_style\": \"hatchback\", \"drive_wheels\": \"fwd\", \"engine_location\": \"front\", \"wheel_base\": 95.7, \"length\": 158.7, \"width\": 63.6, \"height\": 54.5, \"curb_weight\": 1985, \"engine_type\": \"ohc\", \"num_of_cylinders\": \"four\", \"engine_size\": 92, \"fuel_system\": \"2bbl\", \"bore\": 3.05, \"stroke\": 3.03, \"compression_ratio\": 9.0, \"horsepower\": 62, \"peak_rpm\": 4800, \"city_mpg\": 35, \"highway_mpg\": 39, \"price\": 5348}, {\"symboling\": 1, \"normalized_losses\": 87, \"make\": \"toyota\", \"fuel_type\": \"gas\", \"aspiration\": \"std\", \"num_of_doors\": \"two\", \"body_style\": \"hatchback\", \"drive_wheels\": \"fwd\", \"engine_location\": \"front\", \"wheel_base\": 95.7, \"length\": 158.7, \"width\": 63.6, \"height\": 54.5, \"curb_weight\": 2040, \"engine_type\": \"ohc\", \"num_of_cylinders\": \"four\", \"engine_size\": 92, \"fuel_system\": \"2bbl\", \"bore\": 3.05, \"stroke\": 3.03, \"compression_ratio\": 9.0, \"horsepower\": 62, \"peak_rpm\": 4800, \"city_mpg\": 31, \"highway_mpg\": 38, \"price\": 6338}, {\"symboling\": 1, \"normalized_losses\": 74, \"make\": \"toyota\", \"fuel_type\": \"gas\", \"aspiration\": \"std\", \"num_of_doors\": \"four\", \"body_style\": \"hatchback\", \"drive_wheels\": \"fwd\", \"engine_location\": \"front\", \"wheel_base\": 95.7, \"length\": 158.7, \"width\": 63.6, \"height\": 54.5, \"curb_weight\": 2015, \"engine_type\": \"ohc\", \"num_of_cylinders\": \"four\", \"engine_size\": 92, \"fuel_system\": \"2bbl\", \"bore\": 3.05, \"stroke\": 3.03, \"compression_ratio\": 9.0, \"horsepower\": 62, \"peak_rpm\": 4800, \"city_mpg\": 31, \"highway_mpg\": 38, \"price\": 6488}, {\"symboling\": 0, \"normalized_losses\": 77, \"make\": \"toyota\", \"fuel_type\": \"gas\", \"aspiration\": \"std\", \"num_of_doors\": \"four\", \"body_style\": \"wagon\", \"drive_wheels\": \"fwd\", \"engine_location\": \"front\", \"wheel_base\": 95.7, \"length\": 169.7, \"width\": 63.6, \"height\": 59.1, \"curb_weight\": 2280, \"engine_type\": \"ohc\", \"num_of_cylinders\": \"four\", \"engine_size\": 92, \"fuel_system\": \"2bbl\", \"bore\": 3.05, \"stroke\": 3.03, \"compression_ratio\": 9.0, \"horsepower\": 62, \"peak_rpm\": 4800, \"city_mpg\": 31, \"highway_mpg\": 37, \"price\": 6918}, {\"symboling\": 0, \"normalized_losses\": 81, \"make\": \"toyota\", \"fuel_type\": \"gas\", \"aspiration\": \"std\", \"num_of_doors\": \"four\", \"body_style\": \"wagon\", \"drive_wheels\": \"4wd\", \"engine_location\": \"front\", \"wheel_base\": 95.7, \"length\": 169.7, \"width\": 63.6, \"height\": 59.1, \"curb_weight\": 2290, \"engine_type\": \"ohc\", \"num_of_cylinders\": \"four\", \"engine_size\": 92, \"fuel_system\": \"2bbl\", \"bore\": 3.05, \"stroke\": 3.03, \"compression_ratio\": 9.0, \"horsepower\": 62, \"peak_rpm\": 4800, \"city_mpg\": 27, \"highway_mpg\": 32, \"price\": 7898}, {\"symboling\": 0, \"normalized_losses\": 91, \"make\": \"toyota\", \"fuel_type\": \"gas\", \"aspiration\": \"std\", \"num_of_doors\": \"four\", \"body_style\": \"wagon\", \"drive_wheels\": \"4wd\", \"engine_location\": \"front\", \"wheel_base\": 95.7, \"length\": 169.7, \"width\": 63.6, \"height\": 59.1, \"curb_weight\": 3110, \"engine_type\": \"ohc\", \"num_of_cylinders\": \"four\", \"engine_size\": 92, \"fuel_system\": \"2bbl\", \"bore\": 3.05, \"stroke\": 3.03, \"compression_ratio\": 9.0, \"horsepower\": 62, \"peak_rpm\": 4800, \"city_mpg\": 27, \"highway_mpg\": 32, \"price\": 8778}, {\"symboling\": 0, \"normalized_losses\": 91, \"make\": \"toyota\", \"fuel_type\": \"gas\", \"aspiration\": \"std\", \"num_of_doors\": \"four\", \"body_style\": \"sedan\", \"drive_wheels\": \"fwd\", \"engine_location\": \"front\", \"wheel_base\": 95.7, \"length\": 166.3, \"width\": 64.4, \"height\": 53.0, \"curb_weight\": 2081, \"engine_type\": \"ohc\", \"num_of_cylinders\": \"four\", \"engine_size\": 98, \"fuel_system\": \"2bbl\", \"bore\": 3.19, \"stroke\": 3.03, \"compression_ratio\": 9.0, \"horsepower\": 70, \"peak_rpm\": 4800, \"city_mpg\": 30, \"highway_mpg\": 37, \"price\": 6938}, {\"symboling\": 0, \"normalized_losses\": 91, \"make\": \"toyota\", \"fuel_type\": \"gas\", \"aspiration\": \"std\", \"num_of_doors\": \"four\", \"body_style\": \"hatchback\", \"drive_wheels\": \"fwd\", \"engine_location\": \"front\", \"wheel_base\": 95.7, \"length\": 166.3, \"width\": 64.4, \"height\": 52.8, \"curb_weight\": 2109, \"engine_type\": \"ohc\", \"num_of_cylinders\": \"four\", \"engine_size\": 98, \"fuel_system\": \"2bbl\", \"bore\": 3.19, \"stroke\": 3.03, \"compression_ratio\": 9.0, \"horsepower\": 70, \"peak_rpm\": 4800, \"city_mpg\": 30, \"highway_mpg\": 37, \"price\": 7198}, {\"symboling\": 0, \"normalized_losses\": 91, \"make\": \"toyota\", \"fuel_type\": \"diesel\", \"aspiration\": \"std\", \"num_of_doors\": \"four\", \"body_style\": \"sedan\", \"drive_wheels\": \"fwd\", \"engine_location\": \"front\", \"wheel_base\": 95.7, \"length\": 166.3, \"width\": 64.4, \"height\": 53.0, \"curb_weight\": 2275, \"engine_type\": \"ohc\", \"num_of_cylinders\": \"four\", \"engine_size\": 110, \"fuel_system\": \"idi\", \"bore\": 3.27, \"stroke\": 3.35, \"compression_ratio\": 22.5, \"horsepower\": 56, \"peak_rpm\": 4500, \"city_mpg\": 34, \"highway_mpg\": 36, \"price\": 7898}, {\"symboling\": 0, \"normalized_losses\": 91, \"make\": \"toyota\", \"fuel_type\": \"diesel\", \"aspiration\": \"std\", \"num_of_doors\": \"four\", \"body_style\": \"hatchback\", \"drive_wheels\": \"fwd\", \"engine_location\": \"front\", \"wheel_base\": 95.7, \"length\": 166.3, \"width\": 64.4, \"height\": 52.8, \"curb_weight\": 2275, \"engine_type\": \"ohc\", \"num_of_cylinders\": \"four\", \"engine_size\": 110, \"fuel_system\": \"idi\", \"bore\": 3.27, \"stroke\": 3.35, \"compression_ratio\": 22.5, \"horsepower\": 56, \"peak_rpm\": 4500, \"city_mpg\": 38, \"highway_mpg\": 47, \"price\": 7788}, {\"symboling\": 0, \"normalized_losses\": 91, \"make\": \"toyota\", \"fuel_type\": \"gas\", \"aspiration\": \"std\", \"num_of_doors\": \"four\", \"body_style\": \"sedan\", \"drive_wheels\": \"fwd\", \"engine_location\": \"front\", \"wheel_base\": 95.7, \"length\": 166.3, \"width\": 64.4, \"height\": 53.0, \"curb_weight\": 2094, \"engine_type\": \"ohc\", \"num_of_cylinders\": \"four\", \"engine_size\": 98, \"fuel_system\": \"2bbl\", \"bore\": 3.19, \"stroke\": 3.03, \"compression_ratio\": 9.0, \"horsepower\": 70, \"peak_rpm\": 4800, \"city_mpg\": 38, \"highway_mpg\": 47, \"price\": 7738}, {\"symboling\": 0, \"normalized_losses\": 91, \"make\": \"toyota\", \"fuel_type\": \"gas\", \"aspiration\": \"std\", \"num_of_doors\": \"four\", \"body_style\": \"hatchback\", \"drive_wheels\": \"fwd\", \"engine_location\": \"front\", \"wheel_base\": 95.7, \"length\": 166.3, \"width\": 64.4, \"height\": 52.8, \"curb_weight\": 2122, \"engine_type\": \"ohc\", \"num_of_cylinders\": \"four\", \"engine_size\": 98, \"fuel_system\": \"2bbl\", \"bore\": 3.19, \"stroke\": 3.03, \"compression_ratio\": 9.0, \"horsepower\": 70, \"peak_rpm\": 4800, \"city_mpg\": 28, \"highway_mpg\": 34, \"price\": 8358}, {\"symboling\": 0, \"normalized_losses\": 91, \"make\": \"toyota\", \"fuel_type\": \"gas\", \"aspiration\": \"std\", \"num_of_doors\": \"four\", \"body_style\": \"sedan\", \"drive_wheels\": \"fwd\", \"engine_location\": \"front\", \"wheel_base\": 95.7, \"length\": 166.3, \"width\": 64.4, \"height\": 52.8, \"curb_weight\": 2140, \"engine_type\": \"ohc\", \"num_of_cylinders\": \"four\", \"engine_size\": 98, \"fuel_system\": \"2bbl\", \"bore\": 3.19, \"stroke\": 3.03, \"compression_ratio\": 9.0, \"horsepower\": 70, \"peak_rpm\": 4800, \"city_mpg\": 28, \"highway_mpg\": 34, \"price\": 9258}, {\"symboling\": 1, \"normalized_losses\": 168, \"make\": \"toyota\", \"fuel_type\": \"gas\", \"aspiration\": \"std\", \"num_of_doors\": \"two\", \"body_style\": \"sedan\", \"drive_wheels\": \"rwd\", \"engine_location\": \"front\", \"wheel_base\": 94.5, \"length\": 168.7, \"width\": 64.0, \"height\": 52.6, \"curb_weight\": 2169, \"engine_type\": \"ohc\", \"num_of_cylinders\": \"four\", \"engine_size\": 98, \"fuel_system\": \"2bbl\", \"bore\": 3.19, \"stroke\": 3.03, \"compression_ratio\": 9.0, \"horsepower\": 70, \"peak_rpm\": 4800, \"city_mpg\": 29, \"highway_mpg\": 34, \"price\": 8058}, {\"symboling\": 1, \"normalized_losses\": 168, \"make\": \"toyota\", \"fuel_type\": \"gas\", \"aspiration\": \"std\", \"num_of_doors\": \"two\", \"body_style\": \"hatchback\", \"drive_wheels\": \"rwd\", \"engine_location\": \"front\", \"wheel_base\": 94.5, \"length\": 168.7, \"width\": 64.0, \"height\": 52.6, \"curb_weight\": 2204, \"engine_type\": \"ohc\", \"num_of_cylinders\": \"four\", \"engine_size\": 98, \"fuel_system\": \"2bbl\", \"bore\": 3.19, \"stroke\": 3.03, \"compression_ratio\": 9.0, \"horsepower\": 70, \"peak_rpm\": 4800, \"city_mpg\": 29, \"highway_mpg\": 34, \"price\": 8238}, {\"symboling\": 1, \"normalized_losses\": 168, \"make\": \"toyota\", \"fuel_type\": \"gas\", \"aspiration\": \"std\", \"num_of_doors\": \"two\", \"body_style\": \"sedan\", \"drive_wheels\": \"rwd\", \"engine_location\": \"front\", \"wheel_base\": 94.5, \"length\": 168.7, \"width\": 64.0, \"height\": 52.6, \"curb_weight\": 2265, \"engine_type\": \"dohc\", \"num_of_cylinders\": \"four\", \"engine_size\": 98, \"fuel_system\": \"mpfi\", \"bore\": 3.24, \"stroke\": 3.08, \"compression_ratio\": 9.4, \"horsepower\": 112, \"peak_rpm\": 6600, \"city_mpg\": 26, \"highway_mpg\": 29, \"price\": 9298}, {\"symboling\": 1, \"normalized_losses\": 168, \"make\": \"toyota\", \"fuel_type\": \"gas\", \"aspiration\": \"std\", \"num_of_doors\": \"two\", \"body_style\": \"hatchback\", \"drive_wheels\": \"rwd\", \"engine_location\": \"front\", \"wheel_base\": 94.5, \"length\": 168.7, \"width\": 64.0, \"height\": 52.6, \"curb_weight\": 2300, \"engine_type\": \"dohc\", \"num_of_cylinders\": \"four\", \"engine_size\": 98, \"fuel_system\": \"mpfi\", \"bore\": 3.24, \"stroke\": 3.08, \"compression_ratio\": 9.4, \"horsepower\": 112, \"peak_rpm\": 6600, \"city_mpg\": 26, \"highway_mpg\": 29, \"price\": 9538}, {\"symboling\": 2, \"normalized_losses\": 134, \"make\": \"toyota\", \"fuel_type\": \"gas\", \"aspiration\": \"std\", \"num_of_doors\": \"two\", \"body_style\": \"hardtop\", \"drive_wheels\": \"rwd\", \"engine_location\": \"front\", \"wheel_base\": 98.4, \"length\": 176.2, \"width\": 65.6, \"height\": 52.0, \"curb_weight\": 2540, \"engine_type\": \"ohc\", \"num_of_cylinders\": \"four\", \"engine_size\": 146, \"fuel_system\": \"mpfi\", \"bore\": 3.62, \"stroke\": 3.5, \"compression_ratio\": 9.3, \"horsepower\": 116, \"peak_rpm\": 4800, \"city_mpg\": 24, \"highway_mpg\": 30, \"price\": 8449}, {\"symboling\": 2, \"normalized_losses\": 134, \"make\": \"toyota\", \"fuel_type\": \"gas\", \"aspiration\": \"std\", \"num_of_doors\": \"two\", \"body_style\": \"hardtop\", \"drive_wheels\": \"rwd\", \"engine_location\": \"front\", \"wheel_base\": 98.4, \"length\": 176.2, \"width\": 65.6, \"height\": 52.0, \"curb_weight\": 2536, \"engine_type\": \"ohc\", \"num_of_cylinders\": \"four\", \"engine_size\": 146, \"fuel_system\": \"mpfi\", \"bore\": 3.62, \"stroke\": 3.5, \"compression_ratio\": 9.3, \"horsepower\": 116, \"peak_rpm\": 4800, \"city_mpg\": 24, \"highway_mpg\": 30, \"price\": 9639}, {\"symboling\": 2, \"normalized_losses\": 134, \"make\": \"toyota\", \"fuel_type\": \"gas\", \"aspiration\": \"std\", \"num_of_doors\": \"two\", \"body_style\": \"hatchback\", \"drive_wheels\": \"rwd\", \"engine_location\": \"front\", \"wheel_base\": 98.4, \"length\": 176.2, \"width\": 65.6, \"height\": 52.0, \"curb_weight\": 2551, \"engine_type\": \"ohc\", \"num_of_cylinders\": \"four\", \"engine_size\": 146, \"fuel_system\": \"mpfi\", \"bore\": 3.62, \"stroke\": 3.5, \"compression_ratio\": 9.3, \"horsepower\": 116, \"peak_rpm\": 4800, \"city_mpg\": 24, \"highway_mpg\": 30, \"price\": 9989}, {\"symboling\": 2, \"normalized_losses\": 134, \"make\": \"toyota\", \"fuel_type\": \"gas\", \"aspiration\": \"std\", \"num_of_doors\": \"two\", \"body_style\": \"hardtop\", \"drive_wheels\": \"rwd\", \"engine_location\": \"front\", \"wheel_base\": 98.4, \"length\": 176.2, \"width\": 65.6, \"height\": 52.0, \"curb_weight\": 2679, \"engine_type\": \"ohc\", \"num_of_cylinders\": \"four\", \"engine_size\": 146, \"fuel_system\": \"mpfi\", \"bore\": 3.62, \"stroke\": 3.5, \"compression_ratio\": 9.3, \"horsepower\": 116, \"peak_rpm\": 4800, \"city_mpg\": 24, \"highway_mpg\": 30, \"price\": 11199}, {\"symboling\": 2, \"normalized_losses\": 134, \"make\": \"toyota\", \"fuel_type\": \"gas\", \"aspiration\": \"std\", \"num_of_doors\": \"two\", \"body_style\": \"hatchback\", \"drive_wheels\": \"rwd\", \"engine_location\": \"front\", \"wheel_base\": 98.4, \"length\": 176.2, \"width\": 65.6, \"height\": 52.0, \"curb_weight\": 2714, \"engine_type\": \"ohc\", \"num_of_cylinders\": \"four\", \"engine_size\": 146, \"fuel_system\": \"mpfi\", \"bore\": 3.62, \"stroke\": 3.5, \"compression_ratio\": 9.3, \"horsepower\": 116, \"peak_rpm\": 4800, \"city_mpg\": 24, \"highway_mpg\": 30, \"price\": 11549}, {\"symboling\": 2, \"normalized_losses\": 134, \"make\": \"toyota\", \"fuel_type\": \"gas\", \"aspiration\": \"std\", \"num_of_doors\": \"two\", \"body_style\": \"convertible\", \"drive_wheels\": \"rwd\", \"engine_location\": \"front\", \"wheel_base\": 98.4, \"length\": 176.2, \"width\": 65.6, \"height\": 53.0, \"curb_weight\": 2975, \"engine_type\": \"ohc\", \"num_of_cylinders\": \"four\", \"engine_size\": 146, \"fuel_system\": \"mpfi\", \"bore\": 3.62, \"stroke\": 3.5, \"compression_ratio\": 9.3, \"horsepower\": 116, \"peak_rpm\": 4800, \"city_mpg\": 24, \"highway_mpg\": 30, \"price\": 17669}, {\"symboling\": -1, \"normalized_losses\": 65, \"make\": \"toyota\", \"fuel_type\": \"gas\", \"aspiration\": \"std\", \"num_of_doors\": \"four\", \"body_style\": \"sedan\", \"drive_wheels\": \"fwd\", \"engine_location\": \"front\", \"wheel_base\": 102.4, \"length\": 175.6, \"width\": 66.5, \"height\": 54.9, \"curb_weight\": 2326, \"engine_type\": \"ohc\", \"num_of_cylinders\": \"four\", \"engine_size\": 122, \"fuel_system\": \"mpfi\", \"bore\": 3.31, \"stroke\": 3.54, \"compression_ratio\": 8.7, \"horsepower\": 92, \"peak_rpm\": 4200, \"city_mpg\": 29, \"highway_mpg\": 34, \"price\": 8948}, {\"symboling\": -1, \"normalized_losses\": 65, \"make\": \"toyota\", \"fuel_type\": \"diesel\", \"aspiration\": \"turbo\", \"num_of_doors\": \"four\", \"body_style\": \"sedan\", \"drive_wheels\": \"fwd\", \"engine_location\": \"front\", \"wheel_base\": 102.4, \"length\": 175.6, \"width\": 66.5, \"height\": 54.9, \"curb_weight\": 2480, \"engine_type\": \"ohc\", \"num_of_cylinders\": \"four\", \"engine_size\": 110, \"fuel_system\": \"idi\", \"bore\": 3.27, \"stroke\": 3.35, \"compression_ratio\": 22.5, \"horsepower\": 73, \"peak_rpm\": 4500, \"city_mpg\": 30, \"highway_mpg\": 33, \"price\": 10698}, {\"symboling\": -1, \"normalized_losses\": 65, \"make\": \"toyota\", \"fuel_type\": \"gas\", \"aspiration\": \"std\", \"num_of_doors\": \"four\", \"body_style\": \"hatchback\", \"drive_wheels\": \"fwd\", \"engine_location\": \"front\", \"wheel_base\": 102.4, \"length\": 175.6, \"width\": 66.5, \"height\": 53.9, \"curb_weight\": 2414, \"engine_type\": \"ohc\", \"num_of_cylinders\": \"four\", \"engine_size\": 122, \"fuel_system\": \"mpfi\", \"bore\": 3.31, \"stroke\": 3.54, \"compression_ratio\": 8.7, \"horsepower\": 92, \"peak_rpm\": 4200, \"city_mpg\": 27, \"highway_mpg\": 32, \"price\": 9988}, {\"symboling\": -1, \"normalized_losses\": 65, \"make\": \"toyota\", \"fuel_type\": \"gas\", \"aspiration\": \"std\", \"num_of_doors\": \"four\", \"body_style\": \"sedan\", \"drive_wheels\": \"fwd\", \"engine_location\": \"front\", \"wheel_base\": 102.4, \"length\": 175.6, \"width\": 66.5, \"height\": 54.9, \"curb_weight\": 2414, \"engine_type\": \"ohc\", \"num_of_cylinders\": \"four\", \"engine_size\": 122, \"fuel_system\": \"mpfi\", \"bore\": 3.31, \"stroke\": 3.54, \"compression_ratio\": 8.7, \"horsepower\": 92, \"peak_rpm\": 4200, \"city_mpg\": 27, \"highway_mpg\": 32, \"price\": 10898}, {\"symboling\": -1, \"normalized_losses\": 65, \"make\": \"toyota\", \"fuel_type\": \"gas\", \"aspiration\": \"std\", \"num_of_doors\": \"four\", \"body_style\": \"hatchback\", \"drive_wheels\": \"fwd\", \"engine_location\": \"front\", \"wheel_base\": 102.4, \"length\": 175.6, \"width\": 66.5, \"height\": 53.9, \"curb_weight\": 2458, \"engine_type\": \"ohc\", \"num_of_cylinders\": \"four\", \"engine_size\": 122, \"fuel_system\": \"mpfi\", \"bore\": 3.31, \"stroke\": 3.54, \"compression_ratio\": 8.7, \"horsepower\": 92, \"peak_rpm\": 4200, \"city_mpg\": 27, \"highway_mpg\": 32, \"price\": 11248}, {\"symboling\": 3, \"normalized_losses\": 197, \"make\": \"toyota\", \"fuel_type\": \"gas\", \"aspiration\": \"std\", \"num_of_doors\": \"two\", \"body_style\": \"hatchback\", \"drive_wheels\": \"rwd\", \"engine_location\": \"front\", \"wheel_base\": 102.9, \"length\": 183.5, \"width\": 67.7, \"height\": 52.0, \"curb_weight\": 2976, \"engine_type\": \"dohc\", \"num_of_cylinders\": \"six\", \"engine_size\": 171, \"fuel_system\": \"mpfi\", \"bore\": 3.27, \"stroke\": 3.35, \"compression_ratio\": 9.3, \"horsepower\": 161, \"peak_rpm\": 5200, \"city_mpg\": 20, \"highway_mpg\": 24, \"price\": 16558}, {\"symboling\": 3, \"normalized_losses\": 197, \"make\": \"toyota\", \"fuel_type\": \"gas\", \"aspiration\": \"std\", \"num_of_doors\": \"two\", \"body_style\": \"hatchback\", \"drive_wheels\": \"rwd\", \"engine_location\": \"front\", \"wheel_base\": 102.9, \"length\": 183.5, \"width\": 67.7, \"height\": 52.0, \"curb_weight\": 3016, \"engine_type\": \"dohc\", \"num_of_cylinders\": \"six\", \"engine_size\": 171, \"fuel_system\": \"mpfi\", \"bore\": 3.27, \"stroke\": 3.35, \"compression_ratio\": 9.3, \"horsepower\": 161, \"peak_rpm\": 5200, \"city_mpg\": 19, \"highway_mpg\": 24, \"price\": 15998}, {\"symboling\": -1, \"normalized_losses\": 90, \"make\": \"toyota\", \"fuel_type\": \"gas\", \"aspiration\": \"std\", \"num_of_doors\": \"four\", \"body_style\": \"sedan\", \"drive_wheels\": \"rwd\", \"engine_location\": \"front\", \"wheel_base\": 104.5, \"length\": 187.8, \"width\": 66.5, \"height\": 54.1, \"curb_weight\": 3131, \"engine_type\": \"dohc\", \"num_of_cylinders\": \"six\", \"engine_size\": 171, \"fuel_system\": \"mpfi\", \"bore\": 3.27, \"stroke\": 3.35, \"compression_ratio\": 9.2, \"horsepower\": 156, \"peak_rpm\": 5200, \"city_mpg\": 20, \"highway_mpg\": 24, \"price\": 15690}, {\"symboling\": 2, \"normalized_losses\": 122, \"make\": \"volkswagen\", \"fuel_type\": \"diesel\", \"aspiration\": \"std\", \"num_of_doors\": \"two\", \"body_style\": \"sedan\", \"drive_wheels\": \"fwd\", \"engine_location\": \"front\", \"wheel_base\": 97.3, \"length\": 171.7, \"width\": 65.5, \"height\": 55.7, \"curb_weight\": 2261, \"engine_type\": \"ohc\", \"num_of_cylinders\": \"four\", \"engine_size\": 97, \"fuel_system\": \"idi\", \"bore\": 3.01, \"stroke\": 3.4, \"compression_ratio\": 23.0, \"horsepower\": 52, \"peak_rpm\": 4800, \"city_mpg\": 37, \"highway_mpg\": 46, \"price\": 7775}, {\"symboling\": 2, \"normalized_losses\": 122, \"make\": \"volkswagen\", \"fuel_type\": \"gas\", \"aspiration\": \"std\", \"num_of_doors\": \"two\", \"body_style\": \"sedan\", \"drive_wheels\": \"fwd\", \"engine_location\": \"front\", \"wheel_base\": 97.3, \"length\": 171.7, \"width\": 65.5, \"height\": 55.7, \"curb_weight\": 2209, \"engine_type\": \"ohc\", \"num_of_cylinders\": \"four\", \"engine_size\": 109, \"fuel_system\": \"mpfi\", \"bore\": 3.19, \"stroke\": 3.4, \"compression_ratio\": 9.0, \"horsepower\": 85, \"peak_rpm\": 5250, \"city_mpg\": 27, \"highway_mpg\": 34, \"price\": 7975}, {\"symboling\": 2, \"normalized_losses\": 94, \"make\": \"volkswagen\", \"fuel_type\": \"diesel\", \"aspiration\": \"std\", \"num_of_doors\": \"four\", \"body_style\": \"sedan\", \"drive_wheels\": \"fwd\", \"engine_location\": \"front\", \"wheel_base\": 97.3, \"length\": 171.7, \"width\": 65.5, \"height\": 55.7, \"curb_weight\": 2264, \"engine_type\": \"ohc\", \"num_of_cylinders\": \"four\", \"engine_size\": 97, \"fuel_system\": \"idi\", \"bore\": 3.01, \"stroke\": 3.4, \"compression_ratio\": 23.0, \"horsepower\": 52, \"peak_rpm\": 4800, \"city_mpg\": 37, \"highway_mpg\": 46, \"price\": 7995}, {\"symboling\": 2, \"normalized_losses\": 94, \"make\": \"volkswagen\", \"fuel_type\": \"gas\", \"aspiration\": \"std\", \"num_of_doors\": \"four\", \"body_style\": \"sedan\", \"drive_wheels\": \"fwd\", \"engine_location\": \"front\", \"wheel_base\": 97.3, \"length\": 171.7, \"width\": 65.5, \"height\": 55.7, \"curb_weight\": 2212, \"engine_type\": \"ohc\", \"num_of_cylinders\": \"four\", \"engine_size\": 109, \"fuel_system\": \"mpfi\", \"bore\": 3.19, \"stroke\": 3.4, \"compression_ratio\": 9.0, \"horsepower\": 85, \"peak_rpm\": 5250, \"city_mpg\": 27, \"highway_mpg\": 34, \"price\": 8195}, {\"symboling\": 2, \"normalized_losses\": 94, \"make\": \"volkswagen\", \"fuel_type\": \"gas\", \"aspiration\": \"std\", \"num_of_doors\": \"four\", \"body_style\": \"sedan\", \"drive_wheels\": \"fwd\", \"engine_location\": \"front\", \"wheel_base\": 97.3, \"length\": 171.7, \"width\": 65.5, \"height\": 55.7, \"curb_weight\": 2275, \"engine_type\": \"ohc\", \"num_of_cylinders\": \"four\", \"engine_size\": 109, \"fuel_system\": \"mpfi\", \"bore\": 3.19, \"stroke\": 3.4, \"compression_ratio\": 9.0, \"horsepower\": 85, \"peak_rpm\": 5250, \"city_mpg\": 27, \"highway_mpg\": 34, \"price\": 8495}, {\"symboling\": 2, \"normalized_losses\": 94, \"make\": \"volkswagen\", \"fuel_type\": \"diesel\", \"aspiration\": \"turbo\", \"num_of_doors\": \"four\", \"body_style\": \"sedan\", \"drive_wheels\": \"fwd\", \"engine_location\": \"front\", \"wheel_base\": 97.3, \"length\": 171.7, \"width\": 65.5, \"height\": 55.7, \"curb_weight\": 2319, \"engine_type\": \"ohc\", \"num_of_cylinders\": \"four\", \"engine_size\": 97, \"fuel_system\": \"idi\", \"bore\": 3.01, \"stroke\": 3.4, \"compression_ratio\": 23.0, \"horsepower\": 68, \"peak_rpm\": 4500, \"city_mpg\": 37, \"highway_mpg\": 42, \"price\": 9495}, {\"symboling\": 2, \"normalized_losses\": 94, \"make\": \"volkswagen\", \"fuel_type\": \"gas\", \"aspiration\": \"std\", \"num_of_doors\": \"four\", \"body_style\": \"sedan\", \"drive_wheels\": \"fwd\", \"engine_location\": \"front\", \"wheel_base\": 97.3, \"length\": 171.7, \"width\": 65.5, \"height\": 55.7, \"curb_weight\": 2300, \"engine_type\": \"ohc\", \"num_of_cylinders\": \"four\", \"engine_size\": 109, \"fuel_system\": \"mpfi\", \"bore\": 3.19, \"stroke\": 3.4, \"compression_ratio\": 10.0, \"horsepower\": 100, \"peak_rpm\": 5500, \"city_mpg\": 26, \"highway_mpg\": 32, \"price\": 9995}, {\"symboling\": 3, \"normalized_losses\": 256, \"make\": \"volkswagen\", \"fuel_type\": \"gas\", \"aspiration\": \"std\", \"num_of_doors\": \"two\", \"body_style\": \"hatchback\", \"drive_wheels\": \"fwd\", \"engine_location\": \"front\", \"wheel_base\": 94.5, \"length\": 165.7, \"width\": 64.0, \"height\": 51.4, \"curb_weight\": 2221, \"engine_type\": \"ohc\", \"num_of_cylinders\": \"four\", \"engine_size\": 109, \"fuel_system\": \"mpfi\", \"bore\": 3.19, \"stroke\": 3.4, \"compression_ratio\": 8.5, \"horsepower\": 90, \"peak_rpm\": 5500, \"city_mpg\": 24, \"highway_mpg\": 29, \"price\": 9980}, {\"symboling\": -2, \"normalized_losses\": 103, \"make\": \"volvo\", \"fuel_type\": \"gas\", \"aspiration\": \"std\", \"num_of_doors\": \"four\", \"body_style\": \"sedan\", \"drive_wheels\": \"rwd\", \"engine_location\": \"front\", \"wheel_base\": 104.3, \"length\": 188.8, \"width\": 67.2, \"height\": 56.2, \"curb_weight\": 2912, \"engine_type\": \"ohc\", \"num_of_cylinders\": \"four\", \"engine_size\": 141, \"fuel_system\": \"mpfi\", \"bore\": 3.78, \"stroke\": 3.15, \"compression_ratio\": 9.5, \"horsepower\": 114, \"peak_rpm\": 5400, \"city_mpg\": 23, \"highway_mpg\": 28, \"price\": 12940}, {\"symboling\": -1, \"normalized_losses\": 74, \"make\": \"volvo\", \"fuel_type\": \"gas\", \"aspiration\": \"std\", \"num_of_doors\": \"four\", \"body_style\": \"wagon\", \"drive_wheels\": \"rwd\", \"engine_location\": \"front\", \"wheel_base\": 104.3, \"length\": 188.8, \"width\": 67.2, \"height\": 57.5, \"curb_weight\": 3034, \"engine_type\": \"ohc\", \"num_of_cylinders\": \"four\", \"engine_size\": 141, \"fuel_system\": \"mpfi\", \"bore\": 3.78, \"stroke\": 3.15, \"compression_ratio\": 9.5, \"horsepower\": 114, \"peak_rpm\": 5400, \"city_mpg\": 23, \"highway_mpg\": 28, \"price\": 13415}, {\"symboling\": -2, \"normalized_losses\": 103, \"make\": \"volvo\", \"fuel_type\": \"gas\", \"aspiration\": \"std\", \"num_of_doors\": \"four\", \"body_style\": \"sedan\", \"drive_wheels\": \"rwd\", \"engine_location\": \"front\", \"wheel_base\": 104.3, \"length\": 188.8, \"width\": 67.2, \"height\": 56.2, \"curb_weight\": 2935, \"engine_type\": \"ohc\", \"num_of_cylinders\": \"four\", \"engine_size\": 141, \"fuel_system\": \"mpfi\", \"bore\": 3.78, \"stroke\": 3.15, \"compression_ratio\": 9.5, \"horsepower\": 114, \"peak_rpm\": 5400, \"city_mpg\": 24, \"highway_mpg\": 28, \"price\": 15985}, {\"symboling\": -1, \"normalized_losses\": 74, \"make\": \"volvo\", \"fuel_type\": \"gas\", \"aspiration\": \"std\", \"num_of_doors\": \"four\", \"body_style\": \"wagon\", \"drive_wheels\": \"rwd\", \"engine_location\": \"front\", \"wheel_base\": 104.3, \"length\": 188.8, \"width\": 67.2, \"height\": 57.5, \"curb_weight\": 3042, \"engine_type\": \"ohc\", \"num_of_cylinders\": \"four\", \"engine_size\": 141, \"fuel_system\": \"mpfi\", \"bore\": 3.78, \"stroke\": 3.15, \"compression_ratio\": 9.5, \"horsepower\": 114, \"peak_rpm\": 5400, \"city_mpg\": 24, \"highway_mpg\": 28, \"price\": 16515}, {\"symboling\": -2, \"normalized_losses\": 103, \"make\": \"volvo\", \"fuel_type\": \"gas\", \"aspiration\": \"turbo\", \"num_of_doors\": \"four\", \"body_style\": \"sedan\", \"drive_wheels\": \"rwd\", \"engine_location\": \"front\", \"wheel_base\": 104.3, \"length\": 188.8, \"width\": 67.2, \"height\": 56.2, \"curb_weight\": 3045, \"engine_type\": \"ohc\", \"num_of_cylinders\": \"four\", \"engine_size\": 130, \"fuel_system\": \"mpfi\", \"bore\": 3.62, \"stroke\": 3.15, \"compression_ratio\": 7.5, \"horsepower\": 162, \"peak_rpm\": 5100, \"city_mpg\": 17, \"highway_mpg\": 22, \"price\": 18420}, {\"symboling\": -1, \"normalized_losses\": 74, \"make\": \"volvo\", \"fuel_type\": \"gas\", \"aspiration\": \"turbo\", \"num_of_doors\": \"four\", \"body_style\": \"wagon\", \"drive_wheels\": \"rwd\", \"engine_location\": \"front\", \"wheel_base\": 104.3, \"length\": 188.8, \"width\": 67.2, \"height\": 57.5, \"curb_weight\": 3157, \"engine_type\": \"ohc\", \"num_of_cylinders\": \"four\", \"engine_size\": 130, \"fuel_system\": \"mpfi\", \"bore\": 3.62, \"stroke\": 3.15, \"compression_ratio\": 7.5, \"horsepower\": 162, \"peak_rpm\": 5100, \"city_mpg\": 17, \"highway_mpg\": 22, \"price\": 18950}, {\"symboling\": -1, \"normalized_losses\": 95, \"make\": \"volvo\", \"fuel_type\": \"gas\", \"aspiration\": \"std\", \"num_of_doors\": \"four\", \"body_style\": \"sedan\", \"drive_wheels\": \"rwd\", \"engine_location\": \"front\", \"wheel_base\": 109.1, \"length\": 188.8, \"width\": 68.9, \"height\": 55.5, \"curb_weight\": 2952, \"engine_type\": \"ohc\", \"num_of_cylinders\": \"four\", \"engine_size\": 141, \"fuel_system\": \"mpfi\", \"bore\": 3.78, \"stroke\": 3.15, \"compression_ratio\": 9.5, \"horsepower\": 114, \"peak_rpm\": 5400, \"city_mpg\": 23, \"highway_mpg\": 28, \"price\": 16845}, {\"symboling\": -1, \"normalized_losses\": 95, \"make\": \"volvo\", \"fuel_type\": \"gas\", \"aspiration\": \"turbo\", \"num_of_doors\": \"four\", \"body_style\": \"sedan\", \"drive_wheels\": \"rwd\", \"engine_location\": \"front\", \"wheel_base\": 109.1, \"length\": 188.8, \"width\": 68.8, \"height\": 55.5, \"curb_weight\": 3049, \"engine_type\": \"ohc\", \"num_of_cylinders\": \"four\", \"engine_size\": 141, \"fuel_system\": \"mpfi\", \"bore\": 3.78, \"stroke\": 3.15, \"compression_ratio\": 8.7, \"horsepower\": 160, \"peak_rpm\": 5300, \"city_mpg\": 19, \"highway_mpg\": 25, \"price\": 19045}, {\"symboling\": -1, \"normalized_losses\": 95, \"make\": \"volvo\", \"fuel_type\": \"gas\", \"aspiration\": \"std\", \"num_of_doors\": \"four\", \"body_style\": \"sedan\", \"drive_wheels\": \"rwd\", \"engine_location\": \"front\", \"wheel_base\": 109.1, \"length\": 188.8, \"width\": 68.9, \"height\": 55.5, \"curb_weight\": 3012, \"engine_type\": \"ohcv\", \"num_of_cylinders\": \"six\", \"engine_size\": 173, \"fuel_system\": \"mpfi\", \"bore\": 3.58, \"stroke\": 2.87, \"compression_ratio\": 8.8, \"horsepower\": 134, \"peak_rpm\": 5500, \"city_mpg\": 18, \"highway_mpg\": 23, \"price\": 21485}, {\"symboling\": -1, \"normalized_losses\": 95, \"make\": \"volvo\", \"fuel_type\": \"diesel\", \"aspiration\": \"turbo\", \"num_of_doors\": \"four\", \"body_style\": \"sedan\", \"drive_wheels\": \"rwd\", \"engine_location\": \"front\", \"wheel_base\": 109.1, \"length\": 188.8, \"width\": 68.9, \"height\": 55.5, \"curb_weight\": 3217, \"engine_type\": \"ohc\", \"num_of_cylinders\": \"six\", \"engine_size\": 145, \"fuel_system\": \"idi\", \"bore\": 3.01, \"stroke\": 3.4, \"compression_ratio\": 23.0, \"horsepower\": 106, \"peak_rpm\": 4800, \"city_mpg\": 26, \"highway_mpg\": 27, \"price\": 22470}, {\"symboling\": -1, \"normalized_losses\": 95, \"make\": \"volvo\", \"fuel_type\": \"gas\", \"aspiration\": \"turbo\", \"num_of_doors\": \"four\", \"body_style\": \"sedan\", \"drive_wheels\": \"rwd\", \"engine_location\": \"front\", \"wheel_base\": 109.1, \"length\": 188.8, \"width\": 68.9, \"height\": 55.5, \"curb_weight\": 3062, \"engine_type\": \"ohc\", \"num_of_cylinders\": \"four\", \"engine_size\": 141, \"fuel_system\": \"mpfi\", \"bore\": 3.78, \"stroke\": 3.15, \"compression_ratio\": 9.5, \"horsepower\": 114, \"peak_rpm\": 5400, \"city_mpg\": 19, \"highway_mpg\": 25, \"price\": 22625}]}}, {\"mode\": \"vega-lite\"});\n",
              "</script>"
            ]
          },
          "metadata": {
            "tags": []
          },
          "execution_count": 22
        }
      ]
    },
    {
      "cell_type": "code",
      "metadata": {
        "id": "dDSlpzKY49Ql",
        "colab_type": "code",
        "colab": {
          "base_uri": "https://localhost:8080/",
          "height": 224
        },
        "outputId": "0cbf7d3d-35c8-46cc-c6f8-d1c33962a249"
      },
      "source": [
        "data = data.drop(['num_of_doors'], axis=1)\n",
        "data.head()"
      ],
      "execution_count": 28,
      "outputs": [
        {
          "output_type": "execute_result",
          "data": {
            "text/html": [
              "<div>\n",
              "<style scoped>\n",
              "    .dataframe tbody tr th:only-of-type {\n",
              "        vertical-align: middle;\n",
              "    }\n",
              "\n",
              "    .dataframe tbody tr th {\n",
              "        vertical-align: top;\n",
              "    }\n",
              "\n",
              "    .dataframe thead th {\n",
              "        text-align: right;\n",
              "    }\n",
              "</style>\n",
              "<table border=\"1\" class=\"dataframe\">\n",
              "  <thead>\n",
              "    <tr style=\"text-align: right;\">\n",
              "      <th></th>\n",
              "      <th>symboling</th>\n",
              "      <th>make</th>\n",
              "      <th>fuel_type</th>\n",
              "      <th>aspiration</th>\n",
              "      <th>body_style</th>\n",
              "      <th>drive_wheels</th>\n",
              "      <th>wheel_base</th>\n",
              "      <th>length</th>\n",
              "      <th>width</th>\n",
              "      <th>curb_weight</th>\n",
              "      <th>engine_type</th>\n",
              "      <th>num_of_cylinders</th>\n",
              "      <th>engine_size</th>\n",
              "      <th>fuel_system</th>\n",
              "      <th>bore</th>\n",
              "      <th>horsepower</th>\n",
              "      <th>peak_rpm</th>\n",
              "      <th>highway_mpg</th>\n",
              "      <th>price</th>\n",
              "    </tr>\n",
              "  </thead>\n",
              "  <tbody>\n",
              "    <tr>\n",
              "      <th>0</th>\n",
              "      <td>2</td>\n",
              "      <td>audi</td>\n",
              "      <td>gas</td>\n",
              "      <td>std</td>\n",
              "      <td>sedan</td>\n",
              "      <td>fwd</td>\n",
              "      <td>99.8</td>\n",
              "      <td>176.6</td>\n",
              "      <td>66.2</td>\n",
              "      <td>2337</td>\n",
              "      <td>ohc</td>\n",
              "      <td>four</td>\n",
              "      <td>109</td>\n",
              "      <td>mpfi</td>\n",
              "      <td>3.19</td>\n",
              "      <td>102</td>\n",
              "      <td>5500</td>\n",
              "      <td>30</td>\n",
              "      <td>13950</td>\n",
              "    </tr>\n",
              "    <tr>\n",
              "      <th>1</th>\n",
              "      <td>2</td>\n",
              "      <td>audi</td>\n",
              "      <td>gas</td>\n",
              "      <td>std</td>\n",
              "      <td>sedan</td>\n",
              "      <td>4wd</td>\n",
              "      <td>99.4</td>\n",
              "      <td>176.6</td>\n",
              "      <td>66.4</td>\n",
              "      <td>2824</td>\n",
              "      <td>ohc</td>\n",
              "      <td>five</td>\n",
              "      <td>136</td>\n",
              "      <td>mpfi</td>\n",
              "      <td>3.19</td>\n",
              "      <td>115</td>\n",
              "      <td>5500</td>\n",
              "      <td>22</td>\n",
              "      <td>17450</td>\n",
              "    </tr>\n",
              "    <tr>\n",
              "      <th>2</th>\n",
              "      <td>1</td>\n",
              "      <td>audi</td>\n",
              "      <td>gas</td>\n",
              "      <td>std</td>\n",
              "      <td>sedan</td>\n",
              "      <td>fwd</td>\n",
              "      <td>105.8</td>\n",
              "      <td>192.7</td>\n",
              "      <td>71.4</td>\n",
              "      <td>2844</td>\n",
              "      <td>ohc</td>\n",
              "      <td>five</td>\n",
              "      <td>136</td>\n",
              "      <td>mpfi</td>\n",
              "      <td>3.19</td>\n",
              "      <td>110</td>\n",
              "      <td>5500</td>\n",
              "      <td>25</td>\n",
              "      <td>17710</td>\n",
              "    </tr>\n",
              "    <tr>\n",
              "      <th>3</th>\n",
              "      <td>1</td>\n",
              "      <td>audi</td>\n",
              "      <td>gas</td>\n",
              "      <td>turbo</td>\n",
              "      <td>sedan</td>\n",
              "      <td>fwd</td>\n",
              "      <td>105.8</td>\n",
              "      <td>192.7</td>\n",
              "      <td>71.4</td>\n",
              "      <td>3086</td>\n",
              "      <td>ohc</td>\n",
              "      <td>five</td>\n",
              "      <td>131</td>\n",
              "      <td>mpfi</td>\n",
              "      <td>3.13</td>\n",
              "      <td>140</td>\n",
              "      <td>5500</td>\n",
              "      <td>20</td>\n",
              "      <td>23875</td>\n",
              "    </tr>\n",
              "    <tr>\n",
              "      <th>4</th>\n",
              "      <td>2</td>\n",
              "      <td>bmw</td>\n",
              "      <td>gas</td>\n",
              "      <td>std</td>\n",
              "      <td>sedan</td>\n",
              "      <td>rwd</td>\n",
              "      <td>101.2</td>\n",
              "      <td>176.8</td>\n",
              "      <td>64.8</td>\n",
              "      <td>2395</td>\n",
              "      <td>ohc</td>\n",
              "      <td>four</td>\n",
              "      <td>108</td>\n",
              "      <td>mpfi</td>\n",
              "      <td>3.50</td>\n",
              "      <td>101</td>\n",
              "      <td>5800</td>\n",
              "      <td>29</td>\n",
              "      <td>16430</td>\n",
              "    </tr>\n",
              "  </tbody>\n",
              "</table>\n",
              "</div>"
            ],
            "text/plain": [
              "   symboling  make fuel_type  ... peak_rpm highway_mpg  price\n",
              "0          2  audi       gas  ...     5500          30  13950\n",
              "1          2  audi       gas  ...     5500          22  17450\n",
              "2          1  audi       gas  ...     5500          25  17710\n",
              "3          1  audi       gas  ...     5500          20  23875\n",
              "4          2   bmw       gas  ...     5800          29  16430\n",
              "\n",
              "[5 rows x 19 columns]"
            ]
          },
          "metadata": {
            "tags": []
          },
          "execution_count": 28
        }
      ]
    },
    {
      "cell_type": "code",
      "metadata": {
        "id": "KWMIVyGD5tNS",
        "colab_type": "code",
        "colab": {
          "base_uri": "https://localhost:8080/",
          "height": 241
        },
        "outputId": "d20cb007-d148-4cfe-fbd9-665282c137c3"
      },
      "source": [
        "data = pd.get_dummies(data, drop_first=True)\n",
        "data.head()"
      ],
      "execution_count": 29,
      "outputs": [
        {
          "output_type": "execute_result",
          "data": {
            "text/html": [
              "<div>\n",
              "<style scoped>\n",
              "    .dataframe tbody tr th:only-of-type {\n",
              "        vertical-align: middle;\n",
              "    }\n",
              "\n",
              "    .dataframe tbody tr th {\n",
              "        vertical-align: top;\n",
              "    }\n",
              "\n",
              "    .dataframe thead th {\n",
              "        text-align: right;\n",
              "    }\n",
              "</style>\n",
              "<table border=\"1\" class=\"dataframe\">\n",
              "  <thead>\n",
              "    <tr style=\"text-align: right;\">\n",
              "      <th></th>\n",
              "      <th>symboling</th>\n",
              "      <th>wheel_base</th>\n",
              "      <th>length</th>\n",
              "      <th>width</th>\n",
              "      <th>curb_weight</th>\n",
              "      <th>engine_size</th>\n",
              "      <th>bore</th>\n",
              "      <th>horsepower</th>\n",
              "      <th>peak_rpm</th>\n",
              "      <th>highway_mpg</th>\n",
              "      <th>price</th>\n",
              "      <th>make_bmw</th>\n",
              "      <th>make_chevrolet</th>\n",
              "      <th>make_dodge</th>\n",
              "      <th>make_honda</th>\n",
              "      <th>make_jaguar</th>\n",
              "      <th>make_mazda</th>\n",
              "      <th>make_mercedes-benz</th>\n",
              "      <th>make_mitsubishi</th>\n",
              "      <th>make_nissan</th>\n",
              "      <th>make_peugot</th>\n",
              "      <th>make_plymouth</th>\n",
              "      <th>make_porsche</th>\n",
              "      <th>make_saab</th>\n",
              "      <th>make_subaru</th>\n",
              "      <th>make_toyota</th>\n",
              "      <th>make_volkswagen</th>\n",
              "      <th>make_volvo</th>\n",
              "      <th>fuel_type_gas</th>\n",
              "      <th>aspiration_turbo</th>\n",
              "      <th>body_style_hardtop</th>\n",
              "      <th>body_style_hatchback</th>\n",
              "      <th>body_style_sedan</th>\n",
              "      <th>body_style_wagon</th>\n",
              "      <th>drive_wheels_fwd</th>\n",
              "      <th>drive_wheels_rwd</th>\n",
              "      <th>engine_type_l</th>\n",
              "      <th>engine_type_ohc</th>\n",
              "      <th>engine_type_ohcf</th>\n",
              "      <th>engine_type_ohcv</th>\n",
              "      <th>num_of_cylinders_five</th>\n",
              "      <th>num_of_cylinders_four</th>\n",
              "      <th>num_of_cylinders_six</th>\n",
              "      <th>num_of_cylinders_three</th>\n",
              "      <th>fuel_system_2bbl</th>\n",
              "      <th>fuel_system_idi</th>\n",
              "      <th>fuel_system_mfi</th>\n",
              "      <th>fuel_system_mpfi</th>\n",
              "      <th>fuel_system_spdi</th>\n",
              "    </tr>\n",
              "  </thead>\n",
              "  <tbody>\n",
              "    <tr>\n",
              "      <th>0</th>\n",
              "      <td>2</td>\n",
              "      <td>99.8</td>\n",
              "      <td>176.6</td>\n",
              "      <td>66.2</td>\n",
              "      <td>2337</td>\n",
              "      <td>109</td>\n",
              "      <td>3.19</td>\n",
              "      <td>102</td>\n",
              "      <td>5500</td>\n",
              "      <td>30</td>\n",
              "      <td>13950</td>\n",
              "      <td>0</td>\n",
              "      <td>0</td>\n",
              "      <td>0</td>\n",
              "      <td>0</td>\n",
              "      <td>0</td>\n",
              "      <td>0</td>\n",
              "      <td>0</td>\n",
              "      <td>0</td>\n",
              "      <td>0</td>\n",
              "      <td>0</td>\n",
              "      <td>0</td>\n",
              "      <td>0</td>\n",
              "      <td>0</td>\n",
              "      <td>0</td>\n",
              "      <td>0</td>\n",
              "      <td>0</td>\n",
              "      <td>0</td>\n",
              "      <td>1</td>\n",
              "      <td>0</td>\n",
              "      <td>0</td>\n",
              "      <td>0</td>\n",
              "      <td>1</td>\n",
              "      <td>0</td>\n",
              "      <td>1</td>\n",
              "      <td>0</td>\n",
              "      <td>0</td>\n",
              "      <td>1</td>\n",
              "      <td>0</td>\n",
              "      <td>0</td>\n",
              "      <td>0</td>\n",
              "      <td>1</td>\n",
              "      <td>0</td>\n",
              "      <td>0</td>\n",
              "      <td>0</td>\n",
              "      <td>0</td>\n",
              "      <td>0</td>\n",
              "      <td>1</td>\n",
              "      <td>0</td>\n",
              "    </tr>\n",
              "    <tr>\n",
              "      <th>1</th>\n",
              "      <td>2</td>\n",
              "      <td>99.4</td>\n",
              "      <td>176.6</td>\n",
              "      <td>66.4</td>\n",
              "      <td>2824</td>\n",
              "      <td>136</td>\n",
              "      <td>3.19</td>\n",
              "      <td>115</td>\n",
              "      <td>5500</td>\n",
              "      <td>22</td>\n",
              "      <td>17450</td>\n",
              "      <td>0</td>\n",
              "      <td>0</td>\n",
              "      <td>0</td>\n",
              "      <td>0</td>\n",
              "      <td>0</td>\n",
              "      <td>0</td>\n",
              "      <td>0</td>\n",
              "      <td>0</td>\n",
              "      <td>0</td>\n",
              "      <td>0</td>\n",
              "      <td>0</td>\n",
              "      <td>0</td>\n",
              "      <td>0</td>\n",
              "      <td>0</td>\n",
              "      <td>0</td>\n",
              "      <td>0</td>\n",
              "      <td>0</td>\n",
              "      <td>1</td>\n",
              "      <td>0</td>\n",
              "      <td>0</td>\n",
              "      <td>0</td>\n",
              "      <td>1</td>\n",
              "      <td>0</td>\n",
              "      <td>0</td>\n",
              "      <td>0</td>\n",
              "      <td>0</td>\n",
              "      <td>1</td>\n",
              "      <td>0</td>\n",
              "      <td>0</td>\n",
              "      <td>1</td>\n",
              "      <td>0</td>\n",
              "      <td>0</td>\n",
              "      <td>0</td>\n",
              "      <td>0</td>\n",
              "      <td>0</td>\n",
              "      <td>0</td>\n",
              "      <td>1</td>\n",
              "      <td>0</td>\n",
              "    </tr>\n",
              "    <tr>\n",
              "      <th>2</th>\n",
              "      <td>1</td>\n",
              "      <td>105.8</td>\n",
              "      <td>192.7</td>\n",
              "      <td>71.4</td>\n",
              "      <td>2844</td>\n",
              "      <td>136</td>\n",
              "      <td>3.19</td>\n",
              "      <td>110</td>\n",
              "      <td>5500</td>\n",
              "      <td>25</td>\n",
              "      <td>17710</td>\n",
              "      <td>0</td>\n",
              "      <td>0</td>\n",
              "      <td>0</td>\n",
              "      <td>0</td>\n",
              "      <td>0</td>\n",
              "      <td>0</td>\n",
              "      <td>0</td>\n",
              "      <td>0</td>\n",
              "      <td>0</td>\n",
              "      <td>0</td>\n",
              "      <td>0</td>\n",
              "      <td>0</td>\n",
              "      <td>0</td>\n",
              "      <td>0</td>\n",
              "      <td>0</td>\n",
              "      <td>0</td>\n",
              "      <td>0</td>\n",
              "      <td>1</td>\n",
              "      <td>0</td>\n",
              "      <td>0</td>\n",
              "      <td>0</td>\n",
              "      <td>1</td>\n",
              "      <td>0</td>\n",
              "      <td>1</td>\n",
              "      <td>0</td>\n",
              "      <td>0</td>\n",
              "      <td>1</td>\n",
              "      <td>0</td>\n",
              "      <td>0</td>\n",
              "      <td>1</td>\n",
              "      <td>0</td>\n",
              "      <td>0</td>\n",
              "      <td>0</td>\n",
              "      <td>0</td>\n",
              "      <td>0</td>\n",
              "      <td>0</td>\n",
              "      <td>1</td>\n",
              "      <td>0</td>\n",
              "    </tr>\n",
              "    <tr>\n",
              "      <th>3</th>\n",
              "      <td>1</td>\n",
              "      <td>105.8</td>\n",
              "      <td>192.7</td>\n",
              "      <td>71.4</td>\n",
              "      <td>3086</td>\n",
              "      <td>131</td>\n",
              "      <td>3.13</td>\n",
              "      <td>140</td>\n",
              "      <td>5500</td>\n",
              "      <td>20</td>\n",
              "      <td>23875</td>\n",
              "      <td>0</td>\n",
              "      <td>0</td>\n",
              "      <td>0</td>\n",
              "      <td>0</td>\n",
              "      <td>0</td>\n",
              "      <td>0</td>\n",
              "      <td>0</td>\n",
              "      <td>0</td>\n",
              "      <td>0</td>\n",
              "      <td>0</td>\n",
              "      <td>0</td>\n",
              "      <td>0</td>\n",
              "      <td>0</td>\n",
              "      <td>0</td>\n",
              "      <td>0</td>\n",
              "      <td>0</td>\n",
              "      <td>0</td>\n",
              "      <td>1</td>\n",
              "      <td>1</td>\n",
              "      <td>0</td>\n",
              "      <td>0</td>\n",
              "      <td>1</td>\n",
              "      <td>0</td>\n",
              "      <td>1</td>\n",
              "      <td>0</td>\n",
              "      <td>0</td>\n",
              "      <td>1</td>\n",
              "      <td>0</td>\n",
              "      <td>0</td>\n",
              "      <td>1</td>\n",
              "      <td>0</td>\n",
              "      <td>0</td>\n",
              "      <td>0</td>\n",
              "      <td>0</td>\n",
              "      <td>0</td>\n",
              "      <td>0</td>\n",
              "      <td>1</td>\n",
              "      <td>0</td>\n",
              "    </tr>\n",
              "    <tr>\n",
              "      <th>4</th>\n",
              "      <td>2</td>\n",
              "      <td>101.2</td>\n",
              "      <td>176.8</td>\n",
              "      <td>64.8</td>\n",
              "      <td>2395</td>\n",
              "      <td>108</td>\n",
              "      <td>3.50</td>\n",
              "      <td>101</td>\n",
              "      <td>5800</td>\n",
              "      <td>29</td>\n",
              "      <td>16430</td>\n",
              "      <td>1</td>\n",
              "      <td>0</td>\n",
              "      <td>0</td>\n",
              "      <td>0</td>\n",
              "      <td>0</td>\n",
              "      <td>0</td>\n",
              "      <td>0</td>\n",
              "      <td>0</td>\n",
              "      <td>0</td>\n",
              "      <td>0</td>\n",
              "      <td>0</td>\n",
              "      <td>0</td>\n",
              "      <td>0</td>\n",
              "      <td>0</td>\n",
              "      <td>0</td>\n",
              "      <td>0</td>\n",
              "      <td>0</td>\n",
              "      <td>1</td>\n",
              "      <td>0</td>\n",
              "      <td>0</td>\n",
              "      <td>0</td>\n",
              "      <td>1</td>\n",
              "      <td>0</td>\n",
              "      <td>0</td>\n",
              "      <td>1</td>\n",
              "      <td>0</td>\n",
              "      <td>1</td>\n",
              "      <td>0</td>\n",
              "      <td>0</td>\n",
              "      <td>0</td>\n",
              "      <td>1</td>\n",
              "      <td>0</td>\n",
              "      <td>0</td>\n",
              "      <td>0</td>\n",
              "      <td>0</td>\n",
              "      <td>0</td>\n",
              "      <td>1</td>\n",
              "      <td>0</td>\n",
              "    </tr>\n",
              "  </tbody>\n",
              "</table>\n",
              "</div>"
            ],
            "text/plain": [
              "   symboling  wheel_base  ...  fuel_system_mpfi  fuel_system_spdi\n",
              "0          2        99.8  ...                 1                 0\n",
              "1          2        99.4  ...                 1                 0\n",
              "2          1       105.8  ...                 1                 0\n",
              "3          1       105.8  ...                 1                 0\n",
              "4          2       101.2  ...                 1                 0\n",
              "\n",
              "[5 rows x 49 columns]"
            ]
          },
          "metadata": {
            "tags": []
          },
          "execution_count": 29
        }
      ]
    },
    {
      "cell_type": "code",
      "metadata": {
        "id": "yyzDrl9L6XFV",
        "colab_type": "code",
        "colab": {}
      },
      "source": [
        "from sklearn.model_selection import train_test_split"
      ],
      "execution_count": 0,
      "outputs": []
    },
    {
      "cell_type": "code",
      "metadata": {
        "id": "7JoDzTrA6XPV",
        "colab_type": "code",
        "colab": {}
      },
      "source": [
        "x = data.drop('price', axis= 1)\n",
        "y = data['price']\n",
        "\n",
        "x_train, x_test, y_train, y_test = train_test_split(x, y, test_size=0.33,random_state=42)"
      ],
      "execution_count": 0,
      "outputs": []
    },
    {
      "cell_type": "code",
      "metadata": {
        "id": "siAwr9ky6XUr",
        "colab_type": "code",
        "colab": {}
      },
      "source": [
        "from sklearn.linear_model import LinearRegression\n",
        "from sklearn.metrics import mean_absolute_error\n",
        "from sklearn.metrics import mean_squared_error\n",
        "from sklearn.metrics import r2_score"
      ],
      "execution_count": 0,
      "outputs": []
    },
    {
      "cell_type": "code",
      "metadata": {
        "id": "vrPQcfZQ6XaE",
        "colab_type": "code",
        "colab": {
          "base_uri": "https://localhost:8080/",
          "height": 68
        },
        "outputId": "b899b84d-eb81-4d34-d4d7-488d51230fd3"
      },
      "source": [
        "model = LinearRegression()\n",
        "\n",
        "model.fit(x_train,y_train)\n",
        "\n",
        "pred = model.predict(x_test)\n",
        "\n",
        "print(mean_absolute_error(y_test, pred))\n",
        "print(mean_squared_error(y_test,pred))\n",
        "\n",
        "print(r2_score(y_test,pred))"
      ],
      "execution_count": 33,
      "outputs": [
        {
          "output_type": "stream",
          "text": [
            "1330.6219075897088\n",
            "3390806.951448631\n",
            "0.874657542988818\n"
          ],
          "name": "stdout"
        }
      ]
    },
    {
      "cell_type": "code",
      "metadata": {
        "id": "57-rxfHA7rG4",
        "colab_type": "code",
        "colab": {
          "base_uri": "https://localhost:8080/",
          "height": 500
        },
        "outputId": "cc2840b2-d4e8-43f8-87c1-04eddd68b8f4"
      },
      "source": [
        "plt.figure(figsize=(10, 8 ))\n",
        "\n",
        "plt.plot(y_test.values)\n",
        "plt.plot(pred)"
      ],
      "execution_count": 34,
      "outputs": [
        {
          "output_type": "execute_result",
          "data": {
            "text/plain": [
              "[<matplotlib.lines.Line2D at 0x7fd80c5bbe48>]"
            ]
          },
          "metadata": {
            "tags": []
          },
          "execution_count": 34
        },
        {
          "output_type": "display_data",
          "data": {
            "image/png": "[encoded data removed]",
            "text/plain": [
              "<Figure size 720x576 with 1 Axes>"
            ]
          },
          "metadata": {
            "tags": [],
            "needs_background": "light"
          }
        }
      ]
    },
    {
      "cell_type": "code",
      "metadata": {
        "id": "7B6amuUW7rMx",
        "colab_type": "code",
        "colab": {}
      },
      "source": [
        ""
      ],
      "execution_count": 0,
      "outputs": []
    },
    {
      "cell_type": "code",
      "metadata": {
        "id": "Lj3sqLZl7rUc",
        "colab_type": "code",
        "colab": {}
      },
      "source": [
        ""
      ],
      "execution_count": 0,
      "outputs": []
    },
    {
      "cell_type": "code",
      "metadata": {
        "id": "xZmpHpgG7rTZ",
        "colab_type": "code",
        "colab": {}
      },
      "source": [
        ""
      ],
      "execution_count": 0,
      "outputs": []
    },
    {
      "cell_type": "code",
      "metadata": {
        "id": "MjGTinDC7rQ_",
        "colab_type": "code",
        "colab": {}
      },
      "source": [
        ""
      ],
      "execution_count": 0,
      "outputs": []
    },
    {
      "cell_type": "code",
      "metadata": {
        "id": "_Ffy2ATx7rKN",
        "colab_type": "code",
        "colab": {}
      },
      "source": [
        ""
      ],
      "execution_count": 0,
      "outputs": []
    },
    {
      "cell_type": "code",
      "metadata": {
        "id": "VQM7k2H46XdK",
        "colab_type": "code",
        "colab": {}
      },
      "source": [
        ""
      ],
      "execution_count": 0,
      "outputs": []
    },
    {
      "cell_type": "code",
      "metadata": {
        "id": "4LCIPogL6XX5",
        "colab_type": "code",
        "colab": {}
      },
      "source": [
        ""
      ],
      "execution_count": 0,
      "outputs": []
    }
  ]
}