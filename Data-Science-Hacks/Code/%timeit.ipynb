{
 "cells": [
  {
   "cell_type": "markdown",
   "metadata": {},
   "source": [
    "# Magic command - %timeit "
   ]
  },
  {
   "cell_type": "code",
   "execution_count": 8,
   "metadata": {},
   "outputs": [],
   "source": [
    "# import pandas\n",
    "import pandas as pd"
   ]
  },
  {
   "cell_type": "code",
   "execution_count": 9,
   "metadata": {},
   "outputs": [],
   "source": [
    "#Import dataset\n",
    "loan = pd.read_csv('../Data/loan_train.csv', index_col = 'Loan_ID')"
   ]
  },
  {
   "cell_type": "code",
   "execution_count": 10,
   "metadata": {},
   "outputs": [],
   "source": [
    "# Define function\n",
    "def missing(x):\n",
    "    return sum(x.isnull())"
   ]
  },
  {
   "cell_type": "code",
   "execution_count": 11,
   "metadata": {},
   "outputs": [
    {
     "data": {
      "text/html": [
       "<div>\n",
       "<style scoped>\n",
       "    .dataframe tbody tr th:only-of-type {\n",
       "        vertical-align: middle;\n",
       "    }\n",
       "\n",
       "    .dataframe tbody tr th {\n",
       "        vertical-align: top;\n",
       "    }\n",
       "\n",
       "    .dataframe thead th {\n",
       "        text-align: right;\n",
       "    }\n",
       "</style>\n",
       "<table border=\"1\" class=\"dataframe\">\n",
       "  <thead>\n",
       "    <tr style=\"text-align: right;\">\n",
       "      <th></th>\n",
       "      <th>Gender</th>\n",
       "      <th>Married</th>\n",
       "      <th>Dependents</th>\n",
       "      <th>Education</th>\n",
       "      <th>Self_Employed</th>\n",
       "      <th>ApplicantIncome</th>\n",
       "      <th>CoapplicantIncome</th>\n",
       "      <th>LoanAmount</th>\n",
       "      <th>Loan_Amount_Term</th>\n",
       "      <th>Credit_History</th>\n",
       "      <th>Property_Area</th>\n",
       "      <th>Loan_Status</th>\n",
       "    </tr>\n",
       "    <tr>\n",
       "      <th>Loan_ID</th>\n",
       "      <th></th>\n",
       "      <th></th>\n",
       "      <th></th>\n",
       "      <th></th>\n",
       "      <th></th>\n",
       "      <th></th>\n",
       "      <th></th>\n",
       "      <th></th>\n",
       "      <th></th>\n",
       "      <th></th>\n",
       "      <th></th>\n",
       "      <th></th>\n",
       "    </tr>\n",
       "  </thead>\n",
       "  <tbody>\n",
       "    <tr>\n",
       "      <th>LP001002</th>\n",
       "      <td>Male</td>\n",
       "      <td>No</td>\n",
       "      <td>0</td>\n",
       "      <td>Graduate</td>\n",
       "      <td>No</td>\n",
       "      <td>5849</td>\n",
       "      <td>0.0</td>\n",
       "      <td>NaN</td>\n",
       "      <td>360.0</td>\n",
       "      <td>1.0</td>\n",
       "      <td>Urban</td>\n",
       "      <td>Y</td>\n",
       "    </tr>\n",
       "    <tr>\n",
       "      <th>LP001003</th>\n",
       "      <td>Male</td>\n",
       "      <td>Yes</td>\n",
       "      <td>1</td>\n",
       "      <td>Graduate</td>\n",
       "      <td>No</td>\n",
       "      <td>4583</td>\n",
       "      <td>1508.0</td>\n",
       "      <td>128.0</td>\n",
       "      <td>360.0</td>\n",
       "      <td>1.0</td>\n",
       "      <td>Rural</td>\n",
       "      <td>N</td>\n",
       "    </tr>\n",
       "    <tr>\n",
       "      <th>LP001005</th>\n",
       "      <td>Male</td>\n",
       "      <td>Yes</td>\n",
       "      <td>0</td>\n",
       "      <td>Graduate</td>\n",
       "      <td>Yes</td>\n",
       "      <td>3000</td>\n",
       "      <td>0.0</td>\n",
       "      <td>66.0</td>\n",
       "      <td>360.0</td>\n",
       "      <td>1.0</td>\n",
       "      <td>Urban</td>\n",
       "      <td>Y</td>\n",
       "    </tr>\n",
       "    <tr>\n",
       "      <th>LP001006</th>\n",
       "      <td>Male</td>\n",
       "      <td>Yes</td>\n",
       "      <td>0</td>\n",
       "      <td>Not Graduate</td>\n",
       "      <td>No</td>\n",
       "      <td>2583</td>\n",
       "      <td>2358.0</td>\n",
       "      <td>120.0</td>\n",
       "      <td>360.0</td>\n",
       "      <td>1.0</td>\n",
       "      <td>Urban</td>\n",
       "      <td>Y</td>\n",
       "    </tr>\n",
       "    <tr>\n",
       "      <th>LP001008</th>\n",
       "      <td>Male</td>\n",
       "      <td>No</td>\n",
       "      <td>0</td>\n",
       "      <td>Graduate</td>\n",
       "      <td>No</td>\n",
       "      <td>6000</td>\n",
       "      <td>0.0</td>\n",
       "      <td>141.0</td>\n",
       "      <td>360.0</td>\n",
       "      <td>1.0</td>\n",
       "      <td>Urban</td>\n",
       "      <td>Y</td>\n",
       "    </tr>\n",
       "  </tbody>\n",
       "</table>\n",
       "</div>"
      ],
      "text/plain": [
       "         Gender Married Dependents     Education Self_Employed  \\\n",
       "Loan_ID                                                          \n",
       "LP001002   Male      No          0      Graduate            No   \n",
       "LP001003   Male     Yes          1      Graduate            No   \n",
       "LP001005   Male     Yes          0      Graduate           Yes   \n",
       "LP001006   Male     Yes          0  Not Graduate            No   \n",
       "LP001008   Male      No          0      Graduate            No   \n",
       "\n",
       "          ApplicantIncome  CoapplicantIncome  LoanAmount  Loan_Amount_Term  \\\n",
       "Loan_ID                                                                      \n",
       "LP001002             5849                0.0         NaN             360.0   \n",
       "LP001003             4583             1508.0       128.0             360.0   \n",
       "LP001005             3000                0.0        66.0             360.0   \n",
       "LP001006             2583             2358.0       120.0             360.0   \n",
       "LP001008             6000                0.0       141.0             360.0   \n",
       "\n",
       "          Credit_History Property_Area Loan_Status  \n",
       "Loan_ID                                             \n",
       "LP001002             1.0         Urban           Y  \n",
       "LP001003             1.0         Rural           N  \n",
       "LP001005             1.0         Urban           Y  \n",
       "LP001006             1.0         Urban           Y  \n",
       "LP001008             1.0         Urban           Y  "
      ]
     },
     "execution_count": 11,
     "metadata": {},
     "output_type": "execute_result"
    }
   ],
   "source": [
    "loan.head()"
   ]
  },
  {
   "cell_type": "code",
   "execution_count": 17,
   "metadata": {
    "scrolled": true
   },
   "outputs": [
    {
     "name": "stderr",
     "output_type": "stream",
     "text": [
      "UsageError: Line magic function `%%heat` not found.\n"
     ]
    }
   ],
   "source": [
    "# Apply per column\n",
    "%timeit time1 = loan.apply(missing, axis = 0)"
   ]
  },
  {
   "cell_type": "code",
   "execution_count": 13,
   "metadata": {},
   "outputs": [
    {
     "name": "stdout",
     "output_type": "stream",
     "text": [
      "56.9 ms ± 1.51 ms per loop (mean ± std. dev. of 7 runs, 10 loops each)\n"
     ]
    }
   ],
   "source": [
    "# Apply per row\n",
    "%timeit time2 = loan.apply(missing, axis = 1)"
   ]
  },
  {
   "cell_type": "code",
   "execution_count": 14,
   "metadata": {},
   "outputs": [
    {
     "name": "stdout",
     "output_type": "stream",
     "text": [
      "Collecting py-heat-magic\n",
      "  Downloading py-heat-magic-0.0.2.tar.gz (3.4 kB)\n",
      "Requirement already satisfied: numpy in c:\\users\\ram\\anaconda3\\lib\\site-packages (from py-heat-magic) (1.15.4)\n",
      "Requirement already satisfied: scipy in c:\\users\\ram\\anaconda3\\lib\\site-packages (from py-heat-magic) (1.1.0)\n",
      "Requirement already satisfied: matplotlib in c:\\users\\ram\\anaconda3\\lib\\site-packages (from py-heat-magic) (3.1.1)\n",
      "Requirement already satisfied: ipython in c:\\users\\ram\\anaconda3\\lib\\site-packages (from py-heat-magic) (7.2.0)\n",
      "Requirement already satisfied: jupyter in c:\\users\\ram\\anaconda3\\lib\\site-packages (from py-heat-magic) (1.0.0)\n",
      "Requirement already satisfied: pandas in c:\\users\\ram\\anaconda3\\lib\\site-packages (from py-heat-magic) (0.23.4)\n",
      "Requirement already satisfied: sympy in c:\\users\\ram\\anaconda3\\lib\\site-packages (from py-heat-magic) (1.3)\n",
      "Requirement already satisfied: nose in c:\\users\\ram\\anaconda3\\lib\\site-packages (from py-heat-magic) (1.3.7)\n",
      "Collecting py-heat\n",
      "  Downloading py-heat-0.0.6.tar.gz (7.1 kB)\n",
      "Requirement already satisfied: kiwisolver>=1.0.1 in c:\\users\\ram\\anaconda3\\lib\\site-packages (from matplotlib->py-heat-magic) (1.0.1)\n",
      "Requirement already satisfied: pyparsing!=2.0.4,!=2.1.2,!=2.1.6,>=2.0.1 in c:\\users\\ram\\anaconda3\\lib\\site-packages (from matplotlib->py-heat-magic) (2.3.0)\n",
      "Requirement already satisfied: python-dateutil>=2.1 in c:\\users\\ram\\anaconda3\\lib\\site-packages (from matplotlib->py-heat-magic) (2.7.5)\n",
      "Requirement already satisfied: cycler>=0.10 in c:\\users\\ram\\anaconda3\\lib\\site-packages (from matplotlib->py-heat-magic) (0.10.0)\n",
      "Requirement already satisfied: traitlets>=4.2 in c:\\users\\ram\\anaconda3\\lib\\site-packages (from ipython->py-heat-magic) (4.3.2)\n",
      "Requirement already satisfied: colorama; sys_platform == \"win32\" in c:\\users\\ram\\anaconda3\\lib\\site-packages (from ipython->py-heat-magic) (0.4.1)\n",
      "Requirement already satisfied: jedi>=0.10 in c:\\users\\ram\\anaconda3\\lib\\site-packages (from ipython->py-heat-magic) (0.13.2)\n",
      "Requirement already satisfied: pygments in c:\\users\\ram\\anaconda3\\lib\\site-packages (from ipython->py-heat-magic) (2.3.1)\n",
      "Requirement already satisfied: prompt-toolkit<2.1.0,>=2.0.0 in c:\\users\\ram\\anaconda3\\lib\\site-packages (from ipython->py-heat-magic) (2.0.7)\n",
      "Requirement already satisfied: decorator in c:\\users\\ram\\anaconda3\\lib\\site-packages (from ipython->py-heat-magic) (4.3.0)\n",
      "Requirement already satisfied: pickleshare in c:\\users\\ram\\anaconda3\\lib\\site-packages (from ipython->py-heat-magic) (0.7.5)\n",
      "Requirement already satisfied: setuptools>=18.5 in c:\\users\\ram\\anaconda3\\lib\\site-packages (from ipython->py-heat-magic) (40.6.3)\n",
      "Requirement already satisfied: backcall in c:\\users\\ram\\anaconda3\\lib\\site-packages (from ipython->py-heat-magic) (0.1.0)\n",
      "Requirement already satisfied: qtconsole in c:\\users\\ram\\anaconda3\\lib\\site-packages (from jupyter->py-heat-magic) (4.4.3)\n",
      "Requirement already satisfied: nbconvert in c:\\users\\ram\\anaconda3\\lib\\site-packages (from jupyter->py-heat-magic) (5.4.0)\n",
      "Requirement already satisfied: ipywidgets in c:\\users\\ram\\anaconda3\\lib\\site-packages (from jupyter->py-heat-magic) (7.4.2)\n",
      "Requirement already satisfied: notebook in c:\\users\\ram\\anaconda3\\lib\\site-packages (from jupyter->py-heat-magic) (5.7.4)\n",
      "Requirement already satisfied: ipykernel in c:\\users\\ram\\anaconda3\\lib\\site-packages (from jupyter->py-heat-magic) (5.1.0)\n",
      "Requirement already satisfied: jupyter-console in c:\\users\\ram\\anaconda3\\lib\\site-packages (from jupyter->py-heat-magic) (6.0.0)\n",
      "Requirement already satisfied: pytz>=2011k in c:\\users\\ram\\anaconda3\\lib\\site-packages (from pandas->py-heat-magic) (2018.7)\n",
      "Collecting pprofile\n",
      "  Downloading pprofile-2.0.2.tar.gz (35 kB)\n",
      "Requirement already satisfied: six>=1.5 in c:\\users\\ram\\anaconda3\\lib\\site-packages (from python-dateutil>=2.1->matplotlib->py-heat-magic) (1.12.0)\n",
      "Requirement already satisfied: ipython-genutils in c:\\users\\ram\\anaconda3\\lib\\site-packages (from traitlets>=4.2->ipython->py-heat-magic) (0.2.0)\n",
      "Requirement already satisfied: parso>=0.3.0 in c:\\users\\ram\\anaconda3\\lib\\site-packages (from jedi>=0.10->ipython->py-heat-magic) (0.3.1)\n",
      "Requirement already satisfied: wcwidth in c:\\users\\ram\\anaconda3\\lib\\site-packages (from prompt-toolkit<2.1.0,>=2.0.0->ipython->py-heat-magic) (0.1.7)\n",
      "Requirement already satisfied: jupyter_core in c:\\users\\ram\\anaconda3\\lib\\site-packages (from qtconsole->jupyter->py-heat-magic) (4.4.0)\n",
      "Requirement already satisfied: jupyter_client>=4.1 in c:\\users\\ram\\anaconda3\\lib\\site-packages (from qtconsole->jupyter->py-heat-magic) (5.2.4)\n",
      "Requirement already satisfied: mistune>=0.8.1 in c:\\users\\ram\\anaconda3\\lib\\site-packages (from nbconvert->jupyter->py-heat-magic) (0.8.4)\n",
      "Requirement already satisfied: jinja2 in c:\\users\\ram\\anaconda3\\lib\\site-packages (from nbconvert->jupyter->py-heat-magic) (2.10)\n",
      "Requirement already satisfied: nbformat>=4.4 in c:\\users\\ram\\anaconda3\\lib\\site-packages (from nbconvert->jupyter->py-heat-magic) (4.4.0)\n",
      "Requirement already satisfied: entrypoints>=0.2.2 in c:\\users\\ram\\anaconda3\\lib\\site-packages (from nbconvert->jupyter->py-heat-magic) (0.2.3)\n",
      "Requirement already satisfied: bleach in c:\\users\\ram\\anaconda3\\lib\\site-packages (from nbconvert->jupyter->py-heat-magic) (3.0.2)\n",
      "Requirement already satisfied: pandocfilters>=1.4.1 in c:\\users\\ram\\anaconda3\\lib\\site-packages (from nbconvert->jupyter->py-heat-magic) (1.4.2)\n",
      "Requirement already satisfied: testpath in c:\\users\\ram\\anaconda3\\lib\\site-packages (from nbconvert->jupyter->py-heat-magic) (0.4.2)\n",
      "Requirement already satisfied: defusedxml in c:\\users\\ram\\anaconda3\\lib\\site-packages (from nbconvert->jupyter->py-heat-magic) (0.5.0)\n",
      "Requirement already satisfied: widgetsnbextension~=3.4.0 in c:\\users\\ram\\anaconda3\\lib\\site-packages (from ipywidgets->jupyter->py-heat-magic) (3.4.2)\n",
      "Requirement already satisfied: tornado>=4 in c:\\users\\ram\\anaconda3\\lib\\site-packages (from notebook->jupyter->py-heat-magic) (5.1.1)\n",
      "Requirement already satisfied: prometheus-client in c:\\users\\ram\\anaconda3\\lib\\site-packages (from notebook->jupyter->py-heat-magic) (0.5.0)\n",
      "Requirement already satisfied: terminado>=0.8.1 in c:\\users\\ram\\anaconda3\\lib\\site-packages (from notebook->jupyter->py-heat-magic) (0.8.1)\n",
      "Requirement already satisfied: pyzmq>=17 in c:\\users\\ram\\anaconda3\\lib\\site-packages (from notebook->jupyter->py-heat-magic) (17.1.2)\n",
      "Requirement already satisfied: Send2Trash in c:\\users\\ram\\anaconda3\\lib\\site-packages (from notebook->jupyter->py-heat-magic) (1.5.0)\n",
      "Requirement already satisfied: MarkupSafe>=0.23 in c:\\users\\ram\\anaconda3\\lib\\site-packages (from jinja2->nbconvert->jupyter->py-heat-magic) (1.1.0)\n",
      "Requirement already satisfied: jsonschema!=2.5.0,>=2.4 in c:\\users\\ram\\anaconda3\\lib\\site-packages (from nbformat>=4.4->nbconvert->jupyter->py-heat-magic) (2.6.0)\n",
      "Requirement already satisfied: webencodings in c:\\users\\ram\\anaconda3\\lib\\site-packages (from bleach->nbconvert->jupyter->py-heat-magic) (0.5.1)\n",
      "Building wheels for collected packages: py-heat-magic, py-heat, pprofile\n",
      "  Building wheel for py-heat-magic (setup.py): started\n",
      "  Building wheel for py-heat-magic (setup.py): finished with status 'done'\n",
      "  Created wheel for py-heat-magic: filename=py_heat_magic-0.0.2-py3-none-any.whl size=3166 sha256=baefb04600fbaaf46106e30d837cbd3db8a8c406f7ae3633160785d25f652b26\n",
      "  Stored in directory: c:\\users\\ram\\appdata\\local\\pip\\cache\\wheels\\02\\f0\\14\\07011a5f5eae97f9bd0a5e033cdeb3962687bbd41ba706a760\n",
      "  Building wheel for py-heat (setup.py): started\n",
      "  Building wheel for py-heat (setup.py): finished with status 'done'\n",
      "  Created wheel for py-heat: filename=py_heat-0.0.6-py2.py3-none-any.whl size=7806 sha256=bddc5db9aeee0792784c57980ac7c3651aee444dd98272e725c902ee0d4eaef4\n",
      "  Stored in directory: c:\\users\\ram\\appdata\\local\\pip\\cache\\wheels\\c8\\24\\f1\\00831de5c2061877308ef5b9571b3e45a68bc29130a12eaa2b\n",
      "  Building wheel for pprofile (setup.py): started\n",
      "  Building wheel for pprofile (setup.py): finished with status 'done'\n",
      "  Created wheel for pprofile: filename=pprofile-2.0.2-py3-none-any.whl size=34084 sha256=5e1c2dfc4a62cf239ddebcd939c3c264453c056d0b3ddabd4ea45428aacf331a\n",
      "  Stored in directory: c:\\users\\ram\\appdata\\local\\pip\\cache\\wheels\\bc\\9f\\4c\\09857f1f8e810df045bd26a5c5cc983a43620faebbfac988ff\n",
      "Successfully built py-heat-magic py-heat pprofile\n",
      "Installing collected packages: pprofile, py-heat, py-heat-magic\n",
      "Successfully installed pprofile-2.0.2 py-heat-0.0.6 py-heat-magic-0.0.2\n"
     ]
    }
   ],
   "source": [
    "!pip install py-heat-magic"
   ]
  },
  {
   "cell_type": "code",
   "execution_count": 15,
   "metadata": {},
   "outputs": [],
   "source": [
    "%load_ext heat"
   ]
  },
  {
   "cell_type": "code",
   "execution_count": 20,
   "metadata": {},
   "outputs": [
    {
     "name": "stderr",
     "output_type": "stream",
     "text": [
      "UsageError: Line magic function `%%heat` not found.\n"
     ]
    }
   ],
   "source": [
    "# Apply per column\n",
    "%%heat \n",
    "time1 = loan.apply(missing, axis = 0)"
   ]
  },
  {
   "cell_type": "code",
   "execution_count": 1,
   "metadata": {},
   "outputs": [
    {
     "name": "stdout",
     "output_type": "stream",
     "text": [
      "%history\n"
     ]
    }
   ],
   "source": [
    "%history"
   ]
  },
  {
   "cell_type": "code",
   "execution_count": null,
   "metadata": {},
   "outputs": [],
   "source": []
  }
 ],
 "metadata": {
  "kernelspec": {
   "display_name": "Python 3",
   "language": "python",
   "name": "python3"
  },
  "language_info": {
   "codemirror_mode": {
    "name": "ipython",
    "version": 3
   },
   "file_extension": ".py",
   "mimetype": "text/x-python",
   "name": "python",
   "nbconvert_exporter": "python",
   "pygments_lexer": "ipython3",
   "version": "3.7.1"
  }
 },
 "nbformat": 4,
 "nbformat_minor": 2
}
