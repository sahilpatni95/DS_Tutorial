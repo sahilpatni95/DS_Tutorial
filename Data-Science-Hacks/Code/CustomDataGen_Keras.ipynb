{
 "cells": [
  {
   "cell_type": "markdown",
   "metadata": {
    "colab_type": "text",
    "id": "view-in-github"
   },
   "source": [
    "<a href=\"https://colab.research.google.com/github/faizankshaikh/Data-Science-Hacks/blob/master/CustomDataGen_Keras.ipynb\" target=\"_parent\"><img src=\"https://colab.research.google.com/assets/colab-badge.svg\" alt=\"Open In Colab\"/></a>"
   ]
  },
  {
   "cell_type": "markdown",
   "metadata": {
    "colab_type": "text",
    "id": "KM4oltUFlcok"
   },
   "source": [
    "## Create a Custom Image DataGenerator in Keras\n",
    "### Use case 1 - Multiple Input heads"
   ]
  },
  {
   "cell_type": "markdown",
   "metadata": {},
   "source": [
    "Suppose your neural net has multiple input heads, \n",
    "\n",
    "![temp](../Data/muti_input_nn.png)\n",
    "\n",
    "and you want that the data generator should be able to handle the data preparation on the fly, you can create a wrapper around ImageDataGenerator class to give the required output\n"
   ]
  },
  {
   "cell_type": "code",
   "execution_count": 1,
   "metadata": {
    "colab": {
     "base_uri": "https://localhost:8080/",
     "height": 52
    },
    "colab_type": "code",
    "id": "lJLfiwJ3kfsI",
    "outputId": "17b33cf7-0aa6-4fe6-a1b9-9a262fae6289"
   },
   "outputs": [
    {
     "name": "stdout",
     "output_type": "stream",
     "text": [
      "TensorFlow 1.x selected.\n"
     ]
    },
    {
     "name": "stderr",
     "output_type": "stream",
     "text": [
      "Using TensorFlow backend.\n"
     ]
    }
   ],
   "source": [
    "## %tensorflow_version 1.x  ####uncomment this code to run on Colab\n",
    "%matplotlib inline\n",
    "\n",
    "import numpy as np\n",
    "import matplotlib.pyplot as plt\n",
    "\n",
    "from keras.datasets import cifar10, mnist\n",
    "from keras.preprocessing.image import ImageDataGenerator"
   ]
  },
  {
   "cell_type": "code",
   "execution_count": null,
   "metadata": {
    "colab": {},
    "colab_type": "code",
    "id": "glyuCWj0kte2"
   },
   "outputs": [],
   "source": [
    "(X_train, y_train), (_, _) = cifar10.load_data()\n",
    "\n",
    "X1_train = X_train[:100]\n",
    "X2_train = X_train[100:200]\n",
    "y_train = y_train[:100]\n",
    "\n",
    "def CustomImageDataGenerator(X_list, y, batch_size):\n",
    "    # bring data in range(0, 1)\n",
    "    generator = ImageDataGenerator(rescale=1 / 255.0)\n",
    "\n",
    "    [X1, X2] = X_list\n",
    "\n",
    "    # define data generators\n",
    "    datagen1 = generator.flow(X1, y, batch_size=batch_size)\n",
    "    datagen2 = generator.flow(X2, y, batch_size=batch_size)\n",
    "\n",
    "    while True:\n",
    "        X1_proc, y = datagen1.__next__()\n",
    "        X2_proc, _ = datagen2.__next__()\n",
    "        yield [X1_proc, X2_proc], y"
   ]
  },
  {
   "cell_type": "code",
   "execution_count": null,
   "metadata": {
    "colab": {},
    "colab_type": "code",
    "id": "zOgiXMNpmH5u"
   },
   "outputs": [],
   "source": [
    "for [X1_batch, X2_batch], y_batch in CustomImageDataGenerator([X1_train, X2_train], y_train, batch_size=1):\n",
    "    break"
   ]
  },
  {
   "cell_type": "code",
   "execution_count": 4,
   "metadata": {
    "colab": {
     "base_uri": "https://localhost:8080/",
     "height": 34
    },
    "colab_type": "code",
    "id": "HKJwg0cEmKTg",
    "outputId": "13d1e8c1-ac86-4d97-e798-ac609830c39f"
   },
   "outputs": [
    {
     "data": {
      "text/plain": [
       "(1, 32, 32, 3)"
      ]
     },
     "execution_count": 4,
     "metadata": {
      "tags": []
     },
     "output_type": "execute_result"
    }
   ],
   "source": [
    "X1_batch.shape"
   ]
  },
  {
   "cell_type": "code",
   "execution_count": 5,
   "metadata": {
    "colab": {
     "base_uri": "https://localhost:8080/",
     "height": 34
    },
    "colab_type": "code",
    "id": "_pxWTmsXn6X0",
    "outputId": "29f070cd-ea79-4354-c1fb-a0ac62e61e8b"
   },
   "outputs": [
    {
     "data": {
      "text/plain": [
       "(1, 32, 32, 3)"
      ]
     },
     "execution_count": 5,
     "metadata": {
      "tags": []
     },
     "output_type": "execute_result"
    }
   ],
   "source": [
    "X2_batch.shape"
   ]
  },
  {
   "cell_type": "code",
   "execution_count": 6,
   "metadata": {
    "colab": {
     "base_uri": "https://localhost:8080/",
     "height": 283
    },
    "colab_type": "code",
    "id": "04lCFpWkoBZX",
    "outputId": "25046062-6355-4ffd-90b7-81c84603ff41"
   },
   "outputs": [
    {
     "data": {
      "text/plain": [
       "<matplotlib.image.AxesImage at 0x7f63aa7cb908>"
      ]
     },
     "execution_count": 6,
     "metadata": {
      "tags": []
     },
     "output_type": "execute_result"
    },
    {
     "data": {
      "image/png": "[encoded data removed]",
      "text/plain": [
       "<Figure size 432x288 with 1 Axes>"
      ]
     },
     "metadata": {
      "tags": []
     },
     "output_type": "display_data"
    }
   ],
   "source": [
    "plt.imshow(X1_batch[0])"
   ]
  },
  {
   "cell_type": "code",
   "execution_count": 7,
   "metadata": {
    "colab": {
     "base_uri": "https://localhost:8080/",
     "height": 283
    },
    "colab_type": "code",
    "id": "I7zkmq1CsrCh",
    "outputId": "e56221a2-f222-4622-fbf5-a2546d971551"
   },
   "outputs": [
    {
     "data": {
      "text/plain": [
       "<matplotlib.image.AxesImage at 0x7f63aadab518>"
      ]
     },
     "execution_count": 7,
     "metadata": {
      "tags": []
     },
     "output_type": "execute_result"
    },
    {
     "data": {
      "image/png": "[encoded data removed]",
      "text/plain": [
       "<Figure size 432x288 with 1 Axes>"
      ]
     },
     "metadata": {
      "tags": []
     },
     "output_type": "display_data"
    }
   ],
   "source": [
    "plt.imshow(X2_batch[0])"
   ]
  },
  {
   "cell_type": "code",
   "execution_count": null,
   "metadata": {
    "colab": {},
    "colab_type": "code",
    "id": "ADjhh-fWsz_a"
   },
   "outputs": [],
   "source": []
  }
 ],
 "metadata": {
  "colab": {
   "authorship_tag": "ABX9TyMMh2Am6OBdx/rAjPpu+Kq4",
   "include_colab_link": true,
   "name": "Untitled10.ipynb",
   "provenance": []
  },
  "kernelspec": {
   "display_name": "Python 3",
   "name": "python3"
  },
  "language_info": {
   "name": ""
  }
 },
 "nbformat": 4,
 "nbformat_minor": 4
}
