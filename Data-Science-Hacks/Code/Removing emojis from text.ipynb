{
 "cells": [
  {
   "cell_type": "markdown",
   "metadata": {},
   "source": [
    "# Removing Emojis from Text"
   ]
  },
  {
   "cell_type": "code",
   "execution_count": 4,
   "metadata": {},
   "outputs": [
    {
     "name": "stdout",
     "output_type": "stream",
     "text": [
      "Raw tweet: Hi 😂! Have a nice weekend 💕👭\n",
      "Preprocessed tweet: Hi ! Have a nice weekend \n"
     ]
    }
   ],
   "source": [
    "text= \"Hi 😂! Have a nice weekend 💕👭\"\n",
    "preprocessed_text=text.encode('ascii', 'ignore').decode('ascii')\n",
    "\n",
    "print(\"Raw tweet:\",text)  #with emoji\n",
    "print(\"Preprocessed tweet:\",preprocessed_text) # no emoji"
   ]
  },
  {
   "cell_type": "code",
   "execution_count": null,
   "metadata": {},
   "outputs": [],
   "source": []
  }
 ],
 "metadata": {
  "kernelspec": {
   "display_name": "Python 3",
   "language": "python",
   "name": "python3"
  },
  "language_info": {
   "codemirror_mode": {
    "name": "ipython",
    "version": 3
   },
   "file_extension": ".py",
   "mimetype": "text/x-python",
   "name": "python",
   "nbconvert_exporter": "python",
   "pygments_lexer": "ipython3",
   "version": "3.7.1"
  }
 },
 "nbformat": 4,
 "nbformat_minor": 2
}
