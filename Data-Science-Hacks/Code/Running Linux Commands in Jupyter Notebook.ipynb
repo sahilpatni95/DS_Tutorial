{
 "cells": [
  {
   "cell_type": "markdown",
   "metadata": {},
   "source": [
    "---\n",
    "\n",
    "## Running Linux Commands in Jupyter Notebook\n",
    "\n",
    "---"
   ]
  },
  {
   "cell_type": "code",
   "execution_count": 3,
   "metadata": {},
   "outputs": [
    {
     "name": "stdout",
     "output_type": "stream",
     "text": [
      "    606   14292  113629\r\n"
     ]
    }
   ],
   "source": [
    "# get the number of lines, word count and character count\n",
    "!cat 'ind-ban-comment.csv' | wc "
   ]
  },
  {
   "cell_type": "code",
   "execution_count": 4,
   "metadata": {},
   "outputs": [
    {
     "name": "stdout",
     "output_type": "stream",
     "text": [
      "Batsman,Batsman_Name,Bowler,Bowler_Name,Commentary,Detail,Dismissed,Id,Isball,Isboundary,Iswicket,Over,Runs,Timestamp\r\n",
      "28994,Mohammed Shami,63881,Mustafizur Rahman,\"OUT! Bowled! 5-fer to finish a tremendous last over. His 4th 5-wicket haul in ODIs. Around off, Shami moves across to paddle but misses the ball hits his pads and goes onto hit the stumps. 2 wickets and just 3 runs from the final over. Top notch from Mustafizur. INDIA FINISH WITH 314/9 FROM THEIR 50 OVERS.\",W,28994,346,True,,1,49.6,0,2019-07-02 13:18:47\r\n",
      "5132,Bhuvneshwar Kumar,63881,Mustafizur Rahman,\"WIDE AND RUN OUT! Slower delivery outside off, it is on the wrong side of the tramline. Shami comes for a run. Bhuvi was slow though. Rahim throws it to Mustafizur, who hits the stumps at the bowler's end. The umpire takes it upstairs but Bhuvneshwar had started to walk back even before the replays rolled in.\",W+wd,5132,344,True,,1,49.6,1,2019-07-02 13:17:28\r\n",
      "28994,Mohammed Shami,63881,Mustafizur Rahman,\"Back of a length ball on off, Shami pulls it to deep mid-wicket and gets a single.\",,,343,True,,,49.5,1,2019-07-02 13:16:03\r\n",
      "5132,Bhuvneshwar Kumar,63881,Mustafizur Rahman,\"Just 1 run off the 4 balls. This is World Class stuff. Good length ball on off, Kumar punches it to the side of the pitch and gets a single.\",,,342,True,,,49.4,1,2019-07-02 13:15:17\r\n",
      "3676,MS Dhoni,63881,Mustafizur Rahman,\"OUT! No Dhoni magic in the last over. Slower bouncer away from the body, Dhoni looks to flat-bat it straight over the bowler's head. It comes off the upper half of his bat and goes to the left of mid on. Shakib moves across to his left hand side and takes an easy catch.\",W,3676,340,True,,1,49.3,0,2019-07-02 13:13:39\r\n",
      "3676,MS Dhoni,63881,Mustafizur Rahman,\"Another dot. Bangladesh will take this. Short and slow, Dhoni pulls it to Shakib at short mid-wicket.\",,,339,True,,,49.2,0,2019-07-02 13:12:47\r\n",
      "cat: write error: Broken pipe\r\n"
     ]
    }
   ],
   "source": [
    "# get the top 7 rows\n",
    "!cat 'ind-ban-comment.csv' | head -7"
   ]
  },
  {
   "cell_type": "code",
   "execution_count": null,
   "metadata": {},
   "outputs": [],
   "source": []
  }
 ],
 "metadata": {
  "kernelspec": {
   "display_name": "Python 3",
   "language": "python",
   "name": "python3"
  },
  "language_info": {
   "codemirror_mode": {
    "name": "ipython",
    "version": 3
   },
   "file_extension": ".py",
   "mimetype": "text/x-python",
   "name": "python",
   "nbconvert_exporter": "python",
   "pygments_lexer": "ipython3",
   "version": "3.7.3"
  }
 },
 "nbformat": 4,
 "nbformat_minor": 2
}
