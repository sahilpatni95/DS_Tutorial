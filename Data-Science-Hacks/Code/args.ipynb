{
 "cells": [
  {
   "cell_type": "markdown",
   "metadata": {},
   "source": [
    "## Let us understand *args in Python"
   ]
  },
  {
   "cell_type": "code",
   "execution_count": 7,
   "metadata": {},
   "outputs": [],
   "source": [
    "# Function to calculate averages\n",
    "# We will input variable number of arguaments using *args\n",
    "\n",
    "def calculate_average_new(*num):\n",
    "    add = sum(num)\n",
    "    count = len(num)\n",
    "\n",
    "   \n",
    "    average = (add / count)  \n",
    "\n",
    "       \n",
    "    print(\"The average of values is\", average)"
   ]
  },
  {
   "cell_type": "code",
   "execution_count": 13,
   "metadata": {},
   "outputs": [
    {
     "name": "stdout",
     "output_type": "stream",
     "text": [
      "The average of values is 7.5\n"
     ]
    }
   ],
   "source": [
    "# Calculate average of 2 values\n",
    "\n",
    "calculate_average(7,8)"
   ]
  },
  {
   "cell_type": "code",
   "execution_count": 14,
   "metadata": {},
   "outputs": [
    {
     "name": "stdout",
     "output_type": "stream",
     "text": [
      "The average of values is 8.25\n"
     ]
    }
   ],
   "source": [
    "# Calculate Value of 4 values\n",
    "\n",
    "calculate_average(3,8,9,13)"
   ]
  },
  {
   "cell_type": "code",
   "execution_count": 15,
   "metadata": {},
   "outputs": [
    {
     "name": "stdout",
     "output_type": "stream",
     "text": [
      "The average of values is 58.07692307692308\n"
     ]
    }
   ],
   "source": [
    "# Calculate Value of 13 values\n",
    "\n",
    "calculate_average(3,8,9,10,4,5,6,11,22,32,100,200,345)"
   ]
  },
  {
   "cell_type": "code",
   "execution_count": 16,
   "metadata": {},
   "outputs": [
    {
     "name": "stdout",
     "output_type": "stream",
     "text": [
      "The average of values is 8.25\n"
     ]
    }
   ],
   "source": [
    "calculate_average(3,8,9,13)"
   ]
  }
 ],
 "metadata": {
  "kernelspec": {
   "display_name": "Python 3",
   "language": "python",
   "name": "python3"
  },
  "language_info": {
   "codemirror_mode": {
    "name": "ipython",
    "version": 3
   },
   "file_extension": ".py",
   "mimetype": "text/x-python",
   "name": "python",
   "nbconvert_exporter": "python",
   "pygments_lexer": "ipython3",
   "version": "3.7.1"
  }
 },
 "nbformat": 4,
 "nbformat_minor": 2
}
