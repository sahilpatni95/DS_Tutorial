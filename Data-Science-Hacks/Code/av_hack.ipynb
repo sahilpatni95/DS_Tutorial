{
 "cells": [
  {
   "cell_type": "code",
   "execution_count": null,
   "metadata": {
    "colab": {
     "base_uri": "https://localhost:8080/",
     "height": 122
    },
    "colab_type": "code",
    "id": "XG57bzU6cJ2U",
    "outputId": "26641faf-bc75-4bc5-9616-080905d329e0"
   },
   "outputs": [],
   "source": [
    "!pip install tokenizers"
   ]
  },
  {
   "cell_type": "code",
   "execution_count": 6,
   "metadata": {
    "colab": {
     "base_uri": "https://localhost:8080/",
     "height": 336
    },
    "colab_type": "code",
    "id": "iQ17w2Q5azCt",
    "outputId": "2c5c5f7f-4b84-41d4-f87b-745f003e1b78"
   },
   "outputs": [
    {
     "name": "stdout",
     "output_type": "stream",
     "text": [
      "Unique id: [39, 68, 75, 297, 0, 220, 39, 78, 86, 257, 264, 220, 88, 274, 30]\n",
      "Tokens: ['H', 'e', 'l', 'lo', '!', 'Ġ', 'H', 'o', 'w', 'Ġa', 're', 'Ġ', 'y', 'ou', '?']\n",
      "Merges: [(0, 1), (1, 2), (2, 3), (3, 5), (5, 6), (6, 7), (7, 8), (8, 9), (9, 10), (10, 12), (12, 14), (14, 15), (15, 16), (16, 18), (18, 19)]\n"
     ]
    }
   ],
   "source": [
    "#importing different tokenizers\n",
    "from tokenizers import (ByteLevelBPETokenizer,\n",
    "                            BPETokenizer,\n",
    "                            SentencePieceBPETokenizer,\n",
    "                            BertWordPieceTokenizer)\n",
    "#instantiate tokenizer\n",
    "tokenizer = ByteLevelBPETokenizer()\n",
    "\n",
    "#train with our own data\n",
    "tokenizer.train([\"sample.txt\"], vocab_size=20000)\n",
    "\n",
    "#Lets tokenize the sentence\n",
    "output = tokenizer.encode(\"Hello! How are you?\")\n",
    "\n",
    "print(\"Unique id:\",output.ids)\n",
    "print(\"Tokens:\",output.tokens)\n",
    "print(\"Merges:\",output.offsets)"
   ]
  },
  {
   "cell_type": "code",
   "execution_count": 7,
   "metadata": {
    "colab": {
     "base_uri": "https://localhost:8080/",
     "height": 163
    },
    "colab_type": "code",
    "id": "9qKgNFrabgCm",
    "outputId": "e6ed2a40-e822-4ff2-d0f6-af4569c1deb5"
   },
   "outputs": [
    {
     "data": {
      "text/plain": [
       "'H'"
      ]
     },
     "execution_count": 7,
     "metadata": {},
     "output_type": "execute_result"
    }
   ],
   "source": [
    "#converting integer back to character\n",
    "output.original_str[output.offsets[0]]"
   ]
  },
  {
   "cell_type": "code",
   "execution_count": 0,
   "metadata": {
    "colab": {},
    "colab_type": "code",
    "id": "xqE2EH9Otv0w"
   },
   "outputs": [],
   "source": []
  }
 ],
 "metadata": {
  "colab": {
   "name": "av hack.ipynb",
   "provenance": []
  },
  "kernelspec": {
   "display_name": "Python 3",
   "language": "python",
   "name": "python3"
  },
  "language_info": {
   "codemirror_mode": {
    "name": "ipython",
    "version": 3
   },
   "file_extension": ".py",
   "mimetype": "text/x-python",
   "name": "python",
   "nbconvert_exporter": "python",
   "pygments_lexer": "ipython3",
   "version": "3.7.1"
  }
 },
 "nbformat": 4,
 "nbformat_minor": 1
}
