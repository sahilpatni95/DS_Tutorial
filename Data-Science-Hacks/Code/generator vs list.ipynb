{
 "cells": [
  {
   "cell_type": "markdown",
   "metadata": {},
   "source": [
    "## Python List Comprehension v/s Python Generators"
   ]
  },
  {
   "cell_type": "code",
   "execution_count": 49,
   "metadata": {},
   "outputs": [],
   "source": [
    "from sys import getsizeof"
   ]
  },
  {
   "cell_type": "code",
   "execution_count": 50,
   "metadata": {},
   "outputs": [],
   "source": [
    "# list comprehension\n",
    "list_comp = [i**3 for i in range(10000)]\n",
    "# generator expression\n",
    "gen_comp = (i**3 for i in range(10000))"
   ]
  },
  {
   "cell_type": "code",
   "execution_count": 51,
   "metadata": {},
   "outputs": [
    {
     "name": "stdout",
     "output_type": "stream",
     "text": [
      "Size of list is :  87624\n"
     ]
    }
   ],
   "source": [
    "# size of list comprehension\n",
    "a = getsizeof(list_comp)\n",
    "print(\"Size of list is : \", a)"
   ]
  },
  {
   "cell_type": "code",
   "execution_count": 52,
   "metadata": {},
   "outputs": [
    {
     "name": "stdout",
     "output_type": "stream",
     "text": [
      "Size of generator is :  120\n"
     ]
    }
   ],
   "source": [
    "#size of generator expression\n",
    "b = getsizeof(gen_comp)\n",
    "print(\"Size of generator is : \", b)"
   ]
  },
  {
   "cell_type": "code",
   "execution_count": 53,
   "metadata": {},
   "outputs": [
    {
     "name": "stdout",
     "output_type": "stream",
     "text": [
      "9.14460999999983\n"
     ]
    }
   ],
   "source": [
    "# time taken by list comprehension\n",
    "import timeit\n",
    "print(timeit.timeit('''list_com = [i for i in range(100) if i % 2 == 0]'''))"
   ]
  },
  {
   "cell_type": "code",
   "execution_count": 54,
   "metadata": {},
   "outputs": [
    {
     "name": "stdout",
     "output_type": "stream",
     "text": [
      "0.7809511999998904\n"
     ]
    }
   ],
   "source": [
    "# time taken by generator expression \n",
    "print(timeit.timeit('''list_com = (i for i in range(100) if i % 2 == 0)'''))"
   ]
  },
  {
   "cell_type": "code",
   "execution_count": null,
   "metadata": {},
   "outputs": [],
   "source": []
  }
 ],
 "metadata": {
  "kernelspec": {
   "display_name": "Python 3",
   "language": "python",
   "name": "python3"
  },
  "language_info": {
   "codemirror_mode": {
    "name": "ipython",
    "version": 3
   },
   "file_extension": ".py",
   "mimetype": "text/x-python",
   "name": "python",
   "nbconvert_exporter": "python",
   "pygments_lexer": "ipython3",
   "version": "3.7.1"
  }
 },
 "nbformat": 4,
 "nbformat_minor": 2
}
