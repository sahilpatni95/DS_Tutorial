{
 "cells": [
  {
   "cell_type": "code",
   "execution_count": 1,
   "metadata": {},
   "outputs": [
    {
     "data": {
      "text/html": [
       "        <script type=\"text/javascript\">\n",
       "        window.PlotlyConfig = {MathJaxConfig: 'local'};\n",
       "        if (window.MathJax) {MathJax.Hub.Config({SVG: {font: \"STIX-Web\"}});}\n",
       "        if (typeof require !== 'undefined') {\n",
       "        require.undef(\"plotly\");\n",
       "        requirejs.config({\n",
       "            paths: {\n",
       "                'plotly': ['https://cdn.plot.ly/plotly-latest.min']\n",
       "            }\n",
       "        });\n",
       "        require(['plotly'], function(Plotly) {\n",
       "            window._Plotly = Plotly;\n",
       "        });\n",
       "        }\n",
       "        </script>\n",
       "        "
      ]
     },
     "metadata": {},
     "output_type": "display_data"
    }
   ],
   "source": [
    "# import libraries\n",
    "import pandas as pd\n",
    "from chart_studio.plotly import plot, iplot\n",
    "import cufflinks as cf\n",
    "import numpy as np"
   ]
  },
  {
   "cell_type": "code",
   "execution_count": 2,
   "metadata": {},
   "outputs": [
    {
     "data": {
      "text/html": [
       "        <script type=\"text/javascript\">\n",
       "        window.PlotlyConfig = {MathJaxConfig: 'local'};\n",
       "        if (window.MathJax) {MathJax.Hub.Config({SVG: {font: \"STIX-Web\"}});}\n",
       "        if (typeof require !== 'undefined') {\n",
       "        require.undef(\"plotly\");\n",
       "        requirejs.config({\n",
       "            paths: {\n",
       "                'plotly': ['https://cdn.plot.ly/plotly-latest.min']\n",
       "            }\n",
       "        });\n",
       "        require(['plotly'], function(Plotly) {\n",
       "            window._Plotly = Plotly;\n",
       "        });\n",
       "        }\n",
       "        </script>\n",
       "        "
      ]
     },
     "metadata": {},
     "output_type": "display_data"
    }
   ],
   "source": [
    "cf.set_config_file(theme='ggplot',sharing='public',offline=True)\n"
   ]
  },
  {
   "cell_type": "code",
   "execution_count": 3,
   "metadata": {},
   "outputs": [
    {
     "data": {
      "text/html": [
       "<div>\n",
       "<style scoped>\n",
       "    .dataframe tbody tr th:only-of-type {\n",
       "        vertical-align: middle;\n",
       "    }\n",
       "\n",
       "    .dataframe tbody tr th {\n",
       "        vertical-align: top;\n",
       "    }\n",
       "\n",
       "    .dataframe thead th {\n",
       "        text-align: right;\n",
       "    }\n",
       "</style>\n",
       "<table border=\"1\" class=\"dataframe\">\n",
       "  <thead>\n",
       "    <tr style=\"text-align: right;\">\n",
       "      <th></th>\n",
       "      <th>Loan_ID</th>\n",
       "      <th>Gender</th>\n",
       "      <th>Married</th>\n",
       "      <th>Dependents</th>\n",
       "      <th>Education</th>\n",
       "      <th>Self_Employed</th>\n",
       "      <th>ApplicantIncome</th>\n",
       "      <th>CoapplicantIncome</th>\n",
       "      <th>LoanAmount</th>\n",
       "      <th>Loan_Amount_Term</th>\n",
       "      <th>Credit_History</th>\n",
       "      <th>Property_Area</th>\n",
       "      <th>Loan_Status</th>\n",
       "    </tr>\n",
       "  </thead>\n",
       "  <tbody>\n",
       "    <tr>\n",
       "      <th>0</th>\n",
       "      <td>LP001002</td>\n",
       "      <td>Male</td>\n",
       "      <td>No</td>\n",
       "      <td>0</td>\n",
       "      <td>Graduate</td>\n",
       "      <td>No</td>\n",
       "      <td>5849</td>\n",
       "      <td>0.0</td>\n",
       "      <td>NaN</td>\n",
       "      <td>360.0</td>\n",
       "      <td>1.0</td>\n",
       "      <td>Urban</td>\n",
       "      <td>Y</td>\n",
       "    </tr>\n",
       "    <tr>\n",
       "      <th>1</th>\n",
       "      <td>LP001003</td>\n",
       "      <td>Male</td>\n",
       "      <td>Yes</td>\n",
       "      <td>1</td>\n",
       "      <td>Graduate</td>\n",
       "      <td>No</td>\n",
       "      <td>4583</td>\n",
       "      <td>1508.0</td>\n",
       "      <td>128.0</td>\n",
       "      <td>360.0</td>\n",
       "      <td>1.0</td>\n",
       "      <td>Rural</td>\n",
       "      <td>N</td>\n",
       "    </tr>\n",
       "    <tr>\n",
       "      <th>2</th>\n",
       "      <td>LP001005</td>\n",
       "      <td>Male</td>\n",
       "      <td>Yes</td>\n",
       "      <td>0</td>\n",
       "      <td>Graduate</td>\n",
       "      <td>Yes</td>\n",
       "      <td>3000</td>\n",
       "      <td>0.0</td>\n",
       "      <td>66.0</td>\n",
       "      <td>360.0</td>\n",
       "      <td>1.0</td>\n",
       "      <td>Urban</td>\n",
       "      <td>Y</td>\n",
       "    </tr>\n",
       "    <tr>\n",
       "      <th>3</th>\n",
       "      <td>LP001006</td>\n",
       "      <td>Male</td>\n",
       "      <td>Yes</td>\n",
       "      <td>0</td>\n",
       "      <td>Not Graduate</td>\n",
       "      <td>No</td>\n",
       "      <td>2583</td>\n",
       "      <td>2358.0</td>\n",
       "      <td>120.0</td>\n",
       "      <td>360.0</td>\n",
       "      <td>1.0</td>\n",
       "      <td>Urban</td>\n",
       "      <td>Y</td>\n",
       "    </tr>\n",
       "    <tr>\n",
       "      <th>4</th>\n",
       "      <td>LP001008</td>\n",
       "      <td>Male</td>\n",
       "      <td>No</td>\n",
       "      <td>0</td>\n",
       "      <td>Graduate</td>\n",
       "      <td>No</td>\n",
       "      <td>6000</td>\n",
       "      <td>0.0</td>\n",
       "      <td>141.0</td>\n",
       "      <td>360.0</td>\n",
       "      <td>1.0</td>\n",
       "      <td>Urban</td>\n",
       "      <td>Y</td>\n",
       "    </tr>\n",
       "  </tbody>\n",
       "</table>\n",
       "</div>"
      ],
      "text/plain": [
       "    Loan_ID Gender Married Dependents     Education Self_Employed  \\\n",
       "0  LP001002   Male      No          0      Graduate            No   \n",
       "1  LP001003   Male     Yes          1      Graduate            No   \n",
       "2  LP001005   Male     Yes          0      Graduate           Yes   \n",
       "3  LP001006   Male     Yes          0  Not Graduate            No   \n",
       "4  LP001008   Male      No          0      Graduate            No   \n",
       "\n",
       "   ApplicantIncome  CoapplicantIncome  LoanAmount  Loan_Amount_Term  \\\n",
       "0             5849                0.0         NaN             360.0   \n",
       "1             4583             1508.0       128.0             360.0   \n",
       "2             3000                0.0        66.0             360.0   \n",
       "3             2583             2358.0       120.0             360.0   \n",
       "4             6000                0.0       141.0             360.0   \n",
       "\n",
       "   Credit_History Property_Area Loan_Status  \n",
       "0             1.0         Urban           Y  \n",
       "1             1.0         Rural           N  \n",
       "2             1.0         Urban           Y  \n",
       "3             1.0         Urban           Y  \n",
       "4             1.0         Urban           Y  "
      ]
     },
     "execution_count": 3,
     "metadata": {},
     "output_type": "execute_result"
    }
   ],
   "source": [
    "# import data\n",
    "data = pd.read_csv('../Data/loan_train.csv')\n",
    "data.head()"
   ]
  },
  {
   "cell_type": "code",
   "execution_count": 4,
   "metadata": {},
   "outputs": [
    {
     "data": {
      "application/vnd.plotly.v1+json": {
       "config": {
        "linkText": "Export to plot.ly",
        "plotlyServerURL": "https://plot.ly",
        "showLink": true
       },
       "data": [
        {
         "histfunc": "count",
         "histnorm": "",
         "marker": {
          "color": "rgba(226, 74, 51, 1.0)",
          "line": {
           "color": "#D9D9D9",
           "width": 1.3
          }
         },
         "name": "Property_Area",
         "opacity": 0.8,
         "orientation": "v",
         "type": "histogram",
         "x": [
          "Urban",
          "Rural",
          "Urban",
          "Urban",
          "Urban",
          "Urban",
          "Urban",
          "Semiurban",
          "Urban",
          "Semiurban",
          "Urban",
          "Urban",
          "Urban",
          "Rural",
          "Urban",
          "Urban",
          "Urban",
          "Urban",
          "Rural",
          "Urban",
          "Urban",
          "Urban",
          "Semiurban",
          "Rural",
          "Semiurban",
          "Semiurban",
          "Semiurban",
          "Urban",
          "Urban",
          "Semiurban",
          "Urban",
          "Urban",
          "Rural",
          "Semiurban",
          "Rural",
          "Urban",
          "Urban",
          "Semiurban",
          "Urban",
          "Semiurban",
          "Urban",
          "Urban",
          "Urban",
          "Semiurban",
          "Urban",
          "Urban",
          "Urban",
          "Urban",
          "Urban",
          "Semiurban",
          "Semiurban",
          "Semiurban",
          "Semiurban",
          "Urban",
          "Urban",
          "Semiurban",
          "Semiurban",
          "Rural",
          "Urban",
          "Urban",
          "Urban",
          "Urban",
          "Rural",
          "Rural",
          "Semiurban",
          "Semiurban",
          "Urban",
          "Urban",
          "Urban",
          "Semiurban",
          "Urban",
          "Semiurban",
          "Semiurban",
          "Semiurban",
          "Semiurban",
          "Urban",
          "Urban",
          "Urban",
          "Semiurban",
          "Semiurban",
          "Semiurban",
          "Semiurban",
          "Urban",
          "Semiurban",
          "Urban",
          "Semiurban",
          "Semiurban",
          "Semiurban",
          "Urban",
          "Semiurban",
          "Semiurban",
          "Semiurban",
          "Urban",
          "Semiurban",
          "Semiurban",
          "Urban",
          "Semiurban",
          "Semiurban",
          "Semiurban",
          "Semiurban",
          "Urban",
          "Semiurban",
          "Urban",
          "Semiurban",
          "Urban",
          "Urban",
          "Urban",
          "Rural",
          "Urban",
          "Semiurban",
          "Urban",
          "Semiurban",
          "Rural",
          "Semiurban",
          "Semiurban",
          "Rural",
          "Semiurban",
          "Urban",
          "Rural",
          "Urban",
          "Rural",
          "Semiurban",
          "Semiurban",
          "Semiurban",
          "Rural",
          "Rural",
          "Rural",
          "Rural",
          "Urban",
          "Rural",
          "Urban",
          "Urban",
          "Semiurban",
          "Semiurban",
          "Semiurban",
          "Semiurban",
          "Rural",
          "Urban",
          "Semiurban",
          "Rural",
          "Rural",
          "Urban",
          "Semiurban",
          "Semiurban",
          "Urban",
          "Semiurban",
          "Urban",
          "Urban",
          "Rural",
          "Semiurban",
          "Rural",
          "Rural",
          "Urban",
          "Rural",
          "Urban",
          "Semiurban",
          "Rural",
          "Urban",
          "Rural",
          "Semiurban",
          "Semiurban",
          "Urban",
          "Semiurban",
          "Rural",
          "Urban",
          "Rural",
          "Rural",
          "Rural",
          "Semiurban",
          "Semiurban",
          "Rural",
          "Urban",
          "Rural",
          "Semiurban",
          "Semiurban",
          "Rural",
          "Rural",
          "Semiurban",
          "Semiurban",
          "Urban",
          "Urban",
          "Rural",
          "Semiurban",
          "Semiurban",
          "Semiurban",
          "Semiurban",
          "Rural",
          "Rural",
          "Rural",
          "Rural",
          "Rural",
          "Semiurban",
          "Urban",
          "Semiurban",
          "Rural",
          "Semiurban",
          "Rural",
          "Urban",
          "Semiurban",
          "Urban",
          "Semiurban",
          "Semiurban",
          "Urban",
          "Urban",
          "Semiurban",
          "Semiurban",
          "Urban",
          "Rural",
          "Urban",
          "Semiurban",
          "Semiurban",
          "Semiurban",
          "Urban",
          "Rural",
          "Urban",
          "Semiurban",
          "Rural",
          "Semiurban",
          "Semiurban",
          "Semiurban",
          "Urban",
          "Semiurban",
          "Semiurban",
          "Semiurban",
          "Semiurban",
          "Rural",
          "Urban",
          "Semiurban",
          "Semiurban",
          "Rural",
          "Semiurban",
          "Rural",
          "Rural",
          "Semiurban",
          "Semiurban",
          "Rural",
          "Urban",
          "Urban",
          "Rural",
          "Semiurban",
          "Rural",
          "Urban",
          "Urban",
          "Rural",
          "Semiurban",
          "Urban",
          "Urban",
          "Urban",
          "Semiurban",
          "Urban",
          "Semiurban",
          "Urban",
          "Rural",
          "Semiurban",
          "Urban",
          "Rural",
          "Rural",
          "Urban",
          "Rural",
          "Semiurban",
          "Urban",
          "Semiurban",
          "Semiurban",
          "Rural",
          "Semiurban",
          "Rural",
          "Semiurban",
          "Urban",
          "Rural",
          "Urban",
          "Urban",
          "Urban",
          "Rural",
          "Semiurban",
          "Semiurban",
          "Semiurban",
          "Semiurban",
          "Urban",
          "Semiurban",
          "Rural",
          "Urban",
          "Semiurban",
          "Urban",
          "Urban",
          "Rural",
          "Rural",
          "Semiurban",
          "Rural",
          "Semiurban",
          "Rural",
          "Rural",
          "Semiurban",
          "Urban",
          "Urban",
          "Semiurban",
          "Urban",
          "Semiurban",
          "Urban",
          "Rural",
          "Urban",
          "Urban",
          "Semiurban",
          "Rural",
          "Urban",
          "Rural",
          "Urban",
          "Rural",
          "Urban",
          "Rural",
          "Rural",
          "Semiurban",
          "Semiurban",
          "Rural",
          "Rural",
          "Rural",
          "Urban",
          "Semiurban",
          "Urban",
          "Semiurban",
          "Rural",
          "Semiurban",
          "Semiurban",
          "Rural",
          "Rural",
          "Rural",
          "Rural",
          "Rural",
          "Semiurban",
          "Urban",
          "Urban",
          "Urban",
          "Semiurban",
          "Urban",
          "Urban",
          "Urban",
          "Semiurban",
          "Rural",
          "Rural",
          "Urban",
          "Semiurban",
          "Rural",
          "Rural",
          "Urban",
          "Semiurban",
          "Rural",
          "Semiurban",
          "Rural",
          "Urban",
          "Semiurban",
          "Rural",
          "Semiurban",
          "Rural",
          "Rural",
          "Rural",
          "Semiurban",
          "Urban",
          "Rural",
          "Urban",
          "Urban",
          "Semiurban",
          "Semiurban",
          "Semiurban",
          "Urban",
          "Urban",
          "Rural",
          "Rural",
          "Semiurban",
          "Rural",
          "Semiurban",
          "Rural",
          "Semiurban",
          "Semiurban",
          "Rural",
          "Urban",
          "Urban",
          "Urban",
          "Rural",
          "Semiurban",
          "Urban",
          "Urban",
          "Semiurban",
          "Semiurban",
          "Urban",
          "Urban",
          "Urban",
          "Urban",
          "Semiurban",
          "Urban",
          "Urban",
          "Rural",
          "Rural",
          "Rural",
          "Urban",
          "Semiurban",
          "Urban",
          "Semiurban",
          "Urban",
          "Urban",
          "Rural",
          "Semiurban",
          "Urban",
          "Rural",
          "Semiurban",
          "Semiurban",
          "Rural",
          "Semiurban",
          "Urban",
          "Rural",
          "Semiurban",
          "Rural",
          "Semiurban",
          "Urban",
          "Rural",
          "Rural",
          "Semiurban",
          "Urban",
          "Urban",
          "Urban",
          "Rural",
          "Semiurban",
          "Rural",
          "Urban",
          "Urban",
          "Urban",
          "Semiurban",
          "Rural",
          "Rural",
          "Semiurban",
          "Rural",
          "Urban",
          "Semiurban",
          "Rural",
          "Semiurban",
          "Semiurban",
          "Urban",
          "Semiurban",
          "Semiurban",
          "Urban",
          "Urban",
          "Rural",
          "Semiurban",
          "Rural",
          "Semiurban",
          "Semiurban",
          "Rural",
          "Rural",
          "Rural",
          "Rural",
          "Rural",
          "Semiurban",
          "Rural",
          "Urban",
          "Rural",
          "Rural",
          "Semiurban",
          "Semiurban",
          "Urban",
          "Urban",
          "Rural",
          "Semiurban",
          "Semiurban",
          "Urban",
          "Rural",
          "Semiurban",
          "Semiurban",
          "Rural",
          "Urban",
          "Semiurban",
          "Semiurban",
          "Urban",
          "Semiurban",
          "Rural",
          "Semiurban",
          "Urban",
          "Rural",
          "Rural",
          "Semiurban",
          "Semiurban",
          "Semiurban",
          "Urban",
          "Rural",
          "Rural",
          "Semiurban",
          "Semiurban",
          "Semiurban",
          "Rural",
          "Rural",
          "Urban",
          "Semiurban",
          "Urban",
          "Semiurban",
          "Urban",
          "Rural",
          "Semiurban",
          "Rural",
          "Semiurban",
          "Rural",
          "Urban",
          "Semiurban",
          "Rural",
          "Rural",
          "Semiurban",
          "Semiurban",
          "Rural",
          "Semiurban",
          "Rural",
          "Urban",
          "Urban",
          "Urban",
          "Urban",
          "Rural",
          "Semiurban",
          "Urban",
          "Semiurban",
          "Rural",
          "Rural",
          "Semiurban",
          "Semiurban",
          "Semiurban",
          "Rural",
          "Semiurban",
          "Semiurban",
          "Rural",
          "Rural",
          "Semiurban",
          "Rural",
          "Semiurban",
          "Semiurban",
          "Semiurban",
          "Semiurban",
          "Rural",
          "Urban",
          "Rural",
          "Semiurban",
          "Urban",
          "Rural",
          "Urban",
          "Semiurban",
          "Rural",
          "Rural",
          "Semiurban",
          "Semiurban",
          "Semiurban",
          "Urban",
          "Semiurban",
          "Rural",
          "Semiurban",
          "Rural",
          "Semiurban",
          "Rural",
          "Rural",
          "Rural",
          "Urban",
          "Urban",
          "Rural",
          "Semiurban",
          "Urban",
          "Semiurban",
          "Semiurban",
          "Semiurban",
          "Semiurban",
          "Semiurban",
          "Rural",
          "Semiurban",
          "Urban",
          "Rural",
          "Urban",
          "Rural",
          "Urban",
          "Urban",
          "Urban",
          "Urban",
          "Urban",
          "Semiurban",
          "Semiurban",
          "Urban",
          "Semiurban",
          "Urban",
          "Rural",
          "Urban",
          "Semiurban",
          "Urban",
          "Semiurban",
          "Rural",
          "Rural",
          "Rural",
          "Urban",
          "Semiurban",
          "Semiurban",
          "Semiurban",
          "Semiurban",
          "Semiurban",
          "Semiurban",
          "Rural",
          "Urban",
          "Rural",
          "Rural",
          "Semiurban",
          "Rural",
          "Urban",
          "Urban",
          "Rural",
          "Urban",
          "Rural",
          "Semiurban",
          "Urban",
          "Semiurban",
          "Rural",
          "Rural",
          "Rural",
          "Rural",
          "Urban",
          "Urban",
          "Semiurban"
         ]
        }
       ],
       "layout": {
        "barmode": "overlay",
        "legend": {
         "bgcolor": "#FFFFFF",
         "font": {
          "color": "#666666"
         }
        },
        "paper_bgcolor": "#FFFFFF",
        "plot_bgcolor": "#E5E5E5",
        "template": {
         "data": {
          "bar": [
           {
            "error_x": {
             "color": "#2a3f5f"
            },
            "error_y": {
             "color": "#2a3f5f"
            },
            "marker": {
             "line": {
              "color": "#E5ECF6",
              "width": 0.5
             }
            },
            "type": "bar"
           }
          ],
          "barpolar": [
           {
            "marker": {
             "line": {
              "color": "#E5ECF6",
              "width": 0.5
             }
            },
            "type": "barpolar"
           }
          ],
          "carpet": [
           {
            "aaxis": {
             "endlinecolor": "#2a3f5f",
             "gridcolor": "white",
             "linecolor": "white",
             "minorgridcolor": "white",
             "startlinecolor": "#2a3f5f"
            },
            "baxis": {
             "endlinecolor": "#2a3f5f",
             "gridcolor": "white",
             "linecolor": "white",
             "minorgridcolor": "white",
             "startlinecolor": "#2a3f5f"
            },
            "type": "carpet"
           }
          ],
          "choropleth": [
           {
            "colorbar": {
             "outlinewidth": 0,
             "ticks": ""
            },
            "type": "choropleth"
           }
          ],
          "contour": [
           {
            "colorbar": {
             "outlinewidth": 0,
             "ticks": ""
            },
            "colorscale": [
             [
              0,
              "#0d0887"
             ],
             [
              0.1111111111111111,
              "#46039f"
             ],
             [
              0.2222222222222222,
              "#7201a8"
             ],
             [
              0.3333333333333333,
              "#9c179e"
             ],
             [
              0.4444444444444444,
              "#bd3786"
             ],
             [
              0.5555555555555556,
              "#d8576b"
             ],
             [
              0.6666666666666666,
              "#ed7953"
             ],
             [
              0.7777777777777778,
              "#fb9f3a"
             ],
             [
              0.8888888888888888,
              "#fdca26"
             ],
             [
              1,
              "#f0f921"
             ]
            ],
            "type": "contour"
           }
          ],
          "contourcarpet": [
           {
            "colorbar": {
             "outlinewidth": 0,
             "ticks": ""
            },
            "type": "contourcarpet"
           }
          ],
          "heatmap": [
           {
            "colorbar": {
             "outlinewidth": 0,
             "ticks": ""
            },
            "colorscale": [
             [
              0,
              "#0d0887"
             ],
             [
              0.1111111111111111,
              "#46039f"
             ],
             [
              0.2222222222222222,
              "#7201a8"
             ],
             [
              0.3333333333333333,
              "#9c179e"
             ],
             [
              0.4444444444444444,
              "#bd3786"
             ],
             [
              0.5555555555555556,
              "#d8576b"
             ],
             [
              0.6666666666666666,
              "#ed7953"
             ],
             [
              0.7777777777777778,
              "#fb9f3a"
             ],
             [
              0.8888888888888888,
              "#fdca26"
             ],
             [
              1,
              "#f0f921"
             ]
            ],
            "type": "heatmap"
           }
          ],
          "heatmapgl": [
           {
            "colorbar": {
             "outlinewidth": 0,
             "ticks": ""
            },
            "colorscale": [
             [
              0,
              "#0d0887"
             ],
             [
              0.1111111111111111,
              "#46039f"
             ],
             [
              0.2222222222222222,
              "#7201a8"
             ],
             [
              0.3333333333333333,
              "#9c179e"
             ],
             [
              0.4444444444444444,
              "#bd3786"
             ],
             [
              0.5555555555555556,
              "#d8576b"
             ],
             [
              0.6666666666666666,
              "#ed7953"
             ],
             [
              0.7777777777777778,
              "#fb9f3a"
             ],
             [
              0.8888888888888888,
              "#fdca26"
             ],
             [
              1,
              "#f0f921"
             ]
            ],
            "type": "heatmapgl"
           }
          ],
          "histogram": [
           {
            "marker": {
             "colorbar": {
              "outlinewidth": 0,
              "ticks": ""
             }
            },
            "type": "histogram"
           }
          ],
          "histogram2d": [
           {
            "colorbar": {
             "outlinewidth": 0,
             "ticks": ""
            },
            "colorscale": [
             [
              0,
              "#0d0887"
             ],
             [
              0.1111111111111111,
              "#46039f"
             ],
             [
              0.2222222222222222,
              "#7201a8"
             ],
             [
              0.3333333333333333,
              "#9c179e"
             ],
             [
              0.4444444444444444,
              "#bd3786"
             ],
             [
              0.5555555555555556,
              "#d8576b"
             ],
             [
              0.6666666666666666,
              "#ed7953"
             ],
             [
              0.7777777777777778,
              "#fb9f3a"
             ],
             [
              0.8888888888888888,
              "#fdca26"
             ],
             [
              1,
              "#f0f921"
             ]
            ],
            "type": "histogram2d"
           }
          ],
          "histogram2dcontour": [
           {
            "colorbar": {
             "outlinewidth": 0,
             "ticks": ""
            },
            "colorscale": [
             [
              0,
              "#0d0887"
             ],
             [
              0.1111111111111111,
              "#46039f"
             ],
             [
              0.2222222222222222,
              "#7201a8"
             ],
             [
              0.3333333333333333,
              "#9c179e"
             ],
             [
              0.4444444444444444,
              "#bd3786"
             ],
             [
              0.5555555555555556,
              "#d8576b"
             ],
             [
              0.6666666666666666,
              "#ed7953"
             ],
             [
              0.7777777777777778,
              "#fb9f3a"
             ],
             [
              0.8888888888888888,
              "#fdca26"
             ],
             [
              1,
              "#f0f921"
             ]
            ],
            "type": "histogram2dcontour"
           }
          ],
          "mesh3d": [
           {
            "colorbar": {
             "outlinewidth": 0,
             "ticks": ""
            },
            "type": "mesh3d"
           }
          ],
          "parcoords": [
           {
            "line": {
             "colorbar": {
              "outlinewidth": 0,
              "ticks": ""
             }
            },
            "type": "parcoords"
           }
          ],
          "pie": [
           {
            "automargin": true,
            "type": "pie"
           }
          ],
          "scatter": [
           {
            "marker": {
             "colorbar": {
              "outlinewidth": 0,
              "ticks": ""
             }
            },
            "type": "scatter"
           }
          ],
          "scatter3d": [
           {
            "line": {
             "colorbar": {
              "outlinewidth": 0,
              "ticks": ""
             }
            },
            "marker": {
             "colorbar": {
              "outlinewidth": 0,
              "ticks": ""
             }
            },
            "type": "scatter3d"
           }
          ],
          "scattercarpet": [
           {
            "marker": {
             "colorbar": {
              "outlinewidth": 0,
              "ticks": ""
             }
            },
            "type": "scattercarpet"
           }
          ],
          "scattergeo": [
           {
            "marker": {
             "colorbar": {
              "outlinewidth": 0,
              "ticks": ""
             }
            },
            "type": "scattergeo"
           }
          ],
          "scattergl": [
           {
            "marker": {
             "colorbar": {
              "outlinewidth": 0,
              "ticks": ""
             }
            },
            "type": "scattergl"
           }
          ],
          "scattermapbox": [
           {
            "marker": {
             "colorbar": {
              "outlinewidth": 0,
              "ticks": ""
             }
            },
            "type": "scattermapbox"
           }
          ],
          "scatterpolar": [
           {
            "marker": {
             "colorbar": {
              "outlinewidth": 0,
              "ticks": ""
             }
            },
            "type": "scatterpolar"
           }
          ],
          "scatterpolargl": [
           {
            "marker": {
             "colorbar": {
              "outlinewidth": 0,
              "ticks": ""
             }
            },
            "type": "scatterpolargl"
           }
          ],
          "scatterternary": [
           {
            "marker": {
             "colorbar": {
              "outlinewidth": 0,
              "ticks": ""
             }
            },
            "type": "scatterternary"
           }
          ],
          "surface": [
           {
            "colorbar": {
             "outlinewidth": 0,
             "ticks": ""
            },
            "colorscale": [
             [
              0,
              "#0d0887"
             ],
             [
              0.1111111111111111,
              "#46039f"
             ],
             [
              0.2222222222222222,
              "#7201a8"
             ],
             [
              0.3333333333333333,
              "#9c179e"
             ],
             [
              0.4444444444444444,
              "#bd3786"
             ],
             [
              0.5555555555555556,
              "#d8576b"
             ],
             [
              0.6666666666666666,
              "#ed7953"
             ],
             [
              0.7777777777777778,
              "#fb9f3a"
             ],
             [
              0.8888888888888888,
              "#fdca26"
             ],
             [
              1,
              "#f0f921"
             ]
            ],
            "type": "surface"
           }
          ],
          "table": [
           {
            "cells": {
             "fill": {
              "color": "#EBF0F8"
             },
             "line": {
              "color": "white"
             }
            },
            "header": {
             "fill": {
              "color": "#C8D4E3"
             },
             "line": {
              "color": "white"
             }
            },
            "type": "table"
           }
          ]
         },
         "layout": {
          "annotationdefaults": {
           "arrowcolor": "#2a3f5f",
           "arrowhead": 0,
           "arrowwidth": 1
          },
          "coloraxis": {
           "colorbar": {
            "outlinewidth": 0,
            "ticks": ""
           }
          },
          "colorscale": {
           "diverging": [
            [
             0,
             "#8e0152"
            ],
            [
             0.1,
             "#c51b7d"
            ],
            [
             0.2,
             "#de77ae"
            ],
            [
             0.3,
             "#f1b6da"
            ],
            [
             0.4,
             "#fde0ef"
            ],
            [
             0.5,
             "#f7f7f7"
            ],
            [
             0.6,
             "#e6f5d0"
            ],
            [
             0.7,
             "#b8e186"
            ],
            [
             0.8,
             "#7fbc41"
            ],
            [
             0.9,
             "#4d9221"
            ],
            [
             1,
             "#276419"
            ]
           ],
           "sequential": [
            [
             0,
             "#0d0887"
            ],
            [
             0.1111111111111111,
             "#46039f"
            ],
            [
             0.2222222222222222,
             "#7201a8"
            ],
            [
             0.3333333333333333,
             "#9c179e"
            ],
            [
             0.4444444444444444,
             "#bd3786"
            ],
            [
             0.5555555555555556,
             "#d8576b"
            ],
            [
             0.6666666666666666,
             "#ed7953"
            ],
            [
             0.7777777777777778,
             "#fb9f3a"
            ],
            [
             0.8888888888888888,
             "#fdca26"
            ],
            [
             1,
             "#f0f921"
            ]
           ],
           "sequentialminus": [
            [
             0,
             "#0d0887"
            ],
            [
             0.1111111111111111,
             "#46039f"
            ],
            [
             0.2222222222222222,
             "#7201a8"
            ],
            [
             0.3333333333333333,
             "#9c179e"
            ],
            [
             0.4444444444444444,
             "#bd3786"
            ],
            [
             0.5555555555555556,
             "#d8576b"
            ],
            [
             0.6666666666666666,
             "#ed7953"
            ],
            [
             0.7777777777777778,
             "#fb9f3a"
            ],
            [
             0.8888888888888888,
             "#fdca26"
            ],
            [
             1,
             "#f0f921"
            ]
           ]
          },
          "colorway": [
           "#636efa",
           "#EF553B",
           "#00cc96",
           "#ab63fa",
           "#FFA15A",
           "#19d3f3",
           "#FF6692",
           "#B6E880",
           "#FF97FF",
           "#FECB52"
          ],
          "font": {
           "color": "#2a3f5f"
          },
          "geo": {
           "bgcolor": "white",
           "lakecolor": "white",
           "landcolor": "#E5ECF6",
           "showlakes": true,
           "showland": true,
           "subunitcolor": "white"
          },
          "hoverlabel": {
           "align": "left"
          },
          "hovermode": "closest",
          "mapbox": {
           "style": "light"
          },
          "paper_bgcolor": "white",
          "plot_bgcolor": "#E5ECF6",
          "polar": {
           "angularaxis": {
            "gridcolor": "white",
            "linecolor": "white",
            "ticks": ""
           },
           "bgcolor": "#E5ECF6",
           "radialaxis": {
            "gridcolor": "white",
            "linecolor": "white",
            "ticks": ""
           }
          },
          "scene": {
           "xaxis": {
            "backgroundcolor": "#E5ECF6",
            "gridcolor": "white",
            "gridwidth": 2,
            "linecolor": "white",
            "showbackground": true,
            "ticks": "",
            "zerolinecolor": "white"
           },
           "yaxis": {
            "backgroundcolor": "#E5ECF6",
            "gridcolor": "white",
            "gridwidth": 2,
            "linecolor": "white",
            "showbackground": true,
            "ticks": "",
            "zerolinecolor": "white"
           },
           "zaxis": {
            "backgroundcolor": "#E5ECF6",
            "gridcolor": "white",
            "gridwidth": 2,
            "linecolor": "white",
            "showbackground": true,
            "ticks": "",
            "zerolinecolor": "white"
           }
          },
          "shapedefaults": {
           "line": {
            "color": "#2a3f5f"
           }
          },
          "ternary": {
           "aaxis": {
            "gridcolor": "white",
            "linecolor": "white",
            "ticks": ""
           },
           "baxis": {
            "gridcolor": "white",
            "linecolor": "white",
            "ticks": ""
           },
           "bgcolor": "#E5ECF6",
           "caxis": {
            "gridcolor": "white",
            "linecolor": "white",
            "ticks": ""
           }
          },
          "title": {
           "x": 0.05
          },
          "xaxis": {
           "automargin": true,
           "gridcolor": "white",
           "linecolor": "white",
           "ticks": "",
           "title": {
            "standoff": 15
           },
           "zerolinecolor": "white",
           "zerolinewidth": 2
          },
          "yaxis": {
           "automargin": true,
           "gridcolor": "white",
           "linecolor": "white",
           "ticks": "",
           "title": {
            "standoff": 15
           },
           "zerolinecolor": "white",
           "zerolinewidth": 2
          }
         }
        },
        "title": {
         "font": {
          "color": "#151516"
         }
        },
        "xaxis": {
         "gridcolor": "#F6F6F6",
         "showgrid": true,
         "tickfont": {
          "color": "#666666"
         },
         "title": {
          "font": {
           "color": "#666666"
          },
          "text": ""
         },
         "zerolinecolor": "#F6F6F6"
        },
        "yaxis": {
         "gridcolor": "#F6F6F6",
         "showgrid": true,
         "tickfont": {
          "color": "#666666"
         },
         "title": {
          "font": {
           "color": "#666666"
          },
          "text": ""
         },
         "zerolinecolor": "#F6F6F6"
        }
       }
      },
      "text/html": [
       "<div>\n",
       "        \n",
       "        \n",
       "            <div id=\"f26d227f-d562-4d86-94cb-f909fe7fd9ec\" class=\"plotly-graph-div\" style=\"height:525px; width:100%;\"></div>\n",
       "            <script type=\"text/javascript\">\n",
       "                require([\"plotly\"], function(Plotly) {\n",
       "                    window.PLOTLYENV=window.PLOTLYENV || {};\n",
       "                    window.PLOTLYENV.BASE_URL='https://plot.ly';\n",
       "                    \n",
       "                if (document.getElementById(\"f26d227f-d562-4d86-94cb-f909fe7fd9ec\")) {\n",
       "                    Plotly.newPlot(\n",
       "                        'f26d227f-d562-4d86-94cb-f909fe7fd9ec',\n",
       "                        [{\"histfunc\": \"count\", \"histnorm\": \"\", \"marker\": {\"color\": \"rgba(226, 74, 51, 1.0)\", \"line\": {\"color\": \"#D9D9D9\", \"width\": 1.3}}, \"name\": \"Property_Area\", \"opacity\": 0.8, \"orientation\": \"v\", \"type\": \"histogram\", \"x\": [\"Urban\", \"Rural\", \"Urban\", \"Urban\", \"Urban\", \"Urban\", \"Urban\", \"Semiurban\", \"Urban\", \"Semiurban\", \"Urban\", \"Urban\", \"Urban\", \"Rural\", \"Urban\", \"Urban\", \"Urban\", \"Urban\", \"Rural\", \"Urban\", \"Urban\", \"Urban\", \"Semiurban\", \"Rural\", \"Semiurban\", \"Semiurban\", \"Semiurban\", \"Urban\", \"Urban\", \"Semiurban\", \"Urban\", \"Urban\", \"Rural\", \"Semiurban\", \"Rural\", \"Urban\", \"Urban\", \"Semiurban\", \"Urban\", \"Semiurban\", \"Urban\", \"Urban\", \"Urban\", \"Semiurban\", \"Urban\", \"Urban\", \"Urban\", \"Urban\", \"Urban\", \"Semiurban\", \"Semiurban\", \"Semiurban\", \"Semiurban\", \"Urban\", \"Urban\", \"Semiurban\", \"Semiurban\", \"Rural\", \"Urban\", \"Urban\", \"Urban\", \"Urban\", \"Rural\", \"Rural\", \"Semiurban\", \"Semiurban\", \"Urban\", \"Urban\", \"Urban\", \"Semiurban\", \"Urban\", \"Semiurban\", \"Semiurban\", \"Semiurban\", \"Semiurban\", \"Urban\", \"Urban\", \"Urban\", \"Semiurban\", \"Semiurban\", \"Semiurban\", \"Semiurban\", \"Urban\", \"Semiurban\", \"Urban\", \"Semiurban\", \"Semiurban\", \"Semiurban\", \"Urban\", \"Semiurban\", \"Semiurban\", \"Semiurban\", \"Urban\", \"Semiurban\", \"Semiurban\", \"Urban\", \"Semiurban\", \"Semiurban\", \"Semiurban\", \"Semiurban\", \"Urban\", \"Semiurban\", \"Urban\", \"Semiurban\", \"Urban\", \"Urban\", \"Urban\", \"Rural\", \"Urban\", \"Semiurban\", \"Urban\", \"Semiurban\", \"Rural\", \"Semiurban\", \"Semiurban\", \"Rural\", \"Semiurban\", \"Urban\", \"Rural\", \"Urban\", \"Rural\", \"Semiurban\", \"Semiurban\", \"Semiurban\", \"Rural\", \"Rural\", \"Rural\", \"Rural\", \"Urban\", \"Rural\", \"Urban\", \"Urban\", \"Semiurban\", \"Semiurban\", \"Semiurban\", \"Semiurban\", \"Rural\", \"Urban\", \"Semiurban\", \"Rural\", \"Rural\", \"Urban\", \"Semiurban\", \"Semiurban\", \"Urban\", \"Semiurban\", \"Urban\", \"Urban\", \"Rural\", \"Semiurban\", \"Rural\", \"Rural\", \"Urban\", \"Rural\", \"Urban\", \"Semiurban\", \"Rural\", \"Urban\", \"Rural\", \"Semiurban\", \"Semiurban\", \"Urban\", \"Semiurban\", \"Rural\", \"Urban\", \"Rural\", \"Rural\", \"Rural\", \"Semiurban\", \"Semiurban\", \"Rural\", \"Urban\", \"Rural\", \"Semiurban\", \"Semiurban\", \"Rural\", \"Rural\", \"Semiurban\", \"Semiurban\", \"Urban\", \"Urban\", \"Rural\", \"Semiurban\", \"Semiurban\", \"Semiurban\", \"Semiurban\", \"Rural\", \"Rural\", \"Rural\", \"Rural\", \"Rural\", \"Semiurban\", \"Urban\", \"Semiurban\", \"Rural\", \"Semiurban\", \"Rural\", \"Urban\", \"Semiurban\", \"Urban\", \"Semiurban\", \"Semiurban\", \"Urban\", \"Urban\", \"Semiurban\", \"Semiurban\", \"Urban\", \"Rural\", \"Urban\", \"Semiurban\", \"Semiurban\", \"Semiurban\", \"Urban\", \"Rural\", \"Urban\", \"Semiurban\", \"Rural\", \"Semiurban\", \"Semiurban\", \"Semiurban\", \"Urban\", \"Semiurban\", \"Semiurban\", \"Semiurban\", \"Semiurban\", \"Rural\", \"Urban\", \"Semiurban\", \"Semiurban\", \"Rural\", \"Semiurban\", \"Rural\", \"Rural\", \"Semiurban\", \"Semiurban\", \"Rural\", \"Urban\", \"Urban\", \"Rural\", \"Semiurban\", \"Rural\", \"Urban\", \"Urban\", \"Rural\", \"Semiurban\", \"Urban\", \"Urban\", \"Urban\", \"Semiurban\", \"Urban\", \"Semiurban\", \"Urban\", \"Rural\", \"Semiurban\", \"Urban\", \"Rural\", \"Rural\", \"Urban\", \"Rural\", \"Semiurban\", \"Urban\", \"Semiurban\", \"Semiurban\", \"Rural\", \"Semiurban\", \"Rural\", \"Semiurban\", \"Urban\", \"Rural\", \"Urban\", \"Urban\", \"Urban\", \"Rural\", \"Semiurban\", \"Semiurban\", \"Semiurban\", \"Semiurban\", \"Urban\", \"Semiurban\", \"Rural\", \"Urban\", \"Semiurban\", \"Urban\", \"Urban\", \"Rural\", \"Rural\", \"Semiurban\", \"Rural\", \"Semiurban\", \"Rural\", \"Rural\", \"Semiurban\", \"Urban\", \"Urban\", \"Semiurban\", \"Urban\", \"Semiurban\", \"Urban\", \"Rural\", \"Urban\", \"Urban\", \"Semiurban\", \"Rural\", \"Urban\", \"Rural\", \"Urban\", \"Rural\", \"Urban\", \"Rural\", \"Rural\", \"Semiurban\", \"Semiurban\", \"Rural\", \"Rural\", \"Rural\", \"Urban\", \"Semiurban\", \"Urban\", \"Semiurban\", \"Rural\", \"Semiurban\", \"Semiurban\", \"Rural\", \"Rural\", \"Rural\", \"Rural\", \"Rural\", \"Semiurban\", \"Urban\", \"Urban\", \"Urban\", \"Semiurban\", \"Urban\", \"Urban\", \"Urban\", \"Semiurban\", \"Rural\", \"Rural\", \"Urban\", \"Semiurban\", \"Rural\", \"Rural\", \"Urban\", \"Semiurban\", \"Rural\", \"Semiurban\", \"Rural\", \"Urban\", \"Semiurban\", \"Rural\", \"Semiurban\", \"Rural\", \"Rural\", \"Rural\", \"Semiurban\", \"Urban\", \"Rural\", \"Urban\", \"Urban\", \"Semiurban\", \"Semiurban\", \"Semiurban\", \"Urban\", \"Urban\", \"Rural\", \"Rural\", \"Semiurban\", \"Rural\", \"Semiurban\", \"Rural\", \"Semiurban\", \"Semiurban\", \"Rural\", \"Urban\", \"Urban\", \"Urban\", \"Rural\", \"Semiurban\", \"Urban\", \"Urban\", \"Semiurban\", \"Semiurban\", \"Urban\", \"Urban\", \"Urban\", \"Urban\", \"Semiurban\", \"Urban\", \"Urban\", \"Rural\", \"Rural\", \"Rural\", \"Urban\", \"Semiurban\", \"Urban\", \"Semiurban\", \"Urban\", \"Urban\", \"Rural\", \"Semiurban\", \"Urban\", \"Rural\", \"Semiurban\", \"Semiurban\", \"Rural\", \"Semiurban\", \"Urban\", \"Rural\", \"Semiurban\", \"Rural\", \"Semiurban\", \"Urban\", \"Rural\", \"Rural\", \"Semiurban\", \"Urban\", \"Urban\", \"Urban\", \"Rural\", \"Semiurban\", \"Rural\", \"Urban\", \"Urban\", \"Urban\", \"Semiurban\", \"Rural\", \"Rural\", \"Semiurban\", \"Rural\", \"Urban\", \"Semiurban\", \"Rural\", \"Semiurban\", \"Semiurban\", \"Urban\", \"Semiurban\", \"Semiurban\", \"Urban\", \"Urban\", \"Rural\", \"Semiurban\", \"Rural\", \"Semiurban\", \"Semiurban\", \"Rural\", \"Rural\", \"Rural\", \"Rural\", \"Rural\", \"Semiurban\", \"Rural\", \"Urban\", \"Rural\", \"Rural\", \"Semiurban\", \"Semiurban\", \"Urban\", \"Urban\", \"Rural\", \"Semiurban\", \"Semiurban\", \"Urban\", \"Rural\", \"Semiurban\", \"Semiurban\", \"Rural\", \"Urban\", \"Semiurban\", \"Semiurban\", \"Urban\", \"Semiurban\", \"Rural\", \"Semiurban\", \"Urban\", \"Rural\", \"Rural\", \"Semiurban\", \"Semiurban\", \"Semiurban\", \"Urban\", \"Rural\", \"Rural\", \"Semiurban\", \"Semiurban\", \"Semiurban\", \"Rural\", \"Rural\", \"Urban\", \"Semiurban\", \"Urban\", \"Semiurban\", \"Urban\", \"Rural\", \"Semiurban\", \"Rural\", \"Semiurban\", \"Rural\", \"Urban\", \"Semiurban\", \"Rural\", \"Rural\", \"Semiurban\", \"Semiurban\", \"Rural\", \"Semiurban\", \"Rural\", \"Urban\", \"Urban\", \"Urban\", \"Urban\", \"Rural\", \"Semiurban\", \"Urban\", \"Semiurban\", \"Rural\", \"Rural\", \"Semiurban\", \"Semiurban\", \"Semiurban\", \"Rural\", \"Semiurban\", \"Semiurban\", \"Rural\", \"Rural\", \"Semiurban\", \"Rural\", \"Semiurban\", \"Semiurban\", \"Semiurban\", \"Semiurban\", \"Rural\", \"Urban\", \"Rural\", \"Semiurban\", \"Urban\", \"Rural\", \"Urban\", \"Semiurban\", \"Rural\", \"Rural\", \"Semiurban\", \"Semiurban\", \"Semiurban\", \"Urban\", \"Semiurban\", \"Rural\", \"Semiurban\", \"Rural\", \"Semiurban\", \"Rural\", \"Rural\", \"Rural\", \"Urban\", \"Urban\", \"Rural\", \"Semiurban\", \"Urban\", \"Semiurban\", \"Semiurban\", \"Semiurban\", \"Semiurban\", \"Semiurban\", \"Rural\", \"Semiurban\", \"Urban\", \"Rural\", \"Urban\", \"Rural\", \"Urban\", \"Urban\", \"Urban\", \"Urban\", \"Urban\", \"Semiurban\", \"Semiurban\", \"Urban\", \"Semiurban\", \"Urban\", \"Rural\", \"Urban\", \"Semiurban\", \"Urban\", \"Semiurban\", \"Rural\", \"Rural\", \"Rural\", \"Urban\", \"Semiurban\", \"Semiurban\", \"Semiurban\", \"Semiurban\", \"Semiurban\", \"Semiurban\", \"Rural\", \"Urban\", \"Rural\", \"Rural\", \"Semiurban\", \"Rural\", \"Urban\", \"Urban\", \"Rural\", \"Urban\", \"Rural\", \"Semiurban\", \"Urban\", \"Semiurban\", \"Rural\", \"Rural\", \"Rural\", \"Rural\", \"Urban\", \"Urban\", \"Semiurban\"]}],\n",
       "                        {\"barmode\": \"overlay\", \"legend\": {\"bgcolor\": \"#FFFFFF\", \"font\": {\"color\": \"#666666\"}}, \"paper_bgcolor\": \"#FFFFFF\", \"plot_bgcolor\": \"#E5E5E5\", \"template\": {\"data\": {\"bar\": [{\"error_x\": {\"color\": \"#2a3f5f\"}, \"error_y\": {\"color\": \"#2a3f5f\"}, \"marker\": {\"line\": {\"color\": \"#E5ECF6\", \"width\": 0.5}}, \"type\": \"bar\"}], \"barpolar\": [{\"marker\": {\"line\": {\"color\": \"#E5ECF6\", \"width\": 0.5}}, \"type\": \"barpolar\"}], \"carpet\": [{\"aaxis\": {\"endlinecolor\": \"#2a3f5f\", \"gridcolor\": \"white\", \"linecolor\": \"white\", \"minorgridcolor\": \"white\", \"startlinecolor\": \"#2a3f5f\"}, \"baxis\": {\"endlinecolor\": \"#2a3f5f\", \"gridcolor\": \"white\", \"linecolor\": \"white\", \"minorgridcolor\": \"white\", \"startlinecolor\": \"#2a3f5f\"}, \"type\": \"carpet\"}], \"choropleth\": [{\"colorbar\": {\"outlinewidth\": 0, \"ticks\": \"\"}, \"type\": \"choropleth\"}], \"contour\": [{\"colorbar\": {\"outlinewidth\": 0, \"ticks\": \"\"}, \"colorscale\": [[0.0, \"#0d0887\"], [0.1111111111111111, \"#46039f\"], [0.2222222222222222, \"#7201a8\"], [0.3333333333333333, \"#9c179e\"], [0.4444444444444444, \"#bd3786\"], [0.5555555555555556, \"#d8576b\"], [0.6666666666666666, \"#ed7953\"], [0.7777777777777778, \"#fb9f3a\"], [0.8888888888888888, \"#fdca26\"], [1.0, \"#f0f921\"]], \"type\": \"contour\"}], \"contourcarpet\": [{\"colorbar\": {\"outlinewidth\": 0, \"ticks\": \"\"}, \"type\": \"contourcarpet\"}], \"heatmap\": [{\"colorbar\": {\"outlinewidth\": 0, \"ticks\": \"\"}, \"colorscale\": [[0.0, \"#0d0887\"], [0.1111111111111111, \"#46039f\"], [0.2222222222222222, \"#7201a8\"], [0.3333333333333333, \"#9c179e\"], [0.4444444444444444, \"#bd3786\"], [0.5555555555555556, \"#d8576b\"], [0.6666666666666666, \"#ed7953\"], [0.7777777777777778, \"#fb9f3a\"], [0.8888888888888888, \"#fdca26\"], [1.0, \"#f0f921\"]], \"type\": \"heatmap\"}], \"heatmapgl\": [{\"colorbar\": {\"outlinewidth\": 0, \"ticks\": \"\"}, \"colorscale\": [[0.0, \"#0d0887\"], [0.1111111111111111, \"#46039f\"], [0.2222222222222222, \"#7201a8\"], [0.3333333333333333, \"#9c179e\"], [0.4444444444444444, \"#bd3786\"], [0.5555555555555556, \"#d8576b\"], [0.6666666666666666, \"#ed7953\"], [0.7777777777777778, \"#fb9f3a\"], [0.8888888888888888, \"#fdca26\"], [1.0, \"#f0f921\"]], \"type\": \"heatmapgl\"}], \"histogram\": [{\"marker\": {\"colorbar\": {\"outlinewidth\": 0, \"ticks\": \"\"}}, \"type\": \"histogram\"}], \"histogram2d\": [{\"colorbar\": {\"outlinewidth\": 0, \"ticks\": \"\"}, \"colorscale\": [[0.0, \"#0d0887\"], [0.1111111111111111, \"#46039f\"], [0.2222222222222222, \"#7201a8\"], [0.3333333333333333, \"#9c179e\"], [0.4444444444444444, \"#bd3786\"], [0.5555555555555556, \"#d8576b\"], [0.6666666666666666, \"#ed7953\"], [0.7777777777777778, \"#fb9f3a\"], [0.8888888888888888, \"#fdca26\"], [1.0, \"#f0f921\"]], \"type\": \"histogram2d\"}], \"histogram2dcontour\": [{\"colorbar\": {\"outlinewidth\": 0, \"ticks\": \"\"}, \"colorscale\": [[0.0, \"#0d0887\"], [0.1111111111111111, \"#46039f\"], [0.2222222222222222, \"#7201a8\"], [0.3333333333333333, \"#9c179e\"], [0.4444444444444444, \"#bd3786\"], [0.5555555555555556, \"#d8576b\"], [0.6666666666666666, \"#ed7953\"], [0.7777777777777778, \"#fb9f3a\"], [0.8888888888888888, \"#fdca26\"], [1.0, \"#f0f921\"]], \"type\": \"histogram2dcontour\"}], \"mesh3d\": [{\"colorbar\": {\"outlinewidth\": 0, \"ticks\": \"\"}, \"type\": \"mesh3d\"}], \"parcoords\": [{\"line\": {\"colorbar\": {\"outlinewidth\": 0, \"ticks\": \"\"}}, \"type\": \"parcoords\"}], \"pie\": [{\"automargin\": true, \"type\": \"pie\"}], \"scatter\": [{\"marker\": {\"colorbar\": {\"outlinewidth\": 0, \"ticks\": \"\"}}, \"type\": \"scatter\"}], \"scatter3d\": [{\"line\": {\"colorbar\": {\"outlinewidth\": 0, \"ticks\": \"\"}}, \"marker\": {\"colorbar\": {\"outlinewidth\": 0, \"ticks\": \"\"}}, \"type\": \"scatter3d\"}], \"scattercarpet\": [{\"marker\": {\"colorbar\": {\"outlinewidth\": 0, \"ticks\": \"\"}}, \"type\": \"scattercarpet\"}], \"scattergeo\": [{\"marker\": {\"colorbar\": {\"outlinewidth\": 0, \"ticks\": \"\"}}, \"type\": \"scattergeo\"}], \"scattergl\": [{\"marker\": {\"colorbar\": {\"outlinewidth\": 0, \"ticks\": \"\"}}, \"type\": \"scattergl\"}], \"scattermapbox\": [{\"marker\": {\"colorbar\": {\"outlinewidth\": 0, \"ticks\": \"\"}}, \"type\": \"scattermapbox\"}], \"scatterpolar\": [{\"marker\": {\"colorbar\": {\"outlinewidth\": 0, \"ticks\": \"\"}}, \"type\": \"scatterpolar\"}], \"scatterpolargl\": [{\"marker\": {\"colorbar\": {\"outlinewidth\": 0, \"ticks\": \"\"}}, \"type\": \"scatterpolargl\"}], \"scatterternary\": [{\"marker\": {\"colorbar\": {\"outlinewidth\": 0, \"ticks\": \"\"}}, \"type\": \"scatterternary\"}], \"surface\": [{\"colorbar\": {\"outlinewidth\": 0, \"ticks\": \"\"}, \"colorscale\": [[0.0, \"#0d0887\"], [0.1111111111111111, \"#46039f\"], [0.2222222222222222, \"#7201a8\"], [0.3333333333333333, \"#9c179e\"], [0.4444444444444444, \"#bd3786\"], [0.5555555555555556, \"#d8576b\"], [0.6666666666666666, \"#ed7953\"], [0.7777777777777778, \"#fb9f3a\"], [0.8888888888888888, \"#fdca26\"], [1.0, \"#f0f921\"]], \"type\": \"surface\"}], \"table\": [{\"cells\": {\"fill\": {\"color\": \"#EBF0F8\"}, \"line\": {\"color\": \"white\"}}, \"header\": {\"fill\": {\"color\": \"#C8D4E3\"}, \"line\": {\"color\": \"white\"}}, \"type\": \"table\"}]}, \"layout\": {\"annotationdefaults\": {\"arrowcolor\": \"#2a3f5f\", \"arrowhead\": 0, \"arrowwidth\": 1}, \"coloraxis\": {\"colorbar\": {\"outlinewidth\": 0, \"ticks\": \"\"}}, \"colorscale\": {\"diverging\": [[0, \"#8e0152\"], [0.1, \"#c51b7d\"], [0.2, \"#de77ae\"], [0.3, \"#f1b6da\"], [0.4, \"#fde0ef\"], [0.5, \"#f7f7f7\"], [0.6, \"#e6f5d0\"], [0.7, \"#b8e186\"], [0.8, \"#7fbc41\"], [0.9, \"#4d9221\"], [1, \"#276419\"]], \"sequential\": [[0.0, \"#0d0887\"], [0.1111111111111111, \"#46039f\"], [0.2222222222222222, \"#7201a8\"], [0.3333333333333333, \"#9c179e\"], [0.4444444444444444, \"#bd3786\"], [0.5555555555555556, \"#d8576b\"], [0.6666666666666666, \"#ed7953\"], [0.7777777777777778, \"#fb9f3a\"], [0.8888888888888888, \"#fdca26\"], [1.0, \"#f0f921\"]], \"sequentialminus\": [[0.0, \"#0d0887\"], [0.1111111111111111, \"#46039f\"], [0.2222222222222222, \"#7201a8\"], [0.3333333333333333, \"#9c179e\"], [0.4444444444444444, \"#bd3786\"], [0.5555555555555556, \"#d8576b\"], [0.6666666666666666, \"#ed7953\"], [0.7777777777777778, \"#fb9f3a\"], [0.8888888888888888, \"#fdca26\"], [1.0, \"#f0f921\"]]}, \"colorway\": [\"#636efa\", \"#EF553B\", \"#00cc96\", \"#ab63fa\", \"#FFA15A\", \"#19d3f3\", \"#FF6692\", \"#B6E880\", \"#FF97FF\", \"#FECB52\"], \"font\": {\"color\": \"#2a3f5f\"}, \"geo\": {\"bgcolor\": \"white\", \"lakecolor\": \"white\", \"landcolor\": \"#E5ECF6\", \"showlakes\": true, \"showland\": true, \"subunitcolor\": \"white\"}, \"hoverlabel\": {\"align\": \"left\"}, \"hovermode\": \"closest\", \"mapbox\": {\"style\": \"light\"}, \"paper_bgcolor\": \"white\", \"plot_bgcolor\": \"#E5ECF6\", \"polar\": {\"angularaxis\": {\"gridcolor\": \"white\", \"linecolor\": \"white\", \"ticks\": \"\"}, \"bgcolor\": \"#E5ECF6\", \"radialaxis\": {\"gridcolor\": \"white\", \"linecolor\": \"white\", \"ticks\": \"\"}}, \"scene\": {\"xaxis\": {\"backgroundcolor\": \"#E5ECF6\", \"gridcolor\": \"white\", \"gridwidth\": 2, \"linecolor\": \"white\", \"showbackground\": true, \"ticks\": \"\", \"zerolinecolor\": \"white\"}, \"yaxis\": {\"backgroundcolor\": \"#E5ECF6\", \"gridcolor\": \"white\", \"gridwidth\": 2, \"linecolor\": \"white\", \"showbackground\": true, \"ticks\": \"\", \"zerolinecolor\": \"white\"}, \"zaxis\": {\"backgroundcolor\": \"#E5ECF6\", \"gridcolor\": \"white\", \"gridwidth\": 2, \"linecolor\": \"white\", \"showbackground\": true, \"ticks\": \"\", \"zerolinecolor\": \"white\"}}, \"shapedefaults\": {\"line\": {\"color\": \"#2a3f5f\"}}, \"ternary\": {\"aaxis\": {\"gridcolor\": \"white\", \"linecolor\": \"white\", \"ticks\": \"\"}, \"baxis\": {\"gridcolor\": \"white\", \"linecolor\": \"white\", \"ticks\": \"\"}, \"bgcolor\": \"#E5ECF6\", \"caxis\": {\"gridcolor\": \"white\", \"linecolor\": \"white\", \"ticks\": \"\"}}, \"title\": {\"x\": 0.05}, \"xaxis\": {\"automargin\": true, \"gridcolor\": \"white\", \"linecolor\": \"white\", \"ticks\": \"\", \"title\": {\"standoff\": 15}, \"zerolinecolor\": \"white\", \"zerolinewidth\": 2}, \"yaxis\": {\"automargin\": true, \"gridcolor\": \"white\", \"linecolor\": \"white\", \"ticks\": \"\", \"title\": {\"standoff\": 15}, \"zerolinecolor\": \"white\", \"zerolinewidth\": 2}}}, \"title\": {\"font\": {\"color\": \"#151516\"}}, \"xaxis\": {\"gridcolor\": \"#F6F6F6\", \"showgrid\": true, \"tickfont\": {\"color\": \"#666666\"}, \"title\": {\"font\": {\"color\": \"#666666\"}, \"text\": \"\"}, \"zerolinecolor\": \"#F6F6F6\"}, \"yaxis\": {\"gridcolor\": \"#F6F6F6\", \"showgrid\": true, \"tickfont\": {\"color\": \"#666666\"}, \"title\": {\"font\": {\"color\": \"#666666\"}, \"text\": \"\"}, \"zerolinecolor\": \"#F6F6F6\"}},\n",
       "                        {\"showLink\": true, \"linkText\": \"Export to plot.ly\", \"plotlyServerURL\": \"https://plot.ly\", \"responsive\": true}\n",
       "                    ).then(function(){\n",
       "                            \n",
       "var gd = document.getElementById('f26d227f-d562-4d86-94cb-f909fe7fd9ec');\n",
       "var x = new MutationObserver(function (mutations, observer) {{\n",
       "        var display = window.getComputedStyle(gd).display;\n",
       "        if (!display || display === 'none') {{\n",
       "            console.log([gd, 'removed!']);\n",
       "            Plotly.purge(gd);\n",
       "            observer.disconnect();\n",
       "        }}\n",
       "}});\n",
       "\n",
       "// Listen for the removal of the full notebook cells\n",
       "var notebookContainer = gd.closest('#notebook-container');\n",
       "if (notebookContainer) {{\n",
       "    x.observe(notebookContainer, {childList: true});\n",
       "}}\n",
       "\n",
       "// Listen for the clearing of the current output cell\n",
       "var outputEl = gd.closest('.output');\n",
       "if (outputEl) {{\n",
       "    x.observe(outputEl, {childList: true});\n",
       "}}\n",
       "\n",
       "                        })\n",
       "                };\n",
       "                });\n",
       "            </script>\n",
       "        </div>"
      ]
     },
     "metadata": {},
     "output_type": "display_data"
    }
   ],
   "source": [
    "data.Property_Area.iplot(kind = 'histogram')\n"
   ]
  },
  {
   "cell_type": "code",
   "execution_count": 5,
   "metadata": {},
   "outputs": [
    {
     "data": {
      "application/vnd.plotly.v1+json": {
       "config": {
        "linkText": "Export to plot.ly",
        "plotlyServerURL": "https://plot.ly",
        "showLink": true
       },
       "data": [
        {
         "boxpoints": false,
         "line": {
          "width": 1.3
         },
         "marker": {
          "color": "rgba(226, 74, 51, 1.0)"
         },
         "name": "ApplicantIncome",
         "orientation": "v",
         "type": "box",
         "y": [
          5849,
          4583,
          3000,
          2583,
          6000,
          5417,
          2333,
          3036,
          4006,
          12841,
          3200,
          2500,
          3073,
          1853,
          1299,
          4950,
          3596,
          3510,
          4887,
          2600,
          7660,
          5955,
          2600,
          3365,
          3717,
          9560,
          2799,
          4226,
          1442,
          3750,
          4166,
          3167,
          4692,
          3500,
          12500,
          2275,
          1828,
          3667,
          4166,
          3748,
          3600,
          1800,
          2400,
          3941,
          4695,
          3410,
          5649,
          5821,
          2645,
          4000,
          1928,
          3086,
          4230,
          4616,
          11500,
          2708,
          2132,
          3366,
          8080,
          3357,
          2500,
          3029,
          2609,
          4945,
          4166,
          5726,
          3200,
          10750,
          7100,
          4300,
          3208,
          1875,
          3500,
          4755,
          5266,
          3750,
          3750,
          1000,
          3167,
          3333,
          3846,
          2395,
          1378,
          6000,
          3988,
          2366,
          3333,
          2500,
          8566,
          5695,
          2958,
          6250,
          3273,
          4133,
          3620,
          6782,
          2484,
          1977,
          4188,
          1759,
          4288,
          4843,
          13650,
          4652,
          3816,
          3052,
          11417,
          7333,
          3800,
          2071,
          5316,
          2929,
          3572,
          7451,
          5050,
          14583,
          3167,
          2214,
          5568,
          10408,
          5667,
          4166,
          2137,
          2957,
          4300,
          3692,
          23803,
          3865,
          10513,
          6080,
          20166,
          2014,
          2718,
          3459,
          4895,
          4000,
          4583,
          3316,
          14999,
          4200,
          5042,
          5417,
          6950,
          2698,
          11757,
          2330,
          14866,
          1538,
          10000,
          4860,
          6277,
          2577,
          9166,
          2281,
          3254,
          39999,
          6000,
          9538,
          2980,
          4583,
          1863,
          7933,
          3089,
          4167,
          9323,
          3707,
          4583,
          2439,
          2237,
          8000,
          1820,
          51763,
          3522,
          5708,
          4344,
          3497,
          2045,
          5516,
          3750,
          2333,
          6400,
          1916,
          4600,
          33846,
          3625,
          39147,
          2178,
          2383,
          674,
          9328,
          4885,
          12000,
          6033,
          3858,
          4191,
          3125,
          8333,
          1907,
          3416,
          11000,
          2600,
          4923,
          3992,
          3500,
          3917,
          4408,
          3244,
          3975,
          2479,
          3418,
          10000,
          3430,
          7787,
          5703,
          3173,
          3850,
          150,
          3727,
          5000,
          4283,
          2221,
          4009,
          2971,
          7578,
          6250,
          3250,
          4735,
          6250,
          4758,
          6400,
          2491,
          3716,
          3189,
          8333,
          3155,
          5500,
          5746,
          3463,
          3812,
          3315,
          5819,
          2510,
          2965,
          6250,
          3406,
          6050,
          9703,
          6608,
          2882,
          1809,
          1668,
          3427,
          2583,
          2661,
          16250,
          3083,
          6045,
          5250,
          14683,
          4931,
          6083,
          2060,
          3481,
          7200,
          5166,
          4095,
          4708,
          4333,
          3418,
          2876,
          3237,
          11146,
          2833,
          2620,
          3900,
          2750,
          3993,
          3103,
          14583,
          4100,
          4053,
          3927,
          2301,
          1811,
          20667,
          3158,
          2600,
          3704,
          4124,
          9508,
          3075,
          4400,
          3153,
          5417,
          2383,
          4416,
          6875,
          4666,
          5000,
          2014,
          1800,
          2875,
          5000,
          1625,
          4000,
          2000,
          3762,
          2400,
          20233,
          7667,
          2917,
          2927,
          2507,
          5746,
          2473,
          3399,
          3717,
          2058,
          3541,
          10000,
          2400,
          4342,
          3601,
          3166,
          15000,
          8666,
          4917,
          5818,
          4333,
          2500,
          4384,
          2935,
          2833,
          63337,
          9833,
          5503,
          5250,
          2500,
          1830,
          4160,
          2647,
          2378,
          4554,
          3173,
          2583,
          2499,
          3523,
          3083,
          6333,
          2625,
          9083,
          8750,
          2666,
          5500,
          2423,
          3813,
          8333,
          3875,
          3000,
          5167,
          4723,
          5000,
          4750,
          3013,
          6822,
          6216,
          2500,
          5124,
          6325,
          19730,
          15759,
          5185,
          9323,
          3062,
          2764,
          4817,
          8750,
          4310,
          3069,
          5391,
          3333,
          5941,
          6000,
          7167,
          4566,
          3667,
          2346,
          3010,
          2333,
          5488,
          9167,
          9504,
          2583,
          1993,
          3100,
          3276,
          3180,
          3033,
          3902,
          1500,
          2889,
          2755,
          2500,
          1963,
          7441,
          4547,
          2167,
          2213,
          8300,
          81000,
          3867,
          6256,
          6096,
          2253,
          2149,
          2995,
          2600,
          1600,
          1025,
          3246,
          5829,
          2720,
          1820,
          7250,
          14880,
          2666,
          4606,
          5935,
          2920,
          2717,
          8624,
          6500,
          12876,
          2425,
          3750,
          10047,
          1926,
          2213,
          10416,
          7142,
          3660,
          7901,
          4707,
          37719,
          7333,
          3466,
          4652,
          3539,
          3340,
          2769,
          2309,
          1958,
          3948,
          2483,
          7085,
          3859,
          4301,
          3708,
          4354,
          8334,
          2083,
          7740,
          3015,
          5191,
          4166,
          6000,
          2947,
          16692,
          210,
          4333,
          3450,
          2653,
          4691,
          2500,
          5532,
          16525,
          6700,
          2873,
          16667,
          2947,
          4350,
          3095,
          2083,
          10833,
          8333,
          1958,
          3547,
          18333,
          4583,
          2435,
          2699,
          5333,
          3691,
          17263,
          3597,
          3326,
          2600,
          4625,
          2895,
          6283,
          645,
          3159,
          4865,
          4050,
          3814,
          3510,
          20833,
          3583,
          2479,
          13262,
          3598,
          6065,
          3283,
          2130,
          5815,
          3466,
          2031,
          3074,
          4683,
          3400,
          2192,
          2500,
          5677,
          7948,
          4680,
          17500,
          3775,
          5285,
          2679,
          6783,
          1025,
          4281,
          3588,
          11250,
          18165,
          2550,
          6133,
          3617,
          2917,
          6417,
          4608,
          2138,
          3652,
          2239,
          3017,
          2768,
          3358,
          2526,
          5000,
          2785,
          6633,
          2492,
          3333,
          2454,
          3593,
          5468,
          2667,
          10139,
          3887,
          4180,
          3675,
          19484,
          5923,
          5800,
          8799,
          4467,
          3333,
          3400,
          2378,
          3166,
          3417,
          5116,
          16666,
          6125,
          6406,
          3159,
          3087,
          3229,
          1782,
          3182,
          6540,
          1836,
          3166,
          1880,
          2787,
          4283,
          2297,
          2165,
          4750,
          2726,
          3000,
          6000,
          9357,
          3859,
          16120,
          3833,
          6383,
          2987,
          9963,
          5780,
          416,
          2894,
          5703,
          3676,
          12000,
          2400,
          3400,
          3987,
          3232,
          2900,
          4106,
          8072,
          7583,
          4583
         ]
        },
        {
         "boxpoints": false,
         "line": {
          "width": 1.3
         },
         "marker": {
          "color": "rgba(62, 111, 176, 1.0)"
         },
         "name": "CoapplicantIncome",
         "orientation": "v",
         "type": "box",
         "y": [
          0,
          1508,
          0,
          2358,
          0,
          4196,
          1516,
          2504,
          1526,
          10968,
          700,
          1840,
          8106,
          2840,
          1086,
          0,
          0,
          0,
          0,
          3500,
          0,
          5625,
          1911,
          1917,
          2925,
          0,
          2253,
          1040,
          0,
          2083,
          3369,
          0,
          0,
          1667,
          3000,
          2067,
          1330,
          1459,
          7210,
          1668,
          0,
          1213,
          0,
          2336,
          0,
          0,
          0,
          0,
          3440,
          2275,
          1644,
          0,
          0,
          0,
          0,
          1167,
          1591,
          2200,
          2250,
          2859,
          3796,
          0,
          3449,
          0,
          0,
          4595,
          2254,
          0,
          0,
          0,
          3066,
          1875,
          0,
          0,
          1774,
          0,
          4750,
          3022,
          4000,
          2166,
          0,
          0,
          1881,
          2250,
          0,
          2531,
          2000,
          2118,
          0,
          4167,
          2900,
          5654,
          1820,
          0,
          0,
          0,
          2302,
          997,
          0,
          3541,
          3263,
          3806,
          0,
          3583,
          754,
          1030,
          1126,
          0,
          3600,
          754,
          0,
          2333,
          4114,
          0,
          0,
          0,
          2283,
          1398,
          2142,
          0,
          2667,
          0,
          8980,
          0,
          2014,
          0,
          0,
          1640,
          3850,
          2569,
          0,
          1929,
          0,
          0,
          0,
          7750,
          0,
          3500,
          0,
          1430,
          2083,
          0,
          0,
          2034,
          0,
          4486,
          0,
          1425,
          1666,
          830,
          0,
          3750,
          0,
          0,
          0,
          0,
          0,
          0,
          2083,
          5625,
          1041,
          0,
          1280,
          1447,
          0,
          3166,
          0,
          3333,
          0,
          0,
          1769,
          0,
          0,
          5625,
          736,
          1964,
          1619,
          11300,
          0,
          1451,
          7250,
          5063,
          0,
          0,
          0,
          4750,
          0,
          2138,
          5296,
          0,
          0,
          0,
          0,
          0,
          0,
          2583,
          3750,
          2365,
          2816,
          0,
          2500,
          0,
          0,
          1083,
          0,
          0,
          0,
          2531,
          0,
          0,
          0,
          1250,
          0,
          0,
          3021,
          983,
          1800,
          1775,
          0,
          2383,
          0,
          1717,
          2791,
          1010,
          0,
          0,
          0,
          1695,
          0,
          0,
          2054,
          0,
          2598,
          0,
          1779,
          1260,
          0,
          0,
          0,
          0,
          5000,
          1983,
          5701,
          1300,
          4417,
          4333,
          0,
          0,
          1843,
          1868,
          3890,
          0,
          2167,
          7101,
          0,
          0,
          0,
          0,
          2100,
          0,
          4250,
          2209,
          0,
          0,
          0,
          3447,
          1387,
          1811,
          0,
          1560,
          0,
          0,
          1857,
          2223,
          0,
          1842,
          3274,
          1300,
          0,
          0,
          2426,
          800,
          985.7999877999998,
          1666,
          0,
          3053,
          1717,
          2000,
          0,
          0,
          2416,
          0,
          1560,
          0,
          3334,
          1250,
          0,
          0,
          2541,
          2925,
          2934,
          1750,
          0,
          1803,
          2500,
          0,
          1666,
          1863,
          0,
          0,
          0,
          2405,
          0,
          0,
          1843,
          1640,
          0,
          2134,
          0,
          0,
          2167,
          189,
          1590,
          2985,
          0,
          4983,
          0,
          2160,
          2451,
          0,
          1793,
          0,
          0,
          0,
          1833,
          4490,
          688,
          4600,
          0,
          0,
          1587,
          0,
          1229,
          0,
          2330,
          2458,
          3230,
          2168,
          4583,
          6250,
          0,
          4167,
          2083,
          0,
          505,
          0,
          3167,
          0,
          1666,
          3167,
          0,
          3667,
          2333,
          3033,
          0,
          0,
          0,
          0,
          0,
          5266,
          0,
          0,
          7873,
          1987,
          1459,
          923,
          4996,
          0,
          0,
          0,
          2500,
          4232,
          0,
          0,
          0,
          0,
          1600,
          3136,
          2417,
          0,
          0,
          0,
          2115,
          1625,
          1400,
          484,
          0,
          1459,
          1666,
          1800,
          0,
          0,
          20000,
          0,
          0,
          0,
          2400,
          0,
          0,
          0,
          0,
          0,
          0,
          2033,
          3237,
          0,
          0,
          20000,
          2773,
          1417,
          0,
          0,
          1719,
          1667,
          0,
          4300,
          0,
          0,
          16.12000084,
          0,
          0,
          0,
          0,
          2340,
          0,
          0,
          1851,
          1125,
          0,
          0,
          5064,
          1833,
          1993,
          0,
          8333,
          1210,
          0,
          1376,
          1710,
          1542,
          1255,
          1456,
          1733,
          2466,
          0,
          0,
          0,
          2569,
          0,
          0,
          4083,
          0,
          2188,
          0,
          0,
          0,
          1664,
          0,
          2917,
          2451,
          2079,
          1500,
          0,
          0,
          4648,
          1014,
          1750,
          1872,
          2250,
          1603,
          0,
          0,
          3150,
          0,
          0,
          2436,
          0,
          0,
          2083,
          0,
          2785,
          1131,
          0,
          0,
          2157,
          913,
          1700,
          2857,
          0,
          4416,
          3683,
          0,
          5624,
          5302,
          1483,
          4416,
          6667,
          0,
          3013,
          0,
          1287,
          2004,
          2035,
          6666,
          3666,
          3428,
          1632,
          1800,
          1915,
          0,
          1742,
          0,
          1424,
          7166,
          2087,
          0,
          0,
          1430,
          1302,
          0,
          5500,
          0,
          0,
          0,
          0,
          2042,
          3906,
          0,
          536,
          0,
          2845,
          0,
          0,
          2524,
          663,
          1950,
          0,
          1783,
          0,
          2016,
          0,
          2375,
          3250,
          2333,
          4266,
          1032,
          1625,
          0,
          2669,
          2306,
          242,
          0,
          2054,
          0,
          0,
          0,
          0,
          2500,
          0,
          2064,
          1750,
          1451,
          0,
          1625,
          0,
          461,
          2210,
          2739,
          2232,
          2917,
          0,
          33837,
          0,
          0,
          1917,
          3000,
          1522,
          0,
          0,
          0,
          3416,
          0,
          0,
          3300,
          0,
          0,
          1000,
          0,
          0,
          0,
          41667,
          2792,
          0,
          4301,
          0,
          3800,
          2500,
          1411,
          1950,
          0,
          0,
          240,
          0,
          0
         ]
        }
       ],
       "layout": {
        "legend": {
         "bgcolor": "#FFFFFF",
         "font": {
          "color": "#666666"
         }
        },
        "paper_bgcolor": "#FFFFFF",
        "plot_bgcolor": "#E5E5E5",
        "template": {
         "data": {
          "bar": [
           {
            "error_x": {
             "color": "#2a3f5f"
            },
            "error_y": {
             "color": "#2a3f5f"
            },
            "marker": {
             "line": {
              "color": "#E5ECF6",
              "width": 0.5
             }
            },
            "type": "bar"
           }
          ],
          "barpolar": [
           {
            "marker": {
             "line": {
              "color": "#E5ECF6",
              "width": 0.5
             }
            },
            "type": "barpolar"
           }
          ],
          "carpet": [
           {
            "aaxis": {
             "endlinecolor": "#2a3f5f",
             "gridcolor": "white",
             "linecolor": "white",
             "minorgridcolor": "white",
             "startlinecolor": "#2a3f5f"
            },
            "baxis": {
             "endlinecolor": "#2a3f5f",
             "gridcolor": "white",
             "linecolor": "white",
             "minorgridcolor": "white",
             "startlinecolor": "#2a3f5f"
            },
            "type": "carpet"
           }
          ],
          "choropleth": [
           {
            "colorbar": {
             "outlinewidth": 0,
             "ticks": ""
            },
            "type": "choropleth"
           }
          ],
          "contour": [
           {
            "colorbar": {
             "outlinewidth": 0,
             "ticks": ""
            },
            "colorscale": [
             [
              0,
              "#0d0887"
             ],
             [
              0.1111111111111111,
              "#46039f"
             ],
             [
              0.2222222222222222,
              "#7201a8"
             ],
             [
              0.3333333333333333,
              "#9c179e"
             ],
             [
              0.4444444444444444,
              "#bd3786"
             ],
             [
              0.5555555555555556,
              "#d8576b"
             ],
             [
              0.6666666666666666,
              "#ed7953"
             ],
             [
              0.7777777777777778,
              "#fb9f3a"
             ],
             [
              0.8888888888888888,
              "#fdca26"
             ],
             [
              1,
              "#f0f921"
             ]
            ],
            "type": "contour"
           }
          ],
          "contourcarpet": [
           {
            "colorbar": {
             "outlinewidth": 0,
             "ticks": ""
            },
            "type": "contourcarpet"
           }
          ],
          "heatmap": [
           {
            "colorbar": {
             "outlinewidth": 0,
             "ticks": ""
            },
            "colorscale": [
             [
              0,
              "#0d0887"
             ],
             [
              0.1111111111111111,
              "#46039f"
             ],
             [
              0.2222222222222222,
              "#7201a8"
             ],
             [
              0.3333333333333333,
              "#9c179e"
             ],
             [
              0.4444444444444444,
              "#bd3786"
             ],
             [
              0.5555555555555556,
              "#d8576b"
             ],
             [
              0.6666666666666666,
              "#ed7953"
             ],
             [
              0.7777777777777778,
              "#fb9f3a"
             ],
             [
              0.8888888888888888,
              "#fdca26"
             ],
             [
              1,
              "#f0f921"
             ]
            ],
            "type": "heatmap"
           }
          ],
          "heatmapgl": [
           {
            "colorbar": {
             "outlinewidth": 0,
             "ticks": ""
            },
            "colorscale": [
             [
              0,
              "#0d0887"
             ],
             [
              0.1111111111111111,
              "#46039f"
             ],
             [
              0.2222222222222222,
              "#7201a8"
             ],
             [
              0.3333333333333333,
              "#9c179e"
             ],
             [
              0.4444444444444444,
              "#bd3786"
             ],
             [
              0.5555555555555556,
              "#d8576b"
             ],
             [
              0.6666666666666666,
              "#ed7953"
             ],
             [
              0.7777777777777778,
              "#fb9f3a"
             ],
             [
              0.8888888888888888,
              "#fdca26"
             ],
             [
              1,
              "#f0f921"
             ]
            ],
            "type": "heatmapgl"
           }
          ],
          "histogram": [
           {
            "marker": {
             "colorbar": {
              "outlinewidth": 0,
              "ticks": ""
             }
            },
            "type": "histogram"
           }
          ],
          "histogram2d": [
           {
            "colorbar": {
             "outlinewidth": 0,
             "ticks": ""
            },
            "colorscale": [
             [
              0,
              "#0d0887"
             ],
             [
              0.1111111111111111,
              "#46039f"
             ],
             [
              0.2222222222222222,
              "#7201a8"
             ],
             [
              0.3333333333333333,
              "#9c179e"
             ],
             [
              0.4444444444444444,
              "#bd3786"
             ],
             [
              0.5555555555555556,
              "#d8576b"
             ],
             [
              0.6666666666666666,
              "#ed7953"
             ],
             [
              0.7777777777777778,
              "#fb9f3a"
             ],
             [
              0.8888888888888888,
              "#fdca26"
             ],
             [
              1,
              "#f0f921"
             ]
            ],
            "type": "histogram2d"
           }
          ],
          "histogram2dcontour": [
           {
            "colorbar": {
             "outlinewidth": 0,
             "ticks": ""
            },
            "colorscale": [
             [
              0,
              "#0d0887"
             ],
             [
              0.1111111111111111,
              "#46039f"
             ],
             [
              0.2222222222222222,
              "#7201a8"
             ],
             [
              0.3333333333333333,
              "#9c179e"
             ],
             [
              0.4444444444444444,
              "#bd3786"
             ],
             [
              0.5555555555555556,
              "#d8576b"
             ],
             [
              0.6666666666666666,
              "#ed7953"
             ],
             [
              0.7777777777777778,
              "#fb9f3a"
             ],
             [
              0.8888888888888888,
              "#fdca26"
             ],
             [
              1,
              "#f0f921"
             ]
            ],
            "type": "histogram2dcontour"
           }
          ],
          "mesh3d": [
           {
            "colorbar": {
             "outlinewidth": 0,
             "ticks": ""
            },
            "type": "mesh3d"
           }
          ],
          "parcoords": [
           {
            "line": {
             "colorbar": {
              "outlinewidth": 0,
              "ticks": ""
             }
            },
            "type": "parcoords"
           }
          ],
          "pie": [
           {
            "automargin": true,
            "type": "pie"
           }
          ],
          "scatter": [
           {
            "marker": {
             "colorbar": {
              "outlinewidth": 0,
              "ticks": ""
             }
            },
            "type": "scatter"
           }
          ],
          "scatter3d": [
           {
            "line": {
             "colorbar": {
              "outlinewidth": 0,
              "ticks": ""
             }
            },
            "marker": {
             "colorbar": {
              "outlinewidth": 0,
              "ticks": ""
             }
            },
            "type": "scatter3d"
           }
          ],
          "scattercarpet": [
           {
            "marker": {
             "colorbar": {
              "outlinewidth": 0,
              "ticks": ""
             }
            },
            "type": "scattercarpet"
           }
          ],
          "scattergeo": [
           {
            "marker": {
             "colorbar": {
              "outlinewidth": 0,
              "ticks": ""
             }
            },
            "type": "scattergeo"
           }
          ],
          "scattergl": [
           {
            "marker": {
             "colorbar": {
              "outlinewidth": 0,
              "ticks": ""
             }
            },
            "type": "scattergl"
           }
          ],
          "scattermapbox": [
           {
            "marker": {
             "colorbar": {
              "outlinewidth": 0,
              "ticks": ""
             }
            },
            "type": "scattermapbox"
           }
          ],
          "scatterpolar": [
           {
            "marker": {
             "colorbar": {
              "outlinewidth": 0,
              "ticks": ""
             }
            },
            "type": "scatterpolar"
           }
          ],
          "scatterpolargl": [
           {
            "marker": {
             "colorbar": {
              "outlinewidth": 0,
              "ticks": ""
             }
            },
            "type": "scatterpolargl"
           }
          ],
          "scatterternary": [
           {
            "marker": {
             "colorbar": {
              "outlinewidth": 0,
              "ticks": ""
             }
            },
            "type": "scatterternary"
           }
          ],
          "surface": [
           {
            "colorbar": {
             "outlinewidth": 0,
             "ticks": ""
            },
            "colorscale": [
             [
              0,
              "#0d0887"
             ],
             [
              0.1111111111111111,
              "#46039f"
             ],
             [
              0.2222222222222222,
              "#7201a8"
             ],
             [
              0.3333333333333333,
              "#9c179e"
             ],
             [
              0.4444444444444444,
              "#bd3786"
             ],
             [
              0.5555555555555556,
              "#d8576b"
             ],
             [
              0.6666666666666666,
              "#ed7953"
             ],
             [
              0.7777777777777778,
              "#fb9f3a"
             ],
             [
              0.8888888888888888,
              "#fdca26"
             ],
             [
              1,
              "#f0f921"
             ]
            ],
            "type": "surface"
           }
          ],
          "table": [
           {
            "cells": {
             "fill": {
              "color": "#EBF0F8"
             },
             "line": {
              "color": "white"
             }
            },
            "header": {
             "fill": {
              "color": "#C8D4E3"
             },
             "line": {
              "color": "white"
             }
            },
            "type": "table"
           }
          ]
         },
         "layout": {
          "annotationdefaults": {
           "arrowcolor": "#2a3f5f",
           "arrowhead": 0,
           "arrowwidth": 1
          },
          "coloraxis": {
           "colorbar": {
            "outlinewidth": 0,
            "ticks": ""
           }
          },
          "colorscale": {
           "diverging": [
            [
             0,
             "#8e0152"
            ],
            [
             0.1,
             "#c51b7d"
            ],
            [
             0.2,
             "#de77ae"
            ],
            [
             0.3,
             "#f1b6da"
            ],
            [
             0.4,
             "#fde0ef"
            ],
            [
             0.5,
             "#f7f7f7"
            ],
            [
             0.6,
             "#e6f5d0"
            ],
            [
             0.7,
             "#b8e186"
            ],
            [
             0.8,
             "#7fbc41"
            ],
            [
             0.9,
             "#4d9221"
            ],
            [
             1,
             "#276419"
            ]
           ],
           "sequential": [
            [
             0,
             "#0d0887"
            ],
            [
             0.1111111111111111,
             "#46039f"
            ],
            [
             0.2222222222222222,
             "#7201a8"
            ],
            [
             0.3333333333333333,
             "#9c179e"
            ],
            [
             0.4444444444444444,
             "#bd3786"
            ],
            [
             0.5555555555555556,
             "#d8576b"
            ],
            [
             0.6666666666666666,
             "#ed7953"
            ],
            [
             0.7777777777777778,
             "#fb9f3a"
            ],
            [
             0.8888888888888888,
             "#fdca26"
            ],
            [
             1,
             "#f0f921"
            ]
           ],
           "sequentialminus": [
            [
             0,
             "#0d0887"
            ],
            [
             0.1111111111111111,
             "#46039f"
            ],
            [
             0.2222222222222222,
             "#7201a8"
            ],
            [
             0.3333333333333333,
             "#9c179e"
            ],
            [
             0.4444444444444444,
             "#bd3786"
            ],
            [
             0.5555555555555556,
             "#d8576b"
            ],
            [
             0.6666666666666666,
             "#ed7953"
            ],
            [
             0.7777777777777778,
             "#fb9f3a"
            ],
            [
             0.8888888888888888,
             "#fdca26"
            ],
            [
             1,
             "#f0f921"
            ]
           ]
          },
          "colorway": [
           "#636efa",
           "#EF553B",
           "#00cc96",
           "#ab63fa",
           "#FFA15A",
           "#19d3f3",
           "#FF6692",
           "#B6E880",
           "#FF97FF",
           "#FECB52"
          ],
          "font": {
           "color": "#2a3f5f"
          },
          "geo": {
           "bgcolor": "white",
           "lakecolor": "white",
           "landcolor": "#E5ECF6",
           "showlakes": true,
           "showland": true,
           "subunitcolor": "white"
          },
          "hoverlabel": {
           "align": "left"
          },
          "hovermode": "closest",
          "mapbox": {
           "style": "light"
          },
          "paper_bgcolor": "white",
          "plot_bgcolor": "#E5ECF6",
          "polar": {
           "angularaxis": {
            "gridcolor": "white",
            "linecolor": "white",
            "ticks": ""
           },
           "bgcolor": "#E5ECF6",
           "radialaxis": {
            "gridcolor": "white",
            "linecolor": "white",
            "ticks": ""
           }
          },
          "scene": {
           "xaxis": {
            "backgroundcolor": "#E5ECF6",
            "gridcolor": "white",
            "gridwidth": 2,
            "linecolor": "white",
            "showbackground": true,
            "ticks": "",
            "zerolinecolor": "white"
           },
           "yaxis": {
            "backgroundcolor": "#E5ECF6",
            "gridcolor": "white",
            "gridwidth": 2,
            "linecolor": "white",
            "showbackground": true,
            "ticks": "",
            "zerolinecolor": "white"
           },
           "zaxis": {
            "backgroundcolor": "#E5ECF6",
            "gridcolor": "white",
            "gridwidth": 2,
            "linecolor": "white",
            "showbackground": true,
            "ticks": "",
            "zerolinecolor": "white"
           }
          },
          "shapedefaults": {
           "line": {
            "color": "#2a3f5f"
           }
          },
          "ternary": {
           "aaxis": {
            "gridcolor": "white",
            "linecolor": "white",
            "ticks": ""
           },
           "baxis": {
            "gridcolor": "white",
            "linecolor": "white",
            "ticks": ""
           },
           "bgcolor": "#E5ECF6",
           "caxis": {
            "gridcolor": "white",
            "linecolor": "white",
            "ticks": ""
           }
          },
          "title": {
           "x": 0.05
          },
          "xaxis": {
           "automargin": true,
           "gridcolor": "white",
           "linecolor": "white",
           "ticks": "",
           "title": {
            "standoff": 15
           },
           "zerolinecolor": "white",
           "zerolinewidth": 2
          },
          "yaxis": {
           "automargin": true,
           "gridcolor": "white",
           "linecolor": "white",
           "ticks": "",
           "title": {
            "standoff": 15
           },
           "zerolinecolor": "white",
           "zerolinewidth": 2
          }
         }
        },
        "title": {
         "font": {
          "color": "#151516"
         }
        },
        "xaxis": {
         "gridcolor": "#F6F6F6",
         "showgrid": true,
         "tickfont": {
          "color": "#666666"
         },
         "title": {
          "font": {
           "color": "#666666"
          },
          "text": ""
         },
         "zerolinecolor": "#F6F6F6"
        },
        "yaxis": {
         "gridcolor": "#F6F6F6",
         "showgrid": true,
         "tickfont": {
          "color": "#666666"
         },
         "title": {
          "font": {
           "color": "#666666"
          },
          "text": ""
         },
         "zerolinecolor": "#F6F6F6"
        }
       }
      },
      "text/html": [
       "<div>\n",
       "        \n",
       "        \n",
       "            <div id=\"e1a51b16-37f9-4fb6-9a51-f04b5abf1ba6\" class=\"plotly-graph-div\" style=\"height:525px; width:100%;\"></div>\n",
       "            <script type=\"text/javascript\">\n",
       "                require([\"plotly\"], function(Plotly) {\n",
       "                    window.PLOTLYENV=window.PLOTLYENV || {};\n",
       "                    window.PLOTLYENV.BASE_URL='https://plot.ly';\n",
       "                    \n",
       "                if (document.getElementById(\"e1a51b16-37f9-4fb6-9a51-f04b5abf1ba6\")) {\n",
       "                    Plotly.newPlot(\n",
       "                        'e1a51b16-37f9-4fb6-9a51-f04b5abf1ba6',\n",
       "                        [{\"boxpoints\": false, \"line\": {\"width\": 1.3}, \"marker\": {\"color\": \"rgba(226, 74, 51, 1.0)\"}, \"name\": \"ApplicantIncome\", \"orientation\": \"v\", \"type\": \"box\", \"y\": [5849, 4583, 3000, 2583, 6000, 5417, 2333, 3036, 4006, 12841, 3200, 2500, 3073, 1853, 1299, 4950, 3596, 3510, 4887, 2600, 7660, 5955, 2600, 3365, 3717, 9560, 2799, 4226, 1442, 3750, 4166, 3167, 4692, 3500, 12500, 2275, 1828, 3667, 4166, 3748, 3600, 1800, 2400, 3941, 4695, 3410, 5649, 5821, 2645, 4000, 1928, 3086, 4230, 4616, 11500, 2708, 2132, 3366, 8080, 3357, 2500, 3029, 2609, 4945, 4166, 5726, 3200, 10750, 7100, 4300, 3208, 1875, 3500, 4755, 5266, 3750, 3750, 1000, 3167, 3333, 3846, 2395, 1378, 6000, 3988, 2366, 3333, 2500, 8566, 5695, 2958, 6250, 3273, 4133, 3620, 6782, 2484, 1977, 4188, 1759, 4288, 4843, 13650, 4652, 3816, 3052, 11417, 7333, 3800, 2071, 5316, 2929, 3572, 7451, 5050, 14583, 3167, 2214, 5568, 10408, 5667, 4166, 2137, 2957, 4300, 3692, 23803, 3865, 10513, 6080, 20166, 2014, 2718, 3459, 4895, 4000, 4583, 3316, 14999, 4200, 5042, 5417, 6950, 2698, 11757, 2330, 14866, 1538, 10000, 4860, 6277, 2577, 9166, 2281, 3254, 39999, 6000, 9538, 2980, 4583, 1863, 7933, 3089, 4167, 9323, 3707, 4583, 2439, 2237, 8000, 1820, 51763, 3522, 5708, 4344, 3497, 2045, 5516, 3750, 2333, 6400, 1916, 4600, 33846, 3625, 39147, 2178, 2383, 674, 9328, 4885, 12000, 6033, 3858, 4191, 3125, 8333, 1907, 3416, 11000, 2600, 4923, 3992, 3500, 3917, 4408, 3244, 3975, 2479, 3418, 10000, 3430, 7787, 5703, 3173, 3850, 150, 3727, 5000, 4283, 2221, 4009, 2971, 7578, 6250, 3250, 4735, 6250, 4758, 6400, 2491, 3716, 3189, 8333, 3155, 5500, 5746, 3463, 3812, 3315, 5819, 2510, 2965, 6250, 3406, 6050, 9703, 6608, 2882, 1809, 1668, 3427, 2583, 2661, 16250, 3083, 6045, 5250, 14683, 4931, 6083, 2060, 3481, 7200, 5166, 4095, 4708, 4333, 3418, 2876, 3237, 11146, 2833, 2620, 3900, 2750, 3993, 3103, 14583, 4100, 4053, 3927, 2301, 1811, 20667, 3158, 2600, 3704, 4124, 9508, 3075, 4400, 3153, 5417, 2383, 4416, 6875, 4666, 5000, 2014, 1800, 2875, 5000, 1625, 4000, 2000, 3762, 2400, 20233, 7667, 2917, 2927, 2507, 5746, 2473, 3399, 3717, 2058, 3541, 10000, 2400, 4342, 3601, 3166, 15000, 8666, 4917, 5818, 4333, 2500, 4384, 2935, 2833, 63337, 9833, 5503, 5250, 2500, 1830, 4160, 2647, 2378, 4554, 3173, 2583, 2499, 3523, 3083, 6333, 2625, 9083, 8750, 2666, 5500, 2423, 3813, 8333, 3875, 3000, 5167, 4723, 5000, 4750, 3013, 6822, 6216, 2500, 5124, 6325, 19730, 15759, 5185, 9323, 3062, 2764, 4817, 8750, 4310, 3069, 5391, 3333, 5941, 6000, 7167, 4566, 3667, 2346, 3010, 2333, 5488, 9167, 9504, 2583, 1993, 3100, 3276, 3180, 3033, 3902, 1500, 2889, 2755, 2500, 1963, 7441, 4547, 2167, 2213, 8300, 81000, 3867, 6256, 6096, 2253, 2149, 2995, 2600, 1600, 1025, 3246, 5829, 2720, 1820, 7250, 14880, 2666, 4606, 5935, 2920, 2717, 8624, 6500, 12876, 2425, 3750, 10047, 1926, 2213, 10416, 7142, 3660, 7901, 4707, 37719, 7333, 3466, 4652, 3539, 3340, 2769, 2309, 1958, 3948, 2483, 7085, 3859, 4301, 3708, 4354, 8334, 2083, 7740, 3015, 5191, 4166, 6000, 2947, 16692, 210, 4333, 3450, 2653, 4691, 2500, 5532, 16525, 6700, 2873, 16667, 2947, 4350, 3095, 2083, 10833, 8333, 1958, 3547, 18333, 4583, 2435, 2699, 5333, 3691, 17263, 3597, 3326, 2600, 4625, 2895, 6283, 645, 3159, 4865, 4050, 3814, 3510, 20833, 3583, 2479, 13262, 3598, 6065, 3283, 2130, 5815, 3466, 2031, 3074, 4683, 3400, 2192, 2500, 5677, 7948, 4680, 17500, 3775, 5285, 2679, 6783, 1025, 4281, 3588, 11250, 18165, 2550, 6133, 3617, 2917, 6417, 4608, 2138, 3652, 2239, 3017, 2768, 3358, 2526, 5000, 2785, 6633, 2492, 3333, 2454, 3593, 5468, 2667, 10139, 3887, 4180, 3675, 19484, 5923, 5800, 8799, 4467, 3333, 3400, 2378, 3166, 3417, 5116, 16666, 6125, 6406, 3159, 3087, 3229, 1782, 3182, 6540, 1836, 3166, 1880, 2787, 4283, 2297, 2165, 4750, 2726, 3000, 6000, 9357, 3859, 16120, 3833, 6383, 2987, 9963, 5780, 416, 2894, 5703, 3676, 12000, 2400, 3400, 3987, 3232, 2900, 4106, 8072, 7583, 4583]}, {\"boxpoints\": false, \"line\": {\"width\": 1.3}, \"marker\": {\"color\": \"rgba(62, 111, 176, 1.0)\"}, \"name\": \"CoapplicantIncome\", \"orientation\": \"v\", \"type\": \"box\", \"y\": [0.0, 1508.0, 0.0, 2358.0, 0.0, 4196.0, 1516.0, 2504.0, 1526.0, 10968.0, 700.0, 1840.0, 8106.0, 2840.0, 1086.0, 0.0, 0.0, 0.0, 0.0, 3500.0, 0.0, 5625.0, 1911.0, 1917.0, 2925.0, 0.0, 2253.0, 1040.0, 0.0, 2083.0, 3369.0, 0.0, 0.0, 1667.0, 3000.0, 2067.0, 1330.0, 1459.0, 7210.0, 1668.0, 0.0, 1213.0, 0.0, 2336.0, 0.0, 0.0, 0.0, 0.0, 3440.0, 2275.0, 1644.0, 0.0, 0.0, 0.0, 0.0, 1167.0, 1591.0, 2200.0, 2250.0, 2859.0, 3796.0, 0.0, 3449.0, 0.0, 0.0, 4595.0, 2254.0, 0.0, 0.0, 0.0, 3066.0, 1875.0, 0.0, 0.0, 1774.0, 0.0, 4750.0, 3022.0, 4000.0, 2166.0, 0.0, 0.0, 1881.0, 2250.0, 0.0, 2531.0, 2000.0, 2118.0, 0.0, 4167.0, 2900.0, 5654.0, 1820.0, 0.0, 0.0, 0.0, 2302.0, 997.0, 0.0, 3541.0, 3263.0, 3806.0, 0.0, 3583.0, 754.0, 1030.0, 1126.0, 0.0, 3600.0, 754.0, 0.0, 2333.0, 4114.0, 0.0, 0.0, 0.0, 2283.0, 1398.0, 2142.0, 0.0, 2667.0, 0.0, 8980.0, 0.0, 2014.0, 0.0, 0.0, 1640.0, 3850.0, 2569.0, 0.0, 1929.0, 0.0, 0.0, 0.0, 7750.0, 0.0, 3500.0, 0.0, 1430.0, 2083.0, 0.0, 0.0, 2034.0, 0.0, 4486.0, 0.0, 1425.0, 1666.0, 830.0, 0.0, 3750.0, 0.0, 0.0, 0.0, 0.0, 0.0, 0.0, 2083.0, 5625.0, 1041.0, 0.0, 1280.0, 1447.0, 0.0, 3166.0, 0.0, 3333.0, 0.0, 0.0, 1769.0, 0.0, 0.0, 5625.0, 736.0, 1964.0, 1619.0, 11300.0, 0.0, 1451.0, 7250.0, 5063.0, 0.0, 0.0, 0.0, 4750.0, 0.0, 2138.0, 5296.0, 0.0, 0.0, 0.0, 0.0, 0.0, 0.0, 2583.0, 3750.0, 2365.0, 2816.0, 0.0, 2500.0, 0.0, 0.0, 1083.0, 0.0, 0.0, 0.0, 2531.0, 0.0, 0.0, 0.0, 1250.0, 0.0, 0.0, 3021.0, 983.0, 1800.0, 1775.0, 0.0, 2383.0, 0.0, 1717.0, 2791.0, 1010.0, 0.0, 0.0, 0.0, 1695.0, 0.0, 0.0, 2054.0, 0.0, 2598.0, 0.0, 1779.0, 1260.0, 0.0, 0.0, 0.0, 0.0, 5000.0, 1983.0, 5701.0, 1300.0, 4417.0, 4333.0, 0.0, 0.0, 1843.0, 1868.0, 3890.0, 0.0, 2167.0, 7101.0, 0.0, 0.0, 0.0, 0.0, 2100.0, 0.0, 4250.0, 2209.0, 0.0, 0.0, 0.0, 3447.0, 1387.0, 1811.0, 0.0, 1560.0, 0.0, 0.0, 1857.0, 2223.0, 0.0, 1842.0, 3274.0, 1300.0, 0.0, 0.0, 2426.0, 800.0, 985.7999877999998, 1666.0, 0.0, 3053.0, 1717.0, 2000.0, 0.0, 0.0, 2416.0, 0.0, 1560.0, 0.0, 3334.0, 1250.0, 0.0, 0.0, 2541.0, 2925.0, 2934.0, 1750.0, 0.0, 1803.0, 2500.0, 0.0, 1666.0, 1863.0, 0.0, 0.0, 0.0, 2405.0, 0.0, 0.0, 1843.0, 1640.0, 0.0, 2134.0, 0.0, 0.0, 2167.0, 189.0, 1590.0, 2985.0, 0.0, 4983.0, 0.0, 2160.0, 2451.0, 0.0, 1793.0, 0.0, 0.0, 0.0, 1833.0, 4490.0, 688.0, 4600.0, 0.0, 0.0, 1587.0, 0.0, 1229.0, 0.0, 2330.0, 2458.0, 3230.0, 2168.0, 4583.0, 6250.0, 0.0, 4167.0, 2083.0, 0.0, 505.0, 0.0, 3167.0, 0.0, 1666.0, 3167.0, 0.0, 3667.0, 2333.0, 3033.0, 0.0, 0.0, 0.0, 0.0, 0.0, 5266.0, 0.0, 0.0, 7873.0, 1987.0, 1459.0, 923.0, 4996.0, 0.0, 0.0, 0.0, 2500.0, 4232.0, 0.0, 0.0, 0.0, 0.0, 1600.0, 3136.0, 2417.0, 0.0, 0.0, 0.0, 2115.0, 1625.0, 1400.0, 484.0, 0.0, 1459.0, 1666.0, 1800.0, 0.0, 0.0, 20000.0, 0.0, 0.0, 0.0, 2400.0, 0.0, 0.0, 0.0, 0.0, 0.0, 0.0, 2033.0, 3237.0, 0.0, 0.0, 20000.0, 2773.0, 1417.0, 0.0, 0.0, 1719.0, 1667.0, 0.0, 4300.0, 0.0, 0.0, 16.12000084, 0.0, 0.0, 0.0, 0.0, 2340.0, 0.0, 0.0, 1851.0, 1125.0, 0.0, 0.0, 5064.0, 1833.0, 1993.0, 0.0, 8333.0, 1210.0, 0.0, 1376.0, 1710.0, 1542.0, 1255.0, 1456.0, 1733.0, 2466.0, 0.0, 0.0, 0.0, 2569.0, 0.0, 0.0, 4083.0, 0.0, 2188.0, 0.0, 0.0, 0.0, 1664.0, 0.0, 2917.0, 2451.0, 2079.0, 1500.0, 0.0, 0.0, 4648.0, 1014.0, 1750.0, 1872.0, 2250.0, 1603.0, 0.0, 0.0, 3150.0, 0.0, 0.0, 2436.0, 0.0, 0.0, 2083.0, 0.0, 2785.0, 1131.0, 0.0, 0.0, 2157.0, 913.0, 1700.0, 2857.0, 0.0, 4416.0, 3683.0, 0.0, 5624.0, 5302.0, 1483.0, 4416.0, 6667.0, 0.0, 3013.0, 0.0, 1287.0, 2004.0, 2035.0, 6666.0, 3666.0, 3428.0, 1632.0, 1800.0, 1915.0, 0.0, 1742.0, 0.0, 1424.0, 7166.0, 2087.0, 0.0, 0.0, 1430.0, 1302.0, 0.0, 5500.0, 0.0, 0.0, 0.0, 0.0, 2042.0, 3906.0, 0.0, 536.0, 0.0, 2845.0, 0.0, 0.0, 2524.0, 663.0, 1950.0, 0.0, 1783.0, 0.0, 2016.0, 0.0, 2375.0, 3250.0, 2333.0, 4266.0, 1032.0, 1625.0, 0.0, 2669.0, 2306.0, 242.0, 0.0, 2054.0, 0.0, 0.0, 0.0, 0.0, 2500.0, 0.0, 2064.0, 1750.0, 1451.0, 0.0, 1625.0, 0.0, 461.0, 2210.0, 2739.0, 2232.0, 2917.0, 0.0, 33837.0, 0.0, 0.0, 1917.0, 3000.0, 1522.0, 0.0, 0.0, 0.0, 3416.0, 0.0, 0.0, 3300.0, 0.0, 0.0, 1000.0, 0.0, 0.0, 0.0, 41667.0, 2792.0, 0.0, 4301.0, 0.0, 3800.0, 2500.0, 1411.0, 1950.0, 0.0, 0.0, 240.0, 0.0, 0.0]}],\n",
       "                        {\"legend\": {\"bgcolor\": \"#FFFFFF\", \"font\": {\"color\": \"#666666\"}}, \"paper_bgcolor\": \"#FFFFFF\", \"plot_bgcolor\": \"#E5E5E5\", \"template\": {\"data\": {\"bar\": [{\"error_x\": {\"color\": \"#2a3f5f\"}, \"error_y\": {\"color\": \"#2a3f5f\"}, \"marker\": {\"line\": {\"color\": \"#E5ECF6\", \"width\": 0.5}}, \"type\": \"bar\"}], \"barpolar\": [{\"marker\": {\"line\": {\"color\": \"#E5ECF6\", \"width\": 0.5}}, \"type\": \"barpolar\"}], \"carpet\": [{\"aaxis\": {\"endlinecolor\": \"#2a3f5f\", \"gridcolor\": \"white\", \"linecolor\": \"white\", \"minorgridcolor\": \"white\", \"startlinecolor\": \"#2a3f5f\"}, \"baxis\": {\"endlinecolor\": \"#2a3f5f\", \"gridcolor\": \"white\", \"linecolor\": \"white\", \"minorgridcolor\": \"white\", \"startlinecolor\": \"#2a3f5f\"}, \"type\": \"carpet\"}], \"choropleth\": [{\"colorbar\": {\"outlinewidth\": 0, \"ticks\": \"\"}, \"type\": \"choropleth\"}], \"contour\": [{\"colorbar\": {\"outlinewidth\": 0, \"ticks\": \"\"}, \"colorscale\": [[0.0, \"#0d0887\"], [0.1111111111111111, \"#46039f\"], [0.2222222222222222, \"#7201a8\"], [0.3333333333333333, \"#9c179e\"], [0.4444444444444444, \"#bd3786\"], [0.5555555555555556, \"#d8576b\"], [0.6666666666666666, \"#ed7953\"], [0.7777777777777778, \"#fb9f3a\"], [0.8888888888888888, \"#fdca26\"], [1.0, \"#f0f921\"]], \"type\": \"contour\"}], \"contourcarpet\": [{\"colorbar\": {\"outlinewidth\": 0, \"ticks\": \"\"}, \"type\": \"contourcarpet\"}], \"heatmap\": [{\"colorbar\": {\"outlinewidth\": 0, \"ticks\": \"\"}, \"colorscale\": [[0.0, \"#0d0887\"], [0.1111111111111111, \"#46039f\"], [0.2222222222222222, \"#7201a8\"], [0.3333333333333333, \"#9c179e\"], [0.4444444444444444, \"#bd3786\"], [0.5555555555555556, \"#d8576b\"], [0.6666666666666666, \"#ed7953\"], [0.7777777777777778, \"#fb9f3a\"], [0.8888888888888888, \"#fdca26\"], [1.0, \"#f0f921\"]], \"type\": \"heatmap\"}], \"heatmapgl\": [{\"colorbar\": {\"outlinewidth\": 0, \"ticks\": \"\"}, \"colorscale\": [[0.0, \"#0d0887\"], [0.1111111111111111, \"#46039f\"], [0.2222222222222222, \"#7201a8\"], [0.3333333333333333, \"#9c179e\"], [0.4444444444444444, \"#bd3786\"], [0.5555555555555556, \"#d8576b\"], [0.6666666666666666, \"#ed7953\"], [0.7777777777777778, \"#fb9f3a\"], [0.8888888888888888, \"#fdca26\"], [1.0, \"#f0f921\"]], \"type\": \"heatmapgl\"}], \"histogram\": [{\"marker\": {\"colorbar\": {\"outlinewidth\": 0, \"ticks\": \"\"}}, \"type\": \"histogram\"}], \"histogram2d\": [{\"colorbar\": {\"outlinewidth\": 0, \"ticks\": \"\"}, \"colorscale\": [[0.0, \"#0d0887\"], [0.1111111111111111, \"#46039f\"], [0.2222222222222222, \"#7201a8\"], [0.3333333333333333, \"#9c179e\"], [0.4444444444444444, \"#bd3786\"], [0.5555555555555556, \"#d8576b\"], [0.6666666666666666, \"#ed7953\"], [0.7777777777777778, \"#fb9f3a\"], [0.8888888888888888, \"#fdca26\"], [1.0, \"#f0f921\"]], \"type\": \"histogram2d\"}], \"histogram2dcontour\": [{\"colorbar\": {\"outlinewidth\": 0, \"ticks\": \"\"}, \"colorscale\": [[0.0, \"#0d0887\"], [0.1111111111111111, \"#46039f\"], [0.2222222222222222, \"#7201a8\"], [0.3333333333333333, \"#9c179e\"], [0.4444444444444444, \"#bd3786\"], [0.5555555555555556, \"#d8576b\"], [0.6666666666666666, \"#ed7953\"], [0.7777777777777778, \"#fb9f3a\"], [0.8888888888888888, \"#fdca26\"], [1.0, \"#f0f921\"]], \"type\": \"histogram2dcontour\"}], \"mesh3d\": [{\"colorbar\": {\"outlinewidth\": 0, \"ticks\": \"\"}, \"type\": \"mesh3d\"}], \"parcoords\": [{\"line\": {\"colorbar\": {\"outlinewidth\": 0, \"ticks\": \"\"}}, \"type\": \"parcoords\"}], \"pie\": [{\"automargin\": true, \"type\": \"pie\"}], \"scatter\": [{\"marker\": {\"colorbar\": {\"outlinewidth\": 0, \"ticks\": \"\"}}, \"type\": \"scatter\"}], \"scatter3d\": [{\"line\": {\"colorbar\": {\"outlinewidth\": 0, \"ticks\": \"\"}}, \"marker\": {\"colorbar\": {\"outlinewidth\": 0, \"ticks\": \"\"}}, \"type\": \"scatter3d\"}], \"scattercarpet\": [{\"marker\": {\"colorbar\": {\"outlinewidth\": 0, \"ticks\": \"\"}}, \"type\": \"scattercarpet\"}], \"scattergeo\": [{\"marker\": {\"colorbar\": {\"outlinewidth\": 0, \"ticks\": \"\"}}, \"type\": \"scattergeo\"}], \"scattergl\": [{\"marker\": {\"colorbar\": {\"outlinewidth\": 0, \"ticks\": \"\"}}, \"type\": \"scattergl\"}], \"scattermapbox\": [{\"marker\": {\"colorbar\": {\"outlinewidth\": 0, \"ticks\": \"\"}}, \"type\": \"scattermapbox\"}], \"scatterpolar\": [{\"marker\": {\"colorbar\": {\"outlinewidth\": 0, \"ticks\": \"\"}}, \"type\": \"scatterpolar\"}], \"scatterpolargl\": [{\"marker\": {\"colorbar\": {\"outlinewidth\": 0, \"ticks\": \"\"}}, \"type\": \"scatterpolargl\"}], \"scatterternary\": [{\"marker\": {\"colorbar\": {\"outlinewidth\": 0, \"ticks\": \"\"}}, \"type\": \"scatterternary\"}], \"surface\": [{\"colorbar\": {\"outlinewidth\": 0, \"ticks\": \"\"}, \"colorscale\": [[0.0, \"#0d0887\"], [0.1111111111111111, \"#46039f\"], [0.2222222222222222, \"#7201a8\"], [0.3333333333333333, \"#9c179e\"], [0.4444444444444444, \"#bd3786\"], [0.5555555555555556, \"#d8576b\"], [0.6666666666666666, \"#ed7953\"], [0.7777777777777778, \"#fb9f3a\"], [0.8888888888888888, \"#fdca26\"], [1.0, \"#f0f921\"]], \"type\": \"surface\"}], \"table\": [{\"cells\": {\"fill\": {\"color\": \"#EBF0F8\"}, \"line\": {\"color\": \"white\"}}, \"header\": {\"fill\": {\"color\": \"#C8D4E3\"}, \"line\": {\"color\": \"white\"}}, \"type\": \"table\"}]}, \"layout\": {\"annotationdefaults\": {\"arrowcolor\": \"#2a3f5f\", \"arrowhead\": 0, \"arrowwidth\": 1}, \"coloraxis\": {\"colorbar\": {\"outlinewidth\": 0, \"ticks\": \"\"}}, \"colorscale\": {\"diverging\": [[0, \"#8e0152\"], [0.1, \"#c51b7d\"], [0.2, \"#de77ae\"], [0.3, \"#f1b6da\"], [0.4, \"#fde0ef\"], [0.5, \"#f7f7f7\"], [0.6, \"#e6f5d0\"], [0.7, \"#b8e186\"], [0.8, \"#7fbc41\"], [0.9, \"#4d9221\"], [1, \"#276419\"]], \"sequential\": [[0.0, \"#0d0887\"], [0.1111111111111111, \"#46039f\"], [0.2222222222222222, \"#7201a8\"], [0.3333333333333333, \"#9c179e\"], [0.4444444444444444, \"#bd3786\"], [0.5555555555555556, \"#d8576b\"], [0.6666666666666666, \"#ed7953\"], [0.7777777777777778, \"#fb9f3a\"], [0.8888888888888888, \"#fdca26\"], [1.0, \"#f0f921\"]], \"sequentialminus\": [[0.0, \"#0d0887\"], [0.1111111111111111, \"#46039f\"], [0.2222222222222222, \"#7201a8\"], [0.3333333333333333, \"#9c179e\"], [0.4444444444444444, \"#bd3786\"], [0.5555555555555556, \"#d8576b\"], [0.6666666666666666, \"#ed7953\"], [0.7777777777777778, \"#fb9f3a\"], [0.8888888888888888, \"#fdca26\"], [1.0, \"#f0f921\"]]}, \"colorway\": [\"#636efa\", \"#EF553B\", \"#00cc96\", \"#ab63fa\", \"#FFA15A\", \"#19d3f3\", \"#FF6692\", \"#B6E880\", \"#FF97FF\", \"#FECB52\"], \"font\": {\"color\": \"#2a3f5f\"}, \"geo\": {\"bgcolor\": \"white\", \"lakecolor\": \"white\", \"landcolor\": \"#E5ECF6\", \"showlakes\": true, \"showland\": true, \"subunitcolor\": \"white\"}, \"hoverlabel\": {\"align\": \"left\"}, \"hovermode\": \"closest\", \"mapbox\": {\"style\": \"light\"}, \"paper_bgcolor\": \"white\", \"plot_bgcolor\": \"#E5ECF6\", \"polar\": {\"angularaxis\": {\"gridcolor\": \"white\", \"linecolor\": \"white\", \"ticks\": \"\"}, \"bgcolor\": \"#E5ECF6\", \"radialaxis\": {\"gridcolor\": \"white\", \"linecolor\": \"white\", \"ticks\": \"\"}}, \"scene\": {\"xaxis\": {\"backgroundcolor\": \"#E5ECF6\", \"gridcolor\": \"white\", \"gridwidth\": 2, \"linecolor\": \"white\", \"showbackground\": true, \"ticks\": \"\", \"zerolinecolor\": \"white\"}, \"yaxis\": {\"backgroundcolor\": \"#E5ECF6\", \"gridcolor\": \"white\", \"gridwidth\": 2, \"linecolor\": \"white\", \"showbackground\": true, \"ticks\": \"\", \"zerolinecolor\": \"white\"}, \"zaxis\": {\"backgroundcolor\": \"#E5ECF6\", \"gridcolor\": \"white\", \"gridwidth\": 2, \"linecolor\": \"white\", \"showbackground\": true, \"ticks\": \"\", \"zerolinecolor\": \"white\"}}, \"shapedefaults\": {\"line\": {\"color\": \"#2a3f5f\"}}, \"ternary\": {\"aaxis\": {\"gridcolor\": \"white\", \"linecolor\": \"white\", \"ticks\": \"\"}, \"baxis\": {\"gridcolor\": \"white\", \"linecolor\": \"white\", \"ticks\": \"\"}, \"bgcolor\": \"#E5ECF6\", \"caxis\": {\"gridcolor\": \"white\", \"linecolor\": \"white\", \"ticks\": \"\"}}, \"title\": {\"x\": 0.05}, \"xaxis\": {\"automargin\": true, \"gridcolor\": \"white\", \"linecolor\": \"white\", \"ticks\": \"\", \"title\": {\"standoff\": 15}, \"zerolinecolor\": \"white\", \"zerolinewidth\": 2}, \"yaxis\": {\"automargin\": true, \"gridcolor\": \"white\", \"linecolor\": \"white\", \"ticks\": \"\", \"title\": {\"standoff\": 15}, \"zerolinecolor\": \"white\", \"zerolinewidth\": 2}}}, \"title\": {\"font\": {\"color\": \"#151516\"}}, \"xaxis\": {\"gridcolor\": \"#F6F6F6\", \"showgrid\": true, \"tickfont\": {\"color\": \"#666666\"}, \"title\": {\"font\": {\"color\": \"#666666\"}, \"text\": \"\"}, \"zerolinecolor\": \"#F6F6F6\"}, \"yaxis\": {\"gridcolor\": \"#F6F6F6\", \"showgrid\": true, \"tickfont\": {\"color\": \"#666666\"}, \"title\": {\"font\": {\"color\": \"#666666\"}, \"text\": \"\"}, \"zerolinecolor\": \"#F6F6F6\"}},\n",
       "                        {\"showLink\": true, \"linkText\": \"Export to plot.ly\", \"plotlyServerURL\": \"https://plot.ly\", \"responsive\": true}\n",
       "                    ).then(function(){\n",
       "                            \n",
       "var gd = document.getElementById('e1a51b16-37f9-4fb6-9a51-f04b5abf1ba6');\n",
       "var x = new MutationObserver(function (mutations, observer) {{\n",
       "        var display = window.getComputedStyle(gd).display;\n",
       "        if (!display || display === 'none') {{\n",
       "            console.log([gd, 'removed!']);\n",
       "            Plotly.purge(gd);\n",
       "            observer.disconnect();\n",
       "        }}\n",
       "}});\n",
       "\n",
       "// Listen for the removal of the full notebook cells\n",
       "var notebookContainer = gd.closest('#notebook-container');\n",
       "if (notebookContainer) {{\n",
       "    x.observe(notebookContainer, {childList: true});\n",
       "}}\n",
       "\n",
       "// Listen for the clearing of the current output cell\n",
       "var outputEl = gd.closest('.output');\n",
       "if (outputEl) {{\n",
       "    x.observe(outputEl, {childList: true});\n",
       "}}\n",
       "\n",
       "                        })\n",
       "                };\n",
       "                });\n",
       "            </script>\n",
       "        </div>"
      ]
     },
     "metadata": {},
     "output_type": "display_data"
    }
   ],
   "source": [
    "data[['ApplicantIncome', 'CoapplicantIncome']].iplot(kind = 'box')"
   ]
  },
  {
   "cell_type": "code",
   "execution_count": 6,
   "metadata": {},
   "outputs": [
    {
     "data": {
      "application/vnd.plotly.v1+json": {
       "config": {
        "linkText": "Export to plot.ly",
        "plotlyServerURL": "https://plot.ly",
        "showLink": true
       },
       "data": [
        {
         "line": {
          "color": "rgba(226, 74, 51, 1.0)",
          "dash": "solid",
          "shape": "linear",
          "width": 1.3
         },
         "marker": {
          "size": 12,
          "symbol": "circle"
         },
         "mode": "markers",
         "name": "ApplicantIncome",
         "text": "",
         "type": "scatter",
         "x": [
          "LP001002",
          "LP001003",
          "LP001005",
          "LP001006",
          "LP001008",
          "LP001011",
          "LP001013",
          "LP001014",
          "LP001018",
          "LP001020",
          "LP001024",
          "LP001027",
          "LP001028",
          "LP001029",
          "LP001030",
          "LP001032",
          "LP001034",
          "LP001036",
          "LP001038",
          "LP001041",
          "LP001043",
          "LP001046",
          "LP001047",
          "LP001050",
          "LP001052",
          "LP001066",
          "LP001068",
          "LP001073",
          "LP001086",
          "LP001087",
          "LP001091",
          "LP001095",
          "LP001097",
          "LP001098",
          "LP001100",
          "LP001106",
          "LP001109",
          "LP001112",
          "LP001114",
          "LP001116",
          "LP001119",
          "LP001120",
          "LP001123",
          "LP001131",
          "LP001136",
          "LP001137",
          "LP001138",
          "LP001144",
          "LP001146",
          "LP001151",
          "LP001155",
          "LP001157",
          "LP001164",
          "LP001179",
          "LP001186",
          "LP001194",
          "LP001195",
          "LP001197",
          "LP001198",
          "LP001199",
          "LP001205",
          "LP001206",
          "LP001207",
          "LP001213",
          "LP001222",
          "LP001225",
          "LP001228",
          "LP001233",
          "LP001238",
          "LP001241",
          "LP001243",
          "LP001245",
          "LP001248",
          "LP001250",
          "LP001253",
          "LP001255",
          "LP001256",
          "LP001259",
          "LP001263",
          "LP001264",
          "LP001265",
          "LP001266",
          "LP001267",
          "LP001273",
          "LP001275",
          "LP001279",
          "LP001280",
          "LP001282",
          "LP001289",
          "LP001310",
          "LP001316",
          "LP001318",
          "LP001319",
          "LP001322",
          "LP001325",
          "LP001326",
          "LP001327",
          "LP001333",
          "LP001334",
          "LP001343",
          "LP001345",
          "LP001349",
          "LP001350",
          "LP001356",
          "LP001357",
          "LP001367",
          "LP001369",
          "LP001370",
          "LP001379",
          "LP001384",
          "LP001385",
          "LP001387",
          "LP001391",
          "LP001392",
          "LP001398",
          "LP001401",
          "LP001404",
          "LP001405",
          "LP001421",
          "LP001422",
          "LP001426",
          "LP001430",
          "LP001431",
          "LP001432",
          "LP001439",
          "LP001443",
          "LP001448",
          "LP001449",
          "LP001451",
          "LP001465",
          "LP001469",
          "LP001473",
          "LP001478",
          "LP001482",
          "LP001487",
          "LP001488",
          "LP001489",
          "LP001491",
          "LP001492",
          "LP001493",
          "LP001497",
          "LP001498",
          "LP001504",
          "LP001507",
          "LP001508",
          "LP001514",
          "LP001516",
          "LP001518",
          "LP001519",
          "LP001520",
          "LP001528",
          "LP001529",
          "LP001531",
          "LP001532",
          "LP001535",
          "LP001536",
          "LP001541",
          "LP001543",
          "LP001546",
          "LP001552",
          "LP001560",
          "LP001562",
          "LP001565",
          "LP001570",
          "LP001572",
          "LP001574",
          "LP001577",
          "LP001578",
          "LP001579",
          "LP001580",
          "LP001581",
          "LP001585",
          "LP001586",
          "LP001594",
          "LP001603",
          "LP001606",
          "LP001608",
          "LP001610",
          "LP001616",
          "LP001630",
          "LP001633",
          "LP001634",
          "LP001636",
          "LP001637",
          "LP001639",
          "LP001640",
          "LP001641",
          "LP001643",
          "LP001644",
          "LP001647",
          "LP001653",
          "LP001656",
          "LP001657",
          "LP001658",
          "LP001664",
          "LP001665",
          "LP001666",
          "LP001669",
          "LP001671",
          "LP001673",
          "LP001674",
          "LP001677",
          "LP001682",
          "LP001688",
          "LP001691",
          "LP001692",
          "LP001693",
          "LP001698",
          "LP001699",
          "LP001702",
          "LP001708",
          "LP001711",
          "LP001713",
          "LP001715",
          "LP001716",
          "LP001720",
          "LP001722",
          "LP001726",
          "LP001732",
          "LP001734",
          "LP001736",
          "LP001743",
          "LP001744",
          "LP001749",
          "LP001750",
          "LP001751",
          "LP001754",
          "LP001758",
          "LP001760",
          "LP001761",
          "LP001765",
          "LP001768",
          "LP001770",
          "LP001776",
          "LP001778",
          "LP001784",
          "LP001786",
          "LP001788",
          "LP001790",
          "LP001792",
          "LP001798",
          "LP001800",
          "LP001806",
          "LP001807",
          "LP001811",
          "LP001813",
          "LP001814",
          "LP001819",
          "LP001824",
          "LP001825",
          "LP001835",
          "LP001836",
          "LP001841",
          "LP001843",
          "LP001844",
          "LP001846",
          "LP001849",
          "LP001854",
          "LP001859",
          "LP001864",
          "LP001865",
          "LP001868",
          "LP001870",
          "LP001871",
          "LP001872",
          "LP001875",
          "LP001877",
          "LP001882",
          "LP001883",
          "LP001884",
          "LP001888",
          "LP001891",
          "LP001892",
          "LP001894",
          "LP001896",
          "LP001900",
          "LP001903",
          "LP001904",
          "LP001907",
          "LP001908",
          "LP001910",
          "LP001914",
          "LP001915",
          "LP001917",
          "LP001922",
          "LP001924",
          "LP001925",
          "LP001926",
          "LP001931",
          "LP001935",
          "LP001936",
          "LP001938",
          "LP001940",
          "LP001945",
          "LP001947",
          "LP001949",
          "LP001953",
          "LP001954",
          "LP001955",
          "LP001963",
          "LP001964",
          "LP001972",
          "LP001974",
          "LP001977",
          "LP001978",
          "LP001990",
          "LP001993",
          "LP001994",
          "LP001996",
          "LP001998",
          "LP002002",
          "LP002004",
          "LP002006",
          "LP002008",
          "LP002024",
          "LP002031",
          "LP002035",
          "LP002036",
          "LP002043",
          "LP002050",
          "LP002051",
          "LP002053",
          "LP002054",
          "LP002055",
          "LP002065",
          "LP002067",
          "LP002068",
          "LP002082",
          "LP002086",
          "LP002087",
          "LP002097",
          "LP002098",
          "LP002100",
          "LP002101",
          "LP002103",
          "LP002106",
          "LP002110",
          "LP002112",
          "LP002113",
          "LP002114",
          "LP002115",
          "LP002116",
          "LP002119",
          "LP002126",
          "LP002128",
          "LP002129",
          "LP002130",
          "LP002131",
          "LP002137",
          "LP002138",
          "LP002139",
          "LP002140",
          "LP002141",
          "LP002142",
          "LP002143",
          "LP002144",
          "LP002149",
          "LP002151",
          "LP002158",
          "LP002160",
          "LP002161",
          "LP002170",
          "LP002175",
          "LP002178",
          "LP002180",
          "LP002181",
          "LP002187",
          "LP002188",
          "LP002190",
          "LP002191",
          "LP002194",
          "LP002197",
          "LP002201",
          "LP002205",
          "LP002209",
          "LP002211",
          "LP002219",
          "LP002223",
          "LP002224",
          "LP002225",
          "LP002226",
          "LP002229",
          "LP002231",
          "LP002234",
          "LP002236",
          "LP002237",
          "LP002239",
          "LP002243",
          "LP002244",
          "LP002250",
          "LP002255",
          "LP002262",
          "LP002263",
          "LP002265",
          "LP002266",
          "LP002272",
          "LP002277",
          "LP002281",
          "LP002284",
          "LP002287",
          "LP002288",
          "LP002296",
          "LP002297",
          "LP002300",
          "LP002301",
          "LP002305",
          "LP002308",
          "LP002314",
          "LP002315",
          "LP002317",
          "LP002318",
          "LP002319",
          "LP002328",
          "LP002332",
          "LP002335",
          "LP002337",
          "LP002341",
          "LP002342",
          "LP002345",
          "LP002347",
          "LP002348",
          "LP002357",
          "LP002361",
          "LP002362",
          "LP002364",
          "LP002366",
          "LP002367",
          "LP002368",
          "LP002369",
          "LP002370",
          "LP002377",
          "LP002379",
          "LP002386",
          "LP002387",
          "LP002390",
          "LP002393",
          "LP002398",
          "LP002401",
          "LP002403",
          "LP002407",
          "LP002408",
          "LP002409",
          "LP002418",
          "LP002422",
          "LP002424",
          "LP002429",
          "LP002434",
          "LP002435",
          "LP002443",
          "LP002444",
          "LP002446",
          "LP002447",
          "LP002448",
          "LP002449",
          "LP002453",
          "LP002455",
          "LP002459",
          "LP002467",
          "LP002472",
          "LP002473",
          "LP002478",
          "LP002484",
          "LP002487",
          "LP002489",
          "LP002493",
          "LP002494",
          "LP002500",
          "LP002501",
          "LP002502",
          "LP002505",
          "LP002515",
          "LP002517",
          "LP002519",
          "LP002522",
          "LP002524",
          "LP002527",
          "LP002529",
          "LP002530",
          "LP002531",
          "LP002533",
          "LP002534",
          "LP002536",
          "LP002537",
          "LP002541",
          "LP002543",
          "LP002544",
          "LP002545",
          "LP002547",
          "LP002555",
          "LP002556",
          "LP002560",
          "LP002562",
          "LP002571",
          "LP002582",
          "LP002585",
          "LP002586",
          "LP002587",
          "LP002588",
          "LP002600",
          "LP002602",
          "LP002603",
          "LP002606",
          "LP002615",
          "LP002618",
          "LP002619",
          "LP002622",
          "LP002624",
          "LP002625",
          "LP002626",
          "LP002634",
          "LP002637",
          "LP002640",
          "LP002643",
          "LP002648",
          "LP002652",
          "LP002659",
          "LP002670",
          "LP002682",
          "LP002683",
          "LP002684",
          "LP002689",
          "LP002690",
          "LP002692",
          "LP002693",
          "LP002697",
          "LP002699",
          "LP002705",
          "LP002706",
          "LP002714",
          "LP002716",
          "LP002717",
          "LP002720",
          "LP002723",
          "LP002729",
          "LP002731",
          "LP002732",
          "LP002734",
          "LP002738",
          "LP002739",
          "LP002740",
          "LP002741",
          "LP002743",
          "LP002753",
          "LP002755",
          "LP002757",
          "LP002767",
          "LP002768",
          "LP002772",
          "LP002776",
          "LP002777",
          "LP002778",
          "LP002784",
          "LP002785",
          "LP002788",
          "LP002789",
          "LP002792",
          "LP002794",
          "LP002795",
          "LP002798",
          "LP002804",
          "LP002807",
          "LP002813",
          "LP002820",
          "LP002821",
          "LP002832",
          "LP002833",
          "LP002836",
          "LP002837",
          "LP002840",
          "LP002841",
          "LP002842",
          "LP002847",
          "LP002855",
          "LP002862",
          "LP002863",
          "LP002868",
          "LP002872",
          "LP002874",
          "LP002877",
          "LP002888",
          "LP002892",
          "LP002893",
          "LP002894",
          "LP002898",
          "LP002911",
          "LP002912",
          "LP002916",
          "LP002917",
          "LP002925",
          "LP002926",
          "LP002928",
          "LP002931",
          "LP002933",
          "LP002936",
          "LP002938",
          "LP002940",
          "LP002941",
          "LP002943",
          "LP002945",
          "LP002948",
          "LP002949",
          "LP002950",
          "LP002953",
          "LP002958",
          "LP002959",
          "LP002960",
          "LP002961",
          "LP002964",
          "LP002974",
          "LP002978",
          "LP002979",
          "LP002983",
          "LP002984",
          "LP002990"
         ],
         "y": [
          5849,
          4583,
          3000,
          2583,
          6000,
          5417,
          2333,
          3036,
          4006,
          12841,
          3200,
          2500,
          3073,
          1853,
          1299,
          4950,
          3596,
          3510,
          4887,
          2600,
          7660,
          5955,
          2600,
          3365,
          3717,
          9560,
          2799,
          4226,
          1442,
          3750,
          4166,
          3167,
          4692,
          3500,
          12500,
          2275,
          1828,
          3667,
          4166,
          3748,
          3600,
          1800,
          2400,
          3941,
          4695,
          3410,
          5649,
          5821,
          2645,
          4000,
          1928,
          3086,
          4230,
          4616,
          11500,
          2708,
          2132,
          3366,
          8080,
          3357,
          2500,
          3029,
          2609,
          4945,
          4166,
          5726,
          3200,
          10750,
          7100,
          4300,
          3208,
          1875,
          3500,
          4755,
          5266,
          3750,
          3750,
          1000,
          3167,
          3333,
          3846,
          2395,
          1378,
          6000,
          3988,
          2366,
          3333,
          2500,
          8566,
          5695,
          2958,
          6250,
          3273,
          4133,
          3620,
          6782,
          2484,
          1977,
          4188,
          1759,
          4288,
          4843,
          13650,
          4652,
          3816,
          3052,
          11417,
          7333,
          3800,
          2071,
          5316,
          2929,
          3572,
          7451,
          5050,
          14583,
          3167,
          2214,
          5568,
          10408,
          5667,
          4166,
          2137,
          2957,
          4300,
          3692,
          23803,
          3865,
          10513,
          6080,
          20166,
          2014,
          2718,
          3459,
          4895,
          4000,
          4583,
          3316,
          14999,
          4200,
          5042,
          5417,
          6950,
          2698,
          11757,
          2330,
          14866,
          1538,
          10000,
          4860,
          6277,
          2577,
          9166,
          2281,
          3254,
          39999,
          6000,
          9538,
          2980,
          4583,
          1863,
          7933,
          3089,
          4167,
          9323,
          3707,
          4583,
          2439,
          2237,
          8000,
          1820,
          51763,
          3522,
          5708,
          4344,
          3497,
          2045,
          5516,
          3750,
          2333,
          6400,
          1916,
          4600,
          33846,
          3625,
          39147,
          2178,
          2383,
          674,
          9328,
          4885,
          12000,
          6033,
          3858,
          4191,
          3125,
          8333,
          1907,
          3416,
          11000,
          2600,
          4923,
          3992,
          3500,
          3917,
          4408,
          3244,
          3975,
          2479,
          3418,
          10000,
          3430,
          7787,
          5703,
          3173,
          3850,
          150,
          3727,
          5000,
          4283,
          2221,
          4009,
          2971,
          7578,
          6250,
          3250,
          4735,
          6250,
          4758,
          6400,
          2491,
          3716,
          3189,
          8333,
          3155,
          5500,
          5746,
          3463,
          3812,
          3315,
          5819,
          2510,
          2965,
          6250,
          3406,
          6050,
          9703,
          6608,
          2882,
          1809,
          1668,
          3427,
          2583,
          2661,
          16250,
          3083,
          6045,
          5250,
          14683,
          4931,
          6083,
          2060,
          3481,
          7200,
          5166,
          4095,
          4708,
          4333,
          3418,
          2876,
          3237,
          11146,
          2833,
          2620,
          3900,
          2750,
          3993,
          3103,
          14583,
          4100,
          4053,
          3927,
          2301,
          1811,
          20667,
          3158,
          2600,
          3704,
          4124,
          9508,
          3075,
          4400,
          3153,
          5417,
          2383,
          4416,
          6875,
          4666,
          5000,
          2014,
          1800,
          2875,
          5000,
          1625,
          4000,
          2000,
          3762,
          2400,
          20233,
          7667,
          2917,
          2927,
          2507,
          5746,
          2473,
          3399,
          3717,
          2058,
          3541,
          10000,
          2400,
          4342,
          3601,
          3166,
          15000,
          8666,
          4917,
          5818,
          4333,
          2500,
          4384,
          2935,
          2833,
          63337,
          9833,
          5503,
          5250,
          2500,
          1830,
          4160,
          2647,
          2378,
          4554,
          3173,
          2583,
          2499,
          3523,
          3083,
          6333,
          2625,
          9083,
          8750,
          2666,
          5500,
          2423,
          3813,
          8333,
          3875,
          3000,
          5167,
          4723,
          5000,
          4750,
          3013,
          6822,
          6216,
          2500,
          5124,
          6325,
          19730,
          15759,
          5185,
          9323,
          3062,
          2764,
          4817,
          8750,
          4310,
          3069,
          5391,
          3333,
          5941,
          6000,
          7167,
          4566,
          3667,
          2346,
          3010,
          2333,
          5488,
          9167,
          9504,
          2583,
          1993,
          3100,
          3276,
          3180,
          3033,
          3902,
          1500,
          2889,
          2755,
          2500,
          1963,
          7441,
          4547,
          2167,
          2213,
          8300,
          81000,
          3867,
          6256,
          6096,
          2253,
          2149,
          2995,
          2600,
          1600,
          1025,
          3246,
          5829,
          2720,
          1820,
          7250,
          14880,
          2666,
          4606,
          5935,
          2920,
          2717,
          8624,
          6500,
          12876,
          2425,
          3750,
          10047,
          1926,
          2213,
          10416,
          7142,
          3660,
          7901,
          4707,
          37719,
          7333,
          3466,
          4652,
          3539,
          3340,
          2769,
          2309,
          1958,
          3948,
          2483,
          7085,
          3859,
          4301,
          3708,
          4354,
          8334,
          2083,
          7740,
          3015,
          5191,
          4166,
          6000,
          2947,
          16692,
          210,
          4333,
          3450,
          2653,
          4691,
          2500,
          5532,
          16525,
          6700,
          2873,
          16667,
          2947,
          4350,
          3095,
          2083,
          10833,
          8333,
          1958,
          3547,
          18333,
          4583,
          2435,
          2699,
          5333,
          3691,
          17263,
          3597,
          3326,
          2600,
          4625,
          2895,
          6283,
          645,
          3159,
          4865,
          4050,
          3814,
          3510,
          20833,
          3583,
          2479,
          13262,
          3598,
          6065,
          3283,
          2130,
          5815,
          3466,
          2031,
          3074,
          4683,
          3400,
          2192,
          2500,
          5677,
          7948,
          4680,
          17500,
          3775,
          5285,
          2679,
          6783,
          1025,
          4281,
          3588,
          11250,
          18165,
          2550,
          6133,
          3617,
          2917,
          6417,
          4608,
          2138,
          3652,
          2239,
          3017,
          2768,
          3358,
          2526,
          5000,
          2785,
          6633,
          2492,
          3333,
          2454,
          3593,
          5468,
          2667,
          10139,
          3887,
          4180,
          3675,
          19484,
          5923,
          5800,
          8799,
          4467,
          3333,
          3400,
          2378,
          3166,
          3417,
          5116,
          16666,
          6125,
          6406,
          3159,
          3087,
          3229,
          1782,
          3182,
          6540,
          1836,
          3166,
          1880,
          2787,
          4283,
          2297,
          2165,
          4750,
          2726,
          3000,
          6000,
          9357,
          3859,
          16120,
          3833,
          6383,
          2987,
          9963,
          5780,
          416,
          2894,
          5703,
          3676,
          12000,
          2400,
          3400,
          3987,
          3232,
          2900,
          4106,
          8072,
          7583,
          4583
         ]
        },
        {
         "line": {
          "color": "rgba(62, 111, 176, 1.0)",
          "dash": "solid",
          "shape": "linear",
          "width": 1.3
         },
         "marker": {
          "size": 12,
          "symbol": "circle"
         },
         "mode": "markers",
         "name": "CoapplicantIncome",
         "text": "",
         "type": "scatter",
         "x": [
          "LP001002",
          "LP001003",
          "LP001005",
          "LP001006",
          "LP001008",
          "LP001011",
          "LP001013",
          "LP001014",
          "LP001018",
          "LP001020",
          "LP001024",
          "LP001027",
          "LP001028",
          "LP001029",
          "LP001030",
          "LP001032",
          "LP001034",
          "LP001036",
          "LP001038",
          "LP001041",
          "LP001043",
          "LP001046",
          "LP001047",
          "LP001050",
          "LP001052",
          "LP001066",
          "LP001068",
          "LP001073",
          "LP001086",
          "LP001087",
          "LP001091",
          "LP001095",
          "LP001097",
          "LP001098",
          "LP001100",
          "LP001106",
          "LP001109",
          "LP001112",
          "LP001114",
          "LP001116",
          "LP001119",
          "LP001120",
          "LP001123",
          "LP001131",
          "LP001136",
          "LP001137",
          "LP001138",
          "LP001144",
          "LP001146",
          "LP001151",
          "LP001155",
          "LP001157",
          "LP001164",
          "LP001179",
          "LP001186",
          "LP001194",
          "LP001195",
          "LP001197",
          "LP001198",
          "LP001199",
          "LP001205",
          "LP001206",
          "LP001207",
          "LP001213",
          "LP001222",
          "LP001225",
          "LP001228",
          "LP001233",
          "LP001238",
          "LP001241",
          "LP001243",
          "LP001245",
          "LP001248",
          "LP001250",
          "LP001253",
          "LP001255",
          "LP001256",
          "LP001259",
          "LP001263",
          "LP001264",
          "LP001265",
          "LP001266",
          "LP001267",
          "LP001273",
          "LP001275",
          "LP001279",
          "LP001280",
          "LP001282",
          "LP001289",
          "LP001310",
          "LP001316",
          "LP001318",
          "LP001319",
          "LP001322",
          "LP001325",
          "LP001326",
          "LP001327",
          "LP001333",
          "LP001334",
          "LP001343",
          "LP001345",
          "LP001349",
          "LP001350",
          "LP001356",
          "LP001357",
          "LP001367",
          "LP001369",
          "LP001370",
          "LP001379",
          "LP001384",
          "LP001385",
          "LP001387",
          "LP001391",
          "LP001392",
          "LP001398",
          "LP001401",
          "LP001404",
          "LP001405",
          "LP001421",
          "LP001422",
          "LP001426",
          "LP001430",
          "LP001431",
          "LP001432",
          "LP001439",
          "LP001443",
          "LP001448",
          "LP001449",
          "LP001451",
          "LP001465",
          "LP001469",
          "LP001473",
          "LP001478",
          "LP001482",
          "LP001487",
          "LP001488",
          "LP001489",
          "LP001491",
          "LP001492",
          "LP001493",
          "LP001497",
          "LP001498",
          "LP001504",
          "LP001507",
          "LP001508",
          "LP001514",
          "LP001516",
          "LP001518",
          "LP001519",
          "LP001520",
          "LP001528",
          "LP001529",
          "LP001531",
          "LP001532",
          "LP001535",
          "LP001536",
          "LP001541",
          "LP001543",
          "LP001546",
          "LP001552",
          "LP001560",
          "LP001562",
          "LP001565",
          "LP001570",
          "LP001572",
          "LP001574",
          "LP001577",
          "LP001578",
          "LP001579",
          "LP001580",
          "LP001581",
          "LP001585",
          "LP001586",
          "LP001594",
          "LP001603",
          "LP001606",
          "LP001608",
          "LP001610",
          "LP001616",
          "LP001630",
          "LP001633",
          "LP001634",
          "LP001636",
          "LP001637",
          "LP001639",
          "LP001640",
          "LP001641",
          "LP001643",
          "LP001644",
          "LP001647",
          "LP001653",
          "LP001656",
          "LP001657",
          "LP001658",
          "LP001664",
          "LP001665",
          "LP001666",
          "LP001669",
          "LP001671",
          "LP001673",
          "LP001674",
          "LP001677",
          "LP001682",
          "LP001688",
          "LP001691",
          "LP001692",
          "LP001693",
          "LP001698",
          "LP001699",
          "LP001702",
          "LP001708",
          "LP001711",
          "LP001713",
          "LP001715",
          "LP001716",
          "LP001720",
          "LP001722",
          "LP001726",
          "LP001732",
          "LP001734",
          "LP001736",
          "LP001743",
          "LP001744",
          "LP001749",
          "LP001750",
          "LP001751",
          "LP001754",
          "LP001758",
          "LP001760",
          "LP001761",
          "LP001765",
          "LP001768",
          "LP001770",
          "LP001776",
          "LP001778",
          "LP001784",
          "LP001786",
          "LP001788",
          "LP001790",
          "LP001792",
          "LP001798",
          "LP001800",
          "LP001806",
          "LP001807",
          "LP001811",
          "LP001813",
          "LP001814",
          "LP001819",
          "LP001824",
          "LP001825",
          "LP001835",
          "LP001836",
          "LP001841",
          "LP001843",
          "LP001844",
          "LP001846",
          "LP001849",
          "LP001854",
          "LP001859",
          "LP001864",
          "LP001865",
          "LP001868",
          "LP001870",
          "LP001871",
          "LP001872",
          "LP001875",
          "LP001877",
          "LP001882",
          "LP001883",
          "LP001884",
          "LP001888",
          "LP001891",
          "LP001892",
          "LP001894",
          "LP001896",
          "LP001900",
          "LP001903",
          "LP001904",
          "LP001907",
          "LP001908",
          "LP001910",
          "LP001914",
          "LP001915",
          "LP001917",
          "LP001922",
          "LP001924",
          "LP001925",
          "LP001926",
          "LP001931",
          "LP001935",
          "LP001936",
          "LP001938",
          "LP001940",
          "LP001945",
          "LP001947",
          "LP001949",
          "LP001953",
          "LP001954",
          "LP001955",
          "LP001963",
          "LP001964",
          "LP001972",
          "LP001974",
          "LP001977",
          "LP001978",
          "LP001990",
          "LP001993",
          "LP001994",
          "LP001996",
          "LP001998",
          "LP002002",
          "LP002004",
          "LP002006",
          "LP002008",
          "LP002024",
          "LP002031",
          "LP002035",
          "LP002036",
          "LP002043",
          "LP002050",
          "LP002051",
          "LP002053",
          "LP002054",
          "LP002055",
          "LP002065",
          "LP002067",
          "LP002068",
          "LP002082",
          "LP002086",
          "LP002087",
          "LP002097",
          "LP002098",
          "LP002100",
          "LP002101",
          "LP002103",
          "LP002106",
          "LP002110",
          "LP002112",
          "LP002113",
          "LP002114",
          "LP002115",
          "LP002116",
          "LP002119",
          "LP002126",
          "LP002128",
          "LP002129",
          "LP002130",
          "LP002131",
          "LP002137",
          "LP002138",
          "LP002139",
          "LP002140",
          "LP002141",
          "LP002142",
          "LP002143",
          "LP002144",
          "LP002149",
          "LP002151",
          "LP002158",
          "LP002160",
          "LP002161",
          "LP002170",
          "LP002175",
          "LP002178",
          "LP002180",
          "LP002181",
          "LP002187",
          "LP002188",
          "LP002190",
          "LP002191",
          "LP002194",
          "LP002197",
          "LP002201",
          "LP002205",
          "LP002209",
          "LP002211",
          "LP002219",
          "LP002223",
          "LP002224",
          "LP002225",
          "LP002226",
          "LP002229",
          "LP002231",
          "LP002234",
          "LP002236",
          "LP002237",
          "LP002239",
          "LP002243",
          "LP002244",
          "LP002250",
          "LP002255",
          "LP002262",
          "LP002263",
          "LP002265",
          "LP002266",
          "LP002272",
          "LP002277",
          "LP002281",
          "LP002284",
          "LP002287",
          "LP002288",
          "LP002296",
          "LP002297",
          "LP002300",
          "LP002301",
          "LP002305",
          "LP002308",
          "LP002314",
          "LP002315",
          "LP002317",
          "LP002318",
          "LP002319",
          "LP002328",
          "LP002332",
          "LP002335",
          "LP002337",
          "LP002341",
          "LP002342",
          "LP002345",
          "LP002347",
          "LP002348",
          "LP002357",
          "LP002361",
          "LP002362",
          "LP002364",
          "LP002366",
          "LP002367",
          "LP002368",
          "LP002369",
          "LP002370",
          "LP002377",
          "LP002379",
          "LP002386",
          "LP002387",
          "LP002390",
          "LP002393",
          "LP002398",
          "LP002401",
          "LP002403",
          "LP002407",
          "LP002408",
          "LP002409",
          "LP002418",
          "LP002422",
          "LP002424",
          "LP002429",
          "LP002434",
          "LP002435",
          "LP002443",
          "LP002444",
          "LP002446",
          "LP002447",
          "LP002448",
          "LP002449",
          "LP002453",
          "LP002455",
          "LP002459",
          "LP002467",
          "LP002472",
          "LP002473",
          "LP002478",
          "LP002484",
          "LP002487",
          "LP002489",
          "LP002493",
          "LP002494",
          "LP002500",
          "LP002501",
          "LP002502",
          "LP002505",
          "LP002515",
          "LP002517",
          "LP002519",
          "LP002522",
          "LP002524",
          "LP002527",
          "LP002529",
          "LP002530",
          "LP002531",
          "LP002533",
          "LP002534",
          "LP002536",
          "LP002537",
          "LP002541",
          "LP002543",
          "LP002544",
          "LP002545",
          "LP002547",
          "LP002555",
          "LP002556",
          "LP002560",
          "LP002562",
          "LP002571",
          "LP002582",
          "LP002585",
          "LP002586",
          "LP002587",
          "LP002588",
          "LP002600",
          "LP002602",
          "LP002603",
          "LP002606",
          "LP002615",
          "LP002618",
          "LP002619",
          "LP002622",
          "LP002624",
          "LP002625",
          "LP002626",
          "LP002634",
          "LP002637",
          "LP002640",
          "LP002643",
          "LP002648",
          "LP002652",
          "LP002659",
          "LP002670",
          "LP002682",
          "LP002683",
          "LP002684",
          "LP002689",
          "LP002690",
          "LP002692",
          "LP002693",
          "LP002697",
          "LP002699",
          "LP002705",
          "LP002706",
          "LP002714",
          "LP002716",
          "LP002717",
          "LP002720",
          "LP002723",
          "LP002729",
          "LP002731",
          "LP002732",
          "LP002734",
          "LP002738",
          "LP002739",
          "LP002740",
          "LP002741",
          "LP002743",
          "LP002753",
          "LP002755",
          "LP002757",
          "LP002767",
          "LP002768",
          "LP002772",
          "LP002776",
          "LP002777",
          "LP002778",
          "LP002784",
          "LP002785",
          "LP002788",
          "LP002789",
          "LP002792",
          "LP002794",
          "LP002795",
          "LP002798",
          "LP002804",
          "LP002807",
          "LP002813",
          "LP002820",
          "LP002821",
          "LP002832",
          "LP002833",
          "LP002836",
          "LP002837",
          "LP002840",
          "LP002841",
          "LP002842",
          "LP002847",
          "LP002855",
          "LP002862",
          "LP002863",
          "LP002868",
          "LP002872",
          "LP002874",
          "LP002877",
          "LP002888",
          "LP002892",
          "LP002893",
          "LP002894",
          "LP002898",
          "LP002911",
          "LP002912",
          "LP002916",
          "LP002917",
          "LP002925",
          "LP002926",
          "LP002928",
          "LP002931",
          "LP002933",
          "LP002936",
          "LP002938",
          "LP002940",
          "LP002941",
          "LP002943",
          "LP002945",
          "LP002948",
          "LP002949",
          "LP002950",
          "LP002953",
          "LP002958",
          "LP002959",
          "LP002960",
          "LP002961",
          "LP002964",
          "LP002974",
          "LP002978",
          "LP002979",
          "LP002983",
          "LP002984",
          "LP002990"
         ],
         "y": [
          0,
          1508,
          0,
          2358,
          0,
          4196,
          1516,
          2504,
          1526,
          10968,
          700,
          1840,
          8106,
          2840,
          1086,
          0,
          0,
          0,
          0,
          3500,
          0,
          5625,
          1911,
          1917,
          2925,
          0,
          2253,
          1040,
          0,
          2083,
          3369,
          0,
          0,
          1667,
          3000,
          2067,
          1330,
          1459,
          7210,
          1668,
          0,
          1213,
          0,
          2336,
          0,
          0,
          0,
          0,
          3440,
          2275,
          1644,
          0,
          0,
          0,
          0,
          1167,
          1591,
          2200,
          2250,
          2859,
          3796,
          0,
          3449,
          0,
          0,
          4595,
          2254,
          0,
          0,
          0,
          3066,
          1875,
          0,
          0,
          1774,
          0,
          4750,
          3022,
          4000,
          2166,
          0,
          0,
          1881,
          2250,
          0,
          2531,
          2000,
          2118,
          0,
          4167,
          2900,
          5654,
          1820,
          0,
          0,
          0,
          2302,
          997,
          0,
          3541,
          3263,
          3806,
          0,
          3583,
          754,
          1030,
          1126,
          0,
          3600,
          754,
          0,
          2333,
          4114,
          0,
          0,
          0,
          2283,
          1398,
          2142,
          0,
          2667,
          0,
          8980,
          0,
          2014,
          0,
          0,
          1640,
          3850,
          2569,
          0,
          1929,
          0,
          0,
          0,
          7750,
          0,
          3500,
          0,
          1430,
          2083,
          0,
          0,
          2034,
          0,
          4486,
          0,
          1425,
          1666,
          830,
          0,
          3750,
          0,
          0,
          0,
          0,
          0,
          0,
          2083,
          5625,
          1041,
          0,
          1280,
          1447,
          0,
          3166,
          0,
          3333,
          0,
          0,
          1769,
          0,
          0,
          5625,
          736,
          1964,
          1619,
          11300,
          0,
          1451,
          7250,
          5063,
          0,
          0,
          0,
          4750,
          0,
          2138,
          5296,
          0,
          0,
          0,
          0,
          0,
          0,
          2583,
          3750,
          2365,
          2816,
          0,
          2500,
          0,
          0,
          1083,
          0,
          0,
          0,
          2531,
          0,
          0,
          0,
          1250,
          0,
          0,
          3021,
          983,
          1800,
          1775,
          0,
          2383,
          0,
          1717,
          2791,
          1010,
          0,
          0,
          0,
          1695,
          0,
          0,
          2054,
          0,
          2598,
          0,
          1779,
          1260,
          0,
          0,
          0,
          0,
          5000,
          1983,
          5701,
          1300,
          4417,
          4333,
          0,
          0,
          1843,
          1868,
          3890,
          0,
          2167,
          7101,
          0,
          0,
          0,
          0,
          2100,
          0,
          4250,
          2209,
          0,
          0,
          0,
          3447,
          1387,
          1811,
          0,
          1560,
          0,
          0,
          1857,
          2223,
          0,
          1842,
          3274,
          1300,
          0,
          0,
          2426,
          800,
          985.7999877999998,
          1666,
          0,
          3053,
          1717,
          2000,
          0,
          0,
          2416,
          0,
          1560,
          0,
          3334,
          1250,
          0,
          0,
          2541,
          2925,
          2934,
          1750,
          0,
          1803,
          2500,
          0,
          1666,
          1863,
          0,
          0,
          0,
          2405,
          0,
          0,
          1843,
          1640,
          0,
          2134,
          0,
          0,
          2167,
          189,
          1590,
          2985,
          0,
          4983,
          0,
          2160,
          2451,
          0,
          1793,
          0,
          0,
          0,
          1833,
          4490,
          688,
          4600,
          0,
          0,
          1587,
          0,
          1229,
          0,
          2330,
          2458,
          3230,
          2168,
          4583,
          6250,
          0,
          4167,
          2083,
          0,
          505,
          0,
          3167,
          0,
          1666,
          3167,
          0,
          3667,
          2333,
          3033,
          0,
          0,
          0,
          0,
          0,
          5266,
          0,
          0,
          7873,
          1987,
          1459,
          923,
          4996,
          0,
          0,
          0,
          2500,
          4232,
          0,
          0,
          0,
          0,
          1600,
          3136,
          2417,
          0,
          0,
          0,
          2115,
          1625,
          1400,
          484,
          0,
          1459,
          1666,
          1800,
          0,
          0,
          20000,
          0,
          0,
          0,
          2400,
          0,
          0,
          0,
          0,
          0,
          0,
          2033,
          3237,
          0,
          0,
          20000,
          2773,
          1417,
          0,
          0,
          1719,
          1667,
          0,
          4300,
          0,
          0,
          16.12000084,
          0,
          0,
          0,
          0,
          2340,
          0,
          0,
          1851,
          1125,
          0,
          0,
          5064,
          1833,
          1993,
          0,
          8333,
          1210,
          0,
          1376,
          1710,
          1542,
          1255,
          1456,
          1733,
          2466,
          0,
          0,
          0,
          2569,
          0,
          0,
          4083,
          0,
          2188,
          0,
          0,
          0,
          1664,
          0,
          2917,
          2451,
          2079,
          1500,
          0,
          0,
          4648,
          1014,
          1750,
          1872,
          2250,
          1603,
          0,
          0,
          3150,
          0,
          0,
          2436,
          0,
          0,
          2083,
          0,
          2785,
          1131,
          0,
          0,
          2157,
          913,
          1700,
          2857,
          0,
          4416,
          3683,
          0,
          5624,
          5302,
          1483,
          4416,
          6667,
          0,
          3013,
          0,
          1287,
          2004,
          2035,
          6666,
          3666,
          3428,
          1632,
          1800,
          1915,
          0,
          1742,
          0,
          1424,
          7166,
          2087,
          0,
          0,
          1430,
          1302,
          0,
          5500,
          0,
          0,
          0,
          0,
          2042,
          3906,
          0,
          536,
          0,
          2845,
          0,
          0,
          2524,
          663,
          1950,
          0,
          1783,
          0,
          2016,
          0,
          2375,
          3250,
          2333,
          4266,
          1032,
          1625,
          0,
          2669,
          2306,
          242,
          0,
          2054,
          0,
          0,
          0,
          0,
          2500,
          0,
          2064,
          1750,
          1451,
          0,
          1625,
          0,
          461,
          2210,
          2739,
          2232,
          2917,
          0,
          33837,
          0,
          0,
          1917,
          3000,
          1522,
          0,
          0,
          0,
          3416,
          0,
          0,
          3300,
          0,
          0,
          1000,
          0,
          0,
          0,
          41667,
          2792,
          0,
          4301,
          0,
          3800,
          2500,
          1411,
          1950,
          0,
          0,
          240,
          0,
          0
         ]
        }
       ],
       "layout": {
        "legend": {
         "bgcolor": "#FFFFFF",
         "font": {
          "color": "#666666"
         }
        },
        "paper_bgcolor": "#FFFFFF",
        "plot_bgcolor": "#E5E5E5",
        "template": {
         "data": {
          "bar": [
           {
            "error_x": {
             "color": "#2a3f5f"
            },
            "error_y": {
             "color": "#2a3f5f"
            },
            "marker": {
             "line": {
              "color": "#E5ECF6",
              "width": 0.5
             }
            },
            "type": "bar"
           }
          ],
          "barpolar": [
           {
            "marker": {
             "line": {
              "color": "#E5ECF6",
              "width": 0.5
             }
            },
            "type": "barpolar"
           }
          ],
          "carpet": [
           {
            "aaxis": {
             "endlinecolor": "#2a3f5f",
             "gridcolor": "white",
             "linecolor": "white",
             "minorgridcolor": "white",
             "startlinecolor": "#2a3f5f"
            },
            "baxis": {
             "endlinecolor": "#2a3f5f",
             "gridcolor": "white",
             "linecolor": "white",
             "minorgridcolor": "white",
             "startlinecolor": "#2a3f5f"
            },
            "type": "carpet"
           }
          ],
          "choropleth": [
           {
            "colorbar": {
             "outlinewidth": 0,
             "ticks": ""
            },
            "type": "choropleth"
           }
          ],
          "contour": [
           {
            "colorbar": {
             "outlinewidth": 0,
             "ticks": ""
            },
            "colorscale": [
             [
              0,
              "#0d0887"
             ],
             [
              0.1111111111111111,
              "#46039f"
             ],
             [
              0.2222222222222222,
              "#7201a8"
             ],
             [
              0.3333333333333333,
              "#9c179e"
             ],
             [
              0.4444444444444444,
              "#bd3786"
             ],
             [
              0.5555555555555556,
              "#d8576b"
             ],
             [
              0.6666666666666666,
              "#ed7953"
             ],
             [
              0.7777777777777778,
              "#fb9f3a"
             ],
             [
              0.8888888888888888,
              "#fdca26"
             ],
             [
              1,
              "#f0f921"
             ]
            ],
            "type": "contour"
           }
          ],
          "contourcarpet": [
           {
            "colorbar": {
             "outlinewidth": 0,
             "ticks": ""
            },
            "type": "contourcarpet"
           }
          ],
          "heatmap": [
           {
            "colorbar": {
             "outlinewidth": 0,
             "ticks": ""
            },
            "colorscale": [
             [
              0,
              "#0d0887"
             ],
             [
              0.1111111111111111,
              "#46039f"
             ],
             [
              0.2222222222222222,
              "#7201a8"
             ],
             [
              0.3333333333333333,
              "#9c179e"
             ],
             [
              0.4444444444444444,
              "#bd3786"
             ],
             [
              0.5555555555555556,
              "#d8576b"
             ],
             [
              0.6666666666666666,
              "#ed7953"
             ],
             [
              0.7777777777777778,
              "#fb9f3a"
             ],
             [
              0.8888888888888888,
              "#fdca26"
             ],
             [
              1,
              "#f0f921"
             ]
            ],
            "type": "heatmap"
           }
          ],
          "heatmapgl": [
           {
            "colorbar": {
             "outlinewidth": 0,
             "ticks": ""
            },
            "colorscale": [
             [
              0,
              "#0d0887"
             ],
             [
              0.1111111111111111,
              "#46039f"
             ],
             [
              0.2222222222222222,
              "#7201a8"
             ],
             [
              0.3333333333333333,
              "#9c179e"
             ],
             [
              0.4444444444444444,
              "#bd3786"
             ],
             [
              0.5555555555555556,
              "#d8576b"
             ],
             [
              0.6666666666666666,
              "#ed7953"
             ],
             [
              0.7777777777777778,
              "#fb9f3a"
             ],
             [
              0.8888888888888888,
              "#fdca26"
             ],
             [
              1,
              "#f0f921"
             ]
            ],
            "type": "heatmapgl"
           }
          ],
          "histogram": [
           {
            "marker": {
             "colorbar": {
              "outlinewidth": 0,
              "ticks": ""
             }
            },
            "type": "histogram"
           }
          ],
          "histogram2d": [
           {
            "colorbar": {
             "outlinewidth": 0,
             "ticks": ""
            },
            "colorscale": [
             [
              0,
              "#0d0887"
             ],
             [
              0.1111111111111111,
              "#46039f"
             ],
             [
              0.2222222222222222,
              "#7201a8"
             ],
             [
              0.3333333333333333,
              "#9c179e"
             ],
             [
              0.4444444444444444,
              "#bd3786"
             ],
             [
              0.5555555555555556,
              "#d8576b"
             ],
             [
              0.6666666666666666,
              "#ed7953"
             ],
             [
              0.7777777777777778,
              "#fb9f3a"
             ],
             [
              0.8888888888888888,
              "#fdca26"
             ],
             [
              1,
              "#f0f921"
             ]
            ],
            "type": "histogram2d"
           }
          ],
          "histogram2dcontour": [
           {
            "colorbar": {
             "outlinewidth": 0,
             "ticks": ""
            },
            "colorscale": [
             [
              0,
              "#0d0887"
             ],
             [
              0.1111111111111111,
              "#46039f"
             ],
             [
              0.2222222222222222,
              "#7201a8"
             ],
             [
              0.3333333333333333,
              "#9c179e"
             ],
             [
              0.4444444444444444,
              "#bd3786"
             ],
             [
              0.5555555555555556,
              "#d8576b"
             ],
             [
              0.6666666666666666,
              "#ed7953"
             ],
             [
              0.7777777777777778,
              "#fb9f3a"
             ],
             [
              0.8888888888888888,
              "#fdca26"
             ],
             [
              1,
              "#f0f921"
             ]
            ],
            "type": "histogram2dcontour"
           }
          ],
          "mesh3d": [
           {
            "colorbar": {
             "outlinewidth": 0,
             "ticks": ""
            },
            "type": "mesh3d"
           }
          ],
          "parcoords": [
           {
            "line": {
             "colorbar": {
              "outlinewidth": 0,
              "ticks": ""
             }
            },
            "type": "parcoords"
           }
          ],
          "pie": [
           {
            "automargin": true,
            "type": "pie"
           }
          ],
          "scatter": [
           {
            "marker": {
             "colorbar": {
              "outlinewidth": 0,
              "ticks": ""
             }
            },
            "type": "scatter"
           }
          ],
          "scatter3d": [
           {
            "line": {
             "colorbar": {
              "outlinewidth": 0,
              "ticks": ""
             }
            },
            "marker": {
             "colorbar": {
              "outlinewidth": 0,
              "ticks": ""
             }
            },
            "type": "scatter3d"
           }
          ],
          "scattercarpet": [
           {
            "marker": {
             "colorbar": {
              "outlinewidth": 0,
              "ticks": ""
             }
            },
            "type": "scattercarpet"
           }
          ],
          "scattergeo": [
           {
            "marker": {
             "colorbar": {
              "outlinewidth": 0,
              "ticks": ""
             }
            },
            "type": "scattergeo"
           }
          ],
          "scattergl": [
           {
            "marker": {
             "colorbar": {
              "outlinewidth": 0,
              "ticks": ""
             }
            },
            "type": "scattergl"
           }
          ],
          "scattermapbox": [
           {
            "marker": {
             "colorbar": {
              "outlinewidth": 0,
              "ticks": ""
             }
            },
            "type": "scattermapbox"
           }
          ],
          "scatterpolar": [
           {
            "marker": {
             "colorbar": {
              "outlinewidth": 0,
              "ticks": ""
             }
            },
            "type": "scatterpolar"
           }
          ],
          "scatterpolargl": [
           {
            "marker": {
             "colorbar": {
              "outlinewidth": 0,
              "ticks": ""
             }
            },
            "type": "scatterpolargl"
           }
          ],
          "scatterternary": [
           {
            "marker": {
             "colorbar": {
              "outlinewidth": 0,
              "ticks": ""
             }
            },
            "type": "scatterternary"
           }
          ],
          "surface": [
           {
            "colorbar": {
             "outlinewidth": 0,
             "ticks": ""
            },
            "colorscale": [
             [
              0,
              "#0d0887"
             ],
             [
              0.1111111111111111,
              "#46039f"
             ],
             [
              0.2222222222222222,
              "#7201a8"
             ],
             [
              0.3333333333333333,
              "#9c179e"
             ],
             [
              0.4444444444444444,
              "#bd3786"
             ],
             [
              0.5555555555555556,
              "#d8576b"
             ],
             [
              0.6666666666666666,
              "#ed7953"
             ],
             [
              0.7777777777777778,
              "#fb9f3a"
             ],
             [
              0.8888888888888888,
              "#fdca26"
             ],
             [
              1,
              "#f0f921"
             ]
            ],
            "type": "surface"
           }
          ],
          "table": [
           {
            "cells": {
             "fill": {
              "color": "#EBF0F8"
             },
             "line": {
              "color": "white"
             }
            },
            "header": {
             "fill": {
              "color": "#C8D4E3"
             },
             "line": {
              "color": "white"
             }
            },
            "type": "table"
           }
          ]
         },
         "layout": {
          "annotationdefaults": {
           "arrowcolor": "#2a3f5f",
           "arrowhead": 0,
           "arrowwidth": 1
          },
          "coloraxis": {
           "colorbar": {
            "outlinewidth": 0,
            "ticks": ""
           }
          },
          "colorscale": {
           "diverging": [
            [
             0,
             "#8e0152"
            ],
            [
             0.1,
             "#c51b7d"
            ],
            [
             0.2,
             "#de77ae"
            ],
            [
             0.3,
             "#f1b6da"
            ],
            [
             0.4,
             "#fde0ef"
            ],
            [
             0.5,
             "#f7f7f7"
            ],
            [
             0.6,
             "#e6f5d0"
            ],
            [
             0.7,
             "#b8e186"
            ],
            [
             0.8,
             "#7fbc41"
            ],
            [
             0.9,
             "#4d9221"
            ],
            [
             1,
             "#276419"
            ]
           ],
           "sequential": [
            [
             0,
             "#0d0887"
            ],
            [
             0.1111111111111111,
             "#46039f"
            ],
            [
             0.2222222222222222,
             "#7201a8"
            ],
            [
             0.3333333333333333,
             "#9c179e"
            ],
            [
             0.4444444444444444,
             "#bd3786"
            ],
            [
             0.5555555555555556,
             "#d8576b"
            ],
            [
             0.6666666666666666,
             "#ed7953"
            ],
            [
             0.7777777777777778,
             "#fb9f3a"
            ],
            [
             0.8888888888888888,
             "#fdca26"
            ],
            [
             1,
             "#f0f921"
            ]
           ],
           "sequentialminus": [
            [
             0,
             "#0d0887"
            ],
            [
             0.1111111111111111,
             "#46039f"
            ],
            [
             0.2222222222222222,
             "#7201a8"
            ],
            [
             0.3333333333333333,
             "#9c179e"
            ],
            [
             0.4444444444444444,
             "#bd3786"
            ],
            [
             0.5555555555555556,
             "#d8576b"
            ],
            [
             0.6666666666666666,
             "#ed7953"
            ],
            [
             0.7777777777777778,
             "#fb9f3a"
            ],
            [
             0.8888888888888888,
             "#fdca26"
            ],
            [
             1,
             "#f0f921"
            ]
           ]
          },
          "colorway": [
           "#636efa",
           "#EF553B",
           "#00cc96",
           "#ab63fa",
           "#FFA15A",
           "#19d3f3",
           "#FF6692",
           "#B6E880",
           "#FF97FF",
           "#FECB52"
          ],
          "font": {
           "color": "#2a3f5f"
          },
          "geo": {
           "bgcolor": "white",
           "lakecolor": "white",
           "landcolor": "#E5ECF6",
           "showlakes": true,
           "showland": true,
           "subunitcolor": "white"
          },
          "hoverlabel": {
           "align": "left"
          },
          "hovermode": "closest",
          "mapbox": {
           "style": "light"
          },
          "paper_bgcolor": "white",
          "plot_bgcolor": "#E5ECF6",
          "polar": {
           "angularaxis": {
            "gridcolor": "white",
            "linecolor": "white",
            "ticks": ""
           },
           "bgcolor": "#E5ECF6",
           "radialaxis": {
            "gridcolor": "white",
            "linecolor": "white",
            "ticks": ""
           }
          },
          "scene": {
           "xaxis": {
            "backgroundcolor": "#E5ECF6",
            "gridcolor": "white",
            "gridwidth": 2,
            "linecolor": "white",
            "showbackground": true,
            "ticks": "",
            "zerolinecolor": "white"
           },
           "yaxis": {
            "backgroundcolor": "#E5ECF6",
            "gridcolor": "white",
            "gridwidth": 2,
            "linecolor": "white",
            "showbackground": true,
            "ticks": "",
            "zerolinecolor": "white"
           },
           "zaxis": {
            "backgroundcolor": "#E5ECF6",
            "gridcolor": "white",
            "gridwidth": 2,
            "linecolor": "white",
            "showbackground": true,
            "ticks": "",
            "zerolinecolor": "white"
           }
          },
          "shapedefaults": {
           "line": {
            "color": "#2a3f5f"
           }
          },
          "ternary": {
           "aaxis": {
            "gridcolor": "white",
            "linecolor": "white",
            "ticks": ""
           },
           "baxis": {
            "gridcolor": "white",
            "linecolor": "white",
            "ticks": ""
           },
           "bgcolor": "#E5ECF6",
           "caxis": {
            "gridcolor": "white",
            "linecolor": "white",
            "ticks": ""
           }
          },
          "title": {
           "x": 0.05
          },
          "xaxis": {
           "automargin": true,
           "gridcolor": "white",
           "linecolor": "white",
           "ticks": "",
           "title": {
            "standoff": 15
           },
           "zerolinecolor": "white",
           "zerolinewidth": 2
          },
          "yaxis": {
           "automargin": true,
           "gridcolor": "white",
           "linecolor": "white",
           "ticks": "",
           "title": {
            "standoff": 15
           },
           "zerolinecolor": "white",
           "zerolinewidth": 2
          }
         }
        },
        "title": {
         "font": {
          "color": "#151516"
         }
        },
        "xaxis": {
         "gridcolor": "#F6F6F6",
         "showgrid": true,
         "tickfont": {
          "color": "#666666"
         },
         "title": {
          "font": {
           "color": "#666666"
          },
          "text": ""
         },
         "zerolinecolor": "#F6F6F6"
        },
        "yaxis": {
         "gridcolor": "#F6F6F6",
         "showgrid": true,
         "tickfont": {
          "color": "#666666"
         },
         "title": {
          "font": {
           "color": "#666666"
          },
          "text": ""
         },
         "zerolinecolor": "#F6F6F6"
        }
       }
      },
      "text/html": [
       "<div>\n",
       "        \n",
       "        \n",
       "            <div id=\"8806490f-5176-4cf7-8ab8-203803ad5837\" class=\"plotly-graph-div\" style=\"height:525px; width:100%;\"></div>\n",
       "            <script type=\"text/javascript\">\n",
       "                require([\"plotly\"], function(Plotly) {\n",
       "                    window.PLOTLYENV=window.PLOTLYENV || {};\n",
       "                    window.PLOTLYENV.BASE_URL='https://plot.ly';\n",
       "                    \n",
       "                if (document.getElementById(\"8806490f-5176-4cf7-8ab8-203803ad5837\")) {\n",
       "                    Plotly.newPlot(\n",
       "                        '8806490f-5176-4cf7-8ab8-203803ad5837',\n",
       "                        [{\"line\": {\"color\": \"rgba(226, 74, 51, 1.0)\", \"dash\": \"solid\", \"shape\": \"linear\", \"width\": 1.3}, \"marker\": {\"size\": 12, \"symbol\": \"circle\"}, \"mode\": \"markers\", \"name\": \"ApplicantIncome\", \"text\": \"\", \"type\": \"scatter\", \"x\": [\"LP001002\", \"LP001003\", \"LP001005\", \"LP001006\", \"LP001008\", \"LP001011\", \"LP001013\", \"LP001014\", \"LP001018\", \"LP001020\", \"LP001024\", \"LP001027\", \"LP001028\", \"LP001029\", \"LP001030\", \"LP001032\", \"LP001034\", \"LP001036\", \"LP001038\", \"LP001041\", \"LP001043\", \"LP001046\", \"LP001047\", \"LP001050\", \"LP001052\", \"LP001066\", \"LP001068\", \"LP001073\", \"LP001086\", \"LP001087\", \"LP001091\", \"LP001095\", \"LP001097\", \"LP001098\", \"LP001100\", \"LP001106\", \"LP001109\", \"LP001112\", \"LP001114\", \"LP001116\", \"LP001119\", \"LP001120\", \"LP001123\", \"LP001131\", \"LP001136\", \"LP001137\", \"LP001138\", \"LP001144\", \"LP001146\", \"LP001151\", \"LP001155\", \"LP001157\", \"LP001164\", \"LP001179\", \"LP001186\", \"LP001194\", \"LP001195\", \"LP001197\", \"LP001198\", \"LP001199\", \"LP001205\", \"LP001206\", \"LP001207\", \"LP001213\", \"LP001222\", \"LP001225\", \"LP001228\", \"LP001233\", \"LP001238\", \"LP001241\", \"LP001243\", \"LP001245\", \"LP001248\", \"LP001250\", \"LP001253\", \"LP001255\", \"LP001256\", \"LP001259\", \"LP001263\", \"LP001264\", \"LP001265\", \"LP001266\", \"LP001267\", \"LP001273\", \"LP001275\", \"LP001279\", \"LP001280\", \"LP001282\", \"LP001289\", \"LP001310\", \"LP001316\", \"LP001318\", \"LP001319\", \"LP001322\", \"LP001325\", \"LP001326\", \"LP001327\", \"LP001333\", \"LP001334\", \"LP001343\", \"LP001345\", \"LP001349\", \"LP001350\", \"LP001356\", \"LP001357\", \"LP001367\", \"LP001369\", \"LP001370\", \"LP001379\", \"LP001384\", \"LP001385\", \"LP001387\", \"LP001391\", \"LP001392\", \"LP001398\", \"LP001401\", \"LP001404\", \"LP001405\", \"LP001421\", \"LP001422\", \"LP001426\", \"LP001430\", \"LP001431\", \"LP001432\", \"LP001439\", \"LP001443\", \"LP001448\", \"LP001449\", \"LP001451\", \"LP001465\", \"LP001469\", \"LP001473\", \"LP001478\", \"LP001482\", \"LP001487\", \"LP001488\", \"LP001489\", \"LP001491\", \"LP001492\", \"LP001493\", \"LP001497\", \"LP001498\", \"LP001504\", \"LP001507\", \"LP001508\", \"LP001514\", \"LP001516\", \"LP001518\", \"LP001519\", \"LP001520\", \"LP001528\", \"LP001529\", \"LP001531\", \"LP001532\", \"LP001535\", \"LP001536\", \"LP001541\", \"LP001543\", \"LP001546\", \"LP001552\", \"LP001560\", \"LP001562\", \"LP001565\", \"LP001570\", \"LP001572\", \"LP001574\", \"LP001577\", \"LP001578\", \"LP001579\", \"LP001580\", \"LP001581\", \"LP001585\", \"LP001586\", \"LP001594\", \"LP001603\", \"LP001606\", \"LP001608\", \"LP001610\", \"LP001616\", \"LP001630\", \"LP001633\", \"LP001634\", \"LP001636\", \"LP001637\", \"LP001639\", \"LP001640\", \"LP001641\", \"LP001643\", \"LP001644\", \"LP001647\", \"LP001653\", \"LP001656\", \"LP001657\", \"LP001658\", \"LP001664\", \"LP001665\", \"LP001666\", \"LP001669\", \"LP001671\", \"LP001673\", \"LP001674\", \"LP001677\", \"LP001682\", \"LP001688\", \"LP001691\", \"LP001692\", \"LP001693\", \"LP001698\", \"LP001699\", \"LP001702\", \"LP001708\", \"LP001711\", \"LP001713\", \"LP001715\", \"LP001716\", \"LP001720\", \"LP001722\", \"LP001726\", \"LP001732\", \"LP001734\", \"LP001736\", \"LP001743\", \"LP001744\", \"LP001749\", \"LP001750\", \"LP001751\", \"LP001754\", \"LP001758\", \"LP001760\", \"LP001761\", \"LP001765\", \"LP001768\", \"LP001770\", \"LP001776\", \"LP001778\", \"LP001784\", \"LP001786\", \"LP001788\", \"LP001790\", \"LP001792\", \"LP001798\", \"LP001800\", \"LP001806\", \"LP001807\", \"LP001811\", \"LP001813\", \"LP001814\", \"LP001819\", \"LP001824\", \"LP001825\", \"LP001835\", \"LP001836\", \"LP001841\", \"LP001843\", \"LP001844\", \"LP001846\", \"LP001849\", \"LP001854\", \"LP001859\", \"LP001864\", \"LP001865\", \"LP001868\", \"LP001870\", \"LP001871\", \"LP001872\", \"LP001875\", \"LP001877\", \"LP001882\", \"LP001883\", \"LP001884\", \"LP001888\", \"LP001891\", \"LP001892\", \"LP001894\", \"LP001896\", \"LP001900\", \"LP001903\", \"LP001904\", \"LP001907\", \"LP001908\", \"LP001910\", \"LP001914\", \"LP001915\", \"LP001917\", \"LP001922\", \"LP001924\", \"LP001925\", \"LP001926\", \"LP001931\", \"LP001935\", \"LP001936\", \"LP001938\", \"LP001940\", \"LP001945\", \"LP001947\", \"LP001949\", \"LP001953\", \"LP001954\", \"LP001955\", \"LP001963\", \"LP001964\", \"LP001972\", \"LP001974\", \"LP001977\", \"LP001978\", \"LP001990\", \"LP001993\", \"LP001994\", \"LP001996\", \"LP001998\", \"LP002002\", \"LP002004\", \"LP002006\", \"LP002008\", \"LP002024\", \"LP002031\", \"LP002035\", \"LP002036\", \"LP002043\", \"LP002050\", \"LP002051\", \"LP002053\", \"LP002054\", \"LP002055\", \"LP002065\", \"LP002067\", \"LP002068\", \"LP002082\", \"LP002086\", \"LP002087\", \"LP002097\", \"LP002098\", \"LP002100\", \"LP002101\", \"LP002103\", \"LP002106\", \"LP002110\", \"LP002112\", \"LP002113\", \"LP002114\", \"LP002115\", \"LP002116\", \"LP002119\", \"LP002126\", \"LP002128\", \"LP002129\", \"LP002130\", \"LP002131\", \"LP002137\", \"LP002138\", \"LP002139\", \"LP002140\", \"LP002141\", \"LP002142\", \"LP002143\", \"LP002144\", \"LP002149\", \"LP002151\", \"LP002158\", \"LP002160\", \"LP002161\", \"LP002170\", \"LP002175\", \"LP002178\", \"LP002180\", \"LP002181\", \"LP002187\", \"LP002188\", \"LP002190\", \"LP002191\", \"LP002194\", \"LP002197\", \"LP002201\", \"LP002205\", \"LP002209\", \"LP002211\", \"LP002219\", \"LP002223\", \"LP002224\", \"LP002225\", \"LP002226\", \"LP002229\", \"LP002231\", \"LP002234\", \"LP002236\", \"LP002237\", \"LP002239\", \"LP002243\", \"LP002244\", \"LP002250\", \"LP002255\", \"LP002262\", \"LP002263\", \"LP002265\", \"LP002266\", \"LP002272\", \"LP002277\", \"LP002281\", \"LP002284\", \"LP002287\", \"LP002288\", \"LP002296\", \"LP002297\", \"LP002300\", \"LP002301\", \"LP002305\", \"LP002308\", \"LP002314\", \"LP002315\", \"LP002317\", \"LP002318\", \"LP002319\", \"LP002328\", \"LP002332\", \"LP002335\", \"LP002337\", \"LP002341\", \"LP002342\", \"LP002345\", \"LP002347\", \"LP002348\", \"LP002357\", \"LP002361\", \"LP002362\", \"LP002364\", \"LP002366\", \"LP002367\", \"LP002368\", \"LP002369\", \"LP002370\", \"LP002377\", \"LP002379\", \"LP002386\", \"LP002387\", \"LP002390\", \"LP002393\", \"LP002398\", \"LP002401\", \"LP002403\", \"LP002407\", \"LP002408\", \"LP002409\", \"LP002418\", \"LP002422\", \"LP002424\", \"LP002429\", \"LP002434\", \"LP002435\", \"LP002443\", \"LP002444\", \"LP002446\", \"LP002447\", \"LP002448\", \"LP002449\", \"LP002453\", \"LP002455\", \"LP002459\", \"LP002467\", \"LP002472\", \"LP002473\", \"LP002478\", \"LP002484\", \"LP002487\", \"LP002489\", \"LP002493\", \"LP002494\", \"LP002500\", \"LP002501\", \"LP002502\", \"LP002505\", \"LP002515\", \"LP002517\", \"LP002519\", \"LP002522\", \"LP002524\", \"LP002527\", \"LP002529\", \"LP002530\", \"LP002531\", \"LP002533\", \"LP002534\", \"LP002536\", \"LP002537\", \"LP002541\", \"LP002543\", \"LP002544\", \"LP002545\", \"LP002547\", \"LP002555\", \"LP002556\", \"LP002560\", \"LP002562\", \"LP002571\", \"LP002582\", \"LP002585\", \"LP002586\", \"LP002587\", \"LP002588\", \"LP002600\", \"LP002602\", \"LP002603\", \"LP002606\", \"LP002615\", \"LP002618\", \"LP002619\", \"LP002622\", \"LP002624\", \"LP002625\", \"LP002626\", \"LP002634\", \"LP002637\", \"LP002640\", \"LP002643\", \"LP002648\", \"LP002652\", \"LP002659\", \"LP002670\", \"LP002682\", \"LP002683\", \"LP002684\", \"LP002689\", \"LP002690\", \"LP002692\", \"LP002693\", \"LP002697\", \"LP002699\", \"LP002705\", \"LP002706\", \"LP002714\", \"LP002716\", \"LP002717\", \"LP002720\", \"LP002723\", \"LP002729\", \"LP002731\", \"LP002732\", \"LP002734\", \"LP002738\", \"LP002739\", \"LP002740\", \"LP002741\", \"LP002743\", \"LP002753\", \"LP002755\", \"LP002757\", \"LP002767\", \"LP002768\", \"LP002772\", \"LP002776\", \"LP002777\", \"LP002778\", \"LP002784\", \"LP002785\", \"LP002788\", \"LP002789\", \"LP002792\", \"LP002794\", \"LP002795\", \"LP002798\", \"LP002804\", \"LP002807\", \"LP002813\", \"LP002820\", \"LP002821\", \"LP002832\", \"LP002833\", \"LP002836\", \"LP002837\", \"LP002840\", \"LP002841\", \"LP002842\", \"LP002847\", \"LP002855\", \"LP002862\", \"LP002863\", \"LP002868\", \"LP002872\", \"LP002874\", \"LP002877\", \"LP002888\", \"LP002892\", \"LP002893\", \"LP002894\", \"LP002898\", \"LP002911\", \"LP002912\", \"LP002916\", \"LP002917\", \"LP002925\", \"LP002926\", \"LP002928\", \"LP002931\", \"LP002933\", \"LP002936\", \"LP002938\", \"LP002940\", \"LP002941\", \"LP002943\", \"LP002945\", \"LP002948\", \"LP002949\", \"LP002950\", \"LP002953\", \"LP002958\", \"LP002959\", \"LP002960\", \"LP002961\", \"LP002964\", \"LP002974\", \"LP002978\", \"LP002979\", \"LP002983\", \"LP002984\", \"LP002990\"], \"y\": [5849, 4583, 3000, 2583, 6000, 5417, 2333, 3036, 4006, 12841, 3200, 2500, 3073, 1853, 1299, 4950, 3596, 3510, 4887, 2600, 7660, 5955, 2600, 3365, 3717, 9560, 2799, 4226, 1442, 3750, 4166, 3167, 4692, 3500, 12500, 2275, 1828, 3667, 4166, 3748, 3600, 1800, 2400, 3941, 4695, 3410, 5649, 5821, 2645, 4000, 1928, 3086, 4230, 4616, 11500, 2708, 2132, 3366, 8080, 3357, 2500, 3029, 2609, 4945, 4166, 5726, 3200, 10750, 7100, 4300, 3208, 1875, 3500, 4755, 5266, 3750, 3750, 1000, 3167, 3333, 3846, 2395, 1378, 6000, 3988, 2366, 3333, 2500, 8566, 5695, 2958, 6250, 3273, 4133, 3620, 6782, 2484, 1977, 4188, 1759, 4288, 4843, 13650, 4652, 3816, 3052, 11417, 7333, 3800, 2071, 5316, 2929, 3572, 7451, 5050, 14583, 3167, 2214, 5568, 10408, 5667, 4166, 2137, 2957, 4300, 3692, 23803, 3865, 10513, 6080, 20166, 2014, 2718, 3459, 4895, 4000, 4583, 3316, 14999, 4200, 5042, 5417, 6950, 2698, 11757, 2330, 14866, 1538, 10000, 4860, 6277, 2577, 9166, 2281, 3254, 39999, 6000, 9538, 2980, 4583, 1863, 7933, 3089, 4167, 9323, 3707, 4583, 2439, 2237, 8000, 1820, 51763, 3522, 5708, 4344, 3497, 2045, 5516, 3750, 2333, 6400, 1916, 4600, 33846, 3625, 39147, 2178, 2383, 674, 9328, 4885, 12000, 6033, 3858, 4191, 3125, 8333, 1907, 3416, 11000, 2600, 4923, 3992, 3500, 3917, 4408, 3244, 3975, 2479, 3418, 10000, 3430, 7787, 5703, 3173, 3850, 150, 3727, 5000, 4283, 2221, 4009, 2971, 7578, 6250, 3250, 4735, 6250, 4758, 6400, 2491, 3716, 3189, 8333, 3155, 5500, 5746, 3463, 3812, 3315, 5819, 2510, 2965, 6250, 3406, 6050, 9703, 6608, 2882, 1809, 1668, 3427, 2583, 2661, 16250, 3083, 6045, 5250, 14683, 4931, 6083, 2060, 3481, 7200, 5166, 4095, 4708, 4333, 3418, 2876, 3237, 11146, 2833, 2620, 3900, 2750, 3993, 3103, 14583, 4100, 4053, 3927, 2301, 1811, 20667, 3158, 2600, 3704, 4124, 9508, 3075, 4400, 3153, 5417, 2383, 4416, 6875, 4666, 5000, 2014, 1800, 2875, 5000, 1625, 4000, 2000, 3762, 2400, 20233, 7667, 2917, 2927, 2507, 5746, 2473, 3399, 3717, 2058, 3541, 10000, 2400, 4342, 3601, 3166, 15000, 8666, 4917, 5818, 4333, 2500, 4384, 2935, 2833, 63337, 9833, 5503, 5250, 2500, 1830, 4160, 2647, 2378, 4554, 3173, 2583, 2499, 3523, 3083, 6333, 2625, 9083, 8750, 2666, 5500, 2423, 3813, 8333, 3875, 3000, 5167, 4723, 5000, 4750, 3013, 6822, 6216, 2500, 5124, 6325, 19730, 15759, 5185, 9323, 3062, 2764, 4817, 8750, 4310, 3069, 5391, 3333, 5941, 6000, 7167, 4566, 3667, 2346, 3010, 2333, 5488, 9167, 9504, 2583, 1993, 3100, 3276, 3180, 3033, 3902, 1500, 2889, 2755, 2500, 1963, 7441, 4547, 2167, 2213, 8300, 81000, 3867, 6256, 6096, 2253, 2149, 2995, 2600, 1600, 1025, 3246, 5829, 2720, 1820, 7250, 14880, 2666, 4606, 5935, 2920, 2717, 8624, 6500, 12876, 2425, 3750, 10047, 1926, 2213, 10416, 7142, 3660, 7901, 4707, 37719, 7333, 3466, 4652, 3539, 3340, 2769, 2309, 1958, 3948, 2483, 7085, 3859, 4301, 3708, 4354, 8334, 2083, 7740, 3015, 5191, 4166, 6000, 2947, 16692, 210, 4333, 3450, 2653, 4691, 2500, 5532, 16525, 6700, 2873, 16667, 2947, 4350, 3095, 2083, 10833, 8333, 1958, 3547, 18333, 4583, 2435, 2699, 5333, 3691, 17263, 3597, 3326, 2600, 4625, 2895, 6283, 645, 3159, 4865, 4050, 3814, 3510, 20833, 3583, 2479, 13262, 3598, 6065, 3283, 2130, 5815, 3466, 2031, 3074, 4683, 3400, 2192, 2500, 5677, 7948, 4680, 17500, 3775, 5285, 2679, 6783, 1025, 4281, 3588, 11250, 18165, 2550, 6133, 3617, 2917, 6417, 4608, 2138, 3652, 2239, 3017, 2768, 3358, 2526, 5000, 2785, 6633, 2492, 3333, 2454, 3593, 5468, 2667, 10139, 3887, 4180, 3675, 19484, 5923, 5800, 8799, 4467, 3333, 3400, 2378, 3166, 3417, 5116, 16666, 6125, 6406, 3159, 3087, 3229, 1782, 3182, 6540, 1836, 3166, 1880, 2787, 4283, 2297, 2165, 4750, 2726, 3000, 6000, 9357, 3859, 16120, 3833, 6383, 2987, 9963, 5780, 416, 2894, 5703, 3676, 12000, 2400, 3400, 3987, 3232, 2900, 4106, 8072, 7583, 4583]}, {\"line\": {\"color\": \"rgba(62, 111, 176, 1.0)\", \"dash\": \"solid\", \"shape\": \"linear\", \"width\": 1.3}, \"marker\": {\"size\": 12, \"symbol\": \"circle\"}, \"mode\": \"markers\", \"name\": \"CoapplicantIncome\", \"text\": \"\", \"type\": \"scatter\", \"x\": [\"LP001002\", \"LP001003\", \"LP001005\", \"LP001006\", \"LP001008\", \"LP001011\", \"LP001013\", \"LP001014\", \"LP001018\", \"LP001020\", \"LP001024\", \"LP001027\", \"LP001028\", \"LP001029\", \"LP001030\", \"LP001032\", \"LP001034\", \"LP001036\", \"LP001038\", \"LP001041\", \"LP001043\", \"LP001046\", \"LP001047\", \"LP001050\", \"LP001052\", \"LP001066\", \"LP001068\", \"LP001073\", \"LP001086\", \"LP001087\", \"LP001091\", \"LP001095\", \"LP001097\", \"LP001098\", \"LP001100\", \"LP001106\", \"LP001109\", \"LP001112\", \"LP001114\", \"LP001116\", \"LP001119\", \"LP001120\", \"LP001123\", \"LP001131\", \"LP001136\", \"LP001137\", \"LP001138\", \"LP001144\", \"LP001146\", \"LP001151\", \"LP001155\", \"LP001157\", \"LP001164\", \"LP001179\", \"LP001186\", \"LP001194\", \"LP001195\", \"LP001197\", \"LP001198\", \"LP001199\", \"LP001205\", \"LP001206\", \"LP001207\", \"LP001213\", \"LP001222\", \"LP001225\", \"LP001228\", \"LP001233\", \"LP001238\", \"LP001241\", \"LP001243\", \"LP001245\", \"LP001248\", \"LP001250\", \"LP001253\", \"LP001255\", \"LP001256\", \"LP001259\", \"LP001263\", \"LP001264\", \"LP001265\", \"LP001266\", \"LP001267\", \"LP001273\", \"LP001275\", \"LP001279\", \"LP001280\", \"LP001282\", \"LP001289\", \"LP001310\", \"LP001316\", \"LP001318\", \"LP001319\", \"LP001322\", \"LP001325\", \"LP001326\", \"LP001327\", \"LP001333\", \"LP001334\", \"LP001343\", \"LP001345\", \"LP001349\", \"LP001350\", \"LP001356\", \"LP001357\", \"LP001367\", \"LP001369\", \"LP001370\", \"LP001379\", \"LP001384\", \"LP001385\", \"LP001387\", \"LP001391\", \"LP001392\", \"LP001398\", \"LP001401\", \"LP001404\", \"LP001405\", \"LP001421\", \"LP001422\", \"LP001426\", \"LP001430\", \"LP001431\", \"LP001432\", \"LP001439\", \"LP001443\", \"LP001448\", \"LP001449\", \"LP001451\", \"LP001465\", \"LP001469\", \"LP001473\", \"LP001478\", \"LP001482\", \"LP001487\", \"LP001488\", \"LP001489\", \"LP001491\", \"LP001492\", \"LP001493\", \"LP001497\", \"LP001498\", \"LP001504\", \"LP001507\", \"LP001508\", \"LP001514\", \"LP001516\", \"LP001518\", \"LP001519\", \"LP001520\", \"LP001528\", \"LP001529\", \"LP001531\", \"LP001532\", \"LP001535\", \"LP001536\", \"LP001541\", \"LP001543\", \"LP001546\", \"LP001552\", \"LP001560\", \"LP001562\", \"LP001565\", \"LP001570\", \"LP001572\", \"LP001574\", \"LP001577\", \"LP001578\", \"LP001579\", \"LP001580\", \"LP001581\", \"LP001585\", \"LP001586\", \"LP001594\", \"LP001603\", \"LP001606\", \"LP001608\", \"LP001610\", \"LP001616\", \"LP001630\", \"LP001633\", \"LP001634\", \"LP001636\", \"LP001637\", \"LP001639\", \"LP001640\", \"LP001641\", \"LP001643\", \"LP001644\", \"LP001647\", \"LP001653\", \"LP001656\", \"LP001657\", \"LP001658\", \"LP001664\", \"LP001665\", \"LP001666\", \"LP001669\", \"LP001671\", \"LP001673\", \"LP001674\", \"LP001677\", \"LP001682\", \"LP001688\", \"LP001691\", \"LP001692\", \"LP001693\", \"LP001698\", \"LP001699\", \"LP001702\", \"LP001708\", \"LP001711\", \"LP001713\", \"LP001715\", \"LP001716\", \"LP001720\", \"LP001722\", \"LP001726\", \"LP001732\", \"LP001734\", \"LP001736\", \"LP001743\", \"LP001744\", \"LP001749\", \"LP001750\", \"LP001751\", \"LP001754\", \"LP001758\", \"LP001760\", \"LP001761\", \"LP001765\", \"LP001768\", \"LP001770\", \"LP001776\", \"LP001778\", \"LP001784\", \"LP001786\", \"LP001788\", \"LP001790\", \"LP001792\", \"LP001798\", \"LP001800\", \"LP001806\", \"LP001807\", \"LP001811\", \"LP001813\", \"LP001814\", \"LP001819\", \"LP001824\", \"LP001825\", \"LP001835\", \"LP001836\", \"LP001841\", \"LP001843\", \"LP001844\", \"LP001846\", \"LP001849\", \"LP001854\", \"LP001859\", \"LP001864\", \"LP001865\", \"LP001868\", \"LP001870\", \"LP001871\", \"LP001872\", \"LP001875\", \"LP001877\", \"LP001882\", \"LP001883\", \"LP001884\", \"LP001888\", \"LP001891\", \"LP001892\", \"LP001894\", \"LP001896\", \"LP001900\", \"LP001903\", \"LP001904\", \"LP001907\", \"LP001908\", \"LP001910\", \"LP001914\", \"LP001915\", \"LP001917\", \"LP001922\", \"LP001924\", \"LP001925\", \"LP001926\", \"LP001931\", \"LP001935\", \"LP001936\", \"LP001938\", \"LP001940\", \"LP001945\", \"LP001947\", \"LP001949\", \"LP001953\", \"LP001954\", \"LP001955\", \"LP001963\", \"LP001964\", \"LP001972\", \"LP001974\", \"LP001977\", \"LP001978\", \"LP001990\", \"LP001993\", \"LP001994\", \"LP001996\", \"LP001998\", \"LP002002\", \"LP002004\", \"LP002006\", \"LP002008\", \"LP002024\", \"LP002031\", \"LP002035\", \"LP002036\", \"LP002043\", \"LP002050\", \"LP002051\", \"LP002053\", \"LP002054\", \"LP002055\", \"LP002065\", \"LP002067\", \"LP002068\", \"LP002082\", \"LP002086\", \"LP002087\", \"LP002097\", \"LP002098\", \"LP002100\", \"LP002101\", \"LP002103\", \"LP002106\", \"LP002110\", \"LP002112\", \"LP002113\", \"LP002114\", \"LP002115\", \"LP002116\", \"LP002119\", \"LP002126\", \"LP002128\", \"LP002129\", \"LP002130\", \"LP002131\", \"LP002137\", \"LP002138\", \"LP002139\", \"LP002140\", \"LP002141\", \"LP002142\", \"LP002143\", \"LP002144\", \"LP002149\", \"LP002151\", \"LP002158\", \"LP002160\", \"LP002161\", \"LP002170\", \"LP002175\", \"LP002178\", \"LP002180\", \"LP002181\", \"LP002187\", \"LP002188\", \"LP002190\", \"LP002191\", \"LP002194\", \"LP002197\", \"LP002201\", \"LP002205\", \"LP002209\", \"LP002211\", \"LP002219\", \"LP002223\", \"LP002224\", \"LP002225\", \"LP002226\", \"LP002229\", \"LP002231\", \"LP002234\", \"LP002236\", \"LP002237\", \"LP002239\", \"LP002243\", \"LP002244\", \"LP002250\", \"LP002255\", \"LP002262\", \"LP002263\", \"LP002265\", \"LP002266\", \"LP002272\", \"LP002277\", \"LP002281\", \"LP002284\", \"LP002287\", \"LP002288\", \"LP002296\", \"LP002297\", \"LP002300\", \"LP002301\", \"LP002305\", \"LP002308\", \"LP002314\", \"LP002315\", \"LP002317\", \"LP002318\", \"LP002319\", \"LP002328\", \"LP002332\", \"LP002335\", \"LP002337\", \"LP002341\", \"LP002342\", \"LP002345\", \"LP002347\", \"LP002348\", \"LP002357\", \"LP002361\", \"LP002362\", \"LP002364\", \"LP002366\", \"LP002367\", \"LP002368\", \"LP002369\", \"LP002370\", \"LP002377\", \"LP002379\", \"LP002386\", \"LP002387\", \"LP002390\", \"LP002393\", \"LP002398\", \"LP002401\", \"LP002403\", \"LP002407\", \"LP002408\", \"LP002409\", \"LP002418\", \"LP002422\", \"LP002424\", \"LP002429\", \"LP002434\", \"LP002435\", \"LP002443\", \"LP002444\", \"LP002446\", \"LP002447\", \"LP002448\", \"LP002449\", \"LP002453\", \"LP002455\", \"LP002459\", \"LP002467\", \"LP002472\", \"LP002473\", \"LP002478\", \"LP002484\", \"LP002487\", \"LP002489\", \"LP002493\", \"LP002494\", \"LP002500\", \"LP002501\", \"LP002502\", \"LP002505\", \"LP002515\", \"LP002517\", \"LP002519\", \"LP002522\", \"LP002524\", \"LP002527\", \"LP002529\", \"LP002530\", \"LP002531\", \"LP002533\", \"LP002534\", \"LP002536\", \"LP002537\", \"LP002541\", \"LP002543\", \"LP002544\", \"LP002545\", \"LP002547\", \"LP002555\", \"LP002556\", \"LP002560\", \"LP002562\", \"LP002571\", \"LP002582\", \"LP002585\", \"LP002586\", \"LP002587\", \"LP002588\", \"LP002600\", \"LP002602\", \"LP002603\", \"LP002606\", \"LP002615\", \"LP002618\", \"LP002619\", \"LP002622\", \"LP002624\", \"LP002625\", \"LP002626\", \"LP002634\", \"LP002637\", \"LP002640\", \"LP002643\", \"LP002648\", \"LP002652\", \"LP002659\", \"LP002670\", \"LP002682\", \"LP002683\", \"LP002684\", \"LP002689\", \"LP002690\", \"LP002692\", \"LP002693\", \"LP002697\", \"LP002699\", \"LP002705\", \"LP002706\", \"LP002714\", \"LP002716\", \"LP002717\", \"LP002720\", \"LP002723\", \"LP002729\", \"LP002731\", \"LP002732\", \"LP002734\", \"LP002738\", \"LP002739\", \"LP002740\", \"LP002741\", \"LP002743\", \"LP002753\", \"LP002755\", \"LP002757\", \"LP002767\", \"LP002768\", \"LP002772\", \"LP002776\", \"LP002777\", \"LP002778\", \"LP002784\", \"LP002785\", \"LP002788\", \"LP002789\", \"LP002792\", \"LP002794\", \"LP002795\", \"LP002798\", \"LP002804\", \"LP002807\", \"LP002813\", \"LP002820\", \"LP002821\", \"LP002832\", \"LP002833\", \"LP002836\", \"LP002837\", \"LP002840\", \"LP002841\", \"LP002842\", \"LP002847\", \"LP002855\", \"LP002862\", \"LP002863\", \"LP002868\", \"LP002872\", \"LP002874\", \"LP002877\", \"LP002888\", \"LP002892\", \"LP002893\", \"LP002894\", \"LP002898\", \"LP002911\", \"LP002912\", \"LP002916\", \"LP002917\", \"LP002925\", \"LP002926\", \"LP002928\", \"LP002931\", \"LP002933\", \"LP002936\", \"LP002938\", \"LP002940\", \"LP002941\", \"LP002943\", \"LP002945\", \"LP002948\", \"LP002949\", \"LP002950\", \"LP002953\", \"LP002958\", \"LP002959\", \"LP002960\", \"LP002961\", \"LP002964\", \"LP002974\", \"LP002978\", \"LP002979\", \"LP002983\", \"LP002984\", \"LP002990\"], \"y\": [0.0, 1508.0, 0.0, 2358.0, 0.0, 4196.0, 1516.0, 2504.0, 1526.0, 10968.0, 700.0, 1840.0, 8106.0, 2840.0, 1086.0, 0.0, 0.0, 0.0, 0.0, 3500.0, 0.0, 5625.0, 1911.0, 1917.0, 2925.0, 0.0, 2253.0, 1040.0, 0.0, 2083.0, 3369.0, 0.0, 0.0, 1667.0, 3000.0, 2067.0, 1330.0, 1459.0, 7210.0, 1668.0, 0.0, 1213.0, 0.0, 2336.0, 0.0, 0.0, 0.0, 0.0, 3440.0, 2275.0, 1644.0, 0.0, 0.0, 0.0, 0.0, 1167.0, 1591.0, 2200.0, 2250.0, 2859.0, 3796.0, 0.0, 3449.0, 0.0, 0.0, 4595.0, 2254.0, 0.0, 0.0, 0.0, 3066.0, 1875.0, 0.0, 0.0, 1774.0, 0.0, 4750.0, 3022.0, 4000.0, 2166.0, 0.0, 0.0, 1881.0, 2250.0, 0.0, 2531.0, 2000.0, 2118.0, 0.0, 4167.0, 2900.0, 5654.0, 1820.0, 0.0, 0.0, 0.0, 2302.0, 997.0, 0.0, 3541.0, 3263.0, 3806.0, 0.0, 3583.0, 754.0, 1030.0, 1126.0, 0.0, 3600.0, 754.0, 0.0, 2333.0, 4114.0, 0.0, 0.0, 0.0, 2283.0, 1398.0, 2142.0, 0.0, 2667.0, 0.0, 8980.0, 0.0, 2014.0, 0.0, 0.0, 1640.0, 3850.0, 2569.0, 0.0, 1929.0, 0.0, 0.0, 0.0, 7750.0, 0.0, 3500.0, 0.0, 1430.0, 2083.0, 0.0, 0.0, 2034.0, 0.0, 4486.0, 0.0, 1425.0, 1666.0, 830.0, 0.0, 3750.0, 0.0, 0.0, 0.0, 0.0, 0.0, 0.0, 2083.0, 5625.0, 1041.0, 0.0, 1280.0, 1447.0, 0.0, 3166.0, 0.0, 3333.0, 0.0, 0.0, 1769.0, 0.0, 0.0, 5625.0, 736.0, 1964.0, 1619.0, 11300.0, 0.0, 1451.0, 7250.0, 5063.0, 0.0, 0.0, 0.0, 4750.0, 0.0, 2138.0, 5296.0, 0.0, 0.0, 0.0, 0.0, 0.0, 0.0, 2583.0, 3750.0, 2365.0, 2816.0, 0.0, 2500.0, 0.0, 0.0, 1083.0, 0.0, 0.0, 0.0, 2531.0, 0.0, 0.0, 0.0, 1250.0, 0.0, 0.0, 3021.0, 983.0, 1800.0, 1775.0, 0.0, 2383.0, 0.0, 1717.0, 2791.0, 1010.0, 0.0, 0.0, 0.0, 1695.0, 0.0, 0.0, 2054.0, 0.0, 2598.0, 0.0, 1779.0, 1260.0, 0.0, 0.0, 0.0, 0.0, 5000.0, 1983.0, 5701.0, 1300.0, 4417.0, 4333.0, 0.0, 0.0, 1843.0, 1868.0, 3890.0, 0.0, 2167.0, 7101.0, 0.0, 0.0, 0.0, 0.0, 2100.0, 0.0, 4250.0, 2209.0, 0.0, 0.0, 0.0, 3447.0, 1387.0, 1811.0, 0.0, 1560.0, 0.0, 0.0, 1857.0, 2223.0, 0.0, 1842.0, 3274.0, 1300.0, 0.0, 0.0, 2426.0, 800.0, 985.7999877999998, 1666.0, 0.0, 3053.0, 1717.0, 2000.0, 0.0, 0.0, 2416.0, 0.0, 1560.0, 0.0, 3334.0, 1250.0, 0.0, 0.0, 2541.0, 2925.0, 2934.0, 1750.0, 0.0, 1803.0, 2500.0, 0.0, 1666.0, 1863.0, 0.0, 0.0, 0.0, 2405.0, 0.0, 0.0, 1843.0, 1640.0, 0.0, 2134.0, 0.0, 0.0, 2167.0, 189.0, 1590.0, 2985.0, 0.0, 4983.0, 0.0, 2160.0, 2451.0, 0.0, 1793.0, 0.0, 0.0, 0.0, 1833.0, 4490.0, 688.0, 4600.0, 0.0, 0.0, 1587.0, 0.0, 1229.0, 0.0, 2330.0, 2458.0, 3230.0, 2168.0, 4583.0, 6250.0, 0.0, 4167.0, 2083.0, 0.0, 505.0, 0.0, 3167.0, 0.0, 1666.0, 3167.0, 0.0, 3667.0, 2333.0, 3033.0, 0.0, 0.0, 0.0, 0.0, 0.0, 5266.0, 0.0, 0.0, 7873.0, 1987.0, 1459.0, 923.0, 4996.0, 0.0, 0.0, 0.0, 2500.0, 4232.0, 0.0, 0.0, 0.0, 0.0, 1600.0, 3136.0, 2417.0, 0.0, 0.0, 0.0, 2115.0, 1625.0, 1400.0, 484.0, 0.0, 1459.0, 1666.0, 1800.0, 0.0, 0.0, 20000.0, 0.0, 0.0, 0.0, 2400.0, 0.0, 0.0, 0.0, 0.0, 0.0, 0.0, 2033.0, 3237.0, 0.0, 0.0, 20000.0, 2773.0, 1417.0, 0.0, 0.0, 1719.0, 1667.0, 0.0, 4300.0, 0.0, 0.0, 16.12000084, 0.0, 0.0, 0.0, 0.0, 2340.0, 0.0, 0.0, 1851.0, 1125.0, 0.0, 0.0, 5064.0, 1833.0, 1993.0, 0.0, 8333.0, 1210.0, 0.0, 1376.0, 1710.0, 1542.0, 1255.0, 1456.0, 1733.0, 2466.0, 0.0, 0.0, 0.0, 2569.0, 0.0, 0.0, 4083.0, 0.0, 2188.0, 0.0, 0.0, 0.0, 1664.0, 0.0, 2917.0, 2451.0, 2079.0, 1500.0, 0.0, 0.0, 4648.0, 1014.0, 1750.0, 1872.0, 2250.0, 1603.0, 0.0, 0.0, 3150.0, 0.0, 0.0, 2436.0, 0.0, 0.0, 2083.0, 0.0, 2785.0, 1131.0, 0.0, 0.0, 2157.0, 913.0, 1700.0, 2857.0, 0.0, 4416.0, 3683.0, 0.0, 5624.0, 5302.0, 1483.0, 4416.0, 6667.0, 0.0, 3013.0, 0.0, 1287.0, 2004.0, 2035.0, 6666.0, 3666.0, 3428.0, 1632.0, 1800.0, 1915.0, 0.0, 1742.0, 0.0, 1424.0, 7166.0, 2087.0, 0.0, 0.0, 1430.0, 1302.0, 0.0, 5500.0, 0.0, 0.0, 0.0, 0.0, 2042.0, 3906.0, 0.0, 536.0, 0.0, 2845.0, 0.0, 0.0, 2524.0, 663.0, 1950.0, 0.0, 1783.0, 0.0, 2016.0, 0.0, 2375.0, 3250.0, 2333.0, 4266.0, 1032.0, 1625.0, 0.0, 2669.0, 2306.0, 242.0, 0.0, 2054.0, 0.0, 0.0, 0.0, 0.0, 2500.0, 0.0, 2064.0, 1750.0, 1451.0, 0.0, 1625.0, 0.0, 461.0, 2210.0, 2739.0, 2232.0, 2917.0, 0.0, 33837.0, 0.0, 0.0, 1917.0, 3000.0, 1522.0, 0.0, 0.0, 0.0, 3416.0, 0.0, 0.0, 3300.0, 0.0, 0.0, 1000.0, 0.0, 0.0, 0.0, 41667.0, 2792.0, 0.0, 4301.0, 0.0, 3800.0, 2500.0, 1411.0, 1950.0, 0.0, 0.0, 240.0, 0.0, 0.0]}],\n",
       "                        {\"legend\": {\"bgcolor\": \"#FFFFFF\", \"font\": {\"color\": \"#666666\"}}, \"paper_bgcolor\": \"#FFFFFF\", \"plot_bgcolor\": \"#E5E5E5\", \"template\": {\"data\": {\"bar\": [{\"error_x\": {\"color\": \"#2a3f5f\"}, \"error_y\": {\"color\": \"#2a3f5f\"}, \"marker\": {\"line\": {\"color\": \"#E5ECF6\", \"width\": 0.5}}, \"type\": \"bar\"}], \"barpolar\": [{\"marker\": {\"line\": {\"color\": \"#E5ECF6\", \"width\": 0.5}}, \"type\": \"barpolar\"}], \"carpet\": [{\"aaxis\": {\"endlinecolor\": \"#2a3f5f\", \"gridcolor\": \"white\", \"linecolor\": \"white\", \"minorgridcolor\": \"white\", \"startlinecolor\": \"#2a3f5f\"}, \"baxis\": {\"endlinecolor\": \"#2a3f5f\", \"gridcolor\": \"white\", \"linecolor\": \"white\", \"minorgridcolor\": \"white\", \"startlinecolor\": \"#2a3f5f\"}, \"type\": \"carpet\"}], \"choropleth\": [{\"colorbar\": {\"outlinewidth\": 0, \"ticks\": \"\"}, \"type\": \"choropleth\"}], \"contour\": [{\"colorbar\": {\"outlinewidth\": 0, \"ticks\": \"\"}, \"colorscale\": [[0.0, \"#0d0887\"], [0.1111111111111111, \"#46039f\"], [0.2222222222222222, \"#7201a8\"], [0.3333333333333333, \"#9c179e\"], [0.4444444444444444, \"#bd3786\"], [0.5555555555555556, \"#d8576b\"], [0.6666666666666666, \"#ed7953\"], [0.7777777777777778, \"#fb9f3a\"], [0.8888888888888888, \"#fdca26\"], [1.0, \"#f0f921\"]], \"type\": \"contour\"}], \"contourcarpet\": [{\"colorbar\": {\"outlinewidth\": 0, \"ticks\": \"\"}, \"type\": \"contourcarpet\"}], \"heatmap\": [{\"colorbar\": {\"outlinewidth\": 0, \"ticks\": \"\"}, \"colorscale\": [[0.0, \"#0d0887\"], [0.1111111111111111, \"#46039f\"], [0.2222222222222222, \"#7201a8\"], [0.3333333333333333, \"#9c179e\"], [0.4444444444444444, \"#bd3786\"], [0.5555555555555556, \"#d8576b\"], [0.6666666666666666, \"#ed7953\"], [0.7777777777777778, \"#fb9f3a\"], [0.8888888888888888, \"#fdca26\"], [1.0, \"#f0f921\"]], \"type\": \"heatmap\"}], \"heatmapgl\": [{\"colorbar\": {\"outlinewidth\": 0, \"ticks\": \"\"}, \"colorscale\": [[0.0, \"#0d0887\"], [0.1111111111111111, \"#46039f\"], [0.2222222222222222, \"#7201a8\"], [0.3333333333333333, \"#9c179e\"], [0.4444444444444444, \"#bd3786\"], [0.5555555555555556, \"#d8576b\"], [0.6666666666666666, \"#ed7953\"], [0.7777777777777778, \"#fb9f3a\"], [0.8888888888888888, \"#fdca26\"], [1.0, \"#f0f921\"]], \"type\": \"heatmapgl\"}], \"histogram\": [{\"marker\": {\"colorbar\": {\"outlinewidth\": 0, \"ticks\": \"\"}}, \"type\": \"histogram\"}], \"histogram2d\": [{\"colorbar\": {\"outlinewidth\": 0, \"ticks\": \"\"}, \"colorscale\": [[0.0, \"#0d0887\"], [0.1111111111111111, \"#46039f\"], [0.2222222222222222, \"#7201a8\"], [0.3333333333333333, \"#9c179e\"], [0.4444444444444444, \"#bd3786\"], [0.5555555555555556, \"#d8576b\"], [0.6666666666666666, \"#ed7953\"], [0.7777777777777778, \"#fb9f3a\"], [0.8888888888888888, \"#fdca26\"], [1.0, \"#f0f921\"]], \"type\": \"histogram2d\"}], \"histogram2dcontour\": [{\"colorbar\": {\"outlinewidth\": 0, \"ticks\": \"\"}, \"colorscale\": [[0.0, \"#0d0887\"], [0.1111111111111111, \"#46039f\"], [0.2222222222222222, \"#7201a8\"], [0.3333333333333333, \"#9c179e\"], [0.4444444444444444, \"#bd3786\"], [0.5555555555555556, \"#d8576b\"], [0.6666666666666666, \"#ed7953\"], [0.7777777777777778, \"#fb9f3a\"], [0.8888888888888888, \"#fdca26\"], [1.0, \"#f0f921\"]], \"type\": \"histogram2dcontour\"}], \"mesh3d\": [{\"colorbar\": {\"outlinewidth\": 0, \"ticks\": \"\"}, \"type\": \"mesh3d\"}], \"parcoords\": [{\"line\": {\"colorbar\": {\"outlinewidth\": 0, \"ticks\": \"\"}}, \"type\": \"parcoords\"}], \"pie\": [{\"automargin\": true, \"type\": \"pie\"}], \"scatter\": [{\"marker\": {\"colorbar\": {\"outlinewidth\": 0, \"ticks\": \"\"}}, \"type\": \"scatter\"}], \"scatter3d\": [{\"line\": {\"colorbar\": {\"outlinewidth\": 0, \"ticks\": \"\"}}, \"marker\": {\"colorbar\": {\"outlinewidth\": 0, \"ticks\": \"\"}}, \"type\": \"scatter3d\"}], \"scattercarpet\": [{\"marker\": {\"colorbar\": {\"outlinewidth\": 0, \"ticks\": \"\"}}, \"type\": \"scattercarpet\"}], \"scattergeo\": [{\"marker\": {\"colorbar\": {\"outlinewidth\": 0, \"ticks\": \"\"}}, \"type\": \"scattergeo\"}], \"scattergl\": [{\"marker\": {\"colorbar\": {\"outlinewidth\": 0, \"ticks\": \"\"}}, \"type\": \"scattergl\"}], \"scattermapbox\": [{\"marker\": {\"colorbar\": {\"outlinewidth\": 0, \"ticks\": \"\"}}, \"type\": \"scattermapbox\"}], \"scatterpolar\": [{\"marker\": {\"colorbar\": {\"outlinewidth\": 0, \"ticks\": \"\"}}, \"type\": \"scatterpolar\"}], \"scatterpolargl\": [{\"marker\": {\"colorbar\": {\"outlinewidth\": 0, \"ticks\": \"\"}}, \"type\": \"scatterpolargl\"}], \"scatterternary\": [{\"marker\": {\"colorbar\": {\"outlinewidth\": 0, \"ticks\": \"\"}}, \"type\": \"scatterternary\"}], \"surface\": [{\"colorbar\": {\"outlinewidth\": 0, \"ticks\": \"\"}, \"colorscale\": [[0.0, \"#0d0887\"], [0.1111111111111111, \"#46039f\"], [0.2222222222222222, \"#7201a8\"], [0.3333333333333333, \"#9c179e\"], [0.4444444444444444, \"#bd3786\"], [0.5555555555555556, \"#d8576b\"], [0.6666666666666666, \"#ed7953\"], [0.7777777777777778, \"#fb9f3a\"], [0.8888888888888888, \"#fdca26\"], [1.0, \"#f0f921\"]], \"type\": \"surface\"}], \"table\": [{\"cells\": {\"fill\": {\"color\": \"#EBF0F8\"}, \"line\": {\"color\": \"white\"}}, \"header\": {\"fill\": {\"color\": \"#C8D4E3\"}, \"line\": {\"color\": \"white\"}}, \"type\": \"table\"}]}, \"layout\": {\"annotationdefaults\": {\"arrowcolor\": \"#2a3f5f\", \"arrowhead\": 0, \"arrowwidth\": 1}, \"coloraxis\": {\"colorbar\": {\"outlinewidth\": 0, \"ticks\": \"\"}}, \"colorscale\": {\"diverging\": [[0, \"#8e0152\"], [0.1, \"#c51b7d\"], [0.2, \"#de77ae\"], [0.3, \"#f1b6da\"], [0.4, \"#fde0ef\"], [0.5, \"#f7f7f7\"], [0.6, \"#e6f5d0\"], [0.7, \"#b8e186\"], [0.8, \"#7fbc41\"], [0.9, \"#4d9221\"], [1, \"#276419\"]], \"sequential\": [[0.0, \"#0d0887\"], [0.1111111111111111, \"#46039f\"], [0.2222222222222222, \"#7201a8\"], [0.3333333333333333, \"#9c179e\"], [0.4444444444444444, \"#bd3786\"], [0.5555555555555556, \"#d8576b\"], [0.6666666666666666, \"#ed7953\"], [0.7777777777777778, \"#fb9f3a\"], [0.8888888888888888, \"#fdca26\"], [1.0, \"#f0f921\"]], \"sequentialminus\": [[0.0, \"#0d0887\"], [0.1111111111111111, \"#46039f\"], [0.2222222222222222, \"#7201a8\"], [0.3333333333333333, \"#9c179e\"], [0.4444444444444444, \"#bd3786\"], [0.5555555555555556, \"#d8576b\"], [0.6666666666666666, \"#ed7953\"], [0.7777777777777778, \"#fb9f3a\"], [0.8888888888888888, \"#fdca26\"], [1.0, \"#f0f921\"]]}, \"colorway\": [\"#636efa\", \"#EF553B\", \"#00cc96\", \"#ab63fa\", \"#FFA15A\", \"#19d3f3\", \"#FF6692\", \"#B6E880\", \"#FF97FF\", \"#FECB52\"], \"font\": {\"color\": \"#2a3f5f\"}, \"geo\": {\"bgcolor\": \"white\", \"lakecolor\": \"white\", \"landcolor\": \"#E5ECF6\", \"showlakes\": true, \"showland\": true, \"subunitcolor\": \"white\"}, \"hoverlabel\": {\"align\": \"left\"}, \"hovermode\": \"closest\", \"mapbox\": {\"style\": \"light\"}, \"paper_bgcolor\": \"white\", \"plot_bgcolor\": \"#E5ECF6\", \"polar\": {\"angularaxis\": {\"gridcolor\": \"white\", \"linecolor\": \"white\", \"ticks\": \"\"}, \"bgcolor\": \"#E5ECF6\", \"radialaxis\": {\"gridcolor\": \"white\", \"linecolor\": \"white\", \"ticks\": \"\"}}, \"scene\": {\"xaxis\": {\"backgroundcolor\": \"#E5ECF6\", \"gridcolor\": \"white\", \"gridwidth\": 2, \"linecolor\": \"white\", \"showbackground\": true, \"ticks\": \"\", \"zerolinecolor\": \"white\"}, \"yaxis\": {\"backgroundcolor\": \"#E5ECF6\", \"gridcolor\": \"white\", \"gridwidth\": 2, \"linecolor\": \"white\", \"showbackground\": true, \"ticks\": \"\", \"zerolinecolor\": \"white\"}, \"zaxis\": {\"backgroundcolor\": \"#E5ECF6\", \"gridcolor\": \"white\", \"gridwidth\": 2, \"linecolor\": \"white\", \"showbackground\": true, \"ticks\": \"\", \"zerolinecolor\": \"white\"}}, \"shapedefaults\": {\"line\": {\"color\": \"#2a3f5f\"}}, \"ternary\": {\"aaxis\": {\"gridcolor\": \"white\", \"linecolor\": \"white\", \"ticks\": \"\"}, \"baxis\": {\"gridcolor\": \"white\", \"linecolor\": \"white\", \"ticks\": \"\"}, \"bgcolor\": \"#E5ECF6\", \"caxis\": {\"gridcolor\": \"white\", \"linecolor\": \"white\", \"ticks\": \"\"}}, \"title\": {\"x\": 0.05}, \"xaxis\": {\"automargin\": true, \"gridcolor\": \"white\", \"linecolor\": \"white\", \"ticks\": \"\", \"title\": {\"standoff\": 15}, \"zerolinecolor\": \"white\", \"zerolinewidth\": 2}, \"yaxis\": {\"automargin\": true, \"gridcolor\": \"white\", \"linecolor\": \"white\", \"ticks\": \"\", \"title\": {\"standoff\": 15}, \"zerolinecolor\": \"white\", \"zerolinewidth\": 2}}}, \"title\": {\"font\": {\"color\": \"#151516\"}}, \"xaxis\": {\"gridcolor\": \"#F6F6F6\", \"showgrid\": true, \"tickfont\": {\"color\": \"#666666\"}, \"title\": {\"font\": {\"color\": \"#666666\"}, \"text\": \"\"}, \"zerolinecolor\": \"#F6F6F6\"}, \"yaxis\": {\"gridcolor\": \"#F6F6F6\", \"showgrid\": true, \"tickfont\": {\"color\": \"#666666\"}, \"title\": {\"font\": {\"color\": \"#666666\"}, \"text\": \"\"}, \"zerolinecolor\": \"#F6F6F6\"}},\n",
       "                        {\"showLink\": true, \"linkText\": \"Export to plot.ly\", \"plotlyServerURL\": \"https://plot.ly\", \"responsive\": true}\n",
       "                    ).then(function(){\n",
       "                            \n",
       "var gd = document.getElementById('8806490f-5176-4cf7-8ab8-203803ad5837');\n",
       "var x = new MutationObserver(function (mutations, observer) {{\n",
       "        var display = window.getComputedStyle(gd).display;\n",
       "        if (!display || display === 'none') {{\n",
       "            console.log([gd, 'removed!']);\n",
       "            Plotly.purge(gd);\n",
       "            observer.disconnect();\n",
       "        }}\n",
       "}});\n",
       "\n",
       "// Listen for the removal of the full notebook cells\n",
       "var notebookContainer = gd.closest('#notebook-container');\n",
       "if (notebookContainer) {{\n",
       "    x.observe(notebookContainer, {childList: true});\n",
       "}}\n",
       "\n",
       "// Listen for the clearing of the current output cell\n",
       "var outputEl = gd.closest('.output');\n",
       "if (outputEl) {{\n",
       "    x.observe(outputEl, {childList: true});\n",
       "}}\n",
       "\n",
       "                        })\n",
       "                };\n",
       "                });\n",
       "            </script>\n",
       "        </div>"
      ]
     },
     "metadata": {},
     "output_type": "display_data"
    }
   ],
   "source": [
    "data.iplot(x = 'Loan_ID', y = ['ApplicantIncome','CoapplicantIncome'], kind = 'scatter', mode = 'markers')"
   ]
  }
 ],
 "metadata": {
  "kernelspec": {
   "display_name": "Python 3",
   "language": "python",
   "name": "python3"
  },
  "language_info": {
   "codemirror_mode": {
    "name": "ipython",
    "version": 3
   },
   "file_extension": ".py",
   "mimetype": "text/x-python",
   "name": "python",
   "nbconvert_exporter": "python",
   "pygments_lexer": "ipython3",
   "version": "3.7.1"
  }
 },
 "nbformat": 4,
 "nbformat_minor": 2
}
