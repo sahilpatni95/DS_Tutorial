{
  "nbformat": 4,
  "nbformat_minor": 0,
  "metadata": {
    "colab": {
      "name": "iterative_imputer.ipynb",
      "provenance": []
    },
    "kernelspec": {
      "name": "python3",
      "display_name": "Python 3"
    }
  },
  "cells": [
    {
      "cell_type": "markdown",
      "metadata": {
        "id": "x-FLsxTrgR3R",
        "colab_type": "text"
      },
      "source": [
        "## Impute missing values using IterativeImputer"
      ]
    },
    {
      "cell_type": "code",
      "metadata": {
        "id": "JqsZhhMUZnxX",
        "colab_type": "code",
        "colab": {}
      },
      "source": [
        "import numpy as np\n",
        "\n",
        "# Since this estimator is experimental, we need to import it explicitly\n",
        "from sklearn.experimental import enable_iterative_imputer  \n",
        "from sklearn.impute import IterativeImputer"
      ],
      "execution_count": 0,
      "outputs": []
    },
    {
      "cell_type": "code",
      "metadata": {
        "id": "EwRy35OTZ-ea",
        "colab_type": "code",
        "colab": {}
      },
      "source": [
        "# Make a test dataset\n",
        "data = [[1, 2, 3, 4, np.nan],\n",
        "        [5, 6, 7, 8, 11],\n",
        "        [9, 1, 12, 2, 3],\n",
        "        [4, np.nan, 5, 6, 7],\n",
        "        [4, 8, 1, 2, 3]]"
      ],
      "execution_count": 0,
      "outputs": []
    },
    {
      "cell_type": "code",
      "metadata": {
        "id": "dpkWWrFpeHQ0",
        "colab_type": "code",
        "colab": {
          "base_uri": "https://localhost:8080/",
          "height": 102
        },
        "outputId": "3b09b267-461e-4a61-d9d9-2c91f87adbe5"
      },
      "source": [
        "# Impute missing values using iterative imputer\n",
        "iter_imp = IterativeImputer(random_state= 34)\n",
        "iter_imp.fit_transform(data)"
      ],
      "execution_count": 19,
      "outputs": [
        {
          "output_type": "execute_result",
          "data": {
            "text/plain": [
              "array([[ 1.        ,  2.        ,  3.        ,  4.        ,  2.78144391],\n",
              "       [ 5.        ,  6.        ,  7.        ,  8.        , 11.        ],\n",
              "       [ 9.        ,  1.        , 12.        ,  2.        ,  3.        ],\n",
              "       [ 4.        ,  4.25776595,  5.        ,  6.        ,  7.        ],\n",
              "       [ 4.        ,  8.        ,  1.        ,  2.        ,  3.        ]])"
            ]
          },
          "metadata": {
            "tags": []
          },
          "execution_count": 19
        }
      ]
    },
    {
      "cell_type": "code",
      "metadata": {
        "id": "W2KTJygufkhi",
        "colab_type": "code",
        "colab": {}
      },
      "source": [
        ""
      ],
      "execution_count": 0,
      "outputs": []
    }
  ]
}