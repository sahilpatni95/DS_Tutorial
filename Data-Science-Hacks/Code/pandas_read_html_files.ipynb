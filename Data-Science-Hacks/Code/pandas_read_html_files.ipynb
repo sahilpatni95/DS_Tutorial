{
 "cells": [
  {
   "cell_type": "markdown",
   "metadata": {},
   "source": [
    "# ***Reading all the tables of a webpage into pandas dataframe:***"
   ]
  },
  {
   "cell_type": "code",
   "execution_count": 1,
   "metadata": {},
   "outputs": [],
   "source": [
    "import pandas as pd"
   ]
  },
  {
   "cell_type": "markdown",
   "metadata": {},
   "source": [
    "### ***Let the url be: \"https://en.wikipedia.org/wiki/States_and_union_territories_of_India\"***"
   ]
  },
  {
   "cell_type": "code",
   "execution_count": 3,
   "metadata": {},
   "outputs": [],
   "source": [
    "dflist=pd.read_html('https://en.wikipedia.org/wiki/States_and_union_territories_of_India')"
   ]
  },
  {
   "cell_type": "markdown",
   "metadata": {},
   "source": [
    "Here dflist is a list of dataframes. Each dataframe is associated with one of the tables present on the page."
   ]
  },
  {
   "cell_type": "code",
   "execution_count": 4,
   "metadata": {},
   "outputs": [
    {
     "data": {
      "text/html": [
       "<div>\n",
       "<style scoped>\n",
       "    .dataframe tbody tr th:only-of-type {\n",
       "        vertical-align: middle;\n",
       "    }\n",
       "\n",
       "    .dataframe tbody tr th {\n",
       "        vertical-align: top;\n",
       "    }\n",
       "\n",
       "    .dataframe thead th {\n",
       "        text-align: right;\n",
       "    }\n",
       "</style>\n",
       "<table border=\"1\" class=\"dataframe\">\n",
       "  <thead>\n",
       "    <tr style=\"text-align: right;\">\n",
       "      <th></th>\n",
       "      <th>0</th>\n",
       "      <th>1</th>\n",
       "    </tr>\n",
       "  </thead>\n",
       "  <tbody>\n",
       "    <tr>\n",
       "      <th>0</th>\n",
       "      <td>States and union territories of India</td>\n",
       "      <td>NaN</td>\n",
       "    </tr>\n",
       "    <tr>\n",
       "      <th>1</th>\n",
       "      <td>Category</td>\n",
       "      <td>Federated states</td>\n",
       "    </tr>\n",
       "    <tr>\n",
       "      <th>2</th>\n",
       "      <td>Location</td>\n",
       "      <td>Republic of India</td>\n",
       "    </tr>\n",
       "    <tr>\n",
       "      <th>3</th>\n",
       "      <td>Number</td>\n",
       "      <td>28 States8 Union territories</td>\n",
       "    </tr>\n",
       "    <tr>\n",
       "      <th>4</th>\n",
       "      <td>Populations</td>\n",
       "      <td>States: Sikkim - 610,577 (lowest); Uttar Prade...</td>\n",
       "    </tr>\n",
       "  </tbody>\n",
       "</table>\n",
       "</div>"
      ],
      "text/plain": [
       "                                       0  \\\n",
       "0  States and union territories of India   \n",
       "1                               Category   \n",
       "2                               Location   \n",
       "3                                 Number   \n",
       "4                            Populations   \n",
       "\n",
       "                                                   1  \n",
       "0                                                NaN  \n",
       "1                                   Federated states  \n",
       "2                                  Republic of India  \n",
       "3                       28 States8 Union territories  \n",
       "4  States: Sikkim - 610,577 (lowest); Uttar Prade...  "
      ]
     },
     "execution_count": 4,
     "metadata": {},
     "output_type": "execute_result"
    }
   ],
   "source": [
    "dflist[0].head()"
   ]
  },
  {
   "cell_type": "code",
   "execution_count": 5,
   "metadata": {},
   "outputs": [
    {
     "data": {
      "text/html": [
       "<div>\n",
       "<style scoped>\n",
       "    .dataframe tbody tr th:only-of-type {\n",
       "        vertical-align: middle;\n",
       "    }\n",
       "\n",
       "    .dataframe tbody tr th {\n",
       "        vertical-align: top;\n",
       "    }\n",
       "\n",
       "    .dataframe thead th {\n",
       "        text-align: right;\n",
       "    }\n",
       "</style>\n",
       "<table border=\"1\" class=\"dataframe\">\n",
       "  <thead>\n",
       "    <tr style=\"text-align: right;\">\n",
       "      <th></th>\n",
       "      <th>0</th>\n",
       "      <th>1</th>\n",
       "      <th>2</th>\n",
       "      <th>3</th>\n",
       "      <th>4</th>\n",
       "      <th>5</th>\n",
       "      <th>6</th>\n",
       "      <th>7</th>\n",
       "      <th>8</th>\n",
       "      <th>9</th>\n",
       "      <th>10</th>\n",
       "    </tr>\n",
       "  </thead>\n",
       "  <tbody>\n",
       "    <tr>\n",
       "      <th>0</th>\n",
       "      <td>State</td>\n",
       "      <td>ISO 3166-2:IN</td>\n",
       "      <td>Vehiclecode</td>\n",
       "      <td>Zone</td>\n",
       "      <td>Capital</td>\n",
       "      <td>Largest city</td>\n",
       "      <td>Statehood</td>\n",
       "      <td>Population[35]</td>\n",
       "      <td>Area(km2)</td>\n",
       "      <td>Officiallanguages[36]</td>\n",
       "      <td>Additional officiallanguages[36]</td>\n",
       "    </tr>\n",
       "    <tr>\n",
       "      <th>1</th>\n",
       "      <td>Andhra Pradesh</td>\n",
       "      <td>IN-AP</td>\n",
       "      <td>AP</td>\n",
       "      <td>Southern</td>\n",
       "      <td>Hyderabad (de jure)Amaravati (de facto) Note 1...</td>\n",
       "      <td>Visakhapatnam</td>\n",
       "      <td>1 October 1953</td>\n",
       "      <td>49506799</td>\n",
       "      <td>160205</td>\n",
       "      <td>Telugu</td>\n",
       "      <td>—</td>\n",
       "    </tr>\n",
       "    <tr>\n",
       "      <th>2</th>\n",
       "      <td>Arunachal Pradesh</td>\n",
       "      <td>IN-AR</td>\n",
       "      <td>AR</td>\n",
       "      <td>North-Eastern</td>\n",
       "      <td>Itanagar</td>\n",
       "      <td>20 February 1987</td>\n",
       "      <td>1383727</td>\n",
       "      <td>83743</td>\n",
       "      <td>English</td>\n",
       "      <td>—</td>\n",
       "      <td>NaN</td>\n",
       "    </tr>\n",
       "    <tr>\n",
       "      <th>3</th>\n",
       "      <td>Assam</td>\n",
       "      <td>IN-AS</td>\n",
       "      <td>AS</td>\n",
       "      <td>North-Eastern</td>\n",
       "      <td>Dispur</td>\n",
       "      <td>Guwahati</td>\n",
       "      <td>26 January 1950</td>\n",
       "      <td>31205576</td>\n",
       "      <td>78550</td>\n",
       "      <td>Assamese</td>\n",
       "      <td>Bengali, Bodo</td>\n",
       "    </tr>\n",
       "    <tr>\n",
       "      <th>4</th>\n",
       "      <td>Bihar</td>\n",
       "      <td>IN-BR</td>\n",
       "      <td>BR</td>\n",
       "      <td>Eastern</td>\n",
       "      <td>Patna</td>\n",
       "      <td>26 January 1950</td>\n",
       "      <td>104099452</td>\n",
       "      <td>94163</td>\n",
       "      <td>Hindi</td>\n",
       "      <td>Urdu</td>\n",
       "      <td>NaN</td>\n",
       "    </tr>\n",
       "  </tbody>\n",
       "</table>\n",
       "</div>"
      ],
      "text/plain": [
       "                  0              1            2              3   \\\n",
       "0              State  ISO 3166-2:IN  Vehiclecode           Zone   \n",
       "1     Andhra Pradesh          IN-AP           AP       Southern   \n",
       "2  Arunachal Pradesh          IN-AR           AR  North-Eastern   \n",
       "3              Assam          IN-AS           AS  North-Eastern   \n",
       "4              Bihar          IN-BR           BR        Eastern   \n",
       "\n",
       "                                                  4                 5   \\\n",
       "0                                            Capital      Largest city   \n",
       "1  Hyderabad (de jure)Amaravati (de facto) Note 1...     Visakhapatnam   \n",
       "2                                           Itanagar  20 February 1987   \n",
       "3                                             Dispur          Guwahati   \n",
       "4                                              Patna   26 January 1950   \n",
       "\n",
       "                6               7          8                      9   \\\n",
       "0        Statehood  Population[35]  Area(km2)  Officiallanguages[36]   \n",
       "1   1 October 1953        49506799     160205                 Telugu   \n",
       "2          1383727           83743    English                      —   \n",
       "3  26 January 1950        31205576      78550               Assamese   \n",
       "4        104099452           94163      Hindi                   Urdu   \n",
       "\n",
       "                                 10  \n",
       "0  Additional officiallanguages[36]  \n",
       "1                                 —  \n",
       "2                               NaN  \n",
       "3                     Bengali, Bodo  \n",
       "4                               NaN  "
      ]
     },
     "execution_count": 5,
     "metadata": {},
     "output_type": "execute_result"
    }
   ],
   "source": [
    "dflist[3].head()"
   ]
  },
  {
   "cell_type": "code",
   "execution_count": null,
   "metadata": {},
   "outputs": [],
   "source": []
  }
 ],
 "metadata": {
  "kernelspec": {
   "display_name": "Python 3",
   "language": "python",
   "name": "python3"
  },
  "language_info": {
   "codemirror_mode": {
    "name": "ipython",
    "version": 3
   },
   "file_extension": ".py",
   "mimetype": "text/x-python",
   "name": "python",
   "nbconvert_exporter": "python",
   "pygments_lexer": "ipython3",
   "version": "3.7.1"
  }
 },
 "nbformat": 4,
 "nbformat_minor": 2
}
