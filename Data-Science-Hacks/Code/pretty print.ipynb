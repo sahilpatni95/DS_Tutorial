{
 "cells": [
  {
   "cell_type": "markdown",
   "metadata": {},
   "source": [
    "### Pretty Print dictionary"
   ]
  },
  {
   "cell_type": "code",
   "execution_count": 11,
   "metadata": {},
   "outputs": [],
   "source": [
    "# Build a test dictionary\n",
    "my_dict = {'Student_ID': 34,'Student_name' : 'Tom', 'Student_class' : 5,\n",
    "          'Student_marks' : {'maths' : 92,\n",
    "                            'science' : 95,\n",
    "                            'social_science' : 65,\n",
    "                            'English' : 88}\n",
    "          }\n"
   ]
  },
  {
   "cell_type": "code",
   "execution_count": 12,
   "metadata": {},
   "outputs": [
    {
     "name": "stdout",
     "output_type": "stream",
     "text": [
      "{'Student_ID': 34, 'Student_name': 'Tom', 'Student_class': 5, 'Student_marks': {'maths': 92, 'science': 95, 'social_science': 65, 'English': 88}}\n"
     ]
    }
   ],
   "source": [
    "# with print\n",
    "print(my_dict)"
   ]
  },
  {
   "cell_type": "code",
   "execution_count": 13,
   "metadata": {},
   "outputs": [
    {
     "name": "stdout",
     "output_type": "stream",
     "text": [
      "{'Student_ID': 34,\n",
      " 'Student_class': 5,\n",
      " 'Student_marks': {'English': 88,\n",
      "                   'maths': 92,\n",
      "                   'science': 95,\n",
      "                   'social_science': 65},\n",
      " 'Student_name': 'Tom'}\n"
     ]
    }
   ],
   "source": [
    "# with pprint\n",
    "import pprint\n",
    "pprint.pprint(my_dict)"
   ]
  },
  {
   "cell_type": "code",
   "execution_count": null,
   "metadata": {},
   "outputs": [],
   "source": []
  }
 ],
 "metadata": {
  "kernelspec": {
   "display_name": "Python 3",
   "language": "python",
   "name": "python3"
  },
  "language_info": {
   "codemirror_mode": {
    "name": "ipython",
    "version": 3
   },
   "file_extension": ".py",
   "mimetype": "text/x-python",
   "name": "python",
   "nbconvert_exporter": "python",
   "pygments_lexer": "ipython3",
   "version": "3.7.1"
  }
 },
 "nbformat": 4,
 "nbformat_minor": 2
}
