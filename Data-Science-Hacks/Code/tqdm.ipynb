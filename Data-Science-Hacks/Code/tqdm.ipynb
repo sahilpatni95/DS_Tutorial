{
 "cells": [
  {
   "cell_type": "code",
   "execution_count": null,
   "metadata": {},
   "outputs": [],
   "source": [
    "#import tqdm\n",
    "from tqdm import tqdm_notebook\n",
    "k = 1"
   ]
  },
  {
   "cell_type": "code",
   "execution_count": null,
   "metadata": {},
   "outputs": [],
   "source": [
    "# nested loops \n",
    "k = k+1\n",
    "for outer_loop in tqdm_notebook(range(1,100), desc = 'outer_loop', leave = True):\n",
    "    for inner_loop in tqdm_notebook(range(1,10000000,1), desc = 'inner_loop', leave = False):\n",
    "        k+=100"
   ]
  },
  {
   "cell_type": "code",
   "execution_count": null,
   "metadata": {},
   "outputs": [],
   "source": [
    "outer_loop"
   ]
  },
  {
   "cell_type": "code",
   "execution_count": null,
   "metadata": {},
   "outputs": [],
   "source": []
  }
 ],
 "metadata": {
  "kernelspec": {
   "display_name": "Python 3",
   "language": "python",
   "name": "python3"
  }
 },
 "nbformat": 4,
 "nbformat_minor": 2
}
