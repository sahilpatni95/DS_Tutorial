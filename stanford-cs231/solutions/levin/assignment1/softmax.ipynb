{
 "cells": [
  {
   "cell_type": "markdown",
   "metadata": {},
   "source": [
    "# Softmax exercise\n",
    "\n",
    "*Complete and hand in this completed worksheet (including its outputs and any supporting code outside of the worksheet) with your assignment submission. For more details see the [assignments page](http://vision.stanford.edu/teaching/cs231n/assignments.html) on the course website.*\n",
    "\n",
    "This exercise is analogous to the SVM exercise. You will:\n",
    "\n",
    "- implement a fully-vectorized **loss function** for the Softmax classifier\n",
    "- implement the fully-vectorized expression for its **analytic gradient**\n",
    "- **check your implementation** with numerical gradient\n",
    "- use a validation set to **tune the learning rate and regularization** strength\n",
    "- **optimize** the loss function with **SGD**\n",
    "- **visualize** the final learned weights\n"
   ]
  },
  {
   "cell_type": "code",
   "execution_count": 1,
   "metadata": {
    "collapsed": false
   },
   "outputs": [
    {
     "name": "stderr",
     "output_type": "stream",
     "text": [
      "/home/levin/anaconda2/lib/python2.7/site-packages/matplotlib/font_manager.py:273: UserWarning: Matplotlib is building the font cache using fc-list. This may take a moment.\n",
      "  warnings.warn('Matplotlib is building the font cache using fc-list. This may take a moment.')\n"
     ]
    }
   ],
   "source": [
    "import random\n",
    "import numpy as np\n",
    "from cs231n.data_utils import load_CIFAR10\n",
    "import matplotlib.pyplot as plt\n",
    "%matplotlib inline\n",
    "plt.rcParams['figure.figsize'] = (10.0, 8.0) # set default size of plots\n",
    "plt.rcParams['image.interpolation'] = 'nearest'\n",
    "plt.rcParams['image.cmap'] = 'gray'\n",
    "\n",
    "# for auto-reloading extenrnal modules\n",
    "# see http://stackoverflow.com/questions/1907993/autoreload-of-modules-in-ipython\n",
    "%load_ext autoreload\n",
    "%autoreload 2"
   ]
  },
  {
   "cell_type": "code",
   "execution_count": 3,
   "metadata": {
    "collapsed": false
   },
   "outputs": [
    {
     "name": "stdout",
     "output_type": "stream",
     "text": [
      "Train data shape:  (49000, 3073)\n",
      "Train labels shape:  (49000,)\n",
      "Validation data shape:  (1000, 3073)\n",
      "Validation labels shape:  (1000,)\n",
      "Test data shape:  (1000, 3073)\n",
      "Test labels shape:  (1000,)\n",
      "dev data shape:  (500, 3073)\n",
      "dev labels shape:  (500,)\n"
     ]
    }
   ],
   "source": [
    "def get_CIFAR10_data(num_training=49000, num_validation=1000, num_test=1000, num_dev=500):\n",
    "  \"\"\"\n",
    "  Load the CIFAR-10 dataset from disk and perform preprocessing to prepare\n",
    "  it for the linear classifier. These are the same steps as we used for the\n",
    "  SVM, but condensed to a single function.  \n",
    "  \"\"\"\n",
    "  # Load the raw CIFAR-10 data\n",
    "  cifar10_dir = 'cs231n/datasets/cifar-10-batches-py'\n",
    "  X_train, y_train, X_test, y_test = load_CIFAR10(cifar10_dir)\n",
    "  \n",
    "  # subsample the data\n",
    "  mask = range(num_training, num_training + num_validation)\n",
    "  X_val = X_train[mask]\n",
    "  y_val = y_train[mask]\n",
    "  mask = range(num_training)\n",
    "  X_train = X_train[mask]\n",
    "  y_train = y_train[mask]\n",
    "  mask = range(num_test)\n",
    "  X_test = X_test[mask]\n",
    "  y_test = y_test[mask]\n",
    "  mask = np.random.choice(num_training, num_dev, replace=False)\n",
    "  X_dev = X_train[mask]\n",
    "  y_dev = y_train[mask]\n",
    "  \n",
    "  # Preprocessing: reshape the image data into rows\n",
    "  X_train = np.reshape(X_train, (X_train.shape[0], -1))\n",
    "  X_val = np.reshape(X_val, (X_val.shape[0], -1))\n",
    "  X_test = np.reshape(X_test, (X_test.shape[0], -1))\n",
    "  X_dev = np.reshape(X_dev, (X_dev.shape[0], -1))\n",
    "  \n",
    "  # Normalize the data: subtract the mean image\n",
    "  mean_image = np.mean(X_train, axis = 0)\n",
    "  X_train -= mean_image\n",
    "  X_val -= mean_image\n",
    "  X_test -= mean_image\n",
    "  X_dev -= mean_image\n",
    "  \n",
    "  # add bias dimension and transform into columns\n",
    "  X_train = np.hstack([X_train, np.ones((X_train.shape[0], 1))])\n",
    "  X_val = np.hstack([X_val, np.ones((X_val.shape[0], 1))])\n",
    "  X_test = np.hstack([X_test, np.ones((X_test.shape[0], 1))])\n",
    "  X_dev = np.hstack([X_dev, np.ones((X_dev.shape[0], 1))])\n",
    "  \n",
    "  return X_train, y_train, X_val, y_val, X_test, y_test, X_dev, y_dev\n",
    "\n",
    "\n",
    "# Invoke the above function to get our data.\n",
    "X_train, y_train, X_val, y_val, X_test, y_test, X_dev, y_dev = get_CIFAR10_data()\n",
    "print 'Train data shape: ', X_train.shape\n",
    "print 'Train labels shape: ', y_train.shape\n",
    "print 'Validation data shape: ', X_val.shape\n",
    "print 'Validation labels shape: ', y_val.shape\n",
    "print 'Test data shape: ', X_test.shape\n",
    "print 'Test labels shape: ', y_test.shape\n",
    "print 'dev data shape: ', X_dev.shape\n",
    "print 'dev labels shape: ', y_dev.shape"
   ]
  },
  {
   "cell_type": "markdown",
   "metadata": {},
   "source": [
    "## Softmax Classifier\n",
    "\n",
    "Your code for this section will all be written inside **cs231n/classifiers/softmax.py**. \n"
   ]
  },
  {
   "cell_type": "code",
   "execution_count": 4,
   "metadata": {
    "collapsed": false
   },
   "outputs": [
    {
     "name": "stdout",
     "output_type": "stream",
     "text": [
      "loss: 2.387537\n",
      "sanity check: 2.302585\n"
     ]
    }
   ],
   "source": [
    "# First implement the naive softmax loss function with nested loops.\n",
    "# Open the file cs231n/classifiers/softmax.py and implement the\n",
    "# softmax_loss_naive function.\n",
    "\n",
    "from cs231n.classifiers.softmax import softmax_loss_naive\n",
    "import time\n",
    "\n",
    "# Generate a random softmax weight matrix and use it to compute the loss.\n",
    "W = np.random.randn(3073, 10) * 0.0001\n",
    "loss, grad = softmax_loss_naive(W, X_dev, y_dev, 0.0)\n",
    "\n",
    "# As a rough sanity check, our loss should be something close to -log(0.1).\n",
    "print 'loss: %f' % loss\n",
    "print 'sanity check: %f' % (-np.log(0.1))"
   ]
  },
  {
   "cell_type": "markdown",
   "metadata": {},
   "source": [
    "## Inline Question 1:\n",
    "Why do we expect our loss to be close to -log(0.1)? Explain briefly.**\n",
    "\n",
    "**Your answer:**   \n",
    "Expecting our loss to be close to -log(0.1) is equivalent to expecting the 10 classes to be in uniform districution, each with a probablity of being 01. This is quite plausible, considering that weight is randomly initialized and does not have any bias.\n"
   ]
  },
  {
   "cell_type": "code",
   "execution_count": 5,
   "metadata": {
    "collapsed": false
   },
   "outputs": [
    {
     "name": "stdout",
     "output_type": "stream",
     "text": [
      "numerical: 1.924204 analytic: 1.924203, relative error: 2.377507e-08\n",
      "numerical: 3.273051 analytic: 3.273051, relative error: 2.293258e-08\n",
      "numerical: 1.416040 analytic: 1.416040, relative error: 3.771324e-08\n",
      "numerical: -0.899851 analytic: -0.899851, relative error: 3.505760e-08\n",
      "numerical: 0.336886 analytic: 0.336886, relative error: 1.243691e-07\n",
      "numerical: -0.432425 analytic: -0.432425, relative error: 1.070022e-07\n",
      "numerical: -2.534122 analytic: -2.534122, relative error: 1.069666e-08\n",
      "numerical: 1.690181 analytic: 1.690181, relative error: 2.207165e-08\n",
      "numerical: -0.448847 analytic: -0.448847, relative error: 1.270582e-08\n",
      "numerical: 2.916113 analytic: 2.916113, relative error: 2.549746e-08\n",
      "numerical: -1.646460 analytic: -1.646460, relative error: 1.046878e-08\n",
      "numerical: 0.721956 analytic: 0.721956, relative error: 2.661721e-08\n",
      "numerical: -0.583664 analytic: -0.583664, relative error: 1.965129e-08\n",
      "numerical: 1.563782 analytic: 1.563782, relative error: 2.139016e-08\n",
      "numerical: -1.022960 analytic: -1.022960, relative error: 9.729376e-09\n",
      "numerical: -0.719193 analytic: -0.719193, relative error: 6.275960e-09\n",
      "numerical: -7.273979 analytic: -7.273979, relative error: 4.406025e-09\n",
      "numerical: 1.560906 analytic: 1.560906, relative error: 2.206220e-08\n",
      "numerical: 1.455565 analytic: 1.455565, relative error: 2.637870e-08\n",
      "numerical: 2.884417 analytic: 2.884417, relative error: 2.016106e-08\n"
     ]
    }
   ],
   "source": [
    "# Complete the implementation of softmax_loss_naive and implement a (naive)\n",
    "# version of the gradient that uses nested loops.\n",
    "loss, grad = softmax_loss_naive(W, X_dev, y_dev, 0.0)\n",
    "\n",
    "# As we did for the SVM, use numeric gradient checking as a debugging tool.\n",
    "# The numeric gradient should be close to the analytic gradient.\n",
    "from cs231n.gradient_check import grad_check_sparse\n",
    "f = lambda w: softmax_loss_naive(w, X_dev, y_dev, 0.0)[0]\n",
    "grad_numerical = grad_check_sparse(f, W, grad, 10)\n",
    "\n",
    "# similar to SVM case, do another gradient check with regularization\n",
    "loss, grad = softmax_loss_naive(W, X_dev, y_dev, 1e2)\n",
    "f = lambda w: softmax_loss_naive(w, X_dev, y_dev, 1e2)[0]\n",
    "grad_numerical = grad_check_sparse(f, W, grad, 10)"
   ]
  },
  {
   "cell_type": "code",
   "execution_count": 6,
   "metadata": {
    "collapsed": false
   },
   "outputs": [
    {
     "name": "stdout",
     "output_type": "stream",
     "text": [
      "naive loss: 2.387537e+00 computed in 0.261431s\n",
      "vectorized loss: 2.387537e+00 computed in 0.022554s\n",
      "Loss difference: 0.000000\n",
      "Gradient difference: 0.000000\n"
     ]
    }
   ],
   "source": [
    "# Now that we have a naive implementation of the softmax loss function and its gradient,\n",
    "# implement a vectorized version in softmax_loss_vectorized.\n",
    "# The two versions should compute the same results, but the vectorized version should be\n",
    "# much faster.\n",
    "tic = time.time()\n",
    "loss_naive, grad_naive = softmax_loss_naive(W, X_dev, y_dev, 0.00001)\n",
    "toc = time.time()\n",
    "print 'naive loss: %e computed in %fs' % (loss_naive, toc - tic)\n",
    "\n",
    "from cs231n.classifiers.softmax import softmax_loss_vectorized\n",
    "tic = time.time()\n",
    "loss_vectorized, grad_vectorized = softmax_loss_vectorized(W, X_dev, y_dev, 0.00001)\n",
    "toc = time.time()\n",
    "print 'vectorized loss: %e computed in %fs' % (loss_vectorized, toc - tic)\n",
    "\n",
    "# As we did for the SVM, we use the Frobenius norm to compare the two versions\n",
    "# of the gradient.\n",
    "grad_difference = np.linalg.norm(grad_naive - grad_vectorized, ord='fro')\n",
    "print 'Loss difference: %f' % np.abs(loss_naive - loss_vectorized)\n",
    "print 'Gradient difference: %f' % grad_difference"
   ]
  },
  {
   "cell_type": "code",
   "execution_count": 9,
   "metadata": {
    "collapsed": false
   },
   "outputs": [
    {
     "name": "stdout",
     "output_type": "stream",
     "text": [
      "learning_rage 1e-07, regularization_strength 50000.0\n",
      "iteration 0 / 1500: loss 5.401598\n",
      "iteration 100 / 1500: loss 2.734902\n",
      "iteration 200 / 1500: loss 2.404785\n",
      "iteration 300 / 1500: loss 2.066126\n",
      "iteration 400 / 1500: loss 2.030593\n",
      "iteration 500 / 1500: loss 1.999755\n",
      "iteration 600 / 1500: loss 1.991619\n",
      "iteration 700 / 1500: loss 1.975749\n",
      "iteration 800 / 1500: loss 2.038639\n",
      "iteration 900 / 1500: loss 2.044697\n",
      "iteration 1000 / 1500: loss 2.028992\n",
      "iteration 1100 / 1500: loss 1.957985\n",
      "iteration 1200 / 1500: loss 2.037768\n",
      "iteration 1300 / 1500: loss 1.962232\n",
      "iteration 1400 / 1500: loss 2.023484\n",
      "learning_rage 1e-07, regularization_strength 1000.0\n",
      "iteration 0 / 1500: loss 6.079699\n",
      "iteration 100 / 1500: loss 3.936488\n",
      "iteration 200 / 1500: loss 3.350787\n",
      "iteration 300 / 1500: loss 3.327111\n",
      "iteration 400 / 1500: loss 3.008811\n",
      "iteration 500 / 1500: loss 2.847320\n",
      "iteration 600 / 1500: loss 2.866963\n",
      "iteration 700 / 1500: loss 2.907743\n",
      "iteration 800 / 1500: loss 2.810694\n",
      "iteration 900 / 1500: loss 2.779843\n",
      "iteration 1000 / 1500: loss 2.637984\n",
      "iteration 1100 / 1500: loss 2.439051\n",
      "iteration 1200 / 1500: loss 2.632869\n",
      "iteration 1300 / 1500: loss 2.487482\n",
      "iteration 1400 / 1500: loss 2.592269\n",
      "learning_rage 5e-08, regularization_strength 50000.0\n",
      "iteration 0 / 1500: loss 6.651233\n",
      "iteration 100 / 1500: loss 3.794906\n",
      "iteration 200 / 1500: loss 2.914429\n",
      "iteration 300 / 1500: loss 2.559281\n",
      "iteration 400 / 1500: loss 2.313131\n",
      "iteration 500 / 1500: loss 2.110121\n",
      "iteration 600 / 1500: loss 2.094315\n",
      "iteration 700 / 1500: loss 2.046862\n",
      "iteration 800 / 1500: loss 2.017530\n",
      "iteration 900 / 1500: loss 2.000550\n",
      "iteration 1000 / 1500: loss 2.028373\n",
      "iteration 1100 / 1500: loss 1.998935\n",
      "iteration 1200 / 1500: loss 2.023894\n",
      "iteration 1300 / 1500: loss 2.006492\n",
      "iteration 1400 / 1500: loss 1.969010\n",
      "learning_rage 5e-08, regularization_strength 1000.0\n",
      "iteration 0 / 1500: loss 5.683377\n",
      "iteration 100 / 1500: loss 4.156387\n",
      "iteration 200 / 1500: loss 3.669945\n",
      "iteration 300 / 1500: loss 3.721072\n",
      "iteration 400 / 1500: loss 3.695043\n",
      "iteration 500 / 1500: loss 3.335078\n",
      "iteration 600 / 1500: loss 3.479732\n",
      "iteration 700 / 1500: loss 3.146838\n",
      "iteration 800 / 1500: loss 3.090696\n",
      "iteration 900 / 1500: loss 2.871892\n",
      "iteration 1000 / 1500: loss 2.655937\n",
      "iteration 1100 / 1500: loss 3.079671\n",
      "iteration 1200 / 1500: loss 2.831032\n",
      "iteration 1300 / 1500: loss 2.831564\n",
      "iteration 1400 / 1500: loss 2.771489\n",
      "lr 5.000000e-08 reg 1.000000e+03 train accuracy: 0.219000 val accuracy: 0.225000\n",
      "lr 5.000000e-08 reg 5.000000e+04 train accuracy: 0.326061 val accuracy: 0.338000\n",
      "lr 1.000000e-07 reg 1.000000e+03 train accuracy: 0.252776 val accuracy: 0.248000\n",
      "lr 1.000000e-07 reg 5.000000e+04 train accuracy: 0.328898 val accuracy: 0.343000\n",
      "best validation accuracy achieved during cross-validation: 0.343000\n"
     ]
    }
   ],
   "source": [
    "# Use the validation set to tune hyperparameters (regularization strength and\n",
    "# learning rate). You should experiment with different ranges for the learning\n",
    "# rates and regularization strengths; if you are careful you should be able to\n",
    "# get a classification accuracy of over 0.35 on the validation set.\n",
    "from cs231n.classifiers import Softmax\n",
    "results = {}\n",
    "best_val = -1\n",
    "best_softmax = None\n",
    "learning_rates = [1e-7, 5e-8]\n",
    "regularization_strengths = [5e4, 1e3]\n",
    "\n",
    "################################################################################\n",
    "# TODO:                                                                        #\n",
    "# Use the validation set to set the learning rate and regularization strength. #\n",
    "# This should be identical to the validation that you did for the SVM; save    #\n",
    "# the best trained softmax classifer in best_softmax.                          #\n",
    "################################################################################\n",
    "num_iters = 1500\n",
    "for learning_rate in learning_rates:\n",
    "    for regularization_strength in regularization_strengths:\n",
    "        print \"learning_rage {}, regularization_strength {}\".format(learning_rate, regularization_strength)\n",
    "        #train it\n",
    "        model = Softmax()\n",
    "        model.train(X_train, y_train, learning_rate=learning_rate, reg=regularization_strength,\n",
    "                      num_iters=num_iters, verbose=True)\n",
    "        #predict\n",
    "        y_train_pred = model.predict(X_train)\n",
    "        training_accuracy = np.mean(y_train == y_train_pred)\n",
    "        y_val_pred = model.predict(X_val)\n",
    "        validation_accuracy = np.mean(y_val == y_val_pred)\n",
    "        results[(learning_rate,regularization_strength)] = training_accuracy, validation_accuracy\n",
    "        if validation_accuracy > best_val:\n",
    "            best_val = validation_accuracy\n",
    "            best_softmax = model\n",
    "################################################################################\n",
    "#                              END OF YOUR CODE                                #\n",
    "################################################################################\n",
    "    \n",
    "# Print out results.\n",
    "for lr, reg in sorted(results):\n",
    "    train_accuracy, val_accuracy = results[(lr, reg)]\n",
    "    print 'lr %e reg %e train accuracy: %f val accuracy: %f' % (\n",
    "                lr, reg, train_accuracy, val_accuracy)\n",
    "    \n",
    "print 'best validation accuracy achieved during cross-validation: %f' % best_val"
   ]
  },
  {
   "cell_type": "code",
   "execution_count": 10,
   "metadata": {
    "collapsed": false
   },
   "outputs": [
    {
     "name": "stdout",
     "output_type": "stream",
     "text": [
      "softmax on raw pixels final test set accuracy: 0.341000\n"
     ]
    }
   ],
   "source": [
    "# evaluate on test set\n",
    "# Evaluate the best softmax on test set\n",
    "y_test_pred = best_softmax.predict(X_test)\n",
    "test_accuracy = np.mean(y_test == y_test_pred)\n",
    "print 'softmax on raw pixels final test set accuracy: %f' % (test_accuracy, )"
   ]
  },
  {
   "cell_type": "code",
   "execution_count": 11,
   "metadata": {
    "collapsed": false
   },
   "outputs": [
    {
     "data": {
      "image/png": "[encoded data removed]",
      "text/plain": [
       "<matplotlib.figure.Figure at 0x7fe043456d90>"
      ]
     },
     "metadata": {},
     "output_type": "display_data"
    }
   ],
   "source": [
    "# Visualize the learned weights for each class\n",
    "w = best_softmax.W[:-1,:] # strip out the bias\n",
    "w = w.reshape(32, 32, 3, 10)\n",
    "\n",
    "w_min, w_max = np.min(w), np.max(w)\n",
    "\n",
    "classes = ['plane', 'car', 'bird', 'cat', 'deer', 'dog', 'frog', 'horse', 'ship', 'truck']\n",
    "for i in xrange(10):\n",
    "  plt.subplot(2, 5, i + 1)\n",
    "  \n",
    "  # Rescale the weights to be between 0 and 255\n",
    "  wimg = 255.0 * (w[:, :, :, i].squeeze() - w_min) / (w_max - w_min)\n",
    "  plt.imshow(wimg.astype('uint8'))\n",
    "  plt.axis('off')\n",
    "  plt.title(classes[i])"
   ]
  },
  {
   "cell_type": "code",
   "execution_count": null,
   "metadata": {
    "collapsed": true
   },
   "outputs": [],
   "source": []
  }
 ],
 "metadata": {
  "kernelspec": {
   "display_name": "Python 2",
   "language": "python",
   "name": "python2"
  },
  "language_info": {
   "codemirror_mode": {
    "name": "ipython",
    "version": 2
   },
   "file_extension": ".py",
   "mimetype": "text/x-python",
   "name": "python",
   "nbconvert_exporter": "python",
   "pygments_lexer": "ipython2",
   "version": "2.7.10"
  }
 },
 "nbformat": 4,
 "nbformat_minor": 0
}
