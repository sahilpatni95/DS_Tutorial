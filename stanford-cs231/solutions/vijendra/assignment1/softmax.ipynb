{
 "cells": [
  {
   "cell_type": "markdown",
   "metadata": {},
   "source": [
    "# Softmax exercise\n",
    "\n",
    "*Complete and hand in this completed worksheet (including its outputs and any supporting code outside of the worksheet) with your assignment submission. For more details see the [assignments page](http://vision.stanford.edu/teaching/cs231n/assignments.html) on the course website.*\n",
    "\n",
    "This exercise is analogous to the SVM exercise. You will:\n",
    "\n",
    "- implement a fully-vectorized **loss function** for the Softmax classifier\n",
    "- implement the fully-vectorized expression for its **analytic gradient**\n",
    "- **check your implementation** with numerical gradient\n",
    "- use a validation set to **tune the learning rate and regularization** strength\n",
    "- **optimize** the loss function with **SGD**\n",
    "- **visualize** the final learned weights\n"
   ]
  },
  {
   "cell_type": "code",
   "execution_count": 1,
   "metadata": {
    "collapsed": false
   },
   "outputs": [],
   "source": [
    "import random\n",
    "import numpy as np\n",
    "from cs231n.data_utils import load_CIFAR10\n",
    "import matplotlib.pyplot as plt\n",
    "%matplotlib inline\n",
    "plt.rcParams['figure.figsize'] = (10.0, 8.0) # set default size of plots\n",
    "plt.rcParams['image.interpolation'] = 'nearest'\n",
    "plt.rcParams['image.cmap'] = 'gray'\n",
    "\n",
    "# for auto-reloading extenrnal modules\n",
    "# see http://stackoverflow.com/questions/1907993/autoreload-of-modules-in-ipython\n",
    "%load_ext autoreload\n",
    "%autoreload 2"
   ]
  },
  {
   "cell_type": "code",
   "execution_count": 2,
   "metadata": {
    "collapsed": false
   },
   "outputs": [
    {
     "name": "stdout",
     "output_type": "stream",
     "text": [
      "Train data shape:  (49000L, 3073L)\n",
      "Train labels shape:  (49000L,)\n",
      "Validation data shape:  (1000L, 3073L)\n",
      "Validation labels shape:  (1000L,)\n",
      "Test data shape:  (1000L, 3073L)\n",
      "Test labels shape:  (1000L,)\n",
      "dev data shape:  (500L, 3073L)\n",
      "dev labels shape:  (500L,)\n"
     ]
    }
   ],
   "source": [
    "def get_CIFAR10_data(num_training=49000, num_validation=1000, num_test=1000, num_dev=500):\n",
    "  \"\"\"\n",
    "  Load the CIFAR-10 dataset from disk and perform preprocessing to prepare\n",
    "  it for the linear classifier. These are the same steps as we used for the\n",
    "  SVM, but condensed to a single function.  \n",
    "  \"\"\"\n",
    "  # Load the raw CIFAR-10 data\n",
    "  cifar10_dir = 'cs231n/datasets/cifar-10-batches-py'\n",
    "  X_train, y_train, X_test, y_test = load_CIFAR10(cifar10_dir)\n",
    "  \n",
    "  # subsample the data\n",
    "  mask = range(num_training, num_training + num_validation)\n",
    "  X_val = X_train[mask]\n",
    "  y_val = y_train[mask]\n",
    "  mask = range(num_training)\n",
    "  X_train = X_train[mask]\n",
    "  y_train = y_train[mask]\n",
    "  mask = range(num_test)\n",
    "  X_test = X_test[mask]\n",
    "  y_test = y_test[mask]\n",
    "  mask = np.random.choice(num_training, num_dev, replace=False)\n",
    "  X_dev = X_train[mask]\n",
    "  y_dev = y_train[mask]\n",
    "  \n",
    "  # Preprocessing: reshape the image data into rows\n",
    "  X_train = np.reshape(X_train, (X_train.shape[0], -1))\n",
    "  X_val = np.reshape(X_val, (X_val.shape[0], -1))\n",
    "  X_test = np.reshape(X_test, (X_test.shape[0], -1))\n",
    "  X_dev = np.reshape(X_dev, (X_dev.shape[0], -1))\n",
    "  \n",
    "  # Normalize the data: subtract the mean image\n",
    "  mean_image = np.mean(X_train, axis = 0)\n",
    "  X_train -= mean_image\n",
    "  X_val -= mean_image\n",
    "  X_test -= mean_image\n",
    "  X_dev -= mean_image\n",
    "  \n",
    "  # add bias dimension and transform into columns\n",
    "  X_train = np.hstack([X_train, np.ones((X_train.shape[0], 1))])\n",
    "  X_val = np.hstack([X_val, np.ones((X_val.shape[0], 1))])\n",
    "  X_test = np.hstack([X_test, np.ones((X_test.shape[0], 1))])\n",
    "  X_dev = np.hstack([X_dev, np.ones((X_dev.shape[0], 1))])\n",
    "  \n",
    "  return X_train, y_train, X_val, y_val, X_test, y_test, X_dev, y_dev\n",
    "\n",
    "\n",
    "# Invoke the above function to get our data.\n",
    "X_train, y_train, X_val, y_val, X_test, y_test, X_dev, y_dev = get_CIFAR10_data()\n",
    "print 'Train data shape: ', X_train.shape\n",
    "print 'Train labels shape: ', y_train.shape\n",
    "print 'Validation data shape: ', X_val.shape\n",
    "print 'Validation labels shape: ', y_val.shape\n",
    "print 'Test data shape: ', X_test.shape\n",
    "print 'Test labels shape: ', y_test.shape\n",
    "print 'dev data shape: ', X_dev.shape\n",
    "print 'dev labels shape: ', y_dev.shape"
   ]
  },
  {
   "cell_type": "markdown",
   "metadata": {},
   "source": [
    "## Softmax Classifier\n",
    "\n",
    "Your code for this section will all be written inside **cs231n/classifiers/softmax.py**. \n"
   ]
  },
  {
   "cell_type": "code",
   "execution_count": 10,
   "metadata": {
    "collapsed": false
   },
   "outputs": [
    {
     "name": "stdout",
     "output_type": "stream",
     "text": [
      "loss: 2.374535\n",
      "sanity check: 2.302585\n"
     ]
    }
   ],
   "source": [
    "# First implement the naive softmax loss function with nested loops.\n",
    "# Open the file cs231n/classifiers/softmax.py and implement the\n",
    "# softmax_loss_naive function.\n",
    "\n",
    "from cs231n.classifiers.softmax import softmax_loss_naive\n",
    "import time\n",
    "\n",
    "# Generate a random softmax weight matrix and use it to compute the loss.\n",
    "W = np.random.randn(3073, 10) * 0.0001\n",
    "loss, grad = softmax_loss_naive(W, X_dev, y_dev, 0.0)\n",
    "\n",
    "# As a rough sanity check, our loss should be something close to -log(0.1).\n",
    "print 'loss: %f' % loss\n",
    "print 'sanity check: %f' % (-np.log(0.1))"
   ]
  },
  {
   "cell_type": "markdown",
   "metadata": {},
   "source": [
    "## Inline Question 1:\n",
    "Why do we expect our loss to be close to -log(0.1)? Explain briefly.**\n",
    "\n",
    "**Your answer:** \n",
    "\n",
    "We have 10 classes and that is why the probabilty should be somewhere around 1/10 which is 0.1 hence the log loss -log(0.1)\n"
   ]
  },
  {
   "cell_type": "code",
   "execution_count": 11,
   "metadata": {
    "collapsed": false
   },
   "outputs": [
    {
     "name": "stdout",
     "output_type": "stream",
     "text": [
      "numerical: -2.157108 analytic: -2.157108, relative error: 5.541218e-09\n",
      "numerical: -0.599390 analytic: -0.599390, relative error: 8.755965e-09\n",
      "numerical: 2.839557 analytic: 2.839557, relative error: 3.628772e-08\n",
      "numerical: -1.914480 analytic: -1.914480, relative error: 8.217373e-09\n",
      "numerical: -1.363861 analytic: -1.363861, relative error: 7.694770e-09\n",
      "numerical: -0.838559 analytic: -0.838559, relative error: 1.000825e-07\n",
      "numerical: -2.653345 analytic: -2.653345, relative error: 7.485435e-10\n",
      "numerical: 0.361926 analytic: 0.361926, relative error: 7.845319e-09\n",
      "numerical: 3.034460 analytic: 3.034460, relative error: 2.725330e-09\n",
      "numerical: 1.007739 analytic: 1.007739, relative error: 3.466655e-09\n",
      "numerical: 4.396009 analytic: 4.396846, relative error: 9.510850e-05\n",
      "numerical: -0.569818 analytic: -0.569258, relative error: 4.912697e-04\n",
      "numerical: 1.424515 analytic: 1.428835, relative error: 1.514132e-03\n",
      "numerical: -1.167395 analytic: -1.175531, relative error: 3.472728e-03\n",
      "numerical: -0.101537 analytic: -0.086950, relative error: 7.739157e-02\n",
      "numerical: 2.732516 analytic: 2.730698, relative error: 3.328181e-04\n",
      "numerical: -0.966960 analytic: -0.972946, relative error: 3.086097e-03\n",
      "numerical: 2.390397 analytic: 2.403653, relative error: 2.765064e-03\n",
      "numerical: -2.811307 analytic: -2.815803, relative error: 7.988267e-04\n",
      "numerical: 3.084682 analytic: 3.076607, relative error: 1.310615e-03\n"
     ]
    }
   ],
   "source": [
    "# Complete the implementation of softmax_loss_naive and implement a (naive)\n",
    "# version of the gradient that uses nested loops.\n",
    "loss, grad = softmax_loss_naive(W, X_dev, y_dev, 0.0)\n",
    "\n",
    "# As we did for the SVM, use numeric gradient checking as a debugging tool.\n",
    "# The numeric gradient should be close to the analytic gradient.\n",
    "from cs231n.gradient_check import grad_check_sparse\n",
    "f = lambda w: softmax_loss_naive(w, X_dev, y_dev, 0.0)[0]\n",
    "grad_numerical = grad_check_sparse(f, W, grad, 10)\n",
    "\n",
    "# similar to SVM case, do another gradient check with regularization\n",
    "loss, grad = softmax_loss_naive(W, X_dev, y_dev, 1e2)\n",
    "f = lambda w: softmax_loss_naive(w, X_dev, y_dev, 1e2)[0]\n",
    "grad_numerical = grad_check_sparse(f, W, grad, 10)"
   ]
  },
  {
   "cell_type": "code",
   "execution_count": 12,
   "metadata": {
    "collapsed": false
   },
   "outputs": [
    {
     "name": "stdout",
     "output_type": "stream",
     "text": [
      "naive loss: 2.374535e+00 computed in 0.058000s\n",
      "vectorized loss: 2.374535e+00 computed in 0.005000s\n",
      "Loss difference: 0.000000\n",
      "Gradient difference: 0.000000\n"
     ]
    }
   ],
   "source": [
    "# Now that we have a naive implementation of the softmax loss function and its gradient,\n",
    "# implement a vectorized version in softmax_loss_vectorized.\n",
    "# The two versions should compute the same results, but the vectorized version should be\n",
    "# much faster.\n",
    "tic = time.time()\n",
    "loss_naive, grad_naive = softmax_loss_naive(W, X_dev, y_dev, 0.00001)\n",
    "toc = time.time()\n",
    "print 'naive loss: %e computed in %fs' % (loss_naive, toc - tic)\n",
    "\n",
    "from cs231n.classifiers.softmax import softmax_loss_vectorized\n",
    "tic = time.time()\n",
    "loss_vectorized, grad_vectorized = softmax_loss_vectorized(W, X_dev, y_dev, 0.00001)\n",
    "toc = time.time()\n",
    "print 'vectorized loss: %e computed in %fs' % (loss_vectorized, toc - tic)\n",
    "\n",
    "# As we did for the SVM, we use the Frobenius norm to compare the two versions\n",
    "# of the gradient.\n",
    "grad_difference = np.linalg.norm(grad_naive - grad_vectorized, ord='fro')\n",
    "print 'Loss difference: %f' % np.abs(loss_naive - loss_vectorized)\n",
    "print 'Gradient difference: %f' % grad_difference"
   ]
  },
  {
   "cell_type": "code",
   "execution_count": 14,
   "metadata": {
    "collapsed": false
   },
   "outputs": [
    {
     "name": "stderr",
     "output_type": "stream",
     "text": [
      "cs231n\\classifiers\\softmax.py:99: RuntimeWarning: divide by zero encountered in log\n",
      "cs231n\\classifiers\\softmax.py:101: RuntimeWarning: overflow encountered in double_scalars\n",
      "cs231n\\classifiers\\softmax.py:101: RuntimeWarning: overflow encountered in multiply\n",
      "cs231n\\classifiers\\softmax.py:95: RuntimeWarning: overflow encountered in exp\n",
      "cs231n\\classifiers\\softmax.py:93: RuntimeWarning: overflow encountered in subtract\n",
      "cs231n\\classifiers\\softmax.py:93: RuntimeWarning: invalid value encountered in subtract\n",
      "cs231n\\classifiers\\softmax.py:109: RuntimeWarning: overflow encountered in multiply\n"
     ]
    },
    {
     "name": "stdout",
     "output_type": "stream",
     "text": [
      "lr 1.000000e-07 reg 1.000000e+04 train accuracy: 0.336592 val accuracy: 0.338000\n",
      "lr 1.000000e-07 reg 2.000000e+04 train accuracy: 0.354612 val accuracy: 0.361000\n",
      "lr 1.000000e-07 reg 3.000000e+04 train accuracy: 0.343245 val accuracy: 0.358000\n",
      "lr 1.000000e-07 reg 4.000000e+04 train accuracy: 0.336776 val accuracy: 0.348000\n",
      "lr 1.000000e-07 reg 5.000000e+04 train accuracy: 0.333224 val accuracy: 0.341000\n",
      "lr 1.000000e-07 reg 6.000000e+04 train accuracy: 0.326980 val accuracy: 0.340000\n",
      "lr 1.000000e-07 reg 7.000000e+04 train accuracy: 0.313490 val accuracy: 0.335000\n",
      "lr 1.000000e-07 reg 8.000000e+04 train accuracy: 0.320592 val accuracy: 0.334000\n",
      "lr 1.000000e-07 reg 1.000000e+05 train accuracy: 0.310041 val accuracy: 0.329000\n",
      "lr 2.000000e-07 reg 1.000000e+04 train accuracy: 0.373020 val accuracy: 0.384000\n",
      "lr 2.000000e-07 reg 2.000000e+04 train accuracy: 0.357286 val accuracy: 0.372000\n",
      "lr 2.000000e-07 reg 3.000000e+04 train accuracy: 0.347510 val accuracy: 0.358000\n",
      "lr 2.000000e-07 reg 4.000000e+04 train accuracy: 0.339265 val accuracy: 0.361000\n",
      "lr 2.000000e-07 reg 5.000000e+04 train accuracy: 0.333918 val accuracy: 0.350000\n",
      "lr 2.000000e-07 reg 6.000000e+04 train accuracy: 0.316755 val accuracy: 0.331000\n",
      "lr 2.000000e-07 reg 7.000000e+04 train accuracy: 0.310347 val accuracy: 0.335000\n",
      "lr 2.000000e-07 reg 8.000000e+04 train accuracy: 0.308408 val accuracy: 0.328000\n",
      "lr 2.000000e-07 reg 1.000000e+05 train accuracy: 0.307082 val accuracy: 0.320000\n",
      "lr 3.000000e-07 reg 1.000000e+04 train accuracy: 0.374490 val accuracy: 0.391000\n",
      "lr 3.000000e-07 reg 2.000000e+04 train accuracy: 0.358939 val accuracy: 0.376000\n",
      "lr 3.000000e-07 reg 3.000000e+04 train accuracy: 0.344327 val accuracy: 0.346000\n",
      "lr 3.000000e-07 reg 4.000000e+04 train accuracy: 0.336469 val accuracy: 0.347000\n",
      "lr 3.000000e-07 reg 5.000000e+04 train accuracy: 0.337469 val accuracy: 0.349000\n",
      "lr 3.000000e-07 reg 6.000000e+04 train accuracy: 0.318143 val accuracy: 0.333000\n",
      "lr 3.000000e-07 reg 7.000000e+04 train accuracy: 0.311286 val accuracy: 0.328000\n",
      "lr 3.000000e-07 reg 8.000000e+04 train accuracy: 0.305102 val accuracy: 0.324000\n",
      "lr 3.000000e-07 reg 1.000000e+05 train accuracy: 0.303429 val accuracy: 0.318000\n",
      "lr 8.000000e-07 reg 1.000000e+04 train accuracy: 0.366184 val accuracy: 0.373000\n",
      "lr 8.000000e-07 reg 2.000000e+04 train accuracy: 0.353918 val accuracy: 0.373000\n",
      "lr 8.000000e-07 reg 3.000000e+04 train accuracy: 0.346000 val accuracy: 0.350000\n",
      "lr 8.000000e-07 reg 4.000000e+04 train accuracy: 0.322449 val accuracy: 0.347000\n",
      "lr 8.000000e-07 reg 5.000000e+04 train accuracy: 0.319837 val accuracy: 0.332000\n",
      "lr 8.000000e-07 reg 6.000000e+04 train accuracy: 0.310122 val accuracy: 0.322000\n",
      "lr 8.000000e-07 reg 7.000000e+04 train accuracy: 0.305367 val accuracy: 0.322000\n",
      "lr 8.000000e-07 reg 8.000000e+04 train accuracy: 0.299367 val accuracy: 0.306000\n",
      "lr 8.000000e-07 reg 1.000000e+05 train accuracy: 0.297020 val accuracy: 0.310000\n",
      "lr 5.000000e-05 reg 1.000000e+04 train accuracy: 0.144041 val accuracy: 0.120000\n",
      "lr 5.000000e-05 reg 2.000000e+04 train accuracy: 0.066429 val accuracy: 0.061000\n",
      "lr 5.000000e-05 reg 3.000000e+04 train accuracy: 0.096653 val accuracy: 0.086000\n",
      "lr 5.000000e-05 reg 4.000000e+04 train accuracy: 0.075980 val accuracy: 0.087000\n",
      "lr 5.000000e-05 reg 5.000000e+04 train accuracy: 0.081449 val accuracy: 0.088000\n",
      "lr 5.000000e-05 reg 6.000000e+04 train accuracy: 0.100265 val accuracy: 0.087000\n",
      "lr 5.000000e-05 reg 7.000000e+04 train accuracy: 0.100265 val accuracy: 0.087000\n",
      "lr 5.000000e-05 reg 8.000000e+04 train accuracy: 0.100265 val accuracy: 0.087000\n",
      "lr 5.000000e-05 reg 1.000000e+05 train accuracy: 0.100265 val accuracy: 0.087000\n",
      "best validation accuracy achieved during cross-validation: 0.391000\n"
     ]
    }
   ],
   "source": [
    "# Use the validation set to tune hyperparameters (regularization strength and\n",
    "# learning rate). You should experiment with different ranges for the learning\n",
    "# rates and regularization strengths; if you are careful you should be able to\n",
    "# get a classification accuracy of over 0.35 on the validation set.\n",
    "from cs231n.classifiers import Softmax\n",
    "results = {}\n",
    "best_val = -1\n",
    "best_softmax = None\n",
    "learning_rates = [1e-7, 2e-7, 3e-7, 5e-5, 8e-7]\n",
    "regularization_strengths = [1e4, 2e4, 3e4, 4e4, 5e4, 6e4, 7e4, 8e4, 1e5]\n",
    "\n",
    "################################################################################\n",
    "# TODO:                                                                        #\n",
    "# Use the validation set to set the learning rate and regularization strength. #\n",
    "# This should be identical to the validation that you did for the SVM; save    #\n",
    "# the best trained softmax classifer in best_softmax.                          #\n",
    "################################################################################\n",
    "for learning_rate in learning_rates:\n",
    "    for regularization_strength  in regularization_strengths:\n",
    "        softmax_classifier = Softmax()\n",
    "        softmax_classifier.train(X_train, y_train, learning_rate= learning_rate, reg=regularization_strength,\n",
    "                      num_iters=1500)\n",
    "        y_train_predict = softmax_classifier.predict(X_train)\n",
    "        y_val_predict = softmax_classifier.predict(X_val)\n",
    "        accuracy_train = np.mean(y_train_predict == y_train)\n",
    "        accuracy_validation = np.mean(y_val_predict == y_val)\n",
    "        results[(learning_rate,regularization_strength)] = (accuracy_train,accuracy_validation)\n",
    "        if accuracy_validation > best_val:\n",
    "            best_val = accuracy_validation\n",
    "            best_softmax = softmax_classifier\n",
    "\n",
    "################################################################################\n",
    "#                              END OF YOUR CODE                                #\n",
    "################################################################################\n",
    "    \n",
    "# Print out results.\n",
    "for lr, reg in sorted(results):\n",
    "    train_accuracy, val_accuracy = results[(lr, reg)]\n",
    "    print 'lr %e reg %e train accuracy: %f val accuracy: %f' % (\n",
    "                lr, reg, train_accuracy, val_accuracy)\n",
    "    \n",
    "print 'best validation accuracy achieved during cross-validation: %f' % best_val"
   ]
  },
  {
   "cell_type": "code",
   "execution_count": 15,
   "metadata": {
    "collapsed": false
   },
   "outputs": [
    {
     "name": "stdout",
     "output_type": "stream",
     "text": [
      "softmax on raw pixels final test set accuracy: 0.374000\n"
     ]
    }
   ],
   "source": [
    "# evaluate on test set\n",
    "# Evaluate the best softmax on test set\n",
    "y_test_pred = best_softmax.predict(X_test)\n",
    "test_accuracy = np.mean(y_test == y_test_pred)\n",
    "print 'softmax on raw pixels final test set accuracy: %f' % (test_accuracy, )"
   ]
  },
  {
   "cell_type": "code",
   "execution_count": 16,
   "metadata": {
    "collapsed": false
   },
   "outputs": [
    {
     "data": {
      "image/png": "[encoded data removed]",
      "text/plain": [
       "<matplotlib.figure.Figure at 0x905a588>"
      ]
     },
     "metadata": {},
     "output_type": "display_data"
    }
   ],
   "source": [
    "# Visualize the learned weights for each class\n",
    "w = best_softmax.W[:-1,:] # strip out the bias\n",
    "w = w.reshape(32, 32, 3, 10)\n",
    "\n",
    "w_min, w_max = np.min(w), np.max(w)\n",
    "\n",
    "classes = ['plane', 'car', 'bird', 'cat', 'deer', 'dog', 'frog', 'horse', 'ship', 'truck']\n",
    "for i in xrange(10):\n",
    "  plt.subplot(2, 5, i + 1)\n",
    "  \n",
    "  # Rescale the weights to be between 0 and 255\n",
    "  wimg = 255.0 * (w[:, :, :, i].squeeze() - w_min) / (w_max - w_min)\n",
    "  plt.imshow(wimg.astype('uint8'))\n",
    "  plt.axis('off')\n",
    "  plt.title(classes[i])"
   ]
  },
  {
   "cell_type": "markdown",
   "metadata": {},
   "source": [
    "<pre> \n",
    "This time the shapes are much better and some how clearly visible\n",
    "</pre>"
   ]
  },
  {
   "cell_type": "code",
   "execution_count": null,
   "metadata": {
    "collapsed": true
   },
   "outputs": [],
   "source": []
  }
 ],
 "metadata": {
  "kernelspec": {
   "display_name": "Python [conda env:python27]",
   "language": "python",
   "name": "conda-env-python27-py"
  },
  "language_info": {
   "codemirror_mode": {
    "name": "ipython",
    "version": 2
   },
   "file_extension": ".py",
   "mimetype": "text/x-python",
   "name": "python",
   "nbconvert_exporter": "python",
   "pygments_lexer": "ipython2",
   "version": "2.7.12"
  }
 },
 "nbformat": 4,
 "nbformat_minor": 0
}
